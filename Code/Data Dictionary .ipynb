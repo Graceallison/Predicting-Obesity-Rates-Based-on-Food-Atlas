{
 "cells": [
  {
   "cell_type": "markdown",
   "metadata": {},
   "source": [
    "# Predicting-Obesity-Rate-Based-on-Food-Atlas"
   ]
  },
  {
   "cell_type": "markdown",
   "metadata": {},
   "source": [
    "### Data Dictionary"
   ]
  },
  {
   "cell_type": "code",
   "execution_count": 1,
   "metadata": {},
   "outputs": [],
   "source": [
    "import pandas as pd"
   ]
  },
  {
   "cell_type": "code",
   "execution_count": 2,
   "metadata": {},
   "outputs": [],
   "source": [
    "variable_list = pd.read_excel('../Data/DataDownload.xls',sheet_name='Variable List')"
   ]
  },
  {
   "cell_type": "code",
   "execution_count": 3,
   "metadata": {},
   "outputs": [
    {
     "data": {
      "text/html": [
       "<div>\n",
       "<style scoped>\n",
       "    .dataframe tbody tr th:only-of-type {\n",
       "        vertical-align: middle;\n",
       "    }\n",
       "\n",
       "    .dataframe tbody tr th {\n",
       "        vertical-align: top;\n",
       "    }\n",
       "\n",
       "    .dataframe thead th {\n",
       "        text-align: right;\n",
       "    }\n",
       "</style>\n",
       "<table border=\"1\" class=\"dataframe\">\n",
       "  <thead>\n",
       "    <tr style=\"text-align: right;\">\n",
       "      <th></th>\n",
       "      <th>Category Name</th>\n",
       "      <th>Category Code</th>\n",
       "      <th>Subcategory Name</th>\n",
       "      <th>Variable Name</th>\n",
       "      <th>Variable Code</th>\n",
       "      <th>Geography</th>\n",
       "      <th>Units</th>\n",
       "    </tr>\n",
       "  </thead>\n",
       "  <tbody>\n",
       "    <tr>\n",
       "      <td>0</td>\n",
       "      <td>Access and Proximity to Grocery Store</td>\n",
       "      <td>ACCESS</td>\n",
       "      <td>Overall</td>\n",
       "      <td>Population, low access to store, 2010</td>\n",
       "      <td>LACCESS_POP10</td>\n",
       "      <td>CNTY10</td>\n",
       "      <td>Count</td>\n",
       "    </tr>\n",
       "    <tr>\n",
       "      <td>1</td>\n",
       "      <td>Access and Proximity to Grocery Store</td>\n",
       "      <td>ACCESS</td>\n",
       "      <td>Overall</td>\n",
       "      <td>Population, low access to store, 2015</td>\n",
       "      <td>LACCESS_POP15</td>\n",
       "      <td>CNTY10</td>\n",
       "      <td>Count</td>\n",
       "    </tr>\n",
       "    <tr>\n",
       "      <td>2</td>\n",
       "      <td>Access and Proximity to Grocery Store</td>\n",
       "      <td>ACCESS</td>\n",
       "      <td>Overall</td>\n",
       "      <td>Population, low access to store (% change), 20...</td>\n",
       "      <td>PCH_LACCESS_POP_10_15</td>\n",
       "      <td>CNTY10</td>\n",
       "      <td>% change</td>\n",
       "    </tr>\n",
       "    <tr>\n",
       "      <td>3</td>\n",
       "      <td>Access and Proximity to Grocery Store</td>\n",
       "      <td>ACCESS</td>\n",
       "      <td>Overall</td>\n",
       "      <td>Population, low access to store (%), 2010</td>\n",
       "      <td>PCT_LACCESS_POP10</td>\n",
       "      <td>CNTY10</td>\n",
       "      <td>Percent</td>\n",
       "    </tr>\n",
       "    <tr>\n",
       "      <td>4</td>\n",
       "      <td>Access and Proximity to Grocery Store</td>\n",
       "      <td>ACCESS</td>\n",
       "      <td>Overall</td>\n",
       "      <td>Population, low access to store (%), 2015</td>\n",
       "      <td>PCT_LACCESS_POP15</td>\n",
       "      <td>CNTY10</td>\n",
       "      <td>Percent</td>\n",
       "    </tr>\n",
       "  </tbody>\n",
       "</table>\n",
       "</div>"
      ],
      "text/plain": [
       "                           Category Name Category Code Subcategory Name  \\\n",
       "0  Access and Proximity to Grocery Store        ACCESS          Overall   \n",
       "1  Access and Proximity to Grocery Store        ACCESS          Overall   \n",
       "2  Access and Proximity to Grocery Store        ACCESS          Overall   \n",
       "3  Access and Proximity to Grocery Store        ACCESS          Overall   \n",
       "4  Access and Proximity to Grocery Store        ACCESS          Overall   \n",
       "\n",
       "                                       Variable Name          Variable Code  \\\n",
       "0              Population, low access to store, 2010          LACCESS_POP10   \n",
       "1              Population, low access to store, 2015          LACCESS_POP15   \n",
       "2  Population, low access to store (% change), 20...  PCH_LACCESS_POP_10_15   \n",
       "3          Population, low access to store (%), 2010      PCT_LACCESS_POP10   \n",
       "4          Population, low access to store (%), 2015      PCT_LACCESS_POP15   \n",
       "\n",
       "  Geography     Units  \n",
       "0    CNTY10     Count  \n",
       "1    CNTY10     Count  \n",
       "2    CNTY10  % change  \n",
       "3    CNTY10   Percent  \n",
       "4    CNTY10   Percent  "
      ]
     },
     "execution_count": 3,
     "metadata": {},
     "output_type": "execute_result"
    }
   ],
   "source": [
    "variable_list.head()"
   ]
  },
  {
   "cell_type": "markdown",
   "metadata": {},
   "source": [
    "Feature used in final dataframe = 'FIPS', 'State', 'County', 'PCT_DIABETES_ADULTS08',\n",
    "       'PCT_DIABETES_ADULTS13', 'PCT_OBESE_ADULTS08', 'PCT_OBESE_ADULTS13',\n",
    "       'RECFAC09', 'LACCESS_POP10', 'PCT_LACCESS_POP10', 'LACCESS_LOWI10',\n",
    "       'PCT_LACCESS_LOWI10', 'LACCESS_HHNV10', 'PCT_LACCESS_HHNV10',\n",
    "       'LACCESS_CHILD10', 'PCT_LACCESS_CHILD10', 'LACCESS_SENIORS10',\n",
    "       'PCT_LACCESS_SENIORS10', 'GROC09', 'GROCPTH09', 'SUPERC09',\n",
    "       'SUPERCPTH09', 'CONVS09', 'CONVSPTH09', 'SPECS09', 'SPECSPTH09',\n",
    "       'SNAPS12', 'SNAPSPTH12', 'WICS08', 'WICS12', 'PCH_WICS_08_12',\n",
    "       'WICSPTH08', 'WICSPTH12', 'PCH_WICSPTH_08_12', 'GHVEG_FARMS07',\n",
    "       'GHVEG_FARMS12', 'CSA07', 'VEG_FARMS07', 'VEG_FARMS12', 'FMRKT09',\n",
    "       'PCT_LOCLFARM07', 'PCT_LOCLFARM12'"
   ]
  },
  {
   "cell_type": "markdown",
   "metadata": {},
   "source": [
    "| Name                  | Description                                      |\n",
    "|-----------------------|--------------------------------------------------|\n",
    "| PCT_DIABETS_ADULTS08  | Adult diabetes rate in 2008                      |\n",
    "| PCT_DIABETES_ADULTS13 | Adult Diabetes rate in 2013                      |\n",
    "| RECFAC09              | Number of fitness facilities                     |\n",
    "| GROC09                | Count of grocery stores                          |\n",
    "| SUPERC                | Number of superstores                            |\n",
    "| SNAPS12               | SNAP-Authorized stores                           |\n",
    "| WICS12                | WIC-authorized stores                            |\n",
    "| LACCESS_POP10         | Count of population- low access to store         |\n",
    "| PCT_LACCESS_POP10     | Percent of population - low access to store      |\n",
    "| LACCESS_LOWI10        | Low income and low access to store, 2010         |\n",
    "| PCT_LACCESS_LOWI10    | Percent Low income and low access to store, 2010 |\n",
    "| LACCESS_HHNV10        | Households, no car & low access to store, 2010   |\n",
    "| PCT_LACCESS_HHNV10    | Percent of households no car and low access      |\n",
    "| LACCESS_CHILD10       | Child Low Access to Car                          |\n",
    "| SNAPSPTH12            | SNAP-authorized stores/1,000 pop                 |\n",
    "| GHVEG_FARMS07         | Greenhouse vegetable and fresh herb farms        |\n",
    "| FMRKT09               | Number of Farmer's Markets                       |\n",
    "| SPECS09               | Number of Specialty Stores                       |\n",
    "| CONVS09               | Number of Convenience Stores                     |\n",
    "| PCT_LOCLFARM07        | Farms with direct sales                          |                                                      \n"
   ]
  }
 ],
 "metadata": {
  "kernelspec": {
   "display_name": "Python 3",
   "language": "python",
   "name": "python3"
  },
  "language_info": {
   "codemirror_mode": {
    "name": "ipython",
    "version": 3
   },
   "file_extension": ".py",
   "mimetype": "text/x-python",
   "name": "python",
   "nbconvert_exporter": "python",
   "pygments_lexer": "ipython3",
   "version": "3.7.4"
  }
 },
 "nbformat": 4,
 "nbformat_minor": 2
}
