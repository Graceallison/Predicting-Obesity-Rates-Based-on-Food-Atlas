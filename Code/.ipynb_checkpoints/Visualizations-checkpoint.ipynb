{
 "cells": [
  {
   "cell_type": "markdown",
   "metadata": {},
   "source": [
    "## Map Visualization"
   ]
  },
  {
   "cell_type": "code",
   "execution_count": 42,
   "metadata": {},
   "outputs": [],
   "source": [
    "import pandas as pd\n",
    "import numpy as np\n",
    "from pandas import Series, DataFrame\n",
    "import numpy as np\n",
    "import pandas as pd\n",
    "import matplotlib.pyplot as plt\n",
    "import seaborn as sns\n",
    "from sklearn.preprocessing import StandardScaler\n",
    "from sklearn import metrics\n",
    "from sklearn.linear_model import LinearRegression\n",
    "from sklearn.model_selection import train_test_split\n",
    "from sklearn.metrics import mean_squared_error\n",
    "from sklearn.dummy import DummyRegressor\n",
    "import matplotlib.pyplot as plt"
   ]
  },
  {
   "cell_type": "code",
   "execution_count": 43,
   "metadata": {},
   "outputs": [],
   "source": [
    "df = pd.read_csv('../Data/df.csv')"
   ]
  },
  {
   "cell_type": "code",
   "execution_count": 44,
   "metadata": {},
   "outputs": [],
   "source": [
    "fastfood = pd.read_csv('../Data/FastFoodRestaurants.csv')"
   ]
  },
  {
   "cell_type": "code",
   "execution_count": 45,
   "metadata": {},
   "outputs": [],
   "source": [
    "group_df_fastfood = fastfood.groupby('province')[['name']].agg(lambda x:x.count())"
   ]
  },
  {
   "cell_type": "code",
   "execution_count": 46,
   "metadata": {},
   "outputs": [
    {
     "data": {
      "text/plain": [
       "Index(['FIPS', 'FIPS.1', 'State', 'County', 'PCT_DIABETES_ADULTS08',\n",
       "       'PCT_DIABETES_ADULTS13', 'PCT_OBESE_ADULTS08', 'PCT_OBESE_ADULTS13',\n",
       "       'RECFAC09', 'RECFAC14', 'LACCESS_POP10', 'LACCESS_POP15',\n",
       "       'PCH_LACCESS_POP_10_15', 'PCT_LACCESS_POP10', 'PCT_LACCESS_POP15',\n",
       "       'LACCESS_LOWI10', 'LACCESS_LOWI15', 'PCH_LACCESS_LOWI_10_15',\n",
       "       'PCT_LACCESS_LOWI10', 'PCT_LACCESS_LOWI15', 'LACCESS_HHNV10',\n",
       "       'LACCESS_HHNV15', 'PCH_LACCESS_HHNV_10_15', 'PCT_LACCESS_HHNV10',\n",
       "       'PCT_LACCESS_HHNV15', 'LACCESS_SNAP15', 'PCT_LACCESS_SNAP15',\n",
       "       'LACCESS_CHILD10', 'LACCESS_CHILD15', 'LACCESS_CHILD_10_15',\n",
       "       'PCT_LACCESS_CHILD10', 'PCT_LACCESS_CHILD15', 'LACCESS_SENIORS10',\n",
       "       'LACCESS_SENIORS15', 'PCH_LACCESS_SENIORS_10_15',\n",
       "       'PCT_LACCESS_SENIORS10', 'PCT_LACCESS_SENIORS15', 'LACCESS_WHITE15',\n",
       "       'PCT_LACCESS_WHITE15', 'LACCESS_BLACK15', 'PCT_LACCESS_BLACK15',\n",
       "       'LACCESS_HISP15', 'PCT_LACCESS_HISP15', 'LACCESS_NHASIAN15',\n",
       "       'PCT_LACCESS_NHASIAN15', 'LACCESS_NHNA15', 'PCT_LACCESS_NHNA15',\n",
       "       'LACCESS_NHPI15', 'PCT_LACCESS_NHPI15', 'LACCESS_MULTIR15',\n",
       "       'PCT_LACCESS_MULTIR15', 'GROC09', 'GROC14', 'PCH_GROC_09_14',\n",
       "       'GROCPTH09', 'GROCPTH14', 'PCH_GROCPTH_09_14', 'SUPERC09', 'SUPERC14',\n",
       "       'SUPERCPTH09', 'SUPERCPTH14', 'CONVS09', 'CONVS14', 'PCH_CONVS_09_14',\n",
       "       'CONVSPTH09', 'CONVSPTH14', 'PCH_CONVSPTH_09_14', 'SPECS09', 'SPECS14',\n",
       "       'SPECSPTH09', 'SPECSPTH14', 'SNAPS12', 'SNAPS16', 'PCH_SNAPS_12_16',\n",
       "       'SNAPSPTH12', 'SNAPSPTH16', 'PCH_SNAPSPTH_12_16', 'WICS08', 'WICS12',\n",
       "       'PCH_WICS_08_12', 'WICSPTH08', 'WICSPTH12', 'PCH_WICSPTH_08_12',\n",
       "       'GHVEG_FARMS07', 'GHVEG_FARMS12', 'CSA07', 'VEG_FARMS07', 'VEG_FARMS12',\n",
       "       'FMRKT09', 'PCT_LOCLFARM07', 'PCT_LOCLFARM12'],\n",
       "      dtype='object')"
      ]
     },
     "execution_count": 46,
     "metadata": {},
     "output_type": "execute_result"
    }
   ],
   "source": [
    "df.columns"
   ]
  },
  {
   "cell_type": "code",
   "execution_count": 47,
   "metadata": {},
   "outputs": [],
   "source": [
    "group_df_conv = df.groupby('State')[['CONVS09']].agg(lambda x:x.value_counts().index[0])\n",
    "group_df_groc = df.groupby('State')[['GROC09']].agg(lambda x:x.value_counts().index[0])\n",
    "group_df_rec = df.groupby('State')[['RECFAC09']].agg(lambda x:x.value_counts().index[0])\n",
    "group_df_obesity = df.groupby('State')[['PCT_OBESE_ADULTS13']].agg(lambda x:x.mean())"
   ]
  },
  {
   "cell_type": "code",
   "execution_count": 48,
   "metadata": {},
   "outputs": [
    {
     "data": {
      "application/vnd.plotly.v1+json": {
       "config": {
        "plotlyServerURL": "https://plot.ly"
       },
       "data": [
        {
         "colorbar": {
          "title": {
           "text": "Obesity Rate"
          }
         },
         "colorscale": [
          [
           0,
           "#440154"
          ],
          [
           0.1111111111111111,
           "#482878"
          ],
          [
           0.2222222222222222,
           "#3e4989"
          ],
          [
           0.3333333333333333,
           "#31688e"
          ],
          [
           0.4444444444444444,
           "#26828e"
          ],
          [
           0.5555555555555556,
           "#1f9e89"
          ],
          [
           0.6666666666666666,
           "#35b779"
          ],
          [
           0.7777777777777778,
           "#6ece58"
          ],
          [
           0.8888888888888888,
           "#b5de2b"
          ],
          [
           1,
           "#fde725"
          ]
         ],
         "locationmode": "USA-states",
         "locations": [
          "AL",
          "AL",
          "AL",
          "AL",
          "AL",
          "AL",
          "AL",
          "AL",
          "AL",
          "AL",
          "AL",
          "AL",
          "AL",
          "AL",
          "AL",
          "AL",
          "AL",
          "AL",
          "AL",
          "AL",
          "AL",
          "AL",
          "AL",
          "AL",
          "AL",
          "AL",
          "AL",
          "AL",
          "AL",
          "AL",
          "AL",
          "AL",
          "AL",
          "AL",
          "AL",
          "AL",
          "AL",
          "AL",
          "AL",
          "AL",
          "AL",
          "AL",
          "AL",
          "AL",
          "AL",
          "AL",
          "AL",
          "AL",
          "AL",
          "AL",
          "AL",
          "AL",
          "AL",
          "AL",
          "AL",
          "AL",
          "AL",
          "AL",
          "AL",
          "AL",
          "AL",
          "AL",
          "AL",
          "AL",
          "AL",
          "AL",
          "AK",
          "AK",
          "AK",
          "AK",
          "AZ",
          "AZ",
          "AZ",
          "AZ",
          "AZ",
          "AZ",
          "AZ",
          "AZ",
          "AZ",
          "AZ",
          "AZ",
          "AZ",
          "AZ",
          "AZ",
          "AZ",
          "AR",
          "AR",
          "AR",
          "AR",
          "AR",
          "AR",
          "AR",
          "AR",
          "AR",
          "AR",
          "AR",
          "AR",
          "AR",
          "AR",
          "AR",
          "AR",
          "AR",
          "AR",
          "AR",
          "AR",
          "AR",
          "AR",
          "AR",
          "AR",
          "AR",
          "AR",
          "AR",
          "AR",
          "AR",
          "AR",
          "AR",
          "AR",
          "AR",
          "AR",
          "AR",
          "AR",
          "AR",
          "AR",
          "AR",
          "AR",
          "AR",
          "AR",
          "AR",
          "AR",
          "AR",
          "AR",
          "AR",
          "AR",
          "AR",
          "AR",
          "AR",
          "AR",
          "AR",
          "AR",
          "AR",
          "AR",
          "AR",
          "AR",
          "AR",
          "AR",
          "AR",
          "AR",
          "AR",
          "AR",
          "AR",
          "AR",
          "AR",
          "AR",
          "AR",
          "AR",
          "AR",
          "AR",
          "AR",
          "AR",
          "AR",
          "CA",
          "CA",
          "CA",
          "CA",
          "CA",
          "CA",
          "CA",
          "CA",
          "CA",
          "CA",
          "CA",
          "CA",
          "CA",
          "CA",
          "CA",
          "CA",
          "CA",
          "CA",
          "CA",
          "CA",
          "CA",
          "CA",
          "CA",
          "CA",
          "CA",
          "CA",
          "CA",
          "CA",
          "CA",
          "CA",
          "CA",
          "CA",
          "CA",
          "CA",
          "CA",
          "CA",
          "CA",
          "CA",
          "CA",
          "CA",
          "CA",
          "CA",
          "CA",
          "CA",
          "CA",
          "CA",
          "CA",
          "CA",
          "CA",
          "CA",
          "CA",
          "CA",
          "CA",
          "CA",
          "CA",
          "CA",
          "CA",
          "CO",
          "CO",
          "CO",
          "CO",
          "CO",
          "CO",
          "CO",
          "CO",
          "CO",
          "CO",
          "CO",
          "CO",
          "CO",
          "CO",
          "CO",
          "CO",
          "CO",
          "CO",
          "CO",
          "CO",
          "CO",
          "CO",
          "CO",
          "CO",
          "CO",
          "CO",
          "CO",
          "CO",
          "CO",
          "CO",
          "CO",
          "CO",
          "CO",
          "CO",
          "CO",
          "CO",
          "CO",
          "CO",
          "CO",
          "CO",
          "CO",
          "CO",
          "CO",
          "CO",
          "CO",
          "CO",
          "CO",
          "CO",
          "CO",
          "CO",
          "CO",
          "CO",
          "CO",
          "CO",
          "CO",
          "CO",
          "CO",
          "CO",
          "CO",
          "CO",
          "CT",
          "CT",
          "CT",
          "CT",
          "CT",
          "CT",
          "CT",
          "CT",
          "DE",
          "DE",
          "DE",
          "FL",
          "FL",
          "FL",
          "FL",
          "FL",
          "FL",
          "FL",
          "FL",
          "FL",
          "FL",
          "FL",
          "FL",
          "FL",
          "FL",
          "FL",
          "FL",
          "FL",
          "FL",
          "FL",
          "FL",
          "FL",
          "FL",
          "FL",
          "FL",
          "FL",
          "FL",
          "FL",
          "FL",
          "FL",
          "FL",
          "FL",
          "FL",
          "FL",
          "FL",
          "FL",
          "FL",
          "FL",
          "FL",
          "FL",
          "FL",
          "FL",
          "FL",
          "FL",
          "FL",
          "FL",
          "FL",
          "FL",
          "FL",
          "FL",
          "FL",
          "FL",
          "FL",
          "FL",
          "FL",
          "FL",
          "FL",
          "FL",
          "FL",
          "FL",
          "FL",
          "FL",
          "FL",
          "FL",
          "FL",
          "FL",
          "FL",
          "FL",
          "GA",
          "GA",
          "GA",
          "GA",
          "GA",
          "GA",
          "GA",
          "GA",
          "GA",
          "GA",
          "GA",
          "GA",
          "GA",
          "GA",
          "GA",
          "GA",
          "GA",
          "GA",
          "GA",
          "GA",
          "GA",
          "GA",
          "GA",
          "GA",
          "GA",
          "GA",
          "GA",
          "GA",
          "GA",
          "GA",
          "GA",
          "GA",
          "GA",
          "GA",
          "GA",
          "GA",
          "GA",
          "GA",
          "GA",
          "GA",
          "GA",
          "GA",
          "GA",
          "GA",
          "GA",
          "GA",
          "GA",
          "GA",
          "GA",
          "GA",
          "GA",
          "GA",
          "GA",
          "GA",
          "GA",
          "GA",
          "GA",
          "GA",
          "GA",
          "GA",
          "GA",
          "GA",
          "GA",
          "GA",
          "GA",
          "GA",
          "GA",
          "GA",
          "GA",
          "GA",
          "GA",
          "GA",
          "GA",
          "GA",
          "GA",
          "GA",
          "GA",
          "GA",
          "GA",
          "GA",
          "GA",
          "GA",
          "GA",
          "GA",
          "GA",
          "GA",
          "GA",
          "GA",
          "GA",
          "GA",
          "GA",
          "GA",
          "GA",
          "GA",
          "GA",
          "GA",
          "GA",
          "GA",
          "GA",
          "GA",
          "GA",
          "GA",
          "GA",
          "GA",
          "GA",
          "GA",
          "GA",
          "GA",
          "GA",
          "GA",
          "GA",
          "GA",
          "GA",
          "GA",
          "GA",
          "GA",
          "GA",
          "GA",
          "GA",
          "GA",
          "GA",
          "GA",
          "GA",
          "GA",
          "GA",
          "GA",
          "GA",
          "GA",
          "GA",
          "GA",
          "GA",
          "GA",
          "GA",
          "GA",
          "GA",
          "GA",
          "GA",
          "GA",
          "GA",
          "GA",
          "GA",
          "GA",
          "GA",
          "GA",
          "GA",
          "GA",
          "GA",
          "GA",
          "GA",
          "GA",
          "HI",
          "HI",
          "HI",
          "HI",
          "ID",
          "ID",
          "ID",
          "ID",
          "ID",
          "ID",
          "ID",
          "ID",
          "ID",
          "ID",
          "ID",
          "ID",
          "ID",
          "ID",
          "ID",
          "ID",
          "ID",
          "ID",
          "ID",
          "ID",
          "ID",
          "ID",
          "ID",
          "ID",
          "ID",
          "ID",
          "ID",
          "ID",
          "ID",
          "ID",
          "ID",
          "ID",
          "ID",
          "ID",
          "ID",
          "ID",
          "ID",
          "ID",
          "ID",
          "ID",
          "ID",
          "ID",
          "ID",
          "IL",
          "IL",
          "IL",
          "IL",
          "IL",
          "IL",
          "IL",
          "IL",
          "IL",
          "IL",
          "IL",
          "IL",
          "IL",
          "IL",
          "IL",
          "IL",
          "IL",
          "IL",
          "IL",
          "IL",
          "IL",
          "IL",
          "IL",
          "IL",
          "IL",
          "IL",
          "IL",
          "IL",
          "IL",
          "IL",
          "IL",
          "IL",
          "IL",
          "IL",
          "IL",
          "IL",
          "IL",
          "IL",
          "IL",
          "IL",
          "IL",
          "IL",
          "IL",
          "IL",
          "IL",
          "IL",
          "IL",
          "IL",
          "IL",
          "IL",
          "IL",
          "IL",
          "IL",
          "IL",
          "IL",
          "IL",
          "IL",
          "IL",
          "IL",
          "IL",
          "IL",
          "IL",
          "IL",
          "IL",
          "IL",
          "IL",
          "IL",
          "IL",
          "IL",
          "IL",
          "IL",
          "IL",
          "IL",
          "IL",
          "IL",
          "IL",
          "IL",
          "IL",
          "IL",
          "IL",
          "IL",
          "IL",
          "IL",
          "IL",
          "IL",
          "IL",
          "IL",
          "IL",
          "IL",
          "IL",
          "IL",
          "IL",
          "IL",
          "IL",
          "IL",
          "IL",
          "IL",
          "IL",
          "IL",
          "IL",
          "IN",
          "IN",
          "IN",
          "IN",
          "IN",
          "IN",
          "IN",
          "IN",
          "IN",
          "IN",
          "IN",
          "IN",
          "IN",
          "IN",
          "IN",
          "IN",
          "IN",
          "IN",
          "IN",
          "IN",
          "IN",
          "IN",
          "IN",
          "IN",
          "IN",
          "IN",
          "IN",
          "IN",
          "IN",
          "IN",
          "IN",
          "IN",
          "IN",
          "IN",
          "IN",
          "IN",
          "IN",
          "IN",
          "IN",
          "IN",
          "IN",
          "IN",
          "IN",
          "IN",
          "IN",
          "IN",
          "IN",
          "IN",
          "IN",
          "IN",
          "IN",
          "IN",
          "IN",
          "IN",
          "IN",
          "IN",
          "IN",
          "IN",
          "IN",
          "IN",
          "IN",
          "IN",
          "IN",
          "IN",
          "IN",
          "IN",
          "IN",
          "IN",
          "IN",
          "IN",
          "IN",
          "IN",
          "IN",
          "IN",
          "IN",
          "IN",
          "IN",
          "IN",
          "IN",
          "IN",
          "IN",
          "IN",
          "IN",
          "IN",
          "IN",
          "IN",
          "IN",
          "IN",
          "IN",
          "IN",
          "IA",
          "IA",
          "IA",
          "IA",
          "IA",
          "IA",
          "IA",
          "IA",
          "IA",
          "IA",
          "IA",
          "IA",
          "IA",
          "IA",
          "IA",
          "IA",
          "IA",
          "IA",
          "IA",
          "IA",
          "IA",
          "IA",
          "IA",
          "IA",
          "IA",
          "IA",
          "IA",
          "IA",
          "IA",
          "IA",
          "IA",
          "IA",
          "IA",
          "IA",
          "IA",
          "IA",
          "IA",
          "IA",
          "IA",
          "IA",
          "IA",
          "IA",
          "IA",
          "IA",
          "IA",
          "IA",
          "IA",
          "IA",
          "IA",
          "IA",
          "IA",
          "IA",
          "IA",
          "IA",
          "IA",
          "IA",
          "IA",
          "IA",
          "IA",
          "IA",
          "IA",
          "IA",
          "IA",
          "IA",
          "IA",
          "IA",
          "IA",
          "IA",
          "IA",
          "IA",
          "IA",
          "IA",
          "IA",
          "IA",
          "IA",
          "IA",
          "IA",
          "IA",
          "IA",
          "IA",
          "IA",
          "IA",
          "IA",
          "IA",
          "IA",
          "IA",
          "IA",
          "IA",
          "IA",
          "IA",
          "IA",
          "IA",
          "IA",
          "IA",
          "IA",
          "IA",
          "IA",
          "IA",
          "IA",
          "KS",
          "KS",
          "KS",
          "KS",
          "KS",
          "KS",
          "KS",
          "KS",
          "KS",
          "KS",
          "KS",
          "KS",
          "KS",
          "KS",
          "KS",
          "KS",
          "KS",
          "KS",
          "KS",
          "KS",
          "KS",
          "KS",
          "KS",
          "KS",
          "KS",
          "KS",
          "KS",
          "KS",
          "KS",
          "KS",
          "KS",
          "KS",
          "KS",
          "KS",
          "KS",
          "KS",
          "KS",
          "KS",
          "KS",
          "KS",
          "KS",
          "KS",
          "KS",
          "KS",
          "KS",
          "KS",
          "KS",
          "KS",
          "KS",
          "KS",
          "KS",
          "KS",
          "KS",
          "KS",
          "KS",
          "KS",
          "KS",
          "KS",
          "KS",
          "KS",
          "KS",
          "KS",
          "KS",
          "KS",
          "KS",
          "KS",
          "KS",
          "KS",
          "KS",
          "KS",
          "KS",
          "KS",
          "KS",
          "KS",
          "KS",
          "KS",
          "KS",
          "KS",
          "KS",
          "KS",
          "KS",
          "KS",
          "KS",
          "KS",
          "KS",
          "KS",
          "KS",
          "KS",
          "KS",
          "KS",
          "KS",
          "KS",
          "KS",
          "KS",
          "KS",
          "KS",
          "KS",
          "KY",
          "KY",
          "KY",
          "KY",
          "KY",
          "KY",
          "KY",
          "KY",
          "KY",
          "KY",
          "KY",
          "KY",
          "KY",
          "KY",
          "KY",
          "KY",
          "KY",
          "KY",
          "KY",
          "KY",
          "KY",
          "KY",
          "KY",
          "KY",
          "KY",
          "KY",
          "KY",
          "KY",
          "KY",
          "KY",
          "KY",
          "KY",
          "KY",
          "KY",
          "KY",
          "KY",
          "KY",
          "KY",
          "KY",
          "KY",
          "KY",
          "KY",
          "KY",
          "KY",
          "KY",
          "KY",
          "KY",
          "KY",
          "KY",
          "KY",
          "KY",
          "KY",
          "KY",
          "KY",
          "KY",
          "KY",
          "KY",
          "KY",
          "KY",
          "KY",
          "KY",
          "KY",
          "KY",
          "KY",
          "KY",
          "KY",
          "KY",
          "KY",
          "KY",
          "KY",
          "KY",
          "KY",
          "KY",
          "KY",
          "KY",
          "KY",
          "KY",
          "KY",
          "KY",
          "KY",
          "KY",
          "KY",
          "KY",
          "KY",
          "KY",
          "KY",
          "KY",
          "KY",
          "KY",
          "KY",
          "KY",
          "KY",
          "KY",
          "KY",
          "KY",
          "KY",
          "KY",
          "KY",
          "KY",
          "KY",
          "KY",
          "KY",
          "KY",
          "KY",
          "KY",
          "KY",
          "KY",
          "KY",
          "KY",
          "KY",
          "KY",
          "KY",
          "KY",
          "KY",
          "KY",
          "LA",
          "LA",
          "LA",
          "LA",
          "LA",
          "LA",
          "LA",
          "LA",
          "LA",
          "LA",
          "LA",
          "LA",
          "LA",
          "LA",
          "LA",
          "LA",
          "LA",
          "LA",
          "LA",
          "LA",
          "LA",
          "LA",
          "LA",
          "LA",
          "LA",
          "LA",
          "LA",
          "LA",
          "LA",
          "LA",
          "LA",
          "LA",
          "LA",
          "LA",
          "LA",
          "LA",
          "LA",
          "LA",
          "LA",
          "LA",
          "LA",
          "LA",
          "LA",
          "LA",
          "LA",
          "LA",
          "LA",
          "LA",
          "LA",
          "LA",
          "LA",
          "LA",
          "LA",
          "LA",
          "LA",
          "LA",
          "LA",
          "LA",
          "LA",
          "LA",
          "LA",
          "LA",
          "LA",
          "LA",
          "ME",
          "ME",
          "ME",
          "ME",
          "ME",
          "ME",
          "ME",
          "ME",
          "ME",
          "ME",
          "ME",
          "ME",
          "ME",
          "ME",
          "ME",
          "ME",
          "MD",
          "MD",
          "MD",
          "MD",
          "MD",
          "MD",
          "MD",
          "MD",
          "MD",
          "MD",
          "MD",
          "MD",
          "MD",
          "MD",
          "MD",
          "MD",
          "MD",
          "MD",
          "MD",
          "MD",
          "MD",
          "MD",
          "MD",
          "MA",
          "MA",
          "MA",
          "MA",
          "MA",
          "MA",
          "MA",
          "MA",
          "MA",
          "MA",
          "MA",
          "MA",
          "MA",
          "MA",
          "MI",
          "MI",
          "MI",
          "MI",
          "MI",
          "MI",
          "MI",
          "MI",
          "MI",
          "MI",
          "MI",
          "MI",
          "MI",
          "MI",
          "MI",
          "MI",
          "MI",
          "MI",
          "MI",
          "MI",
          "MI",
          "MI",
          "MI",
          "MI",
          "MI",
          "MI",
          "MI",
          "MI",
          "MI",
          "MI",
          "MI",
          "MI",
          "MI",
          "MI",
          "MI",
          "MI",
          "MI",
          "MI",
          "MI",
          "MI",
          "MI",
          "MI",
          "MI",
          "MI",
          "MI",
          "MI",
          "MI",
          "MI",
          "MI",
          "MI",
          "MI",
          "MI",
          "MI",
          "MI",
          "MI",
          "MI",
          "MI",
          "MI",
          "MI",
          "MI",
          "MI",
          "MI",
          "MI",
          "MI",
          "MI",
          "MI",
          "MI",
          "MI",
          "MI",
          "MI",
          "MI",
          "MI",
          "MI",
          "MI",
          "MI",
          "MI",
          "MI",
          "MI",
          "MI",
          "MI",
          "MI",
          "MI",
          "MN",
          "MN",
          "MN",
          "MN",
          "MN",
          "MN",
          "MN",
          "MN",
          "MN",
          "MN",
          "MN",
          "MN",
          "MN",
          "MN",
          "MN",
          "MN",
          "MN",
          "MN",
          "MN",
          "MN",
          "MN",
          "MN",
          "MN",
          "MN",
          "MN",
          "MN",
          "MN",
          "MN",
          "MN",
          "MN",
          "MN",
          "MN",
          "MN",
          "MN",
          "MN",
          "MN",
          "MN",
          "MN",
          "MN",
          "MN",
          "MN",
          "MN",
          "MN",
          "MN",
          "MN",
          "MN",
          "MN",
          "MN",
          "MN",
          "MN",
          "MN",
          "MN",
          "MN",
          "MN",
          "MN",
          "MN",
          "MN",
          "MN",
          "MN",
          "MN",
          "MN",
          "MN",
          "MN",
          "MN",
          "MN",
          "MN",
          "MN",
          "MN",
          "MN",
          "MN",
          "MN",
          "MN",
          "MN",
          "MN",
          "MN",
          "MN",
          "MN",
          "MN",
          "MN",
          "MN",
          "MN",
          "MN",
          "MN",
          "MN",
          "MN",
          "MN",
          "MN",
          "MS",
          "MS",
          "MS",
          "MS",
          "MS",
          "MS",
          "MS",
          "MS",
          "MS",
          "MS",
          "MS",
          "MS",
          "MS",
          "MS",
          "MS",
          "MS",
          "MS",
          "MS",
          "MS",
          "MS",
          "MS",
          "MS",
          "MS",
          "MS",
          "MS",
          "MS",
          "MS",
          "MS",
          "MS",
          "MS",
          "MS",
          "MS",
          "MS",
          "MS",
          "MS",
          "MS",
          "MS",
          "MS",
          "MS",
          "MS",
          "MS",
          "MS",
          "MS",
          "MS",
          "MS",
          "MS",
          "MS",
          "MS",
          "MS",
          "MS",
          "MS",
          "MS",
          "MS",
          "MS",
          "MS",
          "MS",
          "MS",
          "MS",
          "MS",
          "MS",
          "MS",
          "MS",
          "MS",
          "MS",
          "MS",
          "MS",
          "MS",
          "MS",
          "MS",
          "MS",
          "MS",
          "MS",
          "MS",
          "MS",
          "MS",
          "MS",
          "MS",
          "MS",
          "MS",
          "MS",
          "MS",
          "MO",
          "MO",
          "MO",
          "MO",
          "MO",
          "MO",
          "MO",
          "MO",
          "MO",
          "MO",
          "MO",
          "MO",
          "MO",
          "MO",
          "MO",
          "MO",
          "MO",
          "MO",
          "MO",
          "MO",
          "MO",
          "MO",
          "MO",
          "MO",
          "MO",
          "MO",
          "MO",
          "MO",
          "MO",
          "MO",
          "MO",
          "MO",
          "MO",
          "MO",
          "MO",
          "MO",
          "MO",
          "MO",
          "MO",
          "MO",
          "MO",
          "MO",
          "MO",
          "MO",
          "MO",
          "MO",
          "MO",
          "MO",
          "MO",
          "MO",
          "MO",
          "MO",
          "MO",
          "MO",
          "MO",
          "MO",
          "MO",
          "MO",
          "MO",
          "MO",
          "MO",
          "MO",
          "MO",
          "MO",
          "MO",
          "MO",
          "MO",
          "MO",
          "MO",
          "MO",
          "MO",
          "MO",
          "MO",
          "MO",
          "MO",
          "MO",
          "MO",
          "MO",
          "MO",
          "MO",
          "MO",
          "MO",
          "MO",
          "MO",
          "MO",
          "MO",
          "MO",
          "MO",
          "MO",
          "MO",
          "MO",
          "MO",
          "MO",
          "MO",
          "MO",
          "MO",
          "MO",
          "MO",
          "MO",
          "MO",
          "MO",
          "MO",
          "MO",
          "MO",
          "MO",
          "MO",
          "MO",
          "MO",
          "MO",
          "MO",
          "MO",
          "MO",
          "MO",
          "MO",
          "MT",
          "MT",
          "MT",
          "MT",
          "MT",
          "MT",
          "MT",
          "MT",
          "MT",
          "MT",
          "MT",
          "MT",
          "MT",
          "MT",
          "MT",
          "MT",
          "MT",
          "MT",
          "MT",
          "MT",
          "MT",
          "MT",
          "MT",
          "MT",
          "MT",
          "MT",
          "MT",
          "MT",
          "MT",
          "MT",
          "MT",
          "MT",
          "MT",
          "MT",
          "MT",
          "MT",
          "MT",
          "MT",
          "MT",
          "MT",
          "MT",
          "MT",
          "MT",
          "MT",
          "MT",
          "MT",
          "MT",
          "MT",
          "MT",
          "MT",
          "MT",
          "MT",
          "NE",
          "NE",
          "NE",
          "NE",
          "NE",
          "NE",
          "NE",
          "NE",
          "NE",
          "NE",
          "NE",
          "NE",
          "NE",
          "NE",
          "NE",
          "NE",
          "NE",
          "NE",
          "NE",
          "NE",
          "NE",
          "NE",
          "NE",
          "NE",
          "NE",
          "NE",
          "NE",
          "NE",
          "NE",
          "NE",
          "NE",
          "NE",
          "NE",
          "NE",
          "NE",
          "NE",
          "NE",
          "NE",
          "NE",
          "NE",
          "NE",
          "NE",
          "NE",
          "NE",
          "NE",
          "NE",
          "NE",
          "NE",
          "NE",
          "NE",
          "NE",
          "NE",
          "NE",
          "NE",
          "NE",
          "NE",
          "NE",
          "NE",
          "NE",
          "NE",
          "NE",
          "NE",
          "NE",
          "NE",
          "NE",
          "NE",
          "NE",
          "NE",
          "NE",
          "NE",
          "NE",
          "NE",
          "NE",
          "NE",
          "NE",
          "NE",
          "NE",
          "NE",
          "NE",
          "NE",
          "NE",
          "NE",
          "NE",
          "NV",
          "NV",
          "NV",
          "NV",
          "NV",
          "NV",
          "NV",
          "NV",
          "NV",
          "NV",
          "NV",
          "NV",
          "NV",
          "NV",
          "NV",
          "NV",
          "NH",
          "NH",
          "NH",
          "NH",
          "NH",
          "NH",
          "NH",
          "NH",
          "NH",
          "NH",
          "NJ",
          "NJ",
          "NJ",
          "NJ",
          "NJ",
          "NJ",
          "NJ",
          "NJ",
          "NJ",
          "NJ",
          "NJ",
          "NJ",
          "NJ",
          "NJ",
          "NJ",
          "NJ",
          "NJ",
          "NJ",
          "NJ",
          "NJ",
          "NM",
          "NM",
          "NM",
          "NM",
          "NM",
          "NM",
          "NM",
          "NM",
          "NM",
          "NM",
          "NM",
          "NM",
          "NM",
          "NM",
          "NM",
          "NM",
          "NM",
          "NM",
          "NM",
          "NM",
          "NM",
          "NM",
          "NM",
          "NM",
          "NM",
          "NM",
          "NM",
          "NM",
          "NM",
          "NM",
          "NM",
          "NM",
          "NM",
          "NY",
          "NY",
          "NY",
          "NY",
          "NY",
          "NY",
          "NY",
          "NY",
          "NY",
          "NY",
          "NY",
          "NY",
          "NY",
          "NY",
          "NY",
          "NY",
          "NY",
          "NY",
          "NY",
          "NY",
          "NY",
          "NY",
          "NY",
          "NY",
          "NY",
          "NY",
          "NY",
          "NY",
          "NY",
          "NY",
          "NY",
          "NY",
          "NY",
          "NY",
          "NY",
          "NY",
          "NY",
          "NY",
          "NY",
          "NY",
          "NY",
          "NY",
          "NY",
          "NY",
          "NY",
          "NY",
          "NY",
          "NY",
          "NY",
          "NY",
          "NY",
          "NY",
          "NY",
          "NY",
          "NY",
          "NY",
          "NY",
          "NY",
          "NY",
          "NY",
          "NY",
          "NC",
          "NC",
          "NC",
          "NC",
          "NC",
          "NC",
          "NC",
          "NC",
          "NC",
          "NC",
          "NC",
          "NC",
          "NC",
          "NC",
          "NC",
          "NC",
          "NC",
          "NC",
          "NC",
          "NC",
          "NC",
          "NC",
          "NC",
          "NC",
          "NC",
          "NC",
          "NC",
          "NC",
          "NC",
          "NC",
          "NC",
          "NC",
          "NC",
          "NC",
          "NC",
          "NC",
          "NC",
          "NC",
          "NC",
          "NC",
          "NC",
          "NC",
          "NC",
          "NC",
          "NC",
          "NC",
          "NC",
          "NC",
          "NC",
          "NC",
          "NC",
          "NC",
          "NC",
          "NC",
          "NC",
          "NC",
          "NC",
          "NC",
          "NC",
          "NC",
          "NC",
          "NC",
          "NC",
          "NC",
          "NC",
          "NC",
          "NC",
          "NC",
          "NC",
          "NC",
          "NC",
          "NC",
          "NC",
          "NC",
          "NC",
          "NC",
          "NC",
          "NC",
          "NC",
          "NC",
          "NC",
          "NC",
          "NC",
          "NC",
          "NC",
          "NC",
          "NC",
          "NC",
          "NC",
          "NC",
          "NC",
          "NC",
          "NC",
          "NC",
          "NC",
          "NC",
          "NC",
          "ND",
          "ND",
          "ND",
          "ND",
          "ND",
          "ND",
          "ND",
          "ND",
          "ND",
          "ND",
          "ND",
          "ND",
          "ND",
          "ND",
          "ND",
          "ND",
          "ND",
          "ND",
          "ND",
          "ND",
          "ND",
          "ND",
          "ND",
          "ND",
          "ND",
          "ND",
          "ND",
          "ND",
          "ND",
          "ND",
          "ND",
          "ND",
          "ND",
          "ND",
          "ND",
          "ND",
          "ND",
          "ND",
          "ND",
          "ND",
          "ND",
          "ND",
          "ND",
          "ND",
          "ND",
          "ND",
          "OH",
          "OH",
          "OH",
          "OH",
          "OH",
          "OH",
          "OH",
          "OH",
          "OH",
          "OH",
          "OH",
          "OH",
          "OH",
          "OH",
          "OH",
          "OH",
          "OH",
          "OH",
          "OH",
          "OH",
          "OH",
          "OH",
          "OH",
          "OH",
          "OH",
          "OH",
          "OH",
          "OH",
          "OH",
          "OH",
          "OH",
          "OH",
          "OH",
          "OH",
          "OH",
          "OH",
          "OH",
          "OH",
          "OH",
          "OH",
          "OH",
          "OH",
          "OH",
          "OH",
          "OH",
          "OH",
          "OH",
          "OH",
          "OH",
          "OH",
          "OH",
          "OH",
          "OH",
          "OH",
          "OH",
          "OH",
          "OH",
          "OH",
          "OH",
          "OH",
          "OH",
          "OH",
          "OH",
          "OH",
          "OH",
          "OH",
          "OH",
          "OH",
          "OH",
          "OH",
          "OH",
          "OH",
          "OH",
          "OH",
          "OH",
          "OH",
          "OH",
          "OH",
          "OH",
          "OH",
          "OH",
          "OH",
          "OH",
          "OH",
          "OH",
          "OH",
          "OH",
          "OH",
          "OK",
          "OK",
          "OK",
          "OK",
          "OK",
          "OK",
          "OK",
          "OK",
          "OK",
          "OK",
          "OK",
          "OK",
          "OK",
          "OK",
          "OK",
          "OK",
          "OK",
          "OK",
          "OK",
          "OK",
          "OK",
          "OK",
          "OK",
          "OK",
          "OK",
          "OK",
          "OK",
          "OK",
          "OK",
          "OK",
          "OK",
          "OK",
          "OK",
          "OK",
          "OK",
          "OK",
          "OK",
          "OK",
          "OK",
          "OK",
          "OK",
          "OK",
          "OK",
          "OK",
          "OK",
          "OK",
          "OK",
          "OK",
          "OK",
          "OK",
          "OK",
          "OK",
          "OK",
          "OK",
          "OK",
          "OK",
          "OK",
          "OK",
          "OK",
          "OK",
          "OK",
          "OK",
          "OK",
          "OK",
          "OK",
          "OK",
          "OK",
          "OK",
          "OK",
          "OK",
          "OK",
          "OK",
          "OK",
          "OK",
          "OK",
          "OK",
          "OK",
          "OR",
          "OR",
          "OR",
          "OR",
          "OR",
          "OR",
          "OR",
          "OR",
          "OR",
          "OR",
          "OR",
          "OR",
          "OR",
          "OR",
          "OR",
          "OR",
          "OR",
          "OR",
          "OR",
          "OR",
          "OR",
          "OR",
          "OR",
          "OR",
          "OR",
          "OR",
          "OR",
          "OR",
          "OR",
          "OR",
          "OR",
          "OR",
          "OR",
          "OR",
          "PA",
          "PA",
          "PA",
          "PA",
          "PA",
          "PA",
          "PA",
          "PA",
          "PA",
          "PA",
          "PA",
          "PA",
          "PA",
          "PA",
          "PA",
          "PA",
          "PA",
          "PA",
          "PA",
          "PA",
          "PA",
          "PA",
          "PA",
          "PA",
          "PA",
          "PA",
          "PA",
          "PA",
          "PA",
          "PA",
          "PA",
          "PA",
          "PA",
          "PA",
          "PA",
          "PA",
          "PA",
          "PA",
          "PA",
          "PA",
          "PA",
          "PA",
          "PA",
          "PA",
          "PA",
          "PA",
          "PA",
          "PA",
          "PA",
          "PA",
          "PA",
          "PA",
          "PA",
          "PA",
          "PA",
          "PA",
          "PA",
          "PA",
          "PA",
          "PA",
          "PA",
          "PA",
          "PA",
          "PA",
          "PA",
          "PA",
          "PA",
          "RI",
          "RI",
          "RI",
          "RI",
          "RI",
          "SC",
          "SC",
          "SC",
          "SC",
          "SC",
          "SC",
          "SC",
          "SC",
          "SC",
          "SC",
          "SC",
          "SC",
          "SC",
          "SC",
          "SC",
          "SC",
          "SC",
          "SC",
          "SC",
          "SC",
          "SC",
          "SC",
          "SC",
          "SC",
          "SC",
          "SC",
          "SC",
          "SC",
          "SC",
          "SC",
          "SC",
          "SC",
          "SC",
          "SC",
          "SC",
          "SC",
          "SC",
          "SC",
          "SC",
          "SC",
          "SC",
          "SC",
          "SC",
          "SC",
          "SC",
          "SC",
          "SD",
          "SD",
          "SD",
          "SD",
          "SD",
          "SD",
          "SD",
          "SD",
          "SD",
          "SD",
          "SD",
          "SD",
          "SD",
          "SD",
          "SD",
          "SD",
          "SD",
          "SD",
          "SD",
          "SD",
          "SD",
          "SD",
          "SD",
          "SD",
          "SD",
          "SD",
          "SD",
          "SD",
          "SD",
          "SD",
          "SD",
          "SD",
          "SD",
          "SD",
          "SD",
          "SD",
          "SD",
          "SD",
          "SD",
          "SD",
          "SD",
          "SD",
          "SD",
          "SD",
          "SD",
          "SD",
          "SD",
          "SD",
          "SD",
          "SD",
          "SD",
          "SD",
          "SD",
          "SD",
          "SD",
          "SD",
          "SD",
          "SD",
          "SD",
          "SD",
          "SD",
          "SD",
          "SD",
          "TN",
          "TN",
          "TN",
          "TN",
          "TN",
          "TN",
          "TN",
          "TN",
          "TN",
          "TN",
          "TN",
          "TN",
          "TN",
          "TN",
          "TN",
          "TN",
          "TN",
          "TN",
          "TN",
          "TN",
          "TN",
          "TN",
          "TN",
          "TN",
          "TN",
          "TN",
          "TN",
          "TN",
          "TN",
          "TN",
          "TN",
          "TN",
          "TN",
          "TN",
          "TN",
          "TN",
          "TN",
          "TN",
          "TN",
          "TN",
          "TN",
          "TN",
          "TN",
          "TN",
          "TN",
          "TN",
          "TN",
          "TN",
          "TN",
          "TN",
          "TN",
          "TN",
          "TN",
          "TN",
          "TN",
          "TN",
          "TN",
          "TN",
          "TN",
          "TN",
          "TN",
          "TN",
          "TN",
          "TN",
          "TN",
          "TN",
          "TN",
          "TN",
          "TN",
          "TN",
          "TN",
          "TN",
          "TN",
          "TN",
          "TN",
          "TN",
          "TN",
          "TN",
          "TN",
          "TN",
          "TN",
          "TN",
          "TN",
          "TN",
          "TN",
          "TN",
          "TN",
          "TN",
          "TN",
          "TN",
          "TN",
          "TN",
          "TN",
          "TN",
          "TX",
          "TX",
          "TX",
          "TX",
          "TX",
          "TX",
          "TX",
          "TX",
          "TX",
          "TX",
          "TX",
          "TX",
          "TX",
          "TX",
          "TX",
          "TX",
          "TX",
          "TX",
          "TX",
          "TX",
          "TX",
          "TX",
          "TX",
          "TX",
          "TX",
          "TX",
          "TX",
          "TX",
          "TX",
          "TX",
          "TX",
          "TX",
          "TX",
          "TX",
          "TX",
          "TX",
          "TX",
          "TX",
          "TX",
          "TX",
          "TX",
          "TX",
          "TX",
          "TX",
          "TX",
          "TX",
          "TX",
          "TX",
          "TX",
          "TX",
          "TX",
          "TX",
          "TX",
          "TX",
          "TX",
          "TX",
          "TX",
          "TX",
          "TX",
          "TX",
          "TX",
          "TX",
          "TX",
          "TX",
          "TX",
          "TX",
          "TX",
          "TX",
          "TX",
          "TX",
          "TX",
          "TX",
          "TX",
          "TX",
          "TX",
          "TX",
          "TX",
          "TX",
          "TX",
          "TX",
          "TX",
          "TX",
          "TX",
          "TX",
          "TX",
          "TX",
          "TX",
          "TX",
          "TX",
          "TX",
          "TX",
          "TX",
          "TX",
          "TX",
          "TX",
          "TX",
          "TX",
          "TX",
          "TX",
          "TX",
          "TX",
          "TX",
          "TX",
          "TX",
          "TX",
          "TX",
          "TX",
          "TX",
          "TX",
          "TX",
          "TX",
          "TX",
          "TX",
          "TX",
          "TX",
          "TX",
          "TX",
          "TX",
          "TX",
          "TX",
          "TX",
          "TX",
          "TX",
          "TX",
          "TX",
          "TX",
          "TX",
          "TX",
          "TX",
          "TX",
          "TX",
          "TX",
          "TX",
          "TX",
          "TX",
          "TX",
          "TX",
          "TX",
          "TX",
          "TX",
          "TX",
          "TX",
          "TX",
          "TX",
          "TX",
          "TX",
          "TX",
          "TX",
          "TX",
          "TX",
          "TX",
          "TX",
          "TX",
          "TX",
          "TX",
          "TX",
          "TX",
          "TX",
          "TX",
          "TX",
          "TX",
          "TX",
          "TX",
          "TX",
          "TX",
          "TX",
          "TX",
          "TX",
          "TX",
          "TX",
          "TX",
          "TX",
          "TX",
          "TX",
          "TX",
          "TX",
          "TX",
          "TX",
          "TX",
          "TX",
          "TX",
          "TX",
          "TX",
          "TX",
          "TX",
          "TX",
          "TX",
          "TX",
          "TX",
          "TX",
          "TX",
          "TX",
          "TX",
          "TX",
          "TX",
          "TX",
          "TX",
          "TX",
          "TX",
          "TX",
          "TX",
          "TX",
          "TX",
          "TX",
          "TX",
          "TX",
          "TX",
          "TX",
          "TX",
          "TX",
          "TX",
          "TX",
          "TX",
          "TX",
          "TX",
          "TX",
          "TX",
          "TX",
          "TX",
          "TX",
          "TX",
          "TX",
          "TX",
          "TX",
          "TX",
          "TX",
          "TX",
          "TX",
          "TX",
          "TX",
          "TX",
          "TX",
          "TX",
          "TX",
          "TX",
          "TX",
          "TX",
          "TX",
          "TX",
          "TX",
          "UT",
          "UT",
          "UT",
          "UT",
          "UT",
          "UT",
          "UT",
          "UT",
          "UT",
          "UT",
          "UT",
          "UT",
          "UT",
          "UT",
          "UT",
          "UT",
          "UT",
          "UT",
          "UT",
          "UT",
          "UT",
          "UT",
          "UT",
          "UT",
          "UT",
          "UT",
          "UT",
          "UT",
          "VA",
          "VA",
          "VA",
          "VA",
          "VA",
          "VA",
          "VA",
          "VA",
          "VA",
          "VA",
          "VA",
          "VA",
          "VA",
          "VA",
          "VA",
          "VA",
          "VA",
          "VA",
          "VA",
          "VA",
          "VA",
          "VA",
          "VA",
          "VA",
          "VA",
          "VA",
          "VA",
          "VA",
          "VA",
          "VA",
          "VA",
          "VA",
          "VA",
          "VA",
          "VA",
          "VA",
          "VA",
          "VA",
          "VA",
          "VA",
          "VA",
          "VA",
          "VA",
          "VA",
          "VA",
          "VA",
          "VA",
          "VA",
          "VA",
          "VA",
          "VA",
          "VA",
          "VA",
          "VA",
          "VA",
          "VA",
          "VA",
          "VA",
          "VA",
          "VA",
          "VA",
          "VA",
          "VA",
          "VA",
          "VA",
          "VA",
          "VA",
          "VA",
          "VA",
          "VA",
          "VA",
          "VA",
          "VA",
          "VA",
          "VA",
          "VA",
          "VA",
          "VA",
          "VA",
          "VA",
          "VA",
          "VA",
          "VA",
          "VA",
          "VA",
          "VA",
          "VA",
          "VA",
          "VA",
          "VA",
          "VA",
          "VA",
          "VA",
          "WA",
          "WA",
          "WA",
          "WA",
          "WA",
          "WA",
          "WA",
          "WA",
          "WA",
          "WA",
          "WA",
          "WA",
          "WA",
          "WA",
          "WA",
          "WA",
          "WA",
          "WA",
          "WA",
          "WA",
          "WA",
          "WA",
          "WA",
          "WA",
          "WA",
          "WA",
          "WA",
          "WA",
          "WA",
          "WA",
          "WA",
          "WA",
          "WA",
          "WA",
          "WA",
          "WA",
          "WA",
          "WA",
          "WV",
          "WV",
          "WV",
          "WV",
          "WV",
          "WV",
          "WV",
          "WV",
          "WV",
          "WV",
          "WV",
          "WV",
          "WV",
          "WV",
          "WV",
          "WV",
          "WV",
          "WV",
          "WV",
          "WV",
          "WV",
          "WV",
          "WV",
          "WV",
          "WV",
          "WV",
          "WV",
          "WV",
          "WV",
          "WV",
          "WV",
          "WV",
          "WV",
          "WV",
          "WV",
          "WV",
          "WV",
          "WV",
          "WV",
          "WV",
          "WV",
          "WV",
          "WV",
          "WV",
          "WV",
          "WV",
          "WV",
          "WV",
          "WV",
          "WV",
          "WV",
          "WV",
          "WV",
          "WV",
          "WI",
          "WI",
          "WI",
          "WI",
          "WI",
          "WI",
          "WI",
          "WI",
          "WI",
          "WI",
          "WI",
          "WI",
          "WI",
          "WI",
          "WI",
          "WI",
          "WI",
          "WI",
          "WI",
          "WI",
          "WI",
          "WI",
          "WI",
          "WI",
          "WI",
          "WI",
          "WI",
          "WI",
          "WI",
          "WI",
          "WI",
          "WI",
          "WI",
          "WI",
          "WI",
          "WI",
          "WI",
          "WI",
          "WI",
          "WI",
          "WI",
          "WI",
          "WI",
          "WI",
          "WI",
          "WI",
          "WI",
          "WI",
          "WI",
          "WI",
          "WI",
          "WI",
          "WI",
          "WI",
          "WI",
          "WI",
          "WI",
          "WI",
          "WI",
          "WI",
          "WI",
          "WI",
          "WI",
          "WI",
          "WI",
          "WI",
          "WI",
          "WI",
          "WI",
          "WI",
          "WI",
          "WY",
          "WY",
          "WY",
          "WY",
          "WY",
          "WY",
          "WY",
          "WY",
          "WY",
          "WY",
          "WY",
          "WY",
          "WY",
          "WY",
          "WY",
          "WY",
          "WY",
          "WY",
          "WY",
          "WY",
          "WY",
          "WY",
          "WY"
         ],
         "type": "choropleth",
         "z": [
          34.1,
          27.4,
          44.4,
          40.3,
          34.6,
          43,
          36.3,
          32.2,
          39.7,
          33.6,
          35.9,
          40.8,
          38.2,
          37.3,
          30,
          33.7,
          37.5,
          36.4,
          34,
          39.7,
          33.4,
          36.5,
          40.8,
          30.4,
          35.4,
          37.7,
          35.1,
          33.7,
          33.2,
          34.1,
          46.3,
          40.4,
          35.8,
          32.8,
          32,
          33.2,
          33.6,
          32.9,
          35.5,
          29,
          32.9,
          45.1,
          44.7,
          32.3,
          40.3,
          35.5,
          33.2,
          37.1,
          35.3,
          34.8,
          31.6,
          43,
          36.4,
          38.4,
          30.9,
          36.4,
          33,
          30.1,
          40.3,
          39,
          36.9,
          34.3,
          33.2,
          40.2,
          44.9,
          30.2,
          27,
          28.1,
          28.6,
          28.4,
          35.2,
          26,
          23.2,
          27.5,
          32.5,
          34.7,
          32,
          25.4,
          29.6,
          30.9,
          24.2,
          31.6,
          23,
          25.3,
          30.5,
          33.8,
          42.1,
          32.3,
          30.1,
          33.9,
          39,
          34.2,
          35.8,
          43.1,
          34.3,
          33.7,
          31.8,
          35.7,
          36.4,
          39.7,
          36.4,
          35.1,
          38.8,
          37.9,
          36.2,
          39.6,
          34.3,
          33.2,
          37.1,
          32.9,
          32.3,
          38.3,
          31.2,
          40.3,
          34.7,
          35.7,
          37.2,
          33.9,
          37.2,
          40.7,
          36.4,
          36.3,
          31.8,
          35.7,
          37.5,
          32.7,
          37.5,
          35.8,
          34,
          31.7,
          35.9,
          39.8,
          37.5,
          33.8,
          36,
          34.2,
          34.8,
          37.5,
          45.5,
          37.8,
          38.4,
          36.7,
          32.1,
          36.3,
          31.7,
          35.3,
          42.5,
          32.5,
          32.5,
          35,
          36.9,
          36.7,
          37.3,
          32.6,
          39.4,
          35.6,
          30.6,
          36.3,
          35.8,
          37.1,
          20,
          25.5,
          25.9,
          23.5,
          25.4,
          25,
          25.5,
          20.6,
          26.6,
          26.7,
          25.5,
          26.3,
          23.3,
          30.3,
          26.4,
          26.2,
          23.9,
          21.4,
          26.5,
          18.9,
          24.4,
          22.4,
          29.5,
          23.2,
          22.8,
          22.3,
          23.7,
          21.1,
          19.7,
          21.7,
          23,
          26,
          27.4,
          23.3,
          27.9,
          19.1,
          16.1,
          28.3,
          24.5,
          21.1,
          18.2,
          19.5,
          20.2,
          26.5,
          22.5,
          23.2,
          30.1,
          20.9,
          32.6,
          28.7,
          27.2,
          25.1,
          32.6,
          20.2,
          20.3,
          22.7,
          24.8,
          26.3,
          23,
          21.4,
          16.5,
          19.4,
          26.5,
          13.4,
          20.5,
          23.7,
          18.1,
          24.5,
          21.9,
          21.6,
          20.5,
          20.4,
          16.4,
          19.8,
          17,
          11.8,
          19.6,
          22.3,
          22.8,
          20,
          19.7,
          17.4,
          14.8,
          20.1,
          21.4,
          18.3,
          19.5,
          27.6,
          17.5,
          16.3,
          18.7,
          21,
          23.8,
          25.4,
          23.5,
          25.8,
          21.7,
          19.7,
          26.9,
          26.9,
          18.6,
          20.5,
          22.8,
          14.9,
          26.1,
          25.9,
          22.6,
          23.2,
          14.3,
          19.7,
          16.7,
          22.1,
          13.1,
          20.3,
          23.2,
          26,
          24.8,
          21.4,
          26.8,
          23.9,
          24.1,
          26.5,
          27.6,
          24.8,
          29.6,
          32.8,
          27.7,
          31,
          25.6,
          35.8,
          29.9,
          35.9,
          25.6,
          24.4,
          39.4,
          25.7,
          26.3,
          29.7,
          19.5,
          36.3,
          36,
          30.6,
          30.6,
          28.9,
          24.2,
          32.2,
          36.5,
          31.5,
          33.1,
          30.9,
          33.2,
          33.9,
          35.2,
          32.1,
          31,
          28.3,
          31.6,
          24.5,
          34.7,
          32.2,
          35.3,
          29.3,
          24.6,
          26.4,
          32.2,
          39.6,
          34.1,
          25.3,
          29.2,
          21.3,
          21,
          22,
          28.6,
          26.4,
          31,
          24.9,
          29.1,
          21.5,
          31.1,
          25.5,
          32.3,
          36.1,
          21.9,
          27.9,
          26.1,
          20.6,
          24.6,
          26.9,
          33.3,
          38.9,
          37.1,
          26,
          36.4,
          27.5,
          38.5,
          34.8,
          35.3,
          32.7,
          30,
          36.8,
          27,
          34.6,
          35.2,
          35.3,
          34.7,
          31.3,
          30.4,
          33.1,
          33.5,
          29.3,
          33.5,
          32,
          28.7,
          34.4,
          31.5,
          30.3,
          31.7,
          27.8,
          32,
          31.3,
          27.3,
          34,
          26.9,
          25.3,
          29.8,
          38,
          29.6,
          22.9,
          34.8,
          35.2,
          30.3,
          31.4,
          26.8,
          27.3,
          31.1,
          32.3,
          30,
          27.3,
          28.5,
          34.7,
          34.4,
          32.3,
          31.5,
          35.2,
          31.1,
          36.3,
          33.5,
          25.9,
          31.1,
          31,
          29.4,
          29.5,
          23.9,
          29.7,
          28.6,
          26.2,
          29.3,
          33,
          29.7,
          29.5,
          31.7,
          25.7,
          31.2,
          27.3,
          28.4,
          29.9,
          30.2,
          33.1,
          31,
          29.2,
          27.4,
          29.3,
          30,
          35.3,
          29.9,
          34,
          33.5,
          30.6,
          33.2,
          36.2,
          31.2,
          34.9,
          29,
          31.4,
          31.3,
          30.7,
          33.4,
          30.9,
          36.4,
          31.9,
          32.9,
          34.6,
          30.3,
          33.6,
          31.9,
          36.2,
          26.5,
          32.5,
          28.8,
          32.9,
          28.8,
          30.1,
          28.6,
          34.4,
          26.7,
          28.5,
          34.5,
          31.7,
          30,
          29.4,
          33.7,
          34.1,
          36,
          30.4,
          33,
          30.7,
          32.4,
          30.1,
          32.7,
          33.3,
          33.1,
          28.8,
          30.9,
          31.6,
          34,
          34,
          31.5,
          32.9,
          30,
          34.6,
          32.8,
          27.2,
          32,
          32.1,
          34.4,
          35.5,
          32,
          32.2,
          31.8,
          31.9,
          33.5,
          31.5,
          32.9,
          34.5,
          36.7,
          22.7,
          22.3,
          20.6,
          22.4,
          25.4,
          27.6,
          28.1,
          28.7,
          30.1,
          33.3,
          19.2,
          22.4,
          24.7,
          29.4,
          27.3,
          28.5,
          25.7,
          33.4,
          27.5,
          30.5,
          30.6,
          26.3,
          29.8,
          30.7,
          28.9,
          28.5,
          30,
          25.7,
          32.7,
          33.3,
          25,
          24.3,
          26.8,
          29.7,
          32.3,
          24.5,
          34.2,
          30.9,
          31.3,
          30.4,
          33.3,
          32.1,
          31.1,
          24.1,
          27.6,
          24.1,
          30.3,
          37,
          28.4,
          29.6,
          33.7,
          27.6,
          29.1,
          29.1,
          28.6,
          28,
          25.1,
          31.7,
          32.7,
          31,
          29.5,
          26.3,
          25.3,
          31.3,
          28.3,
          30.5,
          30.5,
          23,
          30.3,
          31.3,
          31.8,
          33,
          28.2,
          30.2,
          30.7,
          28.4,
          28.7,
          30.4,
          28.2,
          28.6,
          30.6,
          30.4,
          30.5,
          33.9,
          31.5,
          30.2,
          30.2,
          33,
          29.5,
          29.4,
          25.3,
          30.1,
          33.7,
          26.2,
          28.4,
          27.1,
          28.9,
          32.6,
          29.2,
          29.2,
          26.8,
          27.7,
          29.3,
          29.7,
          31,
          32.3,
          33.5,
          29.1,
          31.7,
          30.7,
          28.3,
          31.2,
          33.2,
          31.3,
          28.8,
          28.6,
          31.2,
          28.8,
          29.1,
          29,
          32.6,
          29.5,
          27.3,
          27.7,
          28.8,
          31.7,
          33.2,
          30.1,
          28.5,
          31.7,
          30.4,
          30.6,
          30.2,
          32.9,
          30.6,
          28.2,
          35.4,
          32.2,
          30.5,
          28.6,
          29.2,
          28.7,
          28.7,
          28,
          31.6,
          33.9,
          30.8,
          32.8,
          30.1,
          29.5,
          32.6,
          36,
          27.8,
          30.6,
          26.9,
          33.7,
          33.3,
          33.1,
          30.9,
          33,
          37.6,
          32.5,
          32.7,
          32.8,
          31.5,
          29.5,
          32.8,
          33,
          30.1,
          29.8,
          26.2,
          37.8,
          32.1,
          37.3,
          33.1,
          25.9,
          34.8,
          36,
          31.8,
          36.7,
          31.4,
          32.6,
          36.9,
          29.6,
          34,
          35,
          33,
          30.2,
          32.3,
          33.2,
          34.2,
          33.9,
          35,
          38.2,
          33.4,
          32.4,
          30.8,
          35.8,
          35.7,
          22.1,
          32.7,
          33.2,
          35.3,
          31.8,
          35.4,
          34,
          33.6,
          32.8,
          36.4,
          31.9,
          29.1,
          31.5,
          31.5,
          35.6,
          32.7,
          32.6,
          30,
          29.5,
          33.1,
          30.5,
          36.1,
          33.7,
          32.9,
          32,
          26.4,
          31.1,
          33.3,
          33.1,
          32.8,
          31.6,
          32.1,
          29.4,
          30.6,
          29.6,
          28.4,
          34.7,
          32,
          32.4,
          30.8,
          33.6,
          35.4,
          31.2,
          34.4,
          29.9,
          32.4,
          32.4,
          35.2,
          33,
          33.8,
          32.4,
          30.7,
          35.2,
          32.4,
          33.2,
          37.5,
          32.7,
          30.5,
          33.8,
          32.1,
          33.4,
          34.2,
          29.8,
          32.7,
          33.1,
          33.9,
          31.3,
          33.4,
          28.5,
          33.2,
          37.7,
          31,
          32.6,
          32.9,
          29.6,
          31.7,
          35.9,
          30.6,
          35.4,
          34.8,
          32.3,
          34.6,
          31.1,
          31.8,
          28.2,
          30.7,
          33.1,
          32.2,
          27.5,
          23,
          37.6,
          29.9,
          32.7,
          31.9,
          31,
          37.4,
          33.8,
          31.9,
          34.2,
          31.9,
          33.1,
          34.7,
          34.7,
          30.3,
          32.8,
          32.4,
          37.6,
          34.2,
          31.6,
          34.4,
          35.3,
          35.7,
          32.2,
          31.9,
          29.2,
          36,
          32.1,
          34.9,
          33,
          31.8,
          29.4,
          29,
          27.1,
          31.3,
          30.9,
          37.8,
          35.7,
          35.6,
          31.1,
          31.5,
          33.3,
          31.1,
          28.6,
          25.4,
          34.3,
          33.7,
          34.4,
          34.2,
          33.3,
          33.1,
          36.7,
          35.4,
          33.9,
          29.6,
          31.9,
          28.3,
          34.1,
          37,
          33.5,
          31.2,
          36.2,
          29.9,
          30.5,
          33.6,
          36,
          33,
          31.9,
          32.1,
          24.2,
          31.6,
          35.2,
          30.6,
          33.8,
          32.7,
          30.2,
          28.9,
          35.6,
          36,
          32.7,
          37.1,
          34.2,
          31,
          33.9,
          32,
          33.4,
          29.9,
          29.6,
          24.8,
          28.7,
          32.2,
          32.8,
          34,
          30.8,
          32.8,
          31.2,
          31.6,
          31.1,
          34.7,
          29.2,
          30.9,
          32.6,
          27,
          34.1,
          32.1,
          35.1,
          35.1,
          31.9,
          30.4,
          33.5,
          31.1,
          32.4,
          37.1,
          33.2,
          37.9,
          30.3,
          28.8,
          31.3,
          33.8,
          32.3,
          35.7,
          30.9,
          32.6,
          23.8,
          32.8,
          32.6,
          30.4,
          35.1,
          32.1,
          31.4,
          38.6,
          32.9,
          31.5,
          29.9,
          34.1,
          32.5,
          31.3,
          34.8,
          31.1,
          35,
          30.7,
          29.4,
          32.9,
          33.4,
          36.2,
          34.3,
          33.9,
          34.6,
          34.2,
          31,
          30.4,
          37.9,
          32.5,
          34.1,
          38.5,
          32.2,
          32.4,
          41.6,
          36.6,
          32.8,
          33.2,
          35,
          30.1,
          31.6,
          33.4,
          35.3,
          38.9,
          36.4,
          36.5,
          30.6,
          38,
          34.9,
          31.8,
          30.4,
          31.2,
          33.7,
          35.1,
          27.3,
          34.5,
          37.6,
          33.2,
          32,
          30.5,
          36.3,
          30.1,
          36.5,
          38.1,
          39.8,
          34.5,
          32.9,
          36.5,
          30.1,
          37.1,
          32.6,
          31.6,
          35.2,
          35,
          37.5,
          31.6,
          31.5,
          37.2,
          28.5,
          40.2,
          39.3,
          33.6,
          37.8,
          42.2,
          33.9,
          43.2,
          38.3,
          30.8,
          29.7,
          35.2,
          33.3,
          33.7,
          34.3,
          36.8,
          32.2,
          33.7,
          30.6,
          34.1,
          39.3,
          30.1,
          35.9,
          35.8,
          33.8,
          29.9,
          32.2,
          35.5,
          37.8,
          32.4,
          32.5,
          37.2,
          28,
          30,
          33.6,
          32.4,
          37,
          38.9,
          36.3,
          33.6,
          34.6,
          36,
          34.4,
          34.6,
          29.4,
          33,
          35.4,
          35.4,
          33.7,
          33.4,
          34,
          30.7,
          31.6,
          32.9,
          37.1,
          35.6,
          36.3,
          32.3,
          29.5,
          33.1,
          34.4,
          31.3,
          34.8,
          37,
          35.8,
          38.2,
          34.7,
          34.3,
          32.3,
          36.3,
          31.5,
          35.3,
          37,
          38.3,
          38.9,
          32.9,
          42.1,
          42.1,
          41.9,
          38,
          33.8,
          36.1,
          39.7,
          34.8,
          35.4,
          36.3,
          31.1,
          36.9,
          33.2,
          37.3,
          34.4,
          41.8,
          39.4,
          34.7,
          31.9,
          35.7,
          33.5,
          35.3,
          35.7,
          40.3,
          37.1,
          39.1,
          35.5,
          35.9,
          40.6,
          37,
          35.8,
          39.6,
          34.2,
          38,
          27.8,
          39.1,
          34.8,
          39.5,
          34.4,
          31.2,
          36.6,
          37.4,
          35.8,
          40.2,
          36,
          34.5,
          37.7,
          33.2,
          34.1,
          22.7,
          30.2,
          24.3,
          30.9,
          23.1,
          24.6,
          31.4,
          30.3,
          33.3,
          25.1,
          35,
          28.3,
          28.5,
          27.6,
          32.3,
          29.1,
          28.8,
          29.7,
          35,
          27.9,
          33.7,
          36,
          35.7,
          29.1,
          30.6,
          27.9,
          21.7,
          28.1,
          20.1,
          33.4,
          28.9,
          32,
          42.2,
          29.3,
          33.8,
          35.9,
          29.4,
          19.9,
          23.7,
          28.3,
          22,
          25.5,
          21,
          27.5,
          18.9,
          22.6,
          20,
          20.5,
          27.8,
          21.3,
          27,
          31.1,
          29.8,
          30.2,
          32.1,
          32.2,
          34,
          32.5,
          31.2,
          35.4,
          34.8,
          31.8,
          33.9,
          35.3,
          28.6,
          33.2,
          34.6,
          33.8,
          31.6,
          30.4,
          32.1,
          30.1,
          35.7,
          29.8,
          33,
          34.7,
          31.3,
          26.8,
          33.6,
          32,
          30.7,
          31.5,
          30.4,
          38,
          33.2,
          29.1,
          30.9,
          33.7,
          30.6,
          31.6,
          28.7,
          30.9,
          32,
          30.3,
          26.6,
          30.8,
          29.6,
          32.6,
          31.1,
          33.3,
          34.6,
          29.2,
          29.9,
          35,
          34.4,
          30.5,
          32.2,
          33.8,
          34,
          28.9,
          35.8,
          34,
          26.3,
          34.8,
          35.6,
          33,
          34.2,
          33.5,
          33.3,
          27.6,
          32.3,
          34.2,
          38.9,
          33,
          34.7,
          31.3,
          31.3,
          32.4,
          32.6,
          33.5,
          24.4,
          33.5,
          30.2,
          29.9,
          30,
          32.6,
          30.9,
          29.3,
          28.7,
          33.7,
          30.1,
          30.1,
          23,
          26.5,
          29.9,
          29.8,
          28.4,
          31,
          28.9,
          31.7,
          29,
          26.6,
          24.9,
          30,
          27,
          25.1,
          29.9,
          32.2,
          32,
          22.8,
          25.7,
          24.9,
          28,
          32.2,
          31.5,
          29.9,
          29.1,
          27.8,
          28,
          28.8,
          30.3,
          30.4,
          32.4,
          28.3,
          28.7,
          31.1,
          32.6,
          29.7,
          32.2,
          30.4,
          35.9,
          34.3,
          30.8,
          29.8,
          29.9,
          28.8,
          28.2,
          25.6,
          29.4,
          27.5,
          36.2,
          28.4,
          33.5,
          32.1,
          25.8,
          32.8,
          32.6,
          29.5,
          31.5,
          28.4,
          29.3,
          27.1,
          24.6,
          28.8,
          33.3,
          27.6,
          30.5,
          33.5,
          28.6,
          30.4,
          32.1,
          32.2,
          29.2,
          33.7,
          26.1,
          26.9,
          28.5,
          28.9,
          28,
          29,
          37.7,
          37.9,
          42.3,
          39.2,
          37,
          37.5,
          35.8,
          34.2,
          33.4,
          31.7,
          47.6,
          34.8,
          35.3,
          42.9,
          37.4,
          35.9,
          34.4,
          35.6,
          34.2,
          38.5,
          38.9,
          31.9,
          32.3,
          34.9,
          46.1,
          41.6,
          34.4,
          34.5,
          32,
          37.9,
          44.5,
          39.4,
          38.4,
          36.9,
          34.3,
          32.8,
          32.3,
          36.8,
          40.9,
          33,
          44,
          39.1,
          34.3,
          28.6,
          34.2,
          39.1,
          38,
          38.3,
          37.5,
          34.8,
          40.6,
          34.2,
          36,
          33.7,
          37.2,
          37.2,
          31.1,
          33.1,
          41.5,
          31.5,
          33.7,
          37.5,
          37.7,
          36.8,
          35.8,
          42.2,
          39.6,
          37.4,
          33.9,
          36.6,
          40.7,
          33.2,
          38.3,
          32.7,
          38.9,
          38.2,
          33.9,
          39.9,
          36.4,
          38.6,
          38.8,
          29,
          29.3,
          29.8,
          34.7,
          32.4,
          35.3,
          32.1,
          31.2,
          33.1,
          28.4,
          32.6,
          35.1,
          37.2,
          34.3,
          28.5,
          31.9,
          35.4,
          31.1,
          30.3,
          31,
          30.4,
          29.1,
          34.3,
          29.3,
          34.5,
          30.7,
          35.4,
          32.4,
          34.3,
          33.7,
          32.6,
          36.1,
          34.6,
          32.5,
          32,
          30.4,
          35,
          28.7,
          32,
          32.6,
          34.1,
          29.5,
          29.2,
          32.5,
          33.9,
          31.5,
          35.1,
          31,
          34.5,
          30.4,
          30.9,
          31.7,
          31.1,
          29.1,
          30,
          35.5,
          31.5,
          30.6,
          28.8,
          28.1,
          32.8,
          34.3,
          33.7,
          37.3,
          33.4,
          30.8,
          31.9,
          28.3,
          30.8,
          33.9,
          28.3,
          33.1,
          32,
          29.7,
          32.4,
          33.3,
          33.4,
          34.4,
          33,
          36.5,
          27,
          28.8,
          30.8,
          29.4,
          28.4,
          31.9,
          32.6,
          33,
          34.8,
          32.6,
          34.3,
          25,
          28.6,
          30.1,
          32.8,
          29,
          37.6,
          30.3,
          31.2,
          36.5,
          29.7,
          33.1,
          32.8,
          33.2,
          35.7,
          30.9,
          32.6,
          30.3,
          28.4,
          33.6,
          36.1,
          33.8,
          30.2,
          31.4,
          24.2,
          38.8,
          35.6,
          30.4,
          24,
          25,
          28.2,
          26.2,
          30.6,
          25.5,
          30.9,
          25.9,
          27.7,
          26,
          23.1,
          15.5,
          25.9,
          34.2,
          29,
          33.4,
          27.5,
          28.8,
          27.7,
          24.3,
          28.8,
          23.8,
          21.7,
          23.9,
          27.7,
          22.2,
          27.5,
          22.6,
          24.6,
          29,
          29.4,
          27.3,
          28,
          26.2,
          23.3,
          30.7,
          36.9,
          35.6,
          26.8,
          29.8,
          25.5,
          21.8,
          24.3,
          26.7,
          29.2,
          25.3,
          26.6,
          25.1,
          33,
          27.6,
          31.6,
          33.9,
          34.2,
          30.2,
          30.1,
          31,
          32,
          35.4,
          28.3,
          30.6,
          26.2,
          31.5,
          32.9,
          31.5,
          29.7,
          32,
          35.8,
          27.3,
          33.8,
          30.1,
          31.5,
          32.7,
          27.8,
          35.3,
          33.4,
          36.7,
          35.5,
          33.9,
          34.1,
          32.6,
          28.4,
          34.4,
          28.3,
          32.4,
          33.9,
          32.5,
          32.1,
          33.2,
          35.9,
          30.2,
          29.4,
          36.2,
          30.3,
          31.1,
          27.5,
          29.6,
          31.4,
          31.6,
          26,
          31.7,
          32.6,
          32.6,
          30.2,
          29.8,
          35.5,
          33.5,
          33.9,
          29.8,
          24.5,
          33.4,
          34.1,
          29.3,
          29.5,
          31.9,
          36.7,
          30.3,
          33,
          30.6,
          28.6,
          33.9,
          29.4,
          30.2,
          33.1,
          34.3,
          30.2,
          41.8,
          32.3,
          31.5,
          29.6,
          32.9,
          33.6,
          25.5,
          27.8,
          21.4,
          30.3,
          27.2,
          25.7,
          30.4,
          25.9,
          29.8,
          28,
          31.5,
          31.1,
          26.9,
          21.8,
          28.7,
          24.6,
          31.3,
          25.2,
          27.4,
          30.5,
          25.3,
          28.5,
          29.5,
          26.1,
          29.1,
          28.8,
          27.6,
          21.5,
          28,
          30.2,
          27.9,
          34.5,
          28.7,
          30.3,
          22.3,
          24.6,
          25,
          23.2,
          21,
          28.1,
          25.7,
          33.9,
          22.6,
          26.2,
          24.7,
          28.8,
          21.5,
          20.3,
          29.2,
          31.2,
          22,
          30.5,
          22.9,
          23.6,
          31.2,
          21.8,
          27.3,
          22.9,
          22.9,
          33.8,
          19.9,
          19.9,
          24.3,
          35.1,
          22.6,
          25.1,
          32,
          24.5,
          26.9,
          23.8,
          31.7,
          22.6,
          13.7,
          21,
          26.3,
          17.4,
          26.1,
          27,
          26.6,
          25.4,
          29.6,
          30.4,
          27.3,
          28.1,
          30.6,
          29.6,
          29.1,
          30.3,
          30.3,
          25,
          26.8,
          27.9,
          25.9,
          26.7,
          27.3,
          30.3,
          30.1,
          26.8,
          27.9,
          26.1,
          29.6,
          28.4,
          22.7,
          33.7,
          31.2,
          26.1,
          27.7,
          26,
          23.5,
          30.4,
          31.4,
          27.9,
          29.4,
          28.8,
          28.5,
          29.2,
          26,
          24.1,
          23.8,
          27.4,
          28.2,
          22.4,
          28.2,
          26.7,
          26.1,
          26.2,
          30.8,
          28.9,
          30.8,
          23.1,
          29.3,
          29.3,
          25.3,
          27.2,
          27.4,
          31.9,
          30.2,
          20.3,
          25.6,
          26.6,
          35.1,
          34,
          27.1,
          34.6,
          29.1,
          33,
          35.5,
          38.2,
          28,
          23.5,
          32.4,
          30,
          32.7,
          31,
          25.8,
          36,
          29.5,
          27.1,
          30,
          34.2,
          28.7,
          30.9,
          31.2,
          30.1,
          32.3,
          28.9,
          27.4,
          31.4,
          29.1,
          32,
          29.2,
          40.8,
          31.4,
          31.2,
          33.3,
          33.9,
          27.5,
          35.8,
          30.7,
          39,
          33.2,
          30,
          27.1,
          36.9,
          34.7,
          29.7,
          29.1,
          31.4,
          35.5,
          33.9,
          29.9,
          37.2,
          27.6,
          30.9,
          27.4,
          24.8,
          38,
          23.9,
          30.7,
          27.4,
          31.5,
          24.9,
          38.5,
          29.7,
          23.3,
          31.5,
          35.4,
          31.1,
          32.6,
          32.7,
          34.3,
          27.3,
          32.2,
          37.9,
          39.6,
          35.4,
          32.7,
          28.7,
          36.7,
          36.4,
          30,
          33.8,
          30.9,
          33.3,
          24.3,
          30.8,
          26.5,
          38.2,
          24.8,
          39.2,
          32.8,
          26.4,
          34.4,
          26.7,
          36.8,
          31,
          27,
          31.9,
          34.7,
          31,
          31,
          30.3,
          29.1,
          29.1,
          32.1,
          33.4,
          31.5,
          30.9,
          30.5,
          32.1,
          30.1,
          33.3,
          29.1,
          33.4,
          32.8,
          31.7,
          32.8,
          32.8,
          33.4,
          31.8,
          33.3,
          35.9,
          31.7,
          32.1,
          32.1,
          34,
          33.2,
          33.1,
          31.6,
          33.1,
          41.4,
          34.4,
          31.6,
          33.7,
          29.6,
          30.2,
          33,
          30.1,
          32.8,
          32.2,
          30.8,
          33.5,
          35.3,
          31.1,
          35.4,
          27.9,
          33.5,
          28.3,
          34.7,
          33.5,
          33.7,
          32.8,
          34.7,
          37,
          31.5,
          30.3,
          34.3,
          33,
          34.3,
          32,
          30,
          32.3,
          32.9,
          28.1,
          35.4,
          32.6,
          33.4,
          29.7,
          36.7,
          32.3,
          27,
          31.3,
          36.4,
          29.2,
          31.4,
          35.2,
          30.3,
          29.2,
          32.1,
          37.5,
          31.2,
          33.3,
          37.4,
          36.6,
          27.6,
          26.7,
          38.8,
          31.4,
          34.3,
          29.2,
          34.2,
          29.6,
          31.3,
          35.8,
          29.1,
          34.3,
          27.9,
          34.1,
          36.8,
          33.3,
          36.7,
          36.9,
          31.2,
          33.5,
          30.6,
          29.9,
          36.3,
          34,
          35.8,
          29,
          29.3,
          35.2,
          32.8,
          33.7,
          33.5,
          37,
          35.1,
          31.8,
          30.7,
          30.8,
          32.6,
          35,
          34.2,
          37.9,
          33.6,
          29.9,
          34.8,
          30.3,
          35.9,
          30.9,
          35.8,
          38.6,
          36,
          34.3,
          38.9,
          35.5,
          38.4,
          32.5,
          37,
          35,
          32.3,
          35.5,
          36.2,
          32.8,
          30.1,
          35.6,
          34.8,
          36.2,
          27.4,
          36.8,
          30.9,
          33.4,
          35.5,
          31,
          36.7,
          33.8,
          34.8,
          36.4,
          32.7,
          36.8,
          35,
          38.5,
          32.3,
          34.1,
          36,
          39.2,
          29.7,
          32.1,
          30.8,
          32.6,
          39.1,
          38.8,
          31.4,
          33.5,
          31.5,
          35.3,
          37.9,
          31.6,
          36.1,
          34.7,
          39.7,
          37.4,
          32.8,
          36.4,
          31,
          31.2,
          38,
          34.5,
          37.1,
          33.9,
          28.9,
          32.4,
          35.6,
          34.2,
          30.3,
          32.8,
          32.7,
          36.4,
          32.5,
          34,
          32.7,
          33.4,
          29.6,
          33.5,
          33.2,
          40.6,
          33.4,
          38.6,
          26.9,
          21.6,
          25.3,
          30.7,
          33.8,
          30.4,
          25.7,
          29.9,
          24.1,
          31,
          27.2,
          29.6,
          31.7,
          26.5,
          25.6,
          32.5,
          27.1,
          29.9,
          28,
          27.4,
          28.5,
          33.6,
          28.5,
          34.1,
          21.3,
          34.5,
          27.1,
          28.8,
          31.8,
          27.3,
          24.3,
          25.5,
          24,
          27.8,
          31.4,
          26.7,
          35.9,
          29.7,
          33.7,
          32.2,
          33.1,
          32.5,
          25.7,
          28.5,
          28.9,
          27.9,
          35,
          26.6,
          23,
          33.8,
          36.8,
          32.4,
          37.9,
          34.5,
          27.6,
          32.5,
          24,
          28.5,
          31.2,
          38.5,
          32.1,
          32.2,
          31.6,
          33.4,
          29.4,
          37.2,
          31.5,
          34.7,
          31.3,
          29.3,
          34.3,
          29.5,
          30.1,
          28.9,
          31.5,
          31.9,
          31.7,
          32,
          28.8,
          24.6,
          32.5,
          28.6,
          35.3,
          33,
          29.8,
          29.1,
          32.4,
          35.1,
          32.5,
          37.7,
          31.1,
          30.4,
          30.3,
          28.2,
          34.7,
          33.6,
          28.3,
          33.1,
          30,
          33.4,
          33.3,
          22.9,
          28.8,
          23.1,
          28.2,
          23.9,
          35.2,
          31.9,
          41.1,
          33.9,
          40.3,
          36.8,
          22,
          35,
          35.3,
          24.6,
          36.5,
          36.1,
          34.8,
          42.3,
          39,
          37.7,
          37.4,
          33.9,
          32.7,
          41.3,
          34.1,
          30.8,
          28.1,
          33.5,
          42,
          29.8,
          37,
          31.7,
          31.3,
          40.8,
          44.3,
          33.4,
          35.2,
          39.9,
          39.2,
          35.5,
          28,
          41.9,
          30.2,
          32.6,
          35.6,
          30.5,
          34.4,
          36.9,
          42.5,
          29.4,
          28,
          32,
          36.6,
          29.6,
          27.4,
          32.2,
          34.4,
          42,
          31.3,
          30.9,
          33.6,
          30.6,
          31.1,
          31.2,
          40.9,
          29.7,
          34.3,
          30.8,
          33.3,
          39.9,
          29.8,
          29.1,
          31.7,
          29.3,
          30.6,
          32.2,
          30.1,
          30.8,
          29.9,
          32.4,
          28.3,
          31,
          30.5,
          34.8,
          27.8,
          29.3,
          33.8,
          31.3,
          25.7,
          28.7,
          33.5,
          28.5,
          27.3,
          32.2,
          27,
          32.4,
          31.4,
          27.8,
          32.9,
          27.3,
          32.8,
          29.2,
          32,
          29.7,
          31.4,
          33.4,
          33.1,
          38,
          30.7,
          32.9,
          30.4,
          28.4,
          30,
          31.7,
          32.1,
          32.4,
          32.7,
          34,
          34.9,
          32.5,
          33.3,
          32.4,
          31.8,
          33.8,
          32,
          30.8,
          31.3,
          34.4,
          35.9,
          33,
          29.2,
          30.9,
          36.3,
          31.8,
          35.9,
          37.2,
          31.1,
          35.5,
          30.9,
          32.3,
          32.1,
          35,
          29.8,
          31.3,
          30.8,
          30.2,
          30.6,
          37.8,
          31.9,
          32.9,
          38.4,
          34.8,
          33.7,
          32.1,
          33.2,
          35.6,
          34.7,
          34.2,
          29.2,
          29.7,
          37.5,
          38.3,
          34,
          34.3,
          32.1,
          27.5,
          33.7,
          38.6,
          34.2,
          34.3,
          32.9,
          31.3,
          33.6,
          27.9,
          35.5,
          29,
          32,
          30.3,
          33.6,
          33,
          31.4,
          33.1,
          34.9,
          32.6,
          30.4,
          34.1,
          35.6,
          33,
          28.9,
          28.3,
          30.6,
          32.6,
          36.8,
          31.4,
          30.1,
          29.7,
          35.4,
          33.4,
          31,
          32.1,
          31.4,
          32.2,
          32.7,
          30.9,
          31.2,
          25.9,
          31.7,
          31.6,
          28.1,
          37.5,
          26.9,
          27.2,
          27.9,
          27,
          26.7,
          27.1,
          33.1,
          28.1,
          29.3,
          29,
          27.3,
          28.7,
          27.8,
          32.4,
          31.2,
          28.4,
          27.7,
          26.4,
          27.2,
          25.2,
          29.8,
          30,
          26.4,
          29.1,
          28.4,
          33.2,
          31.8,
          28.4,
          31.3,
          28.1,
          28.6,
          30.1,
          27,
          29.4,
          26.9,
          28.1,
          28.1,
          24.6,
          28,
          28.5,
          26.7,
          28.3,
          27.5,
          29.2,
          30.3,
          29.3,
          27.9,
          27.8,
          27.6,
          31.5,
          27.6,
          29.9,
          29.4,
          28,
          22.1,
          30.6,
          26.6,
          29.9,
          27.6,
          27.8,
          28.2,
          31.6,
          27.1,
          29.8,
          28.4,
          28.2,
          29.8,
          28.4,
          27.1,
          26.7,
          26.8,
          26.3,
          23.9,
          26.9,
          28.5,
          27.5,
          30.6,
          27.6,
          27.5,
          26.8,
          29.2,
          29.5,
          28.4,
          28.9,
          35.3,
          29.1,
          30.9,
          30.6,
          29.1,
          30,
          28.1,
          28.5,
          32.1,
          27.2,
          33.3,
          27.3,
          23.8,
          26.8,
          30.2,
          34.4,
          28.7,
          30.7,
          26.5,
          30.5,
          28.3,
          31.1,
          26.3,
          27,
          31.1,
          27.9,
          26.9,
          32.2,
          29.1,
          26.2,
          33.2,
          27.3,
          28.5,
          30.2,
          27.4,
          29.2,
          27.2,
          27.3,
          26.4,
          26.7,
          28.4,
          26.7,
          28,
          26.6,
          32.7,
          31,
          28.2,
          26.6,
          32,
          28.1,
          29.5,
          27.6,
          33.9,
          27.2,
          27.6,
          27,
          27.7,
          28.4,
          28.5,
          28.6,
          28.8,
          31.3,
          27.1,
          26.2,
          31.9,
          29.4,
          32.2,
          27.3,
          30.9,
          29.7,
          26.1,
          26.6,
          25.9,
          24.5,
          29.9,
          30,
          26.8,
          32.2,
          28.4,
          28,
          29,
          33.6,
          28.7,
          29.3,
          29.5,
          29.4,
          30.7,
          29,
          29.4,
          28.6,
          29.4,
          31,
          26.1,
          26.6,
          27.7,
          27.6,
          30.7,
          28.3,
          28.4,
          29.8,
          25.3,
          26.8,
          30.8,
          27.8,
          32.3,
          28.1,
          33,
          27.4,
          27.5,
          26.2,
          28.3,
          31.2,
          29.6,
          27.6,
          29.6,
          27,
          27.4,
          27,
          27.7,
          29.1,
          30.8,
          29.2,
          26.8,
          30.9,
          27.6,
          20.3,
          27.4,
          31,
          29.6,
          26.9,
          30,
          30,
          30.2,
          34.3,
          29.7,
          33.6,
          28.5,
          29.6,
          31.3,
          31.9,
          27.8,
          31.1,
          28,
          27.6,
          31.1,
          31.4,
          27.7,
          30.9,
          30.1,
          26.7,
          27.1,
          26.3,
          27.4,
          25.7,
          33.5,
          21.8,
          26.6,
          25,
          27.6,
          25.8,
          32.5,
          22.3,
          23.3,
          28,
          26.1,
          31.3,
          22,
          26.1,
          26.4,
          25.4,
          26.7,
          25.4,
          29.9,
          14.4,
          31.7,
          27.6,
          24.4,
          23,
          23.7,
          22.8,
          28.4,
          34.7,
          22.6,
          33,
          29,
          29.4,
          29.3,
          16.1,
          34,
          28.7,
          33.1,
          30.9,
          25.6,
          35.9,
          33.5,
          31.5,
          29.6,
          29.1,
          35.2,
          33.5,
          26,
          26.8,
          27.8,
          31.8,
          32.1,
          32.7,
          32.7,
          20.3,
          25.5,
          26.5,
          27.6,
          28.4,
          31.7,
          30.3,
          34.5,
          28.4,
          30.3,
          27.9,
          32.4,
          27.4,
          27.5,
          32.3,
          26.3,
          29.3,
          25.2,
          26.3,
          29.8,
          29.4,
          21.6,
          32.4,
          27.5,
          29.1,
          27.8,
          30.9,
          26.2,
          24.2,
          29.7,
          28.2,
          36.1,
          26.3,
          34,
          28.3,
          28.3,
          30.9,
          32,
          30,
          32.1,
          33.2,
          25.5,
          33,
          27.2,
          29.9,
          26.6,
          24.8,
          26.4,
          28.9,
          31.2,
          26.6,
          29.6,
          31.1,
          32.7,
          29.6,
          35.3,
          35.9,
          30.3,
          29.2,
          30,
          30.7,
          30.8,
          31.3,
          26.1,
          32.3,
          31.9,
          27.9,
          34.4,
          33.4,
          31.5,
          26.7,
          26.3,
          29.9,
          30,
          32.1,
          28.7,
          28.1,
          30.1,
          34.3,
          36.9,
          27.4,
          24.5,
          22.2,
          29.6,
          28.9,
          27.5,
          32.8,
          31.2,
          30.5,
          28,
          31.6,
          28.8,
          30,
          20.7,
          26.4,
          28.1,
          29.4,
          29.2,
          30.6,
          28.1,
          31.4,
          28,
          23.1,
          22.9,
          29.6,
          37.6,
          34.3,
          35.4,
          32.5,
          39,
          30.5,
          32.7,
          32.6,
          35.7,
          35.6,
          39,
          38.9,
          34.2,
          33.8,
          34.8,
          37,
          33.7,
          31.7,
          33.2,
          32.7,
          35.9,
          40.7,
          42.1,
          32.6,
          35.2,
          36.1,
          37.4,
          34.5,
          40.3,
          28.8,
          30.9,
          32.6,
          38.2,
          31.4,
          36,
          38.8,
          31.4,
          35.9,
          34.6,
          35.6,
          34.8,
          35.7,
          36.2,
          36.1,
          37,
          37.8,
          32.6,
          38.2,
          37.7,
          34.7,
          33,
          36.9,
          35.9,
          38.8,
          34,
          27.3,
          31.6,
          28.7,
          28.4,
          32,
          28.7,
          31.3,
          30.2,
          34.1,
          34.7,
          33.1,
          23.7,
          31.7,
          27.5,
          32.2,
          32.3,
          29.2,
          32,
          30.1,
          34.7,
          31.9,
          31.4,
          34.6,
          31.8,
          29.1,
          32.6,
          29.4,
          35.8,
          32.9,
          33.5,
          28.3,
          35.3,
          29.9,
          32.8,
          30.8,
          29.5,
          35.3,
          34.9,
          42.5,
          32.9,
          33,
          30.4,
          32.8,
          30.1,
          27.1,
          30.3,
          30.3,
          33.4,
          34,
          32.9,
          31.8,
          36.9,
          31.7,
          26.2,
          32.5,
          29.7,
          33.8,
          29.4,
          34.4,
          29.6,
          32.8,
          27.7,
          25.1,
          30.8,
          29.2,
          27.5,
          28.5,
          32.9,
          31.9,
          32.3,
          23.3,
          28.9,
          34.3,
          28.2,
          28.3,
          25.9,
          28.3,
          29.9,
          27,
          21.1,
          29.7,
          25.6,
          29.4,
          25.5,
          25.5,
          28,
          23.3,
          23.5,
          31.7,
          12.7,
          27.9,
          27.7,
          29.2
         ]
        }
       ],
       "layout": {
        "geo": {
         "scope": "usa"
        },
        "template": {
         "data": {
          "bar": [
           {
            "error_x": {
             "color": "#2a3f5f"
            },
            "error_y": {
             "color": "#2a3f5f"
            },
            "marker": {
             "line": {
              "color": "#E5ECF6",
              "width": 0.5
             }
            },
            "type": "bar"
           }
          ],
          "barpolar": [
           {
            "marker": {
             "line": {
              "color": "#E5ECF6",
              "width": 0.5
             }
            },
            "type": "barpolar"
           }
          ],
          "carpet": [
           {
            "aaxis": {
             "endlinecolor": "#2a3f5f",
             "gridcolor": "white",
             "linecolor": "white",
             "minorgridcolor": "white",
             "startlinecolor": "#2a3f5f"
            },
            "baxis": {
             "endlinecolor": "#2a3f5f",
             "gridcolor": "white",
             "linecolor": "white",
             "minorgridcolor": "white",
             "startlinecolor": "#2a3f5f"
            },
            "type": "carpet"
           }
          ],
          "choropleth": [
           {
            "colorbar": {
             "outlinewidth": 0,
             "ticks": ""
            },
            "type": "choropleth"
           }
          ],
          "contour": [
           {
            "colorbar": {
             "outlinewidth": 0,
             "ticks": ""
            },
            "colorscale": [
             [
              0,
              "#0d0887"
             ],
             [
              0.1111111111111111,
              "#46039f"
             ],
             [
              0.2222222222222222,
              "#7201a8"
             ],
             [
              0.3333333333333333,
              "#9c179e"
             ],
             [
              0.4444444444444444,
              "#bd3786"
             ],
             [
              0.5555555555555556,
              "#d8576b"
             ],
             [
              0.6666666666666666,
              "#ed7953"
             ],
             [
              0.7777777777777778,
              "#fb9f3a"
             ],
             [
              0.8888888888888888,
              "#fdca26"
             ],
             [
              1,
              "#f0f921"
             ]
            ],
            "type": "contour"
           }
          ],
          "contourcarpet": [
           {
            "colorbar": {
             "outlinewidth": 0,
             "ticks": ""
            },
            "type": "contourcarpet"
           }
          ],
          "heatmap": [
           {
            "colorbar": {
             "outlinewidth": 0,
             "ticks": ""
            },
            "colorscale": [
             [
              0,
              "#0d0887"
             ],
             [
              0.1111111111111111,
              "#46039f"
             ],
             [
              0.2222222222222222,
              "#7201a8"
             ],
             [
              0.3333333333333333,
              "#9c179e"
             ],
             [
              0.4444444444444444,
              "#bd3786"
             ],
             [
              0.5555555555555556,
              "#d8576b"
             ],
             [
              0.6666666666666666,
              "#ed7953"
             ],
             [
              0.7777777777777778,
              "#fb9f3a"
             ],
             [
              0.8888888888888888,
              "#fdca26"
             ],
             [
              1,
              "#f0f921"
             ]
            ],
            "type": "heatmap"
           }
          ],
          "heatmapgl": [
           {
            "colorbar": {
             "outlinewidth": 0,
             "ticks": ""
            },
            "colorscale": [
             [
              0,
              "#0d0887"
             ],
             [
              0.1111111111111111,
              "#46039f"
             ],
             [
              0.2222222222222222,
              "#7201a8"
             ],
             [
              0.3333333333333333,
              "#9c179e"
             ],
             [
              0.4444444444444444,
              "#bd3786"
             ],
             [
              0.5555555555555556,
              "#d8576b"
             ],
             [
              0.6666666666666666,
              "#ed7953"
             ],
             [
              0.7777777777777778,
              "#fb9f3a"
             ],
             [
              0.8888888888888888,
              "#fdca26"
             ],
             [
              1,
              "#f0f921"
             ]
            ],
            "type": "heatmapgl"
           }
          ],
          "histogram": [
           {
            "marker": {
             "colorbar": {
              "outlinewidth": 0,
              "ticks": ""
             }
            },
            "type": "histogram"
           }
          ],
          "histogram2d": [
           {
            "colorbar": {
             "outlinewidth": 0,
             "ticks": ""
            },
            "colorscale": [
             [
              0,
              "#0d0887"
             ],
             [
              0.1111111111111111,
              "#46039f"
             ],
             [
              0.2222222222222222,
              "#7201a8"
             ],
             [
              0.3333333333333333,
              "#9c179e"
             ],
             [
              0.4444444444444444,
              "#bd3786"
             ],
             [
              0.5555555555555556,
              "#d8576b"
             ],
             [
              0.6666666666666666,
              "#ed7953"
             ],
             [
              0.7777777777777778,
              "#fb9f3a"
             ],
             [
              0.8888888888888888,
              "#fdca26"
             ],
             [
              1,
              "#f0f921"
             ]
            ],
            "type": "histogram2d"
           }
          ],
          "histogram2dcontour": [
           {
            "colorbar": {
             "outlinewidth": 0,
             "ticks": ""
            },
            "colorscale": [
             [
              0,
              "#0d0887"
             ],
             [
              0.1111111111111111,
              "#46039f"
             ],
             [
              0.2222222222222222,
              "#7201a8"
             ],
             [
              0.3333333333333333,
              "#9c179e"
             ],
             [
              0.4444444444444444,
              "#bd3786"
             ],
             [
              0.5555555555555556,
              "#d8576b"
             ],
             [
              0.6666666666666666,
              "#ed7953"
             ],
             [
              0.7777777777777778,
              "#fb9f3a"
             ],
             [
              0.8888888888888888,
              "#fdca26"
             ],
             [
              1,
              "#f0f921"
             ]
            ],
            "type": "histogram2dcontour"
           }
          ],
          "mesh3d": [
           {
            "colorbar": {
             "outlinewidth": 0,
             "ticks": ""
            },
            "type": "mesh3d"
           }
          ],
          "parcoords": [
           {
            "line": {
             "colorbar": {
              "outlinewidth": 0,
              "ticks": ""
             }
            },
            "type": "parcoords"
           }
          ],
          "scatter": [
           {
            "marker": {
             "colorbar": {
              "outlinewidth": 0,
              "ticks": ""
             }
            },
            "type": "scatter"
           }
          ],
          "scatter3d": [
           {
            "line": {
             "colorbar": {
              "outlinewidth": 0,
              "ticks": ""
             }
            },
            "marker": {
             "colorbar": {
              "outlinewidth": 0,
              "ticks": ""
             }
            },
            "type": "scatter3d"
           }
          ],
          "scattercarpet": [
           {
            "marker": {
             "colorbar": {
              "outlinewidth": 0,
              "ticks": ""
             }
            },
            "type": "scattercarpet"
           }
          ],
          "scattergeo": [
           {
            "marker": {
             "colorbar": {
              "outlinewidth": 0,
              "ticks": ""
             }
            },
            "type": "scattergeo"
           }
          ],
          "scattergl": [
           {
            "marker": {
             "colorbar": {
              "outlinewidth": 0,
              "ticks": ""
             }
            },
            "type": "scattergl"
           }
          ],
          "scattermapbox": [
           {
            "marker": {
             "colorbar": {
              "outlinewidth": 0,
              "ticks": ""
             }
            },
            "type": "scattermapbox"
           }
          ],
          "scatterpolar": [
           {
            "marker": {
             "colorbar": {
              "outlinewidth": 0,
              "ticks": ""
             }
            },
            "type": "scatterpolar"
           }
          ],
          "scatterpolargl": [
           {
            "marker": {
             "colorbar": {
              "outlinewidth": 0,
              "ticks": ""
             }
            },
            "type": "scatterpolargl"
           }
          ],
          "scatterternary": [
           {
            "marker": {
             "colorbar": {
              "outlinewidth": 0,
              "ticks": ""
             }
            },
            "type": "scatterternary"
           }
          ],
          "surface": [
           {
            "colorbar": {
             "outlinewidth": 0,
             "ticks": ""
            },
            "colorscale": [
             [
              0,
              "#0d0887"
             ],
             [
              0.1111111111111111,
              "#46039f"
             ],
             [
              0.2222222222222222,
              "#7201a8"
             ],
             [
              0.3333333333333333,
              "#9c179e"
             ],
             [
              0.4444444444444444,
              "#bd3786"
             ],
             [
              0.5555555555555556,
              "#d8576b"
             ],
             [
              0.6666666666666666,
              "#ed7953"
             ],
             [
              0.7777777777777778,
              "#fb9f3a"
             ],
             [
              0.8888888888888888,
              "#fdca26"
             ],
             [
              1,
              "#f0f921"
             ]
            ],
            "type": "surface"
           }
          ],
          "table": [
           {
            "cells": {
             "fill": {
              "color": "#EBF0F8"
             },
             "line": {
              "color": "white"
             }
            },
            "header": {
             "fill": {
              "color": "#C8D4E3"
             },
             "line": {
              "color": "white"
             }
            },
            "type": "table"
           }
          ]
         },
         "layout": {
          "annotationdefaults": {
           "arrowcolor": "#2a3f5f",
           "arrowhead": 0,
           "arrowwidth": 1
          },
          "colorscale": {
           "diverging": [
            [
             0,
             "#8e0152"
            ],
            [
             0.1,
             "#c51b7d"
            ],
            [
             0.2,
             "#de77ae"
            ],
            [
             0.3,
             "#f1b6da"
            ],
            [
             0.4,
             "#fde0ef"
            ],
            [
             0.5,
             "#f7f7f7"
            ],
            [
             0.6,
             "#e6f5d0"
            ],
            [
             0.7,
             "#b8e186"
            ],
            [
             0.8,
             "#7fbc41"
            ],
            [
             0.9,
             "#4d9221"
            ],
            [
             1,
             "#276419"
            ]
           ],
           "sequential": [
            [
             0,
             "#0d0887"
            ],
            [
             0.1111111111111111,
             "#46039f"
            ],
            [
             0.2222222222222222,
             "#7201a8"
            ],
            [
             0.3333333333333333,
             "#9c179e"
            ],
            [
             0.4444444444444444,
             "#bd3786"
            ],
            [
             0.5555555555555556,
             "#d8576b"
            ],
            [
             0.6666666666666666,
             "#ed7953"
            ],
            [
             0.7777777777777778,
             "#fb9f3a"
            ],
            [
             0.8888888888888888,
             "#fdca26"
            ],
            [
             1,
             "#f0f921"
            ]
           ],
           "sequentialminus": [
            [
             0,
             "#0d0887"
            ],
            [
             0.1111111111111111,
             "#46039f"
            ],
            [
             0.2222222222222222,
             "#7201a8"
            ],
            [
             0.3333333333333333,
             "#9c179e"
            ],
            [
             0.4444444444444444,
             "#bd3786"
            ],
            [
             0.5555555555555556,
             "#d8576b"
            ],
            [
             0.6666666666666666,
             "#ed7953"
            ],
            [
             0.7777777777777778,
             "#fb9f3a"
            ],
            [
             0.8888888888888888,
             "#fdca26"
            ],
            [
             1,
             "#f0f921"
            ]
           ]
          },
          "colorway": [
           "#636efa",
           "#EF553B",
           "#00cc96",
           "#ab63fa",
           "#FFA15A",
           "#19d3f3",
           "#FF6692",
           "#B6E880",
           "#FF97FF",
           "#FECB52"
          ],
          "font": {
           "color": "#2a3f5f"
          },
          "geo": {
           "bgcolor": "white",
           "lakecolor": "white",
           "landcolor": "#E5ECF6",
           "showlakes": true,
           "showland": true,
           "subunitcolor": "white"
          },
          "hoverlabel": {
           "align": "left"
          },
          "hovermode": "closest",
          "mapbox": {
           "style": "light"
          },
          "paper_bgcolor": "white",
          "plot_bgcolor": "#E5ECF6",
          "polar": {
           "angularaxis": {
            "gridcolor": "white",
            "linecolor": "white",
            "ticks": ""
           },
           "bgcolor": "#E5ECF6",
           "radialaxis": {
            "gridcolor": "white",
            "linecolor": "white",
            "ticks": ""
           }
          },
          "scene": {
           "xaxis": {
            "backgroundcolor": "#E5ECF6",
            "gridcolor": "white",
            "gridwidth": 2,
            "linecolor": "white",
            "showbackground": true,
            "ticks": "",
            "zerolinecolor": "white"
           },
           "yaxis": {
            "backgroundcolor": "#E5ECF6",
            "gridcolor": "white",
            "gridwidth": 2,
            "linecolor": "white",
            "showbackground": true,
            "ticks": "",
            "zerolinecolor": "white"
           },
           "zaxis": {
            "backgroundcolor": "#E5ECF6",
            "gridcolor": "white",
            "gridwidth": 2,
            "linecolor": "white",
            "showbackground": true,
            "ticks": "",
            "zerolinecolor": "white"
           }
          },
          "shapedefaults": {
           "line": {
            "color": "#2a3f5f"
           }
          },
          "ternary": {
           "aaxis": {
            "gridcolor": "white",
            "linecolor": "white",
            "ticks": ""
           },
           "baxis": {
            "gridcolor": "white",
            "linecolor": "white",
            "ticks": ""
           },
           "bgcolor": "#E5ECF6",
           "caxis": {
            "gridcolor": "white",
            "linecolor": "white",
            "ticks": ""
           }
          },
          "title": {
           "x": 0.05
          },
          "xaxis": {
           "automargin": true,
           "gridcolor": "white",
           "linecolor": "white",
           "ticks": "",
           "zerolinecolor": "white",
           "zerolinewidth": 2
          },
          "yaxis": {
           "automargin": true,
           "gridcolor": "white",
           "linecolor": "white",
           "ticks": "",
           "zerolinecolor": "white",
           "zerolinewidth": 2
          }
         }
        },
        "title": {
         "text": "Average Obesity Rate by State"
        }
       }
      },
      "text/html": [
       "<div>\n",
       "        \n",
       "        \n",
       "            <div id=\"f12d28ea-0e8a-4966-9c95-ead9f097f26a\" class=\"plotly-graph-div\" style=\"height:525px; width:100%;\"></div>\n",
       "            <script type=\"text/javascript\">\n",
       "                require([\"plotly\"], function(Plotly) {\n",
       "                    window.PLOTLYENV=window.PLOTLYENV || {};\n",
       "                    \n",
       "                if (document.getElementById(\"f12d28ea-0e8a-4966-9c95-ead9f097f26a\")) {\n",
       "                    Plotly.newPlot(\n",
       "                        'f12d28ea-0e8a-4966-9c95-ead9f097f26a',\n",
       "                        [{\"colorbar\": {\"title\": {\"text\": \"Obesity Rate\"}}, \"colorscale\": [[0.0, \"#440154\"], [0.1111111111111111, \"#482878\"], [0.2222222222222222, \"#3e4989\"], [0.3333333333333333, \"#31688e\"], [0.4444444444444444, \"#26828e\"], [0.5555555555555556, \"#1f9e89\"], [0.6666666666666666, \"#35b779\"], [0.7777777777777778, \"#6ece58\"], [0.8888888888888888, \"#b5de2b\"], [1.0, \"#fde725\"]], \"locationmode\": \"USA-states\", \"locations\": [\"AL\", \"AL\", \"AL\", \"AL\", \"AL\", \"AL\", \"AL\", \"AL\", \"AL\", \"AL\", \"AL\", \"AL\", \"AL\", \"AL\", \"AL\", \"AL\", \"AL\", \"AL\", \"AL\", \"AL\", \"AL\", \"AL\", \"AL\", \"AL\", \"AL\", \"AL\", \"AL\", \"AL\", \"AL\", \"AL\", \"AL\", \"AL\", \"AL\", \"AL\", \"AL\", \"AL\", \"AL\", \"AL\", \"AL\", \"AL\", \"AL\", \"AL\", \"AL\", \"AL\", \"AL\", \"AL\", \"AL\", \"AL\", \"AL\", \"AL\", \"AL\", \"AL\", \"AL\", \"AL\", \"AL\", \"AL\", \"AL\", \"AL\", \"AL\", \"AL\", \"AL\", \"AL\", \"AL\", \"AL\", \"AL\", \"AL\", \"AK\", \"AK\", \"AK\", \"AK\", \"AZ\", \"AZ\", \"AZ\", \"AZ\", \"AZ\", \"AZ\", \"AZ\", \"AZ\", \"AZ\", \"AZ\", \"AZ\", \"AZ\", \"AZ\", \"AZ\", \"AZ\", \"AR\", \"AR\", \"AR\", \"AR\", \"AR\", \"AR\", \"AR\", \"AR\", \"AR\", \"AR\", \"AR\", \"AR\", \"AR\", \"AR\", \"AR\", \"AR\", \"AR\", \"AR\", \"AR\", \"AR\", \"AR\", \"AR\", \"AR\", \"AR\", \"AR\", \"AR\", \"AR\", \"AR\", \"AR\", \"AR\", \"AR\", \"AR\", \"AR\", \"AR\", \"AR\", \"AR\", \"AR\", \"AR\", \"AR\", \"AR\", \"AR\", \"AR\", \"AR\", \"AR\", \"AR\", \"AR\", \"AR\", \"AR\", \"AR\", \"AR\", \"AR\", \"AR\", \"AR\", \"AR\", \"AR\", \"AR\", \"AR\", \"AR\", \"AR\", \"AR\", \"AR\", \"AR\", \"AR\", \"AR\", \"AR\", \"AR\", \"AR\", \"AR\", \"AR\", \"AR\", \"AR\", \"AR\", \"AR\", \"AR\", \"AR\", \"CA\", \"CA\", \"CA\", \"CA\", \"CA\", \"CA\", \"CA\", \"CA\", \"CA\", \"CA\", \"CA\", \"CA\", \"CA\", \"CA\", \"CA\", \"CA\", \"CA\", \"CA\", \"CA\", \"CA\", \"CA\", \"CA\", \"CA\", \"CA\", \"CA\", \"CA\", \"CA\", \"CA\", \"CA\", \"CA\", \"CA\", \"CA\", \"CA\", \"CA\", \"CA\", \"CA\", \"CA\", \"CA\", \"CA\", \"CA\", \"CA\", \"CA\", \"CA\", \"CA\", \"CA\", \"CA\", \"CA\", \"CA\", \"CA\", \"CA\", \"CA\", \"CA\", \"CA\", \"CA\", \"CA\", \"CA\", \"CA\", \"CO\", \"CO\", \"CO\", \"CO\", \"CO\", \"CO\", \"CO\", \"CO\", \"CO\", \"CO\", \"CO\", \"CO\", \"CO\", \"CO\", \"CO\", \"CO\", \"CO\", \"CO\", \"CO\", \"CO\", \"CO\", \"CO\", \"CO\", \"CO\", \"CO\", \"CO\", \"CO\", \"CO\", \"CO\", \"CO\", \"CO\", \"CO\", \"CO\", \"CO\", \"CO\", \"CO\", \"CO\", \"CO\", \"CO\", \"CO\", \"CO\", \"CO\", \"CO\", \"CO\", \"CO\", \"CO\", \"CO\", \"CO\", \"CO\", \"CO\", \"CO\", \"CO\", \"CO\", \"CO\", \"CO\", \"CO\", \"CO\", \"CO\", \"CO\", \"CO\", \"CT\", \"CT\", \"CT\", \"CT\", \"CT\", \"CT\", \"CT\", \"CT\", \"DE\", \"DE\", \"DE\", \"FL\", \"FL\", \"FL\", \"FL\", \"FL\", \"FL\", \"FL\", \"FL\", \"FL\", \"FL\", \"FL\", \"FL\", \"FL\", \"FL\", \"FL\", \"FL\", \"FL\", \"FL\", \"FL\", \"FL\", \"FL\", \"FL\", \"FL\", \"FL\", \"FL\", \"FL\", \"FL\", \"FL\", \"FL\", \"FL\", \"FL\", \"FL\", \"FL\", \"FL\", \"FL\", \"FL\", \"FL\", \"FL\", \"FL\", \"FL\", \"FL\", \"FL\", \"FL\", \"FL\", \"FL\", \"FL\", \"FL\", \"FL\", \"FL\", \"FL\", \"FL\", \"FL\", \"FL\", \"FL\", \"FL\", \"FL\", \"FL\", \"FL\", \"FL\", \"FL\", \"FL\", \"FL\", \"FL\", \"FL\", \"FL\", \"FL\", \"FL\", \"GA\", \"GA\", \"GA\", \"GA\", \"GA\", \"GA\", \"GA\", \"GA\", \"GA\", \"GA\", \"GA\", \"GA\", \"GA\", \"GA\", \"GA\", \"GA\", \"GA\", \"GA\", \"GA\", \"GA\", \"GA\", \"GA\", \"GA\", \"GA\", \"GA\", \"GA\", \"GA\", \"GA\", \"GA\", \"GA\", \"GA\", \"GA\", \"GA\", \"GA\", \"GA\", \"GA\", \"GA\", \"GA\", \"GA\", \"GA\", \"GA\", \"GA\", \"GA\", \"GA\", \"GA\", \"GA\", \"GA\", \"GA\", \"GA\", \"GA\", \"GA\", \"GA\", \"GA\", \"GA\", \"GA\", \"GA\", \"GA\", \"GA\", \"GA\", \"GA\", \"GA\", \"GA\", \"GA\", \"GA\", \"GA\", \"GA\", \"GA\", \"GA\", \"GA\", \"GA\", \"GA\", \"GA\", \"GA\", \"GA\", \"GA\", \"GA\", \"GA\", \"GA\", \"GA\", \"GA\", \"GA\", \"GA\", \"GA\", \"GA\", \"GA\", \"GA\", \"GA\", \"GA\", \"GA\", \"GA\", \"GA\", \"GA\", \"GA\", \"GA\", \"GA\", \"GA\", \"GA\", \"GA\", \"GA\", \"GA\", \"GA\", \"GA\", \"GA\", \"GA\", \"GA\", \"GA\", \"GA\", \"GA\", \"GA\", \"GA\", \"GA\", \"GA\", \"GA\", \"GA\", \"GA\", \"GA\", \"GA\", \"GA\", \"GA\", \"GA\", \"GA\", \"GA\", \"GA\", \"GA\", \"GA\", \"GA\", \"GA\", \"GA\", \"GA\", \"GA\", \"GA\", \"GA\", \"GA\", \"GA\", \"GA\", \"GA\", \"GA\", \"GA\", \"GA\", \"GA\", \"GA\", \"GA\", \"GA\", \"GA\", \"GA\", \"GA\", \"GA\", \"GA\", \"GA\", \"GA\", \"HI\", \"HI\", \"HI\", \"HI\", \"ID\", \"ID\", \"ID\", \"ID\", \"ID\", \"ID\", \"ID\", \"ID\", \"ID\", \"ID\", \"ID\", \"ID\", \"ID\", \"ID\", \"ID\", \"ID\", \"ID\", \"ID\", \"ID\", \"ID\", \"ID\", \"ID\", \"ID\", \"ID\", \"ID\", \"ID\", \"ID\", \"ID\", \"ID\", \"ID\", \"ID\", \"ID\", \"ID\", \"ID\", \"ID\", \"ID\", \"ID\", \"ID\", \"ID\", \"ID\", \"ID\", \"ID\", \"ID\", \"IL\", \"IL\", \"IL\", \"IL\", \"IL\", \"IL\", \"IL\", \"IL\", \"IL\", \"IL\", \"IL\", \"IL\", \"IL\", \"IL\", \"IL\", \"IL\", \"IL\", \"IL\", \"IL\", \"IL\", \"IL\", \"IL\", \"IL\", \"IL\", \"IL\", \"IL\", \"IL\", \"IL\", \"IL\", \"IL\", \"IL\", \"IL\", \"IL\", \"IL\", \"IL\", \"IL\", \"IL\", \"IL\", \"IL\", \"IL\", \"IL\", \"IL\", \"IL\", \"IL\", \"IL\", \"IL\", \"IL\", \"IL\", \"IL\", \"IL\", \"IL\", \"IL\", \"IL\", \"IL\", \"IL\", \"IL\", \"IL\", \"IL\", \"IL\", \"IL\", \"IL\", \"IL\", \"IL\", \"IL\", \"IL\", \"IL\", \"IL\", \"IL\", \"IL\", \"IL\", \"IL\", \"IL\", \"IL\", \"IL\", \"IL\", \"IL\", \"IL\", \"IL\", \"IL\", \"IL\", \"IL\", \"IL\", \"IL\", \"IL\", \"IL\", \"IL\", \"IL\", \"IL\", \"IL\", \"IL\", \"IL\", \"IL\", \"IL\", \"IL\", \"IL\", \"IL\", \"IL\", \"IL\", \"IL\", \"IL\", \"IN\", \"IN\", \"IN\", \"IN\", \"IN\", \"IN\", \"IN\", \"IN\", \"IN\", \"IN\", \"IN\", \"IN\", \"IN\", \"IN\", \"IN\", \"IN\", \"IN\", \"IN\", \"IN\", \"IN\", \"IN\", \"IN\", \"IN\", \"IN\", \"IN\", \"IN\", \"IN\", \"IN\", \"IN\", \"IN\", \"IN\", \"IN\", \"IN\", \"IN\", \"IN\", \"IN\", \"IN\", \"IN\", \"IN\", \"IN\", \"IN\", \"IN\", \"IN\", \"IN\", \"IN\", \"IN\", \"IN\", \"IN\", \"IN\", \"IN\", \"IN\", \"IN\", \"IN\", \"IN\", \"IN\", \"IN\", \"IN\", \"IN\", \"IN\", \"IN\", \"IN\", \"IN\", \"IN\", \"IN\", \"IN\", \"IN\", \"IN\", \"IN\", \"IN\", \"IN\", \"IN\", \"IN\", \"IN\", \"IN\", \"IN\", \"IN\", \"IN\", \"IN\", \"IN\", \"IN\", \"IN\", \"IN\", \"IN\", \"IN\", \"IN\", \"IN\", \"IN\", \"IN\", \"IN\", \"IN\", \"IA\", \"IA\", \"IA\", \"IA\", \"IA\", \"IA\", \"IA\", \"IA\", \"IA\", \"IA\", \"IA\", \"IA\", \"IA\", \"IA\", \"IA\", \"IA\", \"IA\", \"IA\", \"IA\", \"IA\", \"IA\", \"IA\", \"IA\", \"IA\", \"IA\", \"IA\", \"IA\", \"IA\", \"IA\", \"IA\", \"IA\", \"IA\", \"IA\", \"IA\", \"IA\", \"IA\", \"IA\", \"IA\", \"IA\", \"IA\", \"IA\", \"IA\", \"IA\", \"IA\", \"IA\", \"IA\", \"IA\", \"IA\", \"IA\", \"IA\", \"IA\", \"IA\", \"IA\", \"IA\", \"IA\", \"IA\", \"IA\", \"IA\", \"IA\", \"IA\", \"IA\", \"IA\", \"IA\", \"IA\", \"IA\", \"IA\", \"IA\", \"IA\", \"IA\", \"IA\", \"IA\", \"IA\", \"IA\", \"IA\", \"IA\", \"IA\", \"IA\", \"IA\", \"IA\", \"IA\", \"IA\", \"IA\", \"IA\", \"IA\", \"IA\", \"IA\", \"IA\", \"IA\", \"IA\", \"IA\", \"IA\", \"IA\", \"IA\", \"IA\", \"IA\", \"IA\", \"IA\", \"IA\", \"IA\", \"KS\", \"KS\", \"KS\", \"KS\", \"KS\", \"KS\", \"KS\", \"KS\", \"KS\", \"KS\", \"KS\", \"KS\", \"KS\", \"KS\", \"KS\", \"KS\", \"KS\", \"KS\", \"KS\", \"KS\", \"KS\", \"KS\", \"KS\", \"KS\", \"KS\", \"KS\", \"KS\", \"KS\", \"KS\", \"KS\", \"KS\", \"KS\", \"KS\", \"KS\", \"KS\", \"KS\", \"KS\", \"KS\", \"KS\", \"KS\", \"KS\", \"KS\", \"KS\", \"KS\", \"KS\", \"KS\", \"KS\", \"KS\", \"KS\", \"KS\", \"KS\", \"KS\", \"KS\", \"KS\", \"KS\", \"KS\", \"KS\", \"KS\", \"KS\", \"KS\", \"KS\", \"KS\", \"KS\", \"KS\", \"KS\", \"KS\", \"KS\", \"KS\", \"KS\", \"KS\", \"KS\", \"KS\", \"KS\", \"KS\", \"KS\", \"KS\", \"KS\", \"KS\", \"KS\", \"KS\", \"KS\", \"KS\", \"KS\", \"KS\", \"KS\", \"KS\", \"KS\", \"KS\", \"KS\", \"KS\", \"KS\", \"KS\", \"KS\", \"KS\", \"KS\", \"KS\", \"KS\", \"KY\", \"KY\", \"KY\", \"KY\", \"KY\", \"KY\", \"KY\", \"KY\", \"KY\", \"KY\", \"KY\", \"KY\", \"KY\", \"KY\", \"KY\", \"KY\", \"KY\", \"KY\", \"KY\", \"KY\", \"KY\", \"KY\", \"KY\", \"KY\", \"KY\", \"KY\", \"KY\", \"KY\", \"KY\", \"KY\", \"KY\", \"KY\", \"KY\", \"KY\", \"KY\", \"KY\", \"KY\", \"KY\", \"KY\", \"KY\", \"KY\", \"KY\", \"KY\", \"KY\", \"KY\", \"KY\", \"KY\", \"KY\", \"KY\", \"KY\", \"KY\", \"KY\", \"KY\", \"KY\", \"KY\", \"KY\", \"KY\", \"KY\", \"KY\", \"KY\", \"KY\", \"KY\", \"KY\", \"KY\", \"KY\", \"KY\", \"KY\", \"KY\", \"KY\", \"KY\", \"KY\", \"KY\", \"KY\", \"KY\", \"KY\", \"KY\", \"KY\", \"KY\", \"KY\", \"KY\", \"KY\", \"KY\", \"KY\", \"KY\", \"KY\", \"KY\", \"KY\", \"KY\", \"KY\", \"KY\", \"KY\", \"KY\", \"KY\", \"KY\", \"KY\", \"KY\", \"KY\", \"KY\", \"KY\", \"KY\", \"KY\", \"KY\", \"KY\", \"KY\", \"KY\", \"KY\", \"KY\", \"KY\", \"KY\", \"KY\", \"KY\", \"KY\", \"KY\", \"KY\", \"KY\", \"LA\", \"LA\", \"LA\", \"LA\", \"LA\", \"LA\", \"LA\", \"LA\", \"LA\", \"LA\", \"LA\", \"LA\", \"LA\", \"LA\", \"LA\", \"LA\", \"LA\", \"LA\", \"LA\", \"LA\", \"LA\", \"LA\", \"LA\", \"LA\", \"LA\", \"LA\", \"LA\", \"LA\", \"LA\", \"LA\", \"LA\", \"LA\", \"LA\", \"LA\", \"LA\", \"LA\", \"LA\", \"LA\", \"LA\", \"LA\", \"LA\", \"LA\", \"LA\", \"LA\", \"LA\", \"LA\", \"LA\", \"LA\", \"LA\", \"LA\", \"LA\", \"LA\", \"LA\", \"LA\", \"LA\", \"LA\", \"LA\", \"LA\", \"LA\", \"LA\", \"LA\", \"LA\", \"LA\", \"LA\", \"ME\", \"ME\", \"ME\", \"ME\", \"ME\", \"ME\", \"ME\", \"ME\", \"ME\", \"ME\", \"ME\", \"ME\", \"ME\", \"ME\", \"ME\", \"ME\", \"MD\", \"MD\", \"MD\", \"MD\", \"MD\", \"MD\", \"MD\", \"MD\", \"MD\", \"MD\", \"MD\", \"MD\", \"MD\", \"MD\", \"MD\", \"MD\", \"MD\", \"MD\", \"MD\", \"MD\", \"MD\", \"MD\", \"MD\", \"MA\", \"MA\", \"MA\", \"MA\", \"MA\", \"MA\", \"MA\", \"MA\", \"MA\", \"MA\", \"MA\", \"MA\", \"MA\", \"MA\", \"MI\", \"MI\", \"MI\", \"MI\", \"MI\", \"MI\", \"MI\", \"MI\", \"MI\", \"MI\", \"MI\", \"MI\", \"MI\", \"MI\", \"MI\", \"MI\", \"MI\", \"MI\", \"MI\", \"MI\", \"MI\", \"MI\", \"MI\", \"MI\", \"MI\", \"MI\", \"MI\", \"MI\", \"MI\", \"MI\", \"MI\", \"MI\", \"MI\", \"MI\", \"MI\", \"MI\", \"MI\", \"MI\", \"MI\", \"MI\", \"MI\", \"MI\", \"MI\", \"MI\", \"MI\", \"MI\", \"MI\", \"MI\", \"MI\", \"MI\", \"MI\", \"MI\", \"MI\", \"MI\", \"MI\", \"MI\", \"MI\", \"MI\", \"MI\", \"MI\", \"MI\", \"MI\", \"MI\", \"MI\", \"MI\", \"MI\", \"MI\", \"MI\", \"MI\", \"MI\", \"MI\", \"MI\", \"MI\", \"MI\", \"MI\", \"MI\", \"MI\", \"MI\", \"MI\", \"MI\", \"MI\", \"MI\", \"MN\", \"MN\", \"MN\", \"MN\", \"MN\", \"MN\", \"MN\", \"MN\", \"MN\", \"MN\", \"MN\", \"MN\", \"MN\", \"MN\", \"MN\", \"MN\", \"MN\", \"MN\", \"MN\", \"MN\", \"MN\", \"MN\", \"MN\", \"MN\", \"MN\", \"MN\", \"MN\", \"MN\", \"MN\", \"MN\", \"MN\", \"MN\", \"MN\", \"MN\", \"MN\", \"MN\", \"MN\", \"MN\", \"MN\", \"MN\", \"MN\", \"MN\", \"MN\", \"MN\", \"MN\", \"MN\", \"MN\", \"MN\", \"MN\", \"MN\", \"MN\", \"MN\", \"MN\", \"MN\", \"MN\", \"MN\", \"MN\", \"MN\", \"MN\", \"MN\", \"MN\", \"MN\", \"MN\", \"MN\", \"MN\", \"MN\", \"MN\", \"MN\", \"MN\", \"MN\", \"MN\", \"MN\", \"MN\", \"MN\", \"MN\", \"MN\", \"MN\", \"MN\", \"MN\", \"MN\", \"MN\", \"MN\", \"MN\", \"MN\", \"MN\", \"MN\", \"MN\", \"MS\", \"MS\", \"MS\", \"MS\", \"MS\", \"MS\", \"MS\", \"MS\", \"MS\", \"MS\", \"MS\", \"MS\", \"MS\", \"MS\", \"MS\", \"MS\", \"MS\", \"MS\", \"MS\", \"MS\", \"MS\", \"MS\", \"MS\", \"MS\", \"MS\", \"MS\", \"MS\", \"MS\", \"MS\", \"MS\", \"MS\", \"MS\", \"MS\", \"MS\", \"MS\", \"MS\", \"MS\", \"MS\", \"MS\", \"MS\", \"MS\", \"MS\", \"MS\", \"MS\", \"MS\", \"MS\", \"MS\", \"MS\", \"MS\", \"MS\", \"MS\", \"MS\", \"MS\", \"MS\", \"MS\", \"MS\", \"MS\", \"MS\", \"MS\", \"MS\", \"MS\", \"MS\", \"MS\", \"MS\", \"MS\", \"MS\", \"MS\", \"MS\", \"MS\", \"MS\", \"MS\", \"MS\", \"MS\", \"MS\", \"MS\", \"MS\", \"MS\", \"MS\", \"MS\", \"MS\", \"MS\", \"MO\", \"MO\", \"MO\", \"MO\", \"MO\", \"MO\", \"MO\", \"MO\", \"MO\", \"MO\", \"MO\", \"MO\", \"MO\", \"MO\", \"MO\", \"MO\", \"MO\", \"MO\", \"MO\", \"MO\", \"MO\", \"MO\", \"MO\", \"MO\", \"MO\", \"MO\", \"MO\", \"MO\", \"MO\", \"MO\", \"MO\", \"MO\", \"MO\", \"MO\", \"MO\", \"MO\", \"MO\", \"MO\", \"MO\", \"MO\", \"MO\", \"MO\", \"MO\", \"MO\", \"MO\", \"MO\", \"MO\", \"MO\", \"MO\", \"MO\", \"MO\", \"MO\", \"MO\", \"MO\", \"MO\", \"MO\", \"MO\", \"MO\", \"MO\", \"MO\", \"MO\", \"MO\", \"MO\", \"MO\", \"MO\", \"MO\", \"MO\", \"MO\", \"MO\", \"MO\", \"MO\", \"MO\", \"MO\", \"MO\", \"MO\", \"MO\", \"MO\", \"MO\", \"MO\", \"MO\", \"MO\", \"MO\", \"MO\", \"MO\", \"MO\", \"MO\", \"MO\", \"MO\", \"MO\", \"MO\", \"MO\", \"MO\", \"MO\", \"MO\", \"MO\", \"MO\", \"MO\", \"MO\", \"MO\", \"MO\", \"MO\", \"MO\", \"MO\", \"MO\", \"MO\", \"MO\", \"MO\", \"MO\", \"MO\", \"MO\", \"MO\", \"MO\", \"MO\", \"MO\", \"MT\", \"MT\", \"MT\", \"MT\", \"MT\", \"MT\", \"MT\", \"MT\", \"MT\", \"MT\", \"MT\", \"MT\", \"MT\", \"MT\", \"MT\", \"MT\", \"MT\", \"MT\", \"MT\", \"MT\", \"MT\", \"MT\", \"MT\", \"MT\", \"MT\", \"MT\", \"MT\", \"MT\", \"MT\", \"MT\", \"MT\", \"MT\", \"MT\", \"MT\", \"MT\", \"MT\", \"MT\", \"MT\", \"MT\", \"MT\", \"MT\", \"MT\", \"MT\", \"MT\", \"MT\", \"MT\", \"MT\", \"MT\", \"MT\", \"MT\", \"MT\", \"MT\", \"NE\", \"NE\", \"NE\", \"NE\", \"NE\", \"NE\", \"NE\", \"NE\", \"NE\", \"NE\", \"NE\", \"NE\", \"NE\", \"NE\", \"NE\", \"NE\", \"NE\", \"NE\", \"NE\", \"NE\", \"NE\", \"NE\", \"NE\", \"NE\", \"NE\", \"NE\", \"NE\", \"NE\", \"NE\", \"NE\", \"NE\", \"NE\", \"NE\", \"NE\", \"NE\", \"NE\", \"NE\", \"NE\", \"NE\", \"NE\", \"NE\", \"NE\", \"NE\", \"NE\", \"NE\", \"NE\", \"NE\", \"NE\", \"NE\", \"NE\", \"NE\", \"NE\", \"NE\", \"NE\", \"NE\", \"NE\", \"NE\", \"NE\", \"NE\", \"NE\", \"NE\", \"NE\", \"NE\", \"NE\", \"NE\", \"NE\", \"NE\", \"NE\", \"NE\", \"NE\", \"NE\", \"NE\", \"NE\", \"NE\", \"NE\", \"NE\", \"NE\", \"NE\", \"NE\", \"NE\", \"NE\", \"NE\", \"NE\", \"NV\", \"NV\", \"NV\", \"NV\", \"NV\", \"NV\", \"NV\", \"NV\", \"NV\", \"NV\", \"NV\", \"NV\", \"NV\", \"NV\", \"NV\", \"NV\", \"NH\", \"NH\", \"NH\", \"NH\", \"NH\", \"NH\", \"NH\", \"NH\", \"NH\", \"NH\", \"NJ\", \"NJ\", \"NJ\", \"NJ\", \"NJ\", \"NJ\", \"NJ\", \"NJ\", \"NJ\", \"NJ\", \"NJ\", \"NJ\", \"NJ\", \"NJ\", \"NJ\", \"NJ\", \"NJ\", \"NJ\", \"NJ\", \"NJ\", \"NM\", \"NM\", \"NM\", \"NM\", \"NM\", \"NM\", \"NM\", \"NM\", \"NM\", \"NM\", \"NM\", \"NM\", \"NM\", \"NM\", \"NM\", \"NM\", \"NM\", \"NM\", \"NM\", \"NM\", \"NM\", \"NM\", \"NM\", \"NM\", \"NM\", \"NM\", \"NM\", \"NM\", \"NM\", \"NM\", \"NM\", \"NM\", \"NM\", \"NY\", \"NY\", \"NY\", \"NY\", \"NY\", \"NY\", \"NY\", \"NY\", \"NY\", \"NY\", \"NY\", \"NY\", \"NY\", \"NY\", \"NY\", \"NY\", \"NY\", \"NY\", \"NY\", \"NY\", \"NY\", \"NY\", \"NY\", \"NY\", \"NY\", \"NY\", \"NY\", \"NY\", \"NY\", \"NY\", \"NY\", \"NY\", \"NY\", \"NY\", \"NY\", \"NY\", \"NY\", \"NY\", \"NY\", \"NY\", \"NY\", \"NY\", \"NY\", \"NY\", \"NY\", \"NY\", \"NY\", \"NY\", \"NY\", \"NY\", \"NY\", \"NY\", \"NY\", \"NY\", \"NY\", \"NY\", \"NY\", \"NY\", \"NY\", \"NY\", \"NY\", \"NC\", \"NC\", \"NC\", \"NC\", \"NC\", \"NC\", \"NC\", \"NC\", \"NC\", \"NC\", \"NC\", \"NC\", \"NC\", \"NC\", \"NC\", \"NC\", \"NC\", \"NC\", \"NC\", \"NC\", \"NC\", \"NC\", \"NC\", \"NC\", \"NC\", \"NC\", \"NC\", \"NC\", \"NC\", \"NC\", \"NC\", \"NC\", \"NC\", \"NC\", \"NC\", \"NC\", \"NC\", \"NC\", \"NC\", \"NC\", \"NC\", \"NC\", \"NC\", \"NC\", \"NC\", \"NC\", \"NC\", \"NC\", \"NC\", \"NC\", \"NC\", \"NC\", \"NC\", \"NC\", \"NC\", \"NC\", \"NC\", \"NC\", \"NC\", \"NC\", \"NC\", \"NC\", \"NC\", \"NC\", \"NC\", \"NC\", \"NC\", \"NC\", \"NC\", \"NC\", \"NC\", \"NC\", \"NC\", \"NC\", \"NC\", \"NC\", \"NC\", \"NC\", \"NC\", \"NC\", \"NC\", \"NC\", \"NC\", \"NC\", \"NC\", \"NC\", \"NC\", \"NC\", \"NC\", \"NC\", \"NC\", \"NC\", \"NC\", \"NC\", \"NC\", \"NC\", \"NC\", \"ND\", \"ND\", \"ND\", \"ND\", \"ND\", \"ND\", \"ND\", \"ND\", \"ND\", \"ND\", \"ND\", \"ND\", \"ND\", \"ND\", \"ND\", \"ND\", \"ND\", \"ND\", \"ND\", \"ND\", \"ND\", \"ND\", \"ND\", \"ND\", \"ND\", \"ND\", \"ND\", \"ND\", \"ND\", \"ND\", \"ND\", \"ND\", \"ND\", \"ND\", \"ND\", \"ND\", \"ND\", \"ND\", \"ND\", \"ND\", \"ND\", \"ND\", \"ND\", \"ND\", \"ND\", \"ND\", \"OH\", \"OH\", \"OH\", \"OH\", \"OH\", \"OH\", \"OH\", \"OH\", \"OH\", \"OH\", \"OH\", \"OH\", \"OH\", \"OH\", \"OH\", \"OH\", \"OH\", \"OH\", \"OH\", \"OH\", \"OH\", \"OH\", \"OH\", \"OH\", \"OH\", \"OH\", \"OH\", \"OH\", \"OH\", \"OH\", \"OH\", \"OH\", \"OH\", \"OH\", \"OH\", \"OH\", \"OH\", \"OH\", \"OH\", \"OH\", \"OH\", \"OH\", \"OH\", \"OH\", \"OH\", \"OH\", \"OH\", \"OH\", \"OH\", \"OH\", \"OH\", \"OH\", \"OH\", \"OH\", \"OH\", \"OH\", \"OH\", \"OH\", \"OH\", \"OH\", \"OH\", \"OH\", \"OH\", \"OH\", \"OH\", \"OH\", \"OH\", \"OH\", \"OH\", \"OH\", \"OH\", \"OH\", \"OH\", \"OH\", \"OH\", \"OH\", \"OH\", \"OH\", \"OH\", \"OH\", \"OH\", \"OH\", \"OH\", \"OH\", \"OH\", \"OH\", \"OH\", \"OH\", \"OK\", \"OK\", \"OK\", \"OK\", \"OK\", \"OK\", \"OK\", \"OK\", \"OK\", \"OK\", \"OK\", \"OK\", \"OK\", \"OK\", \"OK\", \"OK\", \"OK\", \"OK\", \"OK\", \"OK\", \"OK\", \"OK\", \"OK\", \"OK\", \"OK\", \"OK\", \"OK\", \"OK\", \"OK\", \"OK\", \"OK\", \"OK\", \"OK\", \"OK\", \"OK\", \"OK\", \"OK\", \"OK\", \"OK\", \"OK\", \"OK\", \"OK\", \"OK\", \"OK\", \"OK\", \"OK\", \"OK\", \"OK\", \"OK\", \"OK\", \"OK\", \"OK\", \"OK\", \"OK\", \"OK\", \"OK\", \"OK\", \"OK\", \"OK\", \"OK\", \"OK\", \"OK\", \"OK\", \"OK\", \"OK\", \"OK\", \"OK\", \"OK\", \"OK\", \"OK\", \"OK\", \"OK\", \"OK\", \"OK\", \"OK\", \"OK\", \"OK\", \"OR\", \"OR\", \"OR\", \"OR\", \"OR\", \"OR\", \"OR\", \"OR\", \"OR\", \"OR\", \"OR\", \"OR\", \"OR\", \"OR\", \"OR\", \"OR\", \"OR\", \"OR\", \"OR\", \"OR\", \"OR\", \"OR\", \"OR\", \"OR\", \"OR\", \"OR\", \"OR\", \"OR\", \"OR\", \"OR\", \"OR\", \"OR\", \"OR\", \"OR\", \"PA\", \"PA\", \"PA\", \"PA\", \"PA\", \"PA\", \"PA\", \"PA\", \"PA\", \"PA\", \"PA\", \"PA\", \"PA\", \"PA\", \"PA\", \"PA\", \"PA\", \"PA\", \"PA\", \"PA\", \"PA\", \"PA\", \"PA\", \"PA\", \"PA\", \"PA\", \"PA\", \"PA\", \"PA\", \"PA\", \"PA\", \"PA\", \"PA\", \"PA\", \"PA\", \"PA\", \"PA\", \"PA\", \"PA\", \"PA\", \"PA\", \"PA\", \"PA\", \"PA\", \"PA\", \"PA\", \"PA\", \"PA\", \"PA\", \"PA\", \"PA\", \"PA\", \"PA\", \"PA\", \"PA\", \"PA\", \"PA\", \"PA\", \"PA\", \"PA\", \"PA\", \"PA\", \"PA\", \"PA\", \"PA\", \"PA\", \"PA\", \"RI\", \"RI\", \"RI\", \"RI\", \"RI\", \"SC\", \"SC\", \"SC\", \"SC\", \"SC\", \"SC\", \"SC\", \"SC\", \"SC\", \"SC\", \"SC\", \"SC\", \"SC\", \"SC\", \"SC\", \"SC\", \"SC\", \"SC\", \"SC\", \"SC\", \"SC\", \"SC\", \"SC\", \"SC\", \"SC\", \"SC\", \"SC\", \"SC\", \"SC\", \"SC\", \"SC\", \"SC\", \"SC\", \"SC\", \"SC\", \"SC\", \"SC\", \"SC\", \"SC\", \"SC\", \"SC\", \"SC\", \"SC\", \"SC\", \"SC\", \"SC\", \"SD\", \"SD\", \"SD\", \"SD\", \"SD\", \"SD\", \"SD\", \"SD\", \"SD\", \"SD\", \"SD\", \"SD\", \"SD\", \"SD\", \"SD\", \"SD\", \"SD\", \"SD\", \"SD\", \"SD\", \"SD\", \"SD\", \"SD\", \"SD\", \"SD\", \"SD\", \"SD\", \"SD\", \"SD\", \"SD\", \"SD\", \"SD\", \"SD\", \"SD\", \"SD\", \"SD\", \"SD\", \"SD\", \"SD\", \"SD\", \"SD\", \"SD\", \"SD\", \"SD\", \"SD\", \"SD\", \"SD\", \"SD\", \"SD\", \"SD\", \"SD\", \"SD\", \"SD\", \"SD\", \"SD\", \"SD\", \"SD\", \"SD\", \"SD\", \"SD\", \"SD\", \"SD\", \"SD\", \"TN\", \"TN\", \"TN\", \"TN\", \"TN\", \"TN\", \"TN\", \"TN\", \"TN\", \"TN\", \"TN\", \"TN\", \"TN\", \"TN\", \"TN\", \"TN\", \"TN\", \"TN\", \"TN\", \"TN\", \"TN\", \"TN\", \"TN\", \"TN\", \"TN\", \"TN\", \"TN\", \"TN\", \"TN\", \"TN\", \"TN\", \"TN\", \"TN\", \"TN\", \"TN\", \"TN\", \"TN\", \"TN\", \"TN\", \"TN\", \"TN\", \"TN\", \"TN\", \"TN\", \"TN\", \"TN\", \"TN\", \"TN\", \"TN\", \"TN\", \"TN\", \"TN\", \"TN\", \"TN\", \"TN\", \"TN\", \"TN\", \"TN\", \"TN\", \"TN\", \"TN\", \"TN\", \"TN\", \"TN\", \"TN\", \"TN\", \"TN\", \"TN\", \"TN\", \"TN\", \"TN\", \"TN\", \"TN\", \"TN\", \"TN\", \"TN\", \"TN\", \"TN\", \"TN\", \"TN\", \"TN\", \"TN\", \"TN\", \"TN\", \"TN\", \"TN\", \"TN\", \"TN\", \"TN\", \"TN\", \"TN\", \"TN\", \"TN\", \"TN\", \"TX\", \"TX\", \"TX\", \"TX\", \"TX\", \"TX\", \"TX\", \"TX\", \"TX\", \"TX\", \"TX\", \"TX\", \"TX\", \"TX\", \"TX\", \"TX\", \"TX\", \"TX\", \"TX\", \"TX\", \"TX\", \"TX\", \"TX\", \"TX\", \"TX\", \"TX\", \"TX\", \"TX\", \"TX\", \"TX\", \"TX\", \"TX\", \"TX\", \"TX\", \"TX\", \"TX\", \"TX\", \"TX\", \"TX\", \"TX\", \"TX\", \"TX\", \"TX\", \"TX\", \"TX\", \"TX\", \"TX\", \"TX\", \"TX\", \"TX\", \"TX\", \"TX\", \"TX\", \"TX\", \"TX\", \"TX\", \"TX\", \"TX\", \"TX\", \"TX\", \"TX\", \"TX\", \"TX\", \"TX\", \"TX\", \"TX\", \"TX\", \"TX\", \"TX\", \"TX\", \"TX\", \"TX\", \"TX\", \"TX\", \"TX\", \"TX\", \"TX\", \"TX\", \"TX\", \"TX\", \"TX\", \"TX\", \"TX\", \"TX\", \"TX\", \"TX\", \"TX\", \"TX\", \"TX\", \"TX\", \"TX\", \"TX\", \"TX\", \"TX\", \"TX\", \"TX\", \"TX\", \"TX\", \"TX\", \"TX\", \"TX\", \"TX\", \"TX\", \"TX\", \"TX\", \"TX\", \"TX\", \"TX\", \"TX\", \"TX\", \"TX\", \"TX\", \"TX\", \"TX\", \"TX\", \"TX\", \"TX\", \"TX\", \"TX\", \"TX\", \"TX\", \"TX\", \"TX\", \"TX\", \"TX\", \"TX\", \"TX\", \"TX\", \"TX\", \"TX\", \"TX\", \"TX\", \"TX\", \"TX\", \"TX\", \"TX\", \"TX\", \"TX\", \"TX\", \"TX\", \"TX\", \"TX\", \"TX\", \"TX\", \"TX\", \"TX\", \"TX\", \"TX\", \"TX\", \"TX\", \"TX\", \"TX\", \"TX\", \"TX\", \"TX\", \"TX\", \"TX\", \"TX\", \"TX\", \"TX\", \"TX\", \"TX\", \"TX\", \"TX\", \"TX\", \"TX\", \"TX\", \"TX\", \"TX\", \"TX\", \"TX\", \"TX\", \"TX\", \"TX\", \"TX\", \"TX\", \"TX\", \"TX\", \"TX\", \"TX\", \"TX\", \"TX\", \"TX\", \"TX\", \"TX\", \"TX\", \"TX\", \"TX\", \"TX\", \"TX\", \"TX\", \"TX\", \"TX\", \"TX\", \"TX\", \"TX\", \"TX\", \"TX\", \"TX\", \"TX\", \"TX\", \"TX\", \"TX\", \"TX\", \"TX\", \"TX\", \"TX\", \"TX\", \"TX\", \"TX\", \"TX\", \"TX\", \"TX\", \"TX\", \"TX\", \"TX\", \"TX\", \"TX\", \"TX\", \"TX\", \"TX\", \"TX\", \"TX\", \"TX\", \"TX\", \"TX\", \"TX\", \"TX\", \"TX\", \"TX\", \"TX\", \"TX\", \"TX\", \"TX\", \"TX\", \"TX\", \"TX\", \"TX\", \"TX\", \"TX\", \"UT\", \"UT\", \"UT\", \"UT\", \"UT\", \"UT\", \"UT\", \"UT\", \"UT\", \"UT\", \"UT\", \"UT\", \"UT\", \"UT\", \"UT\", \"UT\", \"UT\", \"UT\", \"UT\", \"UT\", \"UT\", \"UT\", \"UT\", \"UT\", \"UT\", \"UT\", \"UT\", \"UT\", \"VA\", \"VA\", \"VA\", \"VA\", \"VA\", \"VA\", \"VA\", \"VA\", \"VA\", \"VA\", \"VA\", \"VA\", \"VA\", \"VA\", \"VA\", \"VA\", \"VA\", \"VA\", \"VA\", \"VA\", \"VA\", \"VA\", \"VA\", \"VA\", \"VA\", \"VA\", \"VA\", \"VA\", \"VA\", \"VA\", \"VA\", \"VA\", \"VA\", \"VA\", \"VA\", \"VA\", \"VA\", \"VA\", \"VA\", \"VA\", \"VA\", \"VA\", \"VA\", \"VA\", \"VA\", \"VA\", \"VA\", \"VA\", \"VA\", \"VA\", \"VA\", \"VA\", \"VA\", \"VA\", \"VA\", \"VA\", \"VA\", \"VA\", \"VA\", \"VA\", \"VA\", \"VA\", \"VA\", \"VA\", \"VA\", \"VA\", \"VA\", \"VA\", \"VA\", \"VA\", \"VA\", \"VA\", \"VA\", \"VA\", \"VA\", \"VA\", \"VA\", \"VA\", \"VA\", \"VA\", \"VA\", \"VA\", \"VA\", \"VA\", \"VA\", \"VA\", \"VA\", \"VA\", \"VA\", \"VA\", \"VA\", \"VA\", \"VA\", \"WA\", \"WA\", \"WA\", \"WA\", \"WA\", \"WA\", \"WA\", \"WA\", \"WA\", \"WA\", \"WA\", \"WA\", \"WA\", \"WA\", \"WA\", \"WA\", \"WA\", \"WA\", \"WA\", \"WA\", \"WA\", \"WA\", \"WA\", \"WA\", \"WA\", \"WA\", \"WA\", \"WA\", \"WA\", \"WA\", \"WA\", \"WA\", \"WA\", \"WA\", \"WA\", \"WA\", \"WA\", \"WA\", \"WV\", \"WV\", \"WV\", \"WV\", \"WV\", \"WV\", \"WV\", \"WV\", \"WV\", \"WV\", \"WV\", \"WV\", \"WV\", \"WV\", \"WV\", \"WV\", \"WV\", \"WV\", \"WV\", \"WV\", \"WV\", \"WV\", \"WV\", \"WV\", \"WV\", \"WV\", \"WV\", \"WV\", \"WV\", \"WV\", \"WV\", \"WV\", \"WV\", \"WV\", \"WV\", \"WV\", \"WV\", \"WV\", \"WV\", \"WV\", \"WV\", \"WV\", \"WV\", \"WV\", \"WV\", \"WV\", \"WV\", \"WV\", \"WV\", \"WV\", \"WV\", \"WV\", \"WV\", \"WV\", \"WI\", \"WI\", \"WI\", \"WI\", \"WI\", \"WI\", \"WI\", \"WI\", \"WI\", \"WI\", \"WI\", \"WI\", \"WI\", \"WI\", \"WI\", \"WI\", \"WI\", \"WI\", \"WI\", \"WI\", \"WI\", \"WI\", \"WI\", \"WI\", \"WI\", \"WI\", \"WI\", \"WI\", \"WI\", \"WI\", \"WI\", \"WI\", \"WI\", \"WI\", \"WI\", \"WI\", \"WI\", \"WI\", \"WI\", \"WI\", \"WI\", \"WI\", \"WI\", \"WI\", \"WI\", \"WI\", \"WI\", \"WI\", \"WI\", \"WI\", \"WI\", \"WI\", \"WI\", \"WI\", \"WI\", \"WI\", \"WI\", \"WI\", \"WI\", \"WI\", \"WI\", \"WI\", \"WI\", \"WI\", \"WI\", \"WI\", \"WI\", \"WI\", \"WI\", \"WI\", \"WI\", \"WY\", \"WY\", \"WY\", \"WY\", \"WY\", \"WY\", \"WY\", \"WY\", \"WY\", \"WY\", \"WY\", \"WY\", \"WY\", \"WY\", \"WY\", \"WY\", \"WY\", \"WY\", \"WY\", \"WY\", \"WY\", \"WY\", \"WY\"], \"type\": \"choropleth\", \"z\": [34.1, 27.4, 44.4, 40.3, 34.6, 43.0, 36.3, 32.2, 39.7, 33.6, 35.9, 40.8, 38.2, 37.3, 30.0, 33.7, 37.5, 36.4, 34.0, 39.7, 33.4, 36.5, 40.8, 30.4, 35.4, 37.7, 35.1, 33.7, 33.2, 34.1, 46.3, 40.4, 35.8, 32.8, 32.0, 33.2, 33.6, 32.9, 35.5, 29.0, 32.9, 45.1, 44.7, 32.3, 40.3, 35.5, 33.2, 37.1, 35.3, 34.8, 31.6, 43.0, 36.4, 38.4, 30.9, 36.4, 33.0, 30.1, 40.3, 39.0, 36.9, 34.3, 33.2, 40.2, 44.9, 30.2, 27.0, 28.1, 28.6, 28.4, 35.2, 26.0, 23.2, 27.5, 32.5, 34.7, 32.0, 25.4, 29.6, 30.9, 24.2, 31.6, 23.0, 25.3, 30.5, 33.8, 42.1, 32.3, 30.1, 33.9, 39.0, 34.2, 35.8, 43.1, 34.3, 33.7, 31.8, 35.7, 36.4, 39.7, 36.4, 35.1, 38.8, 37.9, 36.2, 39.6, 34.3, 33.2, 37.1, 32.9, 32.3, 38.3, 31.2, 40.3, 34.7, 35.7, 37.2, 33.9, 37.2, 40.7, 36.4, 36.3, 31.8, 35.7, 37.5, 32.7, 37.5, 35.8, 34.0, 31.7, 35.9, 39.8, 37.5, 33.8, 36.0, 34.2, 34.8, 37.5, 45.5, 37.8, 38.4, 36.7, 32.1, 36.3, 31.7, 35.3, 42.5, 32.5, 32.5, 35.0, 36.9, 36.7, 37.3, 32.6, 39.4, 35.6, 30.6, 36.3, 35.8, 37.1, 20.0, 25.5, 25.9, 23.5, 25.4, 25.0, 25.5, 20.6, 26.6, 26.7, 25.5, 26.3, 23.3, 30.3, 26.4, 26.2, 23.9, 21.4, 26.5, 18.9, 24.4, 22.4, 29.5, 23.2, 22.8, 22.3, 23.7, 21.1, 19.7, 21.7, 23.0, 26.0, 27.4, 23.3, 27.9, 19.1, 16.1, 28.3, 24.5, 21.1, 18.2, 19.5, 20.2, 26.5, 22.5, 23.2, 30.1, 20.9, 32.6, 28.7, 27.2, 25.1, 32.6, 20.2, 20.3, 22.7, 24.8, 26.3, 23.0, 21.4, 16.5, 19.4, 26.5, 13.4, 20.5, 23.7, 18.1, 24.5, 21.9, 21.6, 20.5, 20.4, 16.4, 19.8, 17.0, 11.8, 19.6, 22.3, 22.8, 20.0, 19.7, 17.4, 14.8, 20.1, 21.4, 18.3, 19.5, 27.6, 17.5, 16.3, 18.7, 21.0, 23.8, 25.4, 23.5, 25.8, 21.7, 19.7, 26.9, 26.9, 18.6, 20.5, 22.8, 14.9, 26.1, 25.9, 22.6, 23.2, 14.3, 19.7, 16.7, 22.1, 13.1, 20.3, 23.2, 26.0, 24.8, 21.4, 26.8, 23.9, 24.1, 26.5, 27.6, 24.8, 29.6, 32.8, 27.7, 31.0, 25.6, 35.8, 29.9, 35.9, 25.6, 24.4, 39.4, 25.7, 26.3, 29.7, 19.5, 36.3, 36.0, 30.6, 30.6, 28.9, 24.2, 32.2, 36.5, 31.5, 33.1, 30.9, 33.2, 33.9, 35.2, 32.1, 31.0, 28.3, 31.6, 24.5, 34.7, 32.2, 35.3, 29.3, 24.6, 26.4, 32.2, 39.6, 34.1, 25.3, 29.2, 21.3, 21.0, 22.0, 28.6, 26.4, 31.0, 24.9, 29.1, 21.5, 31.1, 25.5, 32.3, 36.1, 21.9, 27.9, 26.1, 20.6, 24.6, 26.9, 33.3, 38.9, 37.1, 26.0, 36.4, 27.5, 38.5, 34.8, 35.3, 32.7, 30.0, 36.8, 27.0, 34.6, 35.2, 35.3, 34.7, 31.3, 30.4, 33.1, 33.5, 29.3, 33.5, 32.0, 28.7, 34.4, 31.5, 30.3, 31.7, 27.8, 32.0, 31.3, 27.3, 34.0, 26.9, 25.3, 29.8, 38.0, 29.6, 22.9, 34.8, 35.2, 30.3, 31.4, 26.8, 27.3, 31.1, 32.3, 30.0, 27.3, 28.5, 34.7, 34.4, 32.3, 31.5, 35.2, 31.1, 36.3, 33.5, 25.9, 31.1, 31.0, 29.4, 29.5, 23.9, 29.7, 28.6, 26.2, 29.3, 33.0, 29.7, 29.5, 31.7, 25.7, 31.2, 27.3, 28.4, 29.9, 30.2, 33.1, 31.0, 29.2, 27.4, 29.3, 30.0, 35.3, 29.9, 34.0, 33.5, 30.6, 33.2, 36.2, 31.2, 34.9, 29.0, 31.4, 31.3, 30.7, 33.4, 30.9, 36.4, 31.9, 32.9, 34.6, 30.3, 33.6, 31.9, 36.2, 26.5, 32.5, 28.8, 32.9, 28.8, 30.1, 28.6, 34.4, 26.7, 28.5, 34.5, 31.7, 30.0, 29.4, 33.7, 34.1, 36.0, 30.4, 33.0, 30.7, 32.4, 30.1, 32.7, 33.3, 33.1, 28.8, 30.9, 31.6, 34.0, 34.0, 31.5, 32.9, 30.0, 34.6, 32.8, 27.2, 32.0, 32.1, 34.4, 35.5, 32.0, 32.2, 31.8, 31.9, 33.5, 31.5, 32.9, 34.5, 36.7, 22.7, 22.3, 20.6, 22.4, 25.4, 27.6, 28.1, 28.7, 30.1, 33.3, 19.2, 22.4, 24.7, 29.4, 27.3, 28.5, 25.7, 33.4, 27.5, 30.5, 30.6, 26.3, 29.8, 30.7, 28.9, 28.5, 30.0, 25.7, 32.7, 33.3, 25.0, 24.3, 26.8, 29.7, 32.3, 24.5, 34.2, 30.9, 31.3, 30.4, 33.3, 32.1, 31.1, 24.1, 27.6, 24.1, 30.3, 37.0, 28.4, 29.6, 33.7, 27.6, 29.1, 29.1, 28.6, 28.0, 25.1, 31.7, 32.7, 31.0, 29.5, 26.3, 25.3, 31.3, 28.3, 30.5, 30.5, 23.0, 30.3, 31.3, 31.8, 33.0, 28.2, 30.2, 30.7, 28.4, 28.7, 30.4, 28.2, 28.6, 30.6, 30.4, 30.5, 33.9, 31.5, 30.2, 30.2, 33.0, 29.5, 29.4, 25.3, 30.1, 33.7, 26.2, 28.4, 27.1, 28.9, 32.6, 29.2, 29.2, 26.8, 27.7, 29.3, 29.7, 31.0, 32.3, 33.5, 29.1, 31.7, 30.7, 28.3, 31.2, 33.2, 31.3, 28.8, 28.6, 31.2, 28.8, 29.1, 29.0, 32.6, 29.5, 27.3, 27.7, 28.8, 31.7, 33.2, 30.1, 28.5, 31.7, 30.4, 30.6, 30.2, 32.9, 30.6, 28.2, 35.4, 32.2, 30.5, 28.6, 29.2, 28.7, 28.7, 28.0, 31.6, 33.9, 30.8, 32.8, 30.1, 29.5, 32.6, 36.0, 27.8, 30.6, 26.9, 33.7, 33.3, 33.1, 30.9, 33.0, 37.6, 32.5, 32.7, 32.8, 31.5, 29.5, 32.8, 33.0, 30.1, 29.8, 26.2, 37.8, 32.1, 37.3, 33.1, 25.9, 34.8, 36.0, 31.8, 36.7, 31.4, 32.6, 36.9, 29.6, 34.0, 35.0, 33.0, 30.2, 32.3, 33.2, 34.2, 33.9, 35.0, 38.2, 33.4, 32.4, 30.8, 35.8, 35.7, 22.1, 32.7, 33.2, 35.3, 31.8, 35.4, 34.0, 33.6, 32.8, 36.4, 31.9, 29.1, 31.5, 31.5, 35.6, 32.7, 32.6, 30.0, 29.5, 33.1, 30.5, 36.1, 33.7, 32.9, 32.0, 26.4, 31.1, 33.3, 33.1, 32.8, 31.6, 32.1, 29.4, 30.6, 29.6, 28.4, 34.7, 32.0, 32.4, 30.8, 33.6, 35.4, 31.2, 34.4, 29.9, 32.4, 32.4, 35.2, 33.0, 33.8, 32.4, 30.7, 35.2, 32.4, 33.2, 37.5, 32.7, 30.5, 33.8, 32.1, 33.4, 34.2, 29.8, 32.7, 33.1, 33.9, 31.3, 33.4, 28.5, 33.2, 37.7, 31.0, 32.6, 32.9, 29.6, 31.7, 35.9, 30.6, 35.4, 34.8, 32.3, 34.6, 31.1, 31.8, 28.2, 30.7, 33.1, 32.2, 27.5, 23.0, 37.6, 29.9, 32.7, 31.9, 31.0, 37.4, 33.8, 31.9, 34.2, 31.9, 33.1, 34.7, 34.7, 30.3, 32.8, 32.4, 37.6, 34.2, 31.6, 34.4, 35.3, 35.7, 32.2, 31.9, 29.2, 36.0, 32.1, 34.9, 33.0, 31.8, 29.4, 29.0, 27.1, 31.3, 30.9, 37.8, 35.7, 35.6, 31.1, 31.5, 33.3, 31.1, 28.6, 25.4, 34.3, 33.7, 34.4, 34.2, 33.3, 33.1, 36.7, 35.4, 33.9, 29.6, 31.9, 28.3, 34.1, 37.0, 33.5, 31.2, 36.2, 29.9, 30.5, 33.6, 36.0, 33.0, 31.9, 32.1, 24.2, 31.6, 35.2, 30.6, 33.8, 32.7, 30.2, 28.9, 35.6, 36.0, 32.7, 37.1, 34.2, 31.0, 33.9, 32.0, 33.4, 29.9, 29.6, 24.8, 28.7, 32.2, 32.8, 34.0, 30.8, 32.8, 31.2, 31.6, 31.1, 34.7, 29.2, 30.9, 32.6, 27.0, 34.1, 32.1, 35.1, 35.1, 31.9, 30.4, 33.5, 31.1, 32.4, 37.1, 33.2, 37.9, 30.3, 28.8, 31.3, 33.8, 32.3, 35.7, 30.9, 32.6, 23.8, 32.8, 32.6, 30.4, 35.1, 32.1, 31.4, 38.6, 32.9, 31.5, 29.9, 34.1, 32.5, 31.3, 34.8, 31.1, 35.0, 30.7, 29.4, 32.9, 33.4, 36.2, 34.3, 33.9, 34.6, 34.2, 31.0, 30.4, 37.9, 32.5, 34.1, 38.5, 32.2, 32.4, 41.6, 36.6, 32.8, 33.2, 35.0, 30.1, 31.6, 33.4, 35.3, 38.9, 36.4, 36.5, 30.6, 38.0, 34.9, 31.8, 30.4, 31.2, 33.7, 35.1, 27.3, 34.5, 37.6, 33.2, 32.0, 30.5, 36.3, 30.1, 36.5, 38.1, 39.8, 34.5, 32.9, 36.5, 30.1, 37.1, 32.6, 31.6, 35.2, 35.0, 37.5, 31.6, 31.5, 37.2, 28.5, 40.2, 39.3, 33.6, 37.8, 42.2, 33.9, 43.2, 38.3, 30.8, 29.7, 35.2, 33.3, 33.7, 34.3, 36.8, 32.2, 33.7, 30.6, 34.1, 39.3, 30.1, 35.9, 35.8, 33.8, 29.9, 32.2, 35.5, 37.8, 32.4, 32.5, 37.2, 28.0, 30.0, 33.6, 32.4, 37.0, 38.9, 36.3, 33.6, 34.6, 36.0, 34.4, 34.6, 29.4, 33.0, 35.4, 35.4, 33.7, 33.4, 34.0, 30.7, 31.6, 32.9, 37.1, 35.6, 36.3, 32.3, 29.5, 33.1, 34.4, 31.3, 34.8, 37.0, 35.8, 38.2, 34.7, 34.3, 32.3, 36.3, 31.5, 35.3, 37.0, 38.3, 38.9, 32.9, 42.1, 42.1, 41.9, 38.0, 33.8, 36.1, 39.7, 34.8, 35.4, 36.3, 31.1, 36.9, 33.2, 37.3, 34.4, 41.8, 39.4, 34.7, 31.9, 35.7, 33.5, 35.3, 35.7, 40.3, 37.1, 39.1, 35.5, 35.9, 40.6, 37.0, 35.8, 39.6, 34.2, 38.0, 27.8, 39.1, 34.8, 39.5, 34.4, 31.2, 36.6, 37.4, 35.8, 40.2, 36.0, 34.5, 37.7, 33.2, 34.1, 22.7, 30.2, 24.3, 30.9, 23.1, 24.6, 31.4, 30.3, 33.3, 25.1, 35.0, 28.3, 28.5, 27.6, 32.3, 29.1, 28.8, 29.7, 35.0, 27.9, 33.7, 36.0, 35.7, 29.1, 30.6, 27.9, 21.7, 28.1, 20.1, 33.4, 28.9, 32.0, 42.2, 29.3, 33.8, 35.9, 29.4, 19.9, 23.7, 28.3, 22.0, 25.5, 21.0, 27.5, 18.9, 22.6, 20.0, 20.5, 27.8, 21.3, 27.0, 31.1, 29.8, 30.2, 32.1, 32.2, 34.0, 32.5, 31.2, 35.4, 34.8, 31.8, 33.9, 35.3, 28.6, 33.2, 34.6, 33.8, 31.6, 30.4, 32.1, 30.1, 35.7, 29.8, 33.0, 34.7, 31.3, 26.8, 33.6, 32.0, 30.7, 31.5, 30.4, 38.0, 33.2, 29.1, 30.9, 33.7, 30.6, 31.6, 28.7, 30.9, 32.0, 30.3, 26.6, 30.8, 29.6, 32.6, 31.1, 33.3, 34.6, 29.2, 29.9, 35.0, 34.4, 30.5, 32.2, 33.8, 34.0, 28.9, 35.8, 34.0, 26.3, 34.8, 35.6, 33.0, 34.2, 33.5, 33.3, 27.6, 32.3, 34.2, 38.9, 33.0, 34.7, 31.3, 31.3, 32.4, 32.6, 33.5, 24.4, 33.5, 30.2, 29.9, 30.0, 32.6, 30.9, 29.3, 28.7, 33.7, 30.1, 30.1, 23.0, 26.5, 29.9, 29.8, 28.4, 31.0, 28.9, 31.7, 29.0, 26.6, 24.9, 30.0, 27.0, 25.1, 29.9, 32.2, 32.0, 22.8, 25.7, 24.9, 28.0, 32.2, 31.5, 29.9, 29.1, 27.8, 28.0, 28.8, 30.3, 30.4, 32.4, 28.3, 28.7, 31.1, 32.6, 29.7, 32.2, 30.4, 35.9, 34.3, 30.8, 29.8, 29.9, 28.8, 28.2, 25.6, 29.4, 27.5, 36.2, 28.4, 33.5, 32.1, 25.8, 32.8, 32.6, 29.5, 31.5, 28.4, 29.3, 27.1, 24.6, 28.8, 33.3, 27.6, 30.5, 33.5, 28.6, 30.4, 32.1, 32.2, 29.2, 33.7, 26.1, 26.9, 28.5, 28.9, 28.0, 29.0, 37.7, 37.9, 42.3, 39.2, 37.0, 37.5, 35.8, 34.2, 33.4, 31.7, 47.6, 34.8, 35.3, 42.9, 37.4, 35.9, 34.4, 35.6, 34.2, 38.5, 38.9, 31.9, 32.3, 34.9, 46.1, 41.6, 34.4, 34.5, 32.0, 37.9, 44.5, 39.4, 38.4, 36.9, 34.3, 32.8, 32.3, 36.8, 40.9, 33.0, 44.0, 39.1, 34.3, 28.6, 34.2, 39.1, 38.0, 38.3, 37.5, 34.8, 40.6, 34.2, 36.0, 33.7, 37.2, 37.2, 31.1, 33.1, 41.5, 31.5, 33.7, 37.5, 37.7, 36.8, 35.8, 42.2, 39.6, 37.4, 33.9, 36.6, 40.7, 33.2, 38.3, 32.7, 38.9, 38.2, 33.9, 39.9, 36.4, 38.6, 38.8, 29.0, 29.3, 29.8, 34.7, 32.4, 35.3, 32.1, 31.2, 33.1, 28.4, 32.6, 35.1, 37.2, 34.3, 28.5, 31.9, 35.4, 31.1, 30.3, 31.0, 30.4, 29.1, 34.3, 29.3, 34.5, 30.7, 35.4, 32.4, 34.3, 33.7, 32.6, 36.1, 34.6, 32.5, 32.0, 30.4, 35.0, 28.7, 32.0, 32.6, 34.1, 29.5, 29.2, 32.5, 33.9, 31.5, 35.1, 31.0, 34.5, 30.4, 30.9, 31.7, 31.1, 29.1, 30.0, 35.5, 31.5, 30.6, 28.8, 28.1, 32.8, 34.3, 33.7, 37.3, 33.4, 30.8, 31.9, 28.3, 30.8, 33.9, 28.3, 33.1, 32.0, 29.7, 32.4, 33.3, 33.4, 34.4, 33.0, 36.5, 27.0, 28.8, 30.8, 29.4, 28.4, 31.9, 32.6, 33.0, 34.8, 32.6, 34.3, 25.0, 28.6, 30.1, 32.8, 29.0, 37.6, 30.3, 31.2, 36.5, 29.7, 33.1, 32.8, 33.2, 35.7, 30.9, 32.6, 30.3, 28.4, 33.6, 36.1, 33.8, 30.2, 31.4, 24.2, 38.8, 35.6, 30.4, 24.0, 25.0, 28.2, 26.2, 30.6, 25.5, 30.9, 25.9, 27.7, 26.0, 23.1, 15.5, 25.9, 34.2, 29.0, 33.4, 27.5, 28.8, 27.7, 24.3, 28.8, 23.8, 21.7, 23.9, 27.7, 22.2, 27.5, 22.6, 24.6, 29.0, 29.4, 27.3, 28.0, 26.2, 23.3, 30.7, 36.9, 35.6, 26.8, 29.8, 25.5, 21.8, 24.3, 26.7, 29.2, 25.3, 26.6, 25.1, 33.0, 27.6, 31.6, 33.9, 34.2, 30.2, 30.1, 31.0, 32.0, 35.4, 28.3, 30.6, 26.2, 31.5, 32.9, 31.5, 29.7, 32.0, 35.8, 27.3, 33.8, 30.1, 31.5, 32.7, 27.8, 35.3, 33.4, 36.7, 35.5, 33.9, 34.1, 32.6, 28.4, 34.4, 28.3, 32.4, 33.9, 32.5, 32.1, 33.2, 35.9, 30.2, 29.4, 36.2, 30.3, 31.1, 27.5, 29.6, 31.4, 31.6, 26.0, 31.7, 32.6, 32.6, 30.2, 29.8, 35.5, 33.5, 33.9, 29.8, 24.5, 33.4, 34.1, 29.3, 29.5, 31.9, 36.7, 30.3, 33.0, 30.6, 28.6, 33.9, 29.4, 30.2, 33.1, 34.3, 30.2, 41.8, 32.3, 31.5, 29.6, 32.9, 33.6, 25.5, 27.8, 21.4, 30.3, 27.2, 25.7, 30.4, 25.9, 29.8, 28.0, 31.5, 31.1, 26.9, 21.8, 28.7, 24.6, 31.3, 25.2, 27.4, 30.5, 25.3, 28.5, 29.5, 26.1, 29.1, 28.8, 27.6, 21.5, 28.0, 30.2, 27.9, 34.5, 28.7, 30.3, 22.3, 24.6, 25.0, 23.2, 21.0, 28.1, 25.7, 33.9, 22.6, 26.2, 24.7, 28.8, 21.5, 20.3, 29.2, 31.2, 22.0, 30.5, 22.9, 23.6, 31.2, 21.8, 27.3, 22.9, 22.9, 33.8, 19.9, 19.9, 24.3, 35.1, 22.6, 25.1, 32.0, 24.5, 26.9, 23.8, 31.7, 22.6, 13.7, 21.0, 26.3, 17.4, 26.1, 27.0, 26.6, 25.4, 29.6, 30.4, 27.3, 28.1, 30.6, 29.6, 29.1, 30.3, 30.3, 25.0, 26.8, 27.9, 25.9, 26.7, 27.3, 30.3, 30.1, 26.8, 27.9, 26.1, 29.6, 28.4, 22.7, 33.7, 31.2, 26.1, 27.7, 26.0, 23.5, 30.4, 31.4, 27.9, 29.4, 28.8, 28.5, 29.2, 26.0, 24.1, 23.8, 27.4, 28.2, 22.4, 28.2, 26.7, 26.1, 26.2, 30.8, 28.9, 30.8, 23.1, 29.3, 29.3, 25.3, 27.2, 27.4, 31.9, 30.2, 20.3, 25.6, 26.6, 35.1, 34.0, 27.1, 34.6, 29.1, 33.0, 35.5, 38.2, 28.0, 23.5, 32.4, 30.0, 32.7, 31.0, 25.8, 36.0, 29.5, 27.1, 30.0, 34.2, 28.7, 30.9, 31.2, 30.1, 32.3, 28.9, 27.4, 31.4, 29.1, 32.0, 29.2, 40.8, 31.4, 31.2, 33.3, 33.9, 27.5, 35.8, 30.7, 39.0, 33.2, 30.0, 27.1, 36.9, 34.7, 29.7, 29.1, 31.4, 35.5, 33.9, 29.9, 37.2, 27.6, 30.9, 27.4, 24.8, 38.0, 23.9, 30.7, 27.4, 31.5, 24.9, 38.5, 29.7, 23.3, 31.5, 35.4, 31.1, 32.6, 32.7, 34.3, 27.3, 32.2, 37.9, 39.6, 35.4, 32.7, 28.7, 36.7, 36.4, 30.0, 33.8, 30.9, 33.3, 24.3, 30.8, 26.5, 38.2, 24.8, 39.2, 32.8, 26.4, 34.4, 26.7, 36.8, 31.0, 27.0, 31.9, 34.7, 31.0, 31.0, 30.3, 29.1, 29.1, 32.1, 33.4, 31.5, 30.9, 30.5, 32.1, 30.1, 33.3, 29.1, 33.4, 32.8, 31.7, 32.8, 32.8, 33.4, 31.8, 33.3, 35.9, 31.7, 32.1, 32.1, 34.0, 33.2, 33.1, 31.6, 33.1, 41.4, 34.4, 31.6, 33.7, 29.6, 30.2, 33.0, 30.1, 32.8, 32.2, 30.8, 33.5, 35.3, 31.1, 35.4, 27.9, 33.5, 28.3, 34.7, 33.5, 33.7, 32.8, 34.7, 37.0, 31.5, 30.3, 34.3, 33.0, 34.3, 32.0, 30.0, 32.3, 32.9, 28.1, 35.4, 32.6, 33.4, 29.7, 36.7, 32.3, 27.0, 31.3, 36.4, 29.2, 31.4, 35.2, 30.3, 29.2, 32.1, 37.5, 31.2, 33.3, 37.4, 36.6, 27.6, 26.7, 38.8, 31.4, 34.3, 29.2, 34.2, 29.6, 31.3, 35.8, 29.1, 34.3, 27.9, 34.1, 36.8, 33.3, 36.7, 36.9, 31.2, 33.5, 30.6, 29.9, 36.3, 34.0, 35.8, 29.0, 29.3, 35.2, 32.8, 33.7, 33.5, 37.0, 35.1, 31.8, 30.7, 30.8, 32.6, 35.0, 34.2, 37.9, 33.6, 29.9, 34.8, 30.3, 35.9, 30.9, 35.8, 38.6, 36.0, 34.3, 38.9, 35.5, 38.4, 32.5, 37.0, 35.0, 32.3, 35.5, 36.2, 32.8, 30.1, 35.6, 34.8, 36.2, 27.4, 36.8, 30.9, 33.4, 35.5, 31.0, 36.7, 33.8, 34.8, 36.4, 32.7, 36.8, 35.0, 38.5, 32.3, 34.1, 36.0, 39.2, 29.7, 32.1, 30.8, 32.6, 39.1, 38.8, 31.4, 33.5, 31.5, 35.3, 37.9, 31.6, 36.1, 34.7, 39.7, 37.4, 32.8, 36.4, 31.0, 31.2, 38.0, 34.5, 37.1, 33.9, 28.9, 32.4, 35.6, 34.2, 30.3, 32.8, 32.7, 36.4, 32.5, 34.0, 32.7, 33.4, 29.6, 33.5, 33.2, 40.6, 33.4, 38.6, 26.9, 21.6, 25.3, 30.7, 33.8, 30.4, 25.7, 29.9, 24.1, 31.0, 27.2, 29.6, 31.7, 26.5, 25.6, 32.5, 27.1, 29.9, 28.0, 27.4, 28.5, 33.6, 28.5, 34.1, 21.3, 34.5, 27.1, 28.8, 31.8, 27.3, 24.3, 25.5, 24.0, 27.8, 31.4, 26.7, 35.9, 29.7, 33.7, 32.2, 33.1, 32.5, 25.7, 28.5, 28.9, 27.9, 35.0, 26.6, 23.0, 33.8, 36.8, 32.4, 37.9, 34.5, 27.6, 32.5, 24.0, 28.5, 31.2, 38.5, 32.1, 32.2, 31.6, 33.4, 29.4, 37.2, 31.5, 34.7, 31.3, 29.3, 34.3, 29.5, 30.1, 28.9, 31.5, 31.9, 31.7, 32.0, 28.8, 24.6, 32.5, 28.6, 35.3, 33.0, 29.8, 29.1, 32.4, 35.1, 32.5, 37.7, 31.1, 30.4, 30.3, 28.2, 34.7, 33.6, 28.3, 33.1, 30.0, 33.4, 33.3, 22.9, 28.8, 23.1, 28.2, 23.9, 35.2, 31.9, 41.1, 33.9, 40.3, 36.8, 22.0, 35.0, 35.3, 24.6, 36.5, 36.1, 34.8, 42.3, 39.0, 37.7, 37.4, 33.9, 32.7, 41.3, 34.1, 30.8, 28.1, 33.5, 42.0, 29.8, 37.0, 31.7, 31.3, 40.8, 44.3, 33.4, 35.2, 39.9, 39.2, 35.5, 28.0, 41.9, 30.2, 32.6, 35.6, 30.5, 34.4, 36.9, 42.5, 29.4, 28.0, 32.0, 36.6, 29.6, 27.4, 32.2, 34.4, 42.0, 31.3, 30.9, 33.6, 30.6, 31.1, 31.2, 40.9, 29.7, 34.3, 30.8, 33.3, 39.9, 29.8, 29.1, 31.7, 29.3, 30.6, 32.2, 30.1, 30.8, 29.9, 32.4, 28.3, 31.0, 30.5, 34.8, 27.8, 29.3, 33.8, 31.3, 25.7, 28.7, 33.5, 28.5, 27.3, 32.2, 27.0, 32.4, 31.4, 27.8, 32.9, 27.3, 32.8, 29.2, 32.0, 29.7, 31.4, 33.4, 33.1, 38.0, 30.7, 32.9, 30.4, 28.4, 30.0, 31.7, 32.1, 32.4, 32.7, 34.0, 34.9, 32.5, 33.3, 32.4, 31.8, 33.8, 32.0, 30.8, 31.3, 34.4, 35.9, 33.0, 29.2, 30.9, 36.3, 31.8, 35.9, 37.2, 31.1, 35.5, 30.9, 32.3, 32.1, 35.0, 29.8, 31.3, 30.8, 30.2, 30.6, 37.8, 31.9, 32.9, 38.4, 34.8, 33.7, 32.1, 33.2, 35.6, 34.7, 34.2, 29.2, 29.7, 37.5, 38.3, 34.0, 34.3, 32.1, 27.5, 33.7, 38.6, 34.2, 34.3, 32.9, 31.3, 33.6, 27.9, 35.5, 29.0, 32.0, 30.3, 33.6, 33.0, 31.4, 33.1, 34.9, 32.6, 30.4, 34.1, 35.6, 33.0, 28.9, 28.3, 30.6, 32.6, 36.8, 31.4, 30.1, 29.7, 35.4, 33.4, 31.0, 32.1, 31.4, 32.2, 32.7, 30.9, 31.2, 25.9, 31.7, 31.6, 28.1, 37.5, 26.9, 27.2, 27.9, 27.0, 26.7, 27.1, 33.1, 28.1, 29.3, 29.0, 27.3, 28.7, 27.8, 32.4, 31.2, 28.4, 27.7, 26.4, 27.2, 25.2, 29.8, 30.0, 26.4, 29.1, 28.4, 33.2, 31.8, 28.4, 31.3, 28.1, 28.6, 30.1, 27.0, 29.4, 26.9, 28.1, 28.1, 24.6, 28.0, 28.5, 26.7, 28.3, 27.5, 29.2, 30.3, 29.3, 27.9, 27.8, 27.6, 31.5, 27.6, 29.9, 29.4, 28.0, 22.1, 30.6, 26.6, 29.9, 27.6, 27.8, 28.2, 31.6, 27.1, 29.8, 28.4, 28.2, 29.8, 28.4, 27.1, 26.7, 26.8, 26.3, 23.9, 26.9, 28.5, 27.5, 30.6, 27.6, 27.5, 26.8, 29.2, 29.5, 28.4, 28.9, 35.3, 29.1, 30.9, 30.6, 29.1, 30.0, 28.1, 28.5, 32.1, 27.2, 33.3, 27.3, 23.8, 26.8, 30.2, 34.4, 28.7, 30.7, 26.5, 30.5, 28.3, 31.1, 26.3, 27.0, 31.1, 27.9, 26.9, 32.2, 29.1, 26.2, 33.2, 27.3, 28.5, 30.2, 27.4, 29.2, 27.2, 27.3, 26.4, 26.7, 28.4, 26.7, 28.0, 26.6, 32.7, 31.0, 28.2, 26.6, 32.0, 28.1, 29.5, 27.6, 33.9, 27.2, 27.6, 27.0, 27.7, 28.4, 28.5, 28.6, 28.8, 31.3, 27.1, 26.2, 31.9, 29.4, 32.2, 27.3, 30.9, 29.7, 26.1, 26.6, 25.9, 24.5, 29.9, 30.0, 26.8, 32.2, 28.4, 28.0, 29.0, 33.6, 28.7, 29.3, 29.5, 29.4, 30.7, 29.0, 29.4, 28.6, 29.4, 31.0, 26.1, 26.6, 27.7, 27.6, 30.7, 28.3, 28.4, 29.8, 25.3, 26.8, 30.8, 27.8, 32.3, 28.1, 33.0, 27.4, 27.5, 26.2, 28.3, 31.2, 29.6, 27.6, 29.6, 27.0, 27.4, 27.0, 27.7, 29.1, 30.8, 29.2, 26.8, 30.9, 27.6, 20.3, 27.4, 31.0, 29.6, 26.9, 30.0, 30.0, 30.2, 34.3, 29.7, 33.6, 28.5, 29.6, 31.3, 31.9, 27.8, 31.1, 28.0, 27.6, 31.1, 31.4, 27.7, 30.9, 30.1, 26.7, 27.1, 26.3, 27.4, 25.7, 33.5, 21.8, 26.6, 25.0, 27.6, 25.8, 32.5, 22.3, 23.3, 28.0, 26.1, 31.3, 22.0, 26.1, 26.4, 25.4, 26.7, 25.4, 29.9, 14.4, 31.7, 27.6, 24.4, 23.0, 23.7, 22.8, 28.4, 34.7, 22.6, 33.0, 29.0, 29.4, 29.3, 16.1, 34.0, 28.7, 33.1, 30.9, 25.6, 35.9, 33.5, 31.5, 29.6, 29.1, 35.2, 33.5, 26.0, 26.8, 27.8, 31.8, 32.1, 32.7, 32.7, 20.3, 25.5, 26.5, 27.6, 28.4, 31.7, 30.3, 34.5, 28.4, 30.3, 27.9, 32.4, 27.4, 27.5, 32.3, 26.3, 29.3, 25.2, 26.3, 29.8, 29.4, 21.6, 32.4, 27.5, 29.1, 27.8, 30.9, 26.2, 24.2, 29.7, 28.2, 36.1, 26.3, 34.0, 28.3, 28.3, 30.9, 32.0, 30.0, 32.1, 33.2, 25.5, 33.0, 27.2, 29.9, 26.6, 24.8, 26.4, 28.9, 31.2, 26.6, 29.6, 31.1, 32.7, 29.6, 35.3, 35.9, 30.3, 29.2, 30.0, 30.7, 30.8, 31.3, 26.1, 32.3, 31.9, 27.9, 34.4, 33.4, 31.5, 26.7, 26.3, 29.9, 30.0, 32.1, 28.7, 28.1, 30.1, 34.3, 36.9, 27.4, 24.5, 22.2, 29.6, 28.9, 27.5, 32.8, 31.2, 30.5, 28.0, 31.6, 28.8, 30.0, 20.7, 26.4, 28.1, 29.4, 29.2, 30.6, 28.1, 31.4, 28.0, 23.1, 22.9, 29.6, 37.6, 34.3, 35.4, 32.5, 39.0, 30.5, 32.7, 32.6, 35.7, 35.6, 39.0, 38.9, 34.2, 33.8, 34.8, 37.0, 33.7, 31.7, 33.2, 32.7, 35.9, 40.7, 42.1, 32.6, 35.2, 36.1, 37.4, 34.5, 40.3, 28.8, 30.9, 32.6, 38.2, 31.4, 36.0, 38.8, 31.4, 35.9, 34.6, 35.6, 34.8, 35.7, 36.2, 36.1, 37.0, 37.8, 32.6, 38.2, 37.7, 34.7, 33.0, 36.9, 35.9, 38.8, 34.0, 27.3, 31.6, 28.7, 28.4, 32.0, 28.7, 31.3, 30.2, 34.1, 34.7, 33.1, 23.7, 31.7, 27.5, 32.2, 32.3, 29.2, 32.0, 30.1, 34.7, 31.9, 31.4, 34.6, 31.8, 29.1, 32.6, 29.4, 35.8, 32.9, 33.5, 28.3, 35.3, 29.9, 32.8, 30.8, 29.5, 35.3, 34.9, 42.5, 32.9, 33.0, 30.4, 32.8, 30.1, 27.1, 30.3, 30.3, 33.4, 34.0, 32.9, 31.8, 36.9, 31.7, 26.2, 32.5, 29.7, 33.8, 29.4, 34.4, 29.6, 32.8, 27.7, 25.1, 30.8, 29.2, 27.5, 28.5, 32.9, 31.9, 32.3, 23.3, 28.9, 34.3, 28.2, 28.3, 25.9, 28.3, 29.9, 27.0, 21.1, 29.7, 25.6, 29.4, 25.5, 25.5, 28.0, 23.3, 23.5, 31.7, 12.7, 27.9, 27.7, 29.2]}],\n",
       "                        {\"geo\": {\"scope\": \"usa\"}, \"template\": {\"data\": {\"bar\": [{\"error_x\": {\"color\": \"#2a3f5f\"}, \"error_y\": {\"color\": \"#2a3f5f\"}, \"marker\": {\"line\": {\"color\": \"#E5ECF6\", \"width\": 0.5}}, \"type\": \"bar\"}], \"barpolar\": [{\"marker\": {\"line\": {\"color\": \"#E5ECF6\", \"width\": 0.5}}, \"type\": \"barpolar\"}], \"carpet\": [{\"aaxis\": {\"endlinecolor\": \"#2a3f5f\", \"gridcolor\": \"white\", \"linecolor\": \"white\", \"minorgridcolor\": \"white\", \"startlinecolor\": \"#2a3f5f\"}, \"baxis\": {\"endlinecolor\": \"#2a3f5f\", \"gridcolor\": \"white\", \"linecolor\": \"white\", \"minorgridcolor\": \"white\", \"startlinecolor\": \"#2a3f5f\"}, \"type\": \"carpet\"}], \"choropleth\": [{\"colorbar\": {\"outlinewidth\": 0, \"ticks\": \"\"}, \"type\": \"choropleth\"}], \"contour\": [{\"colorbar\": {\"outlinewidth\": 0, \"ticks\": \"\"}, \"colorscale\": [[0.0, \"#0d0887\"], [0.1111111111111111, \"#46039f\"], [0.2222222222222222, \"#7201a8\"], [0.3333333333333333, \"#9c179e\"], [0.4444444444444444, \"#bd3786\"], [0.5555555555555556, \"#d8576b\"], [0.6666666666666666, \"#ed7953\"], [0.7777777777777778, \"#fb9f3a\"], [0.8888888888888888, \"#fdca26\"], [1.0, \"#f0f921\"]], \"type\": \"contour\"}], \"contourcarpet\": [{\"colorbar\": {\"outlinewidth\": 0, \"ticks\": \"\"}, \"type\": \"contourcarpet\"}], \"heatmap\": [{\"colorbar\": {\"outlinewidth\": 0, \"ticks\": \"\"}, \"colorscale\": [[0.0, \"#0d0887\"], [0.1111111111111111, \"#46039f\"], [0.2222222222222222, \"#7201a8\"], [0.3333333333333333, \"#9c179e\"], [0.4444444444444444, \"#bd3786\"], [0.5555555555555556, \"#d8576b\"], [0.6666666666666666, \"#ed7953\"], [0.7777777777777778, \"#fb9f3a\"], [0.8888888888888888, \"#fdca26\"], [1.0, \"#f0f921\"]], \"type\": \"heatmap\"}], \"heatmapgl\": [{\"colorbar\": {\"outlinewidth\": 0, \"ticks\": \"\"}, \"colorscale\": [[0.0, \"#0d0887\"], [0.1111111111111111, \"#46039f\"], [0.2222222222222222, \"#7201a8\"], [0.3333333333333333, \"#9c179e\"], [0.4444444444444444, \"#bd3786\"], [0.5555555555555556, \"#d8576b\"], [0.6666666666666666, \"#ed7953\"], [0.7777777777777778, \"#fb9f3a\"], [0.8888888888888888, \"#fdca26\"], [1.0, \"#f0f921\"]], \"type\": \"heatmapgl\"}], \"histogram\": [{\"marker\": {\"colorbar\": {\"outlinewidth\": 0, \"ticks\": \"\"}}, \"type\": \"histogram\"}], \"histogram2d\": [{\"colorbar\": {\"outlinewidth\": 0, \"ticks\": \"\"}, \"colorscale\": [[0.0, \"#0d0887\"], [0.1111111111111111, \"#46039f\"], [0.2222222222222222, \"#7201a8\"], [0.3333333333333333, \"#9c179e\"], [0.4444444444444444, \"#bd3786\"], [0.5555555555555556, \"#d8576b\"], [0.6666666666666666, \"#ed7953\"], [0.7777777777777778, \"#fb9f3a\"], [0.8888888888888888, \"#fdca26\"], [1.0, \"#f0f921\"]], \"type\": \"histogram2d\"}], \"histogram2dcontour\": [{\"colorbar\": {\"outlinewidth\": 0, \"ticks\": \"\"}, \"colorscale\": [[0.0, \"#0d0887\"], [0.1111111111111111, \"#46039f\"], [0.2222222222222222, \"#7201a8\"], [0.3333333333333333, \"#9c179e\"], [0.4444444444444444, \"#bd3786\"], [0.5555555555555556, \"#d8576b\"], [0.6666666666666666, \"#ed7953\"], [0.7777777777777778, \"#fb9f3a\"], [0.8888888888888888, \"#fdca26\"], [1.0, \"#f0f921\"]], \"type\": \"histogram2dcontour\"}], \"mesh3d\": [{\"colorbar\": {\"outlinewidth\": 0, \"ticks\": \"\"}, \"type\": \"mesh3d\"}], \"parcoords\": [{\"line\": {\"colorbar\": {\"outlinewidth\": 0, \"ticks\": \"\"}}, \"type\": \"parcoords\"}], \"scatter\": [{\"marker\": {\"colorbar\": {\"outlinewidth\": 0, \"ticks\": \"\"}}, \"type\": \"scatter\"}], \"scatter3d\": [{\"line\": {\"colorbar\": {\"outlinewidth\": 0, \"ticks\": \"\"}}, \"marker\": {\"colorbar\": {\"outlinewidth\": 0, \"ticks\": \"\"}}, \"type\": \"scatter3d\"}], \"scattercarpet\": [{\"marker\": {\"colorbar\": {\"outlinewidth\": 0, \"ticks\": \"\"}}, \"type\": \"scattercarpet\"}], \"scattergeo\": [{\"marker\": {\"colorbar\": {\"outlinewidth\": 0, \"ticks\": \"\"}}, \"type\": \"scattergeo\"}], \"scattergl\": [{\"marker\": {\"colorbar\": {\"outlinewidth\": 0, \"ticks\": \"\"}}, \"type\": \"scattergl\"}], \"scattermapbox\": [{\"marker\": {\"colorbar\": {\"outlinewidth\": 0, \"ticks\": \"\"}}, \"type\": \"scattermapbox\"}], \"scatterpolar\": [{\"marker\": {\"colorbar\": {\"outlinewidth\": 0, \"ticks\": \"\"}}, \"type\": \"scatterpolar\"}], \"scatterpolargl\": [{\"marker\": {\"colorbar\": {\"outlinewidth\": 0, \"ticks\": \"\"}}, \"type\": \"scatterpolargl\"}], \"scatterternary\": [{\"marker\": {\"colorbar\": {\"outlinewidth\": 0, \"ticks\": \"\"}}, \"type\": \"scatterternary\"}], \"surface\": [{\"colorbar\": {\"outlinewidth\": 0, \"ticks\": \"\"}, \"colorscale\": [[0.0, \"#0d0887\"], [0.1111111111111111, \"#46039f\"], [0.2222222222222222, \"#7201a8\"], [0.3333333333333333, \"#9c179e\"], [0.4444444444444444, \"#bd3786\"], [0.5555555555555556, \"#d8576b\"], [0.6666666666666666, \"#ed7953\"], [0.7777777777777778, \"#fb9f3a\"], [0.8888888888888888, \"#fdca26\"], [1.0, \"#f0f921\"]], \"type\": \"surface\"}], \"table\": [{\"cells\": {\"fill\": {\"color\": \"#EBF0F8\"}, \"line\": {\"color\": \"white\"}}, \"header\": {\"fill\": {\"color\": \"#C8D4E3\"}, \"line\": {\"color\": \"white\"}}, \"type\": \"table\"}]}, \"layout\": {\"annotationdefaults\": {\"arrowcolor\": \"#2a3f5f\", \"arrowhead\": 0, \"arrowwidth\": 1}, \"colorscale\": {\"diverging\": [[0, \"#8e0152\"], [0.1, \"#c51b7d\"], [0.2, \"#de77ae\"], [0.3, \"#f1b6da\"], [0.4, \"#fde0ef\"], [0.5, \"#f7f7f7\"], [0.6, \"#e6f5d0\"], [0.7, \"#b8e186\"], [0.8, \"#7fbc41\"], [0.9, \"#4d9221\"], [1, \"#276419\"]], \"sequential\": [[0.0, \"#0d0887\"], [0.1111111111111111, \"#46039f\"], [0.2222222222222222, \"#7201a8\"], [0.3333333333333333, \"#9c179e\"], [0.4444444444444444, \"#bd3786\"], [0.5555555555555556, \"#d8576b\"], [0.6666666666666666, \"#ed7953\"], [0.7777777777777778, \"#fb9f3a\"], [0.8888888888888888, \"#fdca26\"], [1.0, \"#f0f921\"]], \"sequentialminus\": [[0.0, \"#0d0887\"], [0.1111111111111111, \"#46039f\"], [0.2222222222222222, \"#7201a8\"], [0.3333333333333333, \"#9c179e\"], [0.4444444444444444, \"#bd3786\"], [0.5555555555555556, \"#d8576b\"], [0.6666666666666666, \"#ed7953\"], [0.7777777777777778, \"#fb9f3a\"], [0.8888888888888888, \"#fdca26\"], [1.0, \"#f0f921\"]]}, \"colorway\": [\"#636efa\", \"#EF553B\", \"#00cc96\", \"#ab63fa\", \"#FFA15A\", \"#19d3f3\", \"#FF6692\", \"#B6E880\", \"#FF97FF\", \"#FECB52\"], \"font\": {\"color\": \"#2a3f5f\"}, \"geo\": {\"bgcolor\": \"white\", \"lakecolor\": \"white\", \"landcolor\": \"#E5ECF6\", \"showlakes\": true, \"showland\": true, \"subunitcolor\": \"white\"}, \"hoverlabel\": {\"align\": \"left\"}, \"hovermode\": \"closest\", \"mapbox\": {\"style\": \"light\"}, \"paper_bgcolor\": \"white\", \"plot_bgcolor\": \"#E5ECF6\", \"polar\": {\"angularaxis\": {\"gridcolor\": \"white\", \"linecolor\": \"white\", \"ticks\": \"\"}, \"bgcolor\": \"#E5ECF6\", \"radialaxis\": {\"gridcolor\": \"white\", \"linecolor\": \"white\", \"ticks\": \"\"}}, \"scene\": {\"xaxis\": {\"backgroundcolor\": \"#E5ECF6\", \"gridcolor\": \"white\", \"gridwidth\": 2, \"linecolor\": \"white\", \"showbackground\": true, \"ticks\": \"\", \"zerolinecolor\": \"white\"}, \"yaxis\": {\"backgroundcolor\": \"#E5ECF6\", \"gridcolor\": \"white\", \"gridwidth\": 2, \"linecolor\": \"white\", \"showbackground\": true, \"ticks\": \"\", \"zerolinecolor\": \"white\"}, \"zaxis\": {\"backgroundcolor\": \"#E5ECF6\", \"gridcolor\": \"white\", \"gridwidth\": 2, \"linecolor\": \"white\", \"showbackground\": true, \"ticks\": \"\", \"zerolinecolor\": \"white\"}}, \"shapedefaults\": {\"line\": {\"color\": \"#2a3f5f\"}}, \"ternary\": {\"aaxis\": {\"gridcolor\": \"white\", \"linecolor\": \"white\", \"ticks\": \"\"}, \"baxis\": {\"gridcolor\": \"white\", \"linecolor\": \"white\", \"ticks\": \"\"}, \"bgcolor\": \"#E5ECF6\", \"caxis\": {\"gridcolor\": \"white\", \"linecolor\": \"white\", \"ticks\": \"\"}}, \"title\": {\"x\": 0.05}, \"xaxis\": {\"automargin\": true, \"gridcolor\": \"white\", \"linecolor\": \"white\", \"ticks\": \"\", \"zerolinecolor\": \"white\", \"zerolinewidth\": 2}, \"yaxis\": {\"automargin\": true, \"gridcolor\": \"white\", \"linecolor\": \"white\", \"ticks\": \"\", \"zerolinecolor\": \"white\", \"zerolinewidth\": 2}}}, \"title\": {\"text\": \"Average Obesity Rate by State\"}},\n",
       "                        {\"responsive\": true}\n",
       "                    ).then(function(){\n",
       "                            \n",
       "var gd = document.getElementById('f12d28ea-0e8a-4966-9c95-ead9f097f26a');\n",
       "var x = new MutationObserver(function (mutations, observer) {{\n",
       "        var display = window.getComputedStyle(gd).display;\n",
       "        if (!display || display === 'none') {{\n",
       "            console.log([gd, 'removed!']);\n",
       "            Plotly.purge(gd);\n",
       "            observer.disconnect();\n",
       "        }}\n",
       "}});\n",
       "\n",
       "// Listen for the removal of the full notebook cells\n",
       "var notebookContainer = gd.closest('#notebook-container');\n",
       "if (notebookContainer) {{\n",
       "    x.observe(notebookContainer, {childList: true});\n",
       "}}\n",
       "\n",
       "// Listen for the clearing of the current output cell\n",
       "var outputEl = gd.closest('.output');\n",
       "if (outputEl) {{\n",
       "    x.observe(outputEl, {childList: true});\n",
       "}}\n",
       "\n",
       "                        })\n",
       "                };\n",
       "                });\n",
       "            </script>\n",
       "        </div>"
      ]
     },
     "metadata": {},
     "output_type": "display_data"
    }
   ],
   "source": [
    "import plotly.graph_objects as go\n",
    "fig = go.Figure(data=go.Choropleth(\n",
    "    locations=df['State'], # Spatial coordinates\n",
    "    z = df['PCT_OBESE_ADULTS13'].astype(float), # Data to be color-coded\n",
    "    locationmode = 'USA-states', # set of locations match entries in `locations`\n",
    "    colorscale = 'Viridis',\n",
    "    colorbar_title = \"Obesity Rate\",\n",
    "))\n",
    "\n",
    "fig.update_layout(\n",
    "    title_text = 'Average Obesity Rate by State',\n",
    "    geo_scope='usa', # limite map scope to USA\n",
    ")\n",
    "\n",
    "fig.show()"
   ]
  },
  {
   "cell_type": "code",
   "execution_count": 18,
   "metadata": {},
   "outputs": [
    {
     "data": {
      "text/plain": [
       "Index(['CONVS09'], dtype='object')"
      ]
     },
     "execution_count": 18,
     "metadata": {},
     "output_type": "execute_result"
    }
   ],
   "source": [
    "group_df_conv.columns"
   ]
  },
  {
   "cell_type": "code",
   "execution_count": 49,
   "metadata": {},
   "outputs": [
    {
     "data": {
      "application/vnd.plotly.v1+json": {
       "config": {
        "plotlyServerURL": "https://plot.ly"
       },
       "data": [
        {
         "colorbar": {
          "title": {
           "text": "Number of Conveninece Stores"
          }
         },
         "colorscale": [
          [
           0,
           "#440154"
          ],
          [
           0.1111111111111111,
           "#482878"
          ],
          [
           0.2222222222222222,
           "#3e4989"
          ],
          [
           0.3333333333333333,
           "#31688e"
          ],
          [
           0.4444444444444444,
           "#26828e"
          ],
          [
           0.5555555555555556,
           "#1f9e89"
          ],
          [
           0.6666666666666666,
           "#35b779"
          ],
          [
           0.7777777777777778,
           "#6ece58"
          ],
          [
           0.8888888888888888,
           "#b5de2b"
          ],
          [
           1,
           "#fde725"
          ]
         ],
         "locationmode": "USA-states",
         "locations": [
          "AK",
          "AL",
          "AR",
          "AZ",
          "CA",
          "CO",
          "CT",
          "DE",
          "FL",
          "GA",
          "HI",
          "IA",
          "ID",
          "IL",
          "IN",
          "KS",
          "KY",
          "LA",
          "MA",
          "MD",
          "ME",
          "MI",
          "MN",
          "MO",
          "MS",
          "MT",
          "NC",
          "ND",
          "NE",
          "NH",
          "NJ",
          "NM",
          "NV",
          "NY",
          "OH",
          "OK",
          "OR",
          "PA",
          "RI",
          "SC",
          "SD",
          "TN",
          "TX",
          "UT",
          "VA",
          "WA",
          "WI",
          "WV",
          "WY"
         ],
         "type": "choropleth",
         "z": [
          61,
          8,
          6,
          28,
          59,
          1,
          126,
          90,
          18,
          16,
          78,
          6,
          5,
          8,
          13,
          2,
          5,
          14,
          233,
          254,
          31,
          21,
          6,
          7,
          8,
          4,
          6,
          1,
          3,
          47,
          31,
          14,
          5,
          33,
          15,
          4,
          7,
          17,
          47,
          10,
          3,
          11,
          5,
          11,
          10,
          10,
          16,
          9,
          2
         ]
        }
       ],
       "layout": {
        "geo": {
         "scope": "usa"
        },
        "template": {
         "data": {
          "bar": [
           {
            "error_x": {
             "color": "#2a3f5f"
            },
            "error_y": {
             "color": "#2a3f5f"
            },
            "marker": {
             "line": {
              "color": "#E5ECF6",
              "width": 0.5
             }
            },
            "type": "bar"
           }
          ],
          "barpolar": [
           {
            "marker": {
             "line": {
              "color": "#E5ECF6",
              "width": 0.5
             }
            },
            "type": "barpolar"
           }
          ],
          "carpet": [
           {
            "aaxis": {
             "endlinecolor": "#2a3f5f",
             "gridcolor": "white",
             "linecolor": "white",
             "minorgridcolor": "white",
             "startlinecolor": "#2a3f5f"
            },
            "baxis": {
             "endlinecolor": "#2a3f5f",
             "gridcolor": "white",
             "linecolor": "white",
             "minorgridcolor": "white",
             "startlinecolor": "#2a3f5f"
            },
            "type": "carpet"
           }
          ],
          "choropleth": [
           {
            "colorbar": {
             "outlinewidth": 0,
             "ticks": ""
            },
            "type": "choropleth"
           }
          ],
          "contour": [
           {
            "colorbar": {
             "outlinewidth": 0,
             "ticks": ""
            },
            "colorscale": [
             [
              0,
              "#0d0887"
             ],
             [
              0.1111111111111111,
              "#46039f"
             ],
             [
              0.2222222222222222,
              "#7201a8"
             ],
             [
              0.3333333333333333,
              "#9c179e"
             ],
             [
              0.4444444444444444,
              "#bd3786"
             ],
             [
              0.5555555555555556,
              "#d8576b"
             ],
             [
              0.6666666666666666,
              "#ed7953"
             ],
             [
              0.7777777777777778,
              "#fb9f3a"
             ],
             [
              0.8888888888888888,
              "#fdca26"
             ],
             [
              1,
              "#f0f921"
             ]
            ],
            "type": "contour"
           }
          ],
          "contourcarpet": [
           {
            "colorbar": {
             "outlinewidth": 0,
             "ticks": ""
            },
            "type": "contourcarpet"
           }
          ],
          "heatmap": [
           {
            "colorbar": {
             "outlinewidth": 0,
             "ticks": ""
            },
            "colorscale": [
             [
              0,
              "#0d0887"
             ],
             [
              0.1111111111111111,
              "#46039f"
             ],
             [
              0.2222222222222222,
              "#7201a8"
             ],
             [
              0.3333333333333333,
              "#9c179e"
             ],
             [
              0.4444444444444444,
              "#bd3786"
             ],
             [
              0.5555555555555556,
              "#d8576b"
             ],
             [
              0.6666666666666666,
              "#ed7953"
             ],
             [
              0.7777777777777778,
              "#fb9f3a"
             ],
             [
              0.8888888888888888,
              "#fdca26"
             ],
             [
              1,
              "#f0f921"
             ]
            ],
            "type": "heatmap"
           }
          ],
          "heatmapgl": [
           {
            "colorbar": {
             "outlinewidth": 0,
             "ticks": ""
            },
            "colorscale": [
             [
              0,
              "#0d0887"
             ],
             [
              0.1111111111111111,
              "#46039f"
             ],
             [
              0.2222222222222222,
              "#7201a8"
             ],
             [
              0.3333333333333333,
              "#9c179e"
             ],
             [
              0.4444444444444444,
              "#bd3786"
             ],
             [
              0.5555555555555556,
              "#d8576b"
             ],
             [
              0.6666666666666666,
              "#ed7953"
             ],
             [
              0.7777777777777778,
              "#fb9f3a"
             ],
             [
              0.8888888888888888,
              "#fdca26"
             ],
             [
              1,
              "#f0f921"
             ]
            ],
            "type": "heatmapgl"
           }
          ],
          "histogram": [
           {
            "marker": {
             "colorbar": {
              "outlinewidth": 0,
              "ticks": ""
             }
            },
            "type": "histogram"
           }
          ],
          "histogram2d": [
           {
            "colorbar": {
             "outlinewidth": 0,
             "ticks": ""
            },
            "colorscale": [
             [
              0,
              "#0d0887"
             ],
             [
              0.1111111111111111,
              "#46039f"
             ],
             [
              0.2222222222222222,
              "#7201a8"
             ],
             [
              0.3333333333333333,
              "#9c179e"
             ],
             [
              0.4444444444444444,
              "#bd3786"
             ],
             [
              0.5555555555555556,
              "#d8576b"
             ],
             [
              0.6666666666666666,
              "#ed7953"
             ],
             [
              0.7777777777777778,
              "#fb9f3a"
             ],
             [
              0.8888888888888888,
              "#fdca26"
             ],
             [
              1,
              "#f0f921"
             ]
            ],
            "type": "histogram2d"
           }
          ],
          "histogram2dcontour": [
           {
            "colorbar": {
             "outlinewidth": 0,
             "ticks": ""
            },
            "colorscale": [
             [
              0,
              "#0d0887"
             ],
             [
              0.1111111111111111,
              "#46039f"
             ],
             [
              0.2222222222222222,
              "#7201a8"
             ],
             [
              0.3333333333333333,
              "#9c179e"
             ],
             [
              0.4444444444444444,
              "#bd3786"
             ],
             [
              0.5555555555555556,
              "#d8576b"
             ],
             [
              0.6666666666666666,
              "#ed7953"
             ],
             [
              0.7777777777777778,
              "#fb9f3a"
             ],
             [
              0.8888888888888888,
              "#fdca26"
             ],
             [
              1,
              "#f0f921"
             ]
            ],
            "type": "histogram2dcontour"
           }
          ],
          "mesh3d": [
           {
            "colorbar": {
             "outlinewidth": 0,
             "ticks": ""
            },
            "type": "mesh3d"
           }
          ],
          "parcoords": [
           {
            "line": {
             "colorbar": {
              "outlinewidth": 0,
              "ticks": ""
             }
            },
            "type": "parcoords"
           }
          ],
          "scatter": [
           {
            "marker": {
             "colorbar": {
              "outlinewidth": 0,
              "ticks": ""
             }
            },
            "type": "scatter"
           }
          ],
          "scatter3d": [
           {
            "line": {
             "colorbar": {
              "outlinewidth": 0,
              "ticks": ""
             }
            },
            "marker": {
             "colorbar": {
              "outlinewidth": 0,
              "ticks": ""
             }
            },
            "type": "scatter3d"
           }
          ],
          "scattercarpet": [
           {
            "marker": {
             "colorbar": {
              "outlinewidth": 0,
              "ticks": ""
             }
            },
            "type": "scattercarpet"
           }
          ],
          "scattergeo": [
           {
            "marker": {
             "colorbar": {
              "outlinewidth": 0,
              "ticks": ""
             }
            },
            "type": "scattergeo"
           }
          ],
          "scattergl": [
           {
            "marker": {
             "colorbar": {
              "outlinewidth": 0,
              "ticks": ""
             }
            },
            "type": "scattergl"
           }
          ],
          "scattermapbox": [
           {
            "marker": {
             "colorbar": {
              "outlinewidth": 0,
              "ticks": ""
             }
            },
            "type": "scattermapbox"
           }
          ],
          "scatterpolar": [
           {
            "marker": {
             "colorbar": {
              "outlinewidth": 0,
              "ticks": ""
             }
            },
            "type": "scatterpolar"
           }
          ],
          "scatterpolargl": [
           {
            "marker": {
             "colorbar": {
              "outlinewidth": 0,
              "ticks": ""
             }
            },
            "type": "scatterpolargl"
           }
          ],
          "scatterternary": [
           {
            "marker": {
             "colorbar": {
              "outlinewidth": 0,
              "ticks": ""
             }
            },
            "type": "scatterternary"
           }
          ],
          "surface": [
           {
            "colorbar": {
             "outlinewidth": 0,
             "ticks": ""
            },
            "colorscale": [
             [
              0,
              "#0d0887"
             ],
             [
              0.1111111111111111,
              "#46039f"
             ],
             [
              0.2222222222222222,
              "#7201a8"
             ],
             [
              0.3333333333333333,
              "#9c179e"
             ],
             [
              0.4444444444444444,
              "#bd3786"
             ],
             [
              0.5555555555555556,
              "#d8576b"
             ],
             [
              0.6666666666666666,
              "#ed7953"
             ],
             [
              0.7777777777777778,
              "#fb9f3a"
             ],
             [
              0.8888888888888888,
              "#fdca26"
             ],
             [
              1,
              "#f0f921"
             ]
            ],
            "type": "surface"
           }
          ],
          "table": [
           {
            "cells": {
             "fill": {
              "color": "#EBF0F8"
             },
             "line": {
              "color": "white"
             }
            },
            "header": {
             "fill": {
              "color": "#C8D4E3"
             },
             "line": {
              "color": "white"
             }
            },
            "type": "table"
           }
          ]
         },
         "layout": {
          "annotationdefaults": {
           "arrowcolor": "#2a3f5f",
           "arrowhead": 0,
           "arrowwidth": 1
          },
          "colorscale": {
           "diverging": [
            [
             0,
             "#8e0152"
            ],
            [
             0.1,
             "#c51b7d"
            ],
            [
             0.2,
             "#de77ae"
            ],
            [
             0.3,
             "#f1b6da"
            ],
            [
             0.4,
             "#fde0ef"
            ],
            [
             0.5,
             "#f7f7f7"
            ],
            [
             0.6,
             "#e6f5d0"
            ],
            [
             0.7,
             "#b8e186"
            ],
            [
             0.8,
             "#7fbc41"
            ],
            [
             0.9,
             "#4d9221"
            ],
            [
             1,
             "#276419"
            ]
           ],
           "sequential": [
            [
             0,
             "#0d0887"
            ],
            [
             0.1111111111111111,
             "#46039f"
            ],
            [
             0.2222222222222222,
             "#7201a8"
            ],
            [
             0.3333333333333333,
             "#9c179e"
            ],
            [
             0.4444444444444444,
             "#bd3786"
            ],
            [
             0.5555555555555556,
             "#d8576b"
            ],
            [
             0.6666666666666666,
             "#ed7953"
            ],
            [
             0.7777777777777778,
             "#fb9f3a"
            ],
            [
             0.8888888888888888,
             "#fdca26"
            ],
            [
             1,
             "#f0f921"
            ]
           ],
           "sequentialminus": [
            [
             0,
             "#0d0887"
            ],
            [
             0.1111111111111111,
             "#46039f"
            ],
            [
             0.2222222222222222,
             "#7201a8"
            ],
            [
             0.3333333333333333,
             "#9c179e"
            ],
            [
             0.4444444444444444,
             "#bd3786"
            ],
            [
             0.5555555555555556,
             "#d8576b"
            ],
            [
             0.6666666666666666,
             "#ed7953"
            ],
            [
             0.7777777777777778,
             "#fb9f3a"
            ],
            [
             0.8888888888888888,
             "#fdca26"
            ],
            [
             1,
             "#f0f921"
            ]
           ]
          },
          "colorway": [
           "#636efa",
           "#EF553B",
           "#00cc96",
           "#ab63fa",
           "#FFA15A",
           "#19d3f3",
           "#FF6692",
           "#B6E880",
           "#FF97FF",
           "#FECB52"
          ],
          "font": {
           "color": "#2a3f5f"
          },
          "geo": {
           "bgcolor": "white",
           "lakecolor": "white",
           "landcolor": "#E5ECF6",
           "showlakes": true,
           "showland": true,
           "subunitcolor": "white"
          },
          "hoverlabel": {
           "align": "left"
          },
          "hovermode": "closest",
          "mapbox": {
           "style": "light"
          },
          "paper_bgcolor": "white",
          "plot_bgcolor": "#E5ECF6",
          "polar": {
           "angularaxis": {
            "gridcolor": "white",
            "linecolor": "white",
            "ticks": ""
           },
           "bgcolor": "#E5ECF6",
           "radialaxis": {
            "gridcolor": "white",
            "linecolor": "white",
            "ticks": ""
           }
          },
          "scene": {
           "xaxis": {
            "backgroundcolor": "#E5ECF6",
            "gridcolor": "white",
            "gridwidth": 2,
            "linecolor": "white",
            "showbackground": true,
            "ticks": "",
            "zerolinecolor": "white"
           },
           "yaxis": {
            "backgroundcolor": "#E5ECF6",
            "gridcolor": "white",
            "gridwidth": 2,
            "linecolor": "white",
            "showbackground": true,
            "ticks": "",
            "zerolinecolor": "white"
           },
           "zaxis": {
            "backgroundcolor": "#E5ECF6",
            "gridcolor": "white",
            "gridwidth": 2,
            "linecolor": "white",
            "showbackground": true,
            "ticks": "",
            "zerolinecolor": "white"
           }
          },
          "shapedefaults": {
           "line": {
            "color": "#2a3f5f"
           }
          },
          "ternary": {
           "aaxis": {
            "gridcolor": "white",
            "linecolor": "white",
            "ticks": ""
           },
           "baxis": {
            "gridcolor": "white",
            "linecolor": "white",
            "ticks": ""
           },
           "bgcolor": "#E5ECF6",
           "caxis": {
            "gridcolor": "white",
            "linecolor": "white",
            "ticks": ""
           }
          },
          "title": {
           "x": 0.05
          },
          "xaxis": {
           "automargin": true,
           "gridcolor": "white",
           "linecolor": "white",
           "ticks": "",
           "zerolinecolor": "white",
           "zerolinewidth": 2
          },
          "yaxis": {
           "automargin": true,
           "gridcolor": "white",
           "linecolor": "white",
           "ticks": "",
           "zerolinecolor": "white",
           "zerolinewidth": 2
          }
         }
        },
        "title": {
         "text": "Number of convenience stores by State"
        }
       }
      },
      "text/html": [
       "<div>\n",
       "        \n",
       "        \n",
       "            <div id=\"d8f54611-46da-470a-a6da-cdfb16c56caf\" class=\"plotly-graph-div\" style=\"height:525px; width:100%;\"></div>\n",
       "            <script type=\"text/javascript\">\n",
       "                require([\"plotly\"], function(Plotly) {\n",
       "                    window.PLOTLYENV=window.PLOTLYENV || {};\n",
       "                    \n",
       "                if (document.getElementById(\"d8f54611-46da-470a-a6da-cdfb16c56caf\")) {\n",
       "                    Plotly.newPlot(\n",
       "                        'd8f54611-46da-470a-a6da-cdfb16c56caf',\n",
       "                        [{\"colorbar\": {\"title\": {\"text\": \"Number of Conveninece Stores\"}}, \"colorscale\": [[0.0, \"#440154\"], [0.1111111111111111, \"#482878\"], [0.2222222222222222, \"#3e4989\"], [0.3333333333333333, \"#31688e\"], [0.4444444444444444, \"#26828e\"], [0.5555555555555556, \"#1f9e89\"], [0.6666666666666666, \"#35b779\"], [0.7777777777777778, \"#6ece58\"], [0.8888888888888888, \"#b5de2b\"], [1.0, \"#fde725\"]], \"locationmode\": \"USA-states\", \"locations\": [\"AK\", \"AL\", \"AR\", \"AZ\", \"CA\", \"CO\", \"CT\", \"DE\", \"FL\", \"GA\", \"HI\", \"IA\", \"ID\", \"IL\", \"IN\", \"KS\", \"KY\", \"LA\", \"MA\", \"MD\", \"ME\", \"MI\", \"MN\", \"MO\", \"MS\", \"MT\", \"NC\", \"ND\", \"NE\", \"NH\", \"NJ\", \"NM\", \"NV\", \"NY\", \"OH\", \"OK\", \"OR\", \"PA\", \"RI\", \"SC\", \"SD\", \"TN\", \"TX\", \"UT\", \"VA\", \"WA\", \"WI\", \"WV\", \"WY\"], \"type\": \"choropleth\", \"z\": [61.0, 8.0, 6.0, 28.0, 59.0, 1.0, 126.0, 90.0, 18.0, 16.0, 78.0, 6.0, 5.0, 8.0, 13.0, 2.0, 5.0, 14.0, 233.0, 254.0, 31.0, 21.0, 6.0, 7.0, 8.0, 4.0, 6.0, 1.0, 3.0, 47.0, 31.0, 14.0, 5.0, 33.0, 15.0, 4.0, 7.0, 17.0, 47.0, 10.0, 3.0, 11.0, 5.0, 11.0, 10.0, 10.0, 16.0, 9.0, 2.0]}],\n",
       "                        {\"geo\": {\"scope\": \"usa\"}, \"template\": {\"data\": {\"bar\": [{\"error_x\": {\"color\": \"#2a3f5f\"}, \"error_y\": {\"color\": \"#2a3f5f\"}, \"marker\": {\"line\": {\"color\": \"#E5ECF6\", \"width\": 0.5}}, \"type\": \"bar\"}], \"barpolar\": [{\"marker\": {\"line\": {\"color\": \"#E5ECF6\", \"width\": 0.5}}, \"type\": \"barpolar\"}], \"carpet\": [{\"aaxis\": {\"endlinecolor\": \"#2a3f5f\", \"gridcolor\": \"white\", \"linecolor\": \"white\", \"minorgridcolor\": \"white\", \"startlinecolor\": \"#2a3f5f\"}, \"baxis\": {\"endlinecolor\": \"#2a3f5f\", \"gridcolor\": \"white\", \"linecolor\": \"white\", \"minorgridcolor\": \"white\", \"startlinecolor\": \"#2a3f5f\"}, \"type\": \"carpet\"}], \"choropleth\": [{\"colorbar\": {\"outlinewidth\": 0, \"ticks\": \"\"}, \"type\": \"choropleth\"}], \"contour\": [{\"colorbar\": {\"outlinewidth\": 0, \"ticks\": \"\"}, \"colorscale\": [[0.0, \"#0d0887\"], [0.1111111111111111, \"#46039f\"], [0.2222222222222222, \"#7201a8\"], [0.3333333333333333, \"#9c179e\"], [0.4444444444444444, \"#bd3786\"], [0.5555555555555556, \"#d8576b\"], [0.6666666666666666, \"#ed7953\"], [0.7777777777777778, \"#fb9f3a\"], [0.8888888888888888, \"#fdca26\"], [1.0, \"#f0f921\"]], \"type\": \"contour\"}], \"contourcarpet\": [{\"colorbar\": {\"outlinewidth\": 0, \"ticks\": \"\"}, \"type\": \"contourcarpet\"}], \"heatmap\": [{\"colorbar\": {\"outlinewidth\": 0, \"ticks\": \"\"}, \"colorscale\": [[0.0, \"#0d0887\"], [0.1111111111111111, \"#46039f\"], [0.2222222222222222, \"#7201a8\"], [0.3333333333333333, \"#9c179e\"], [0.4444444444444444, \"#bd3786\"], [0.5555555555555556, \"#d8576b\"], [0.6666666666666666, \"#ed7953\"], [0.7777777777777778, \"#fb9f3a\"], [0.8888888888888888, \"#fdca26\"], [1.0, \"#f0f921\"]], \"type\": \"heatmap\"}], \"heatmapgl\": [{\"colorbar\": {\"outlinewidth\": 0, \"ticks\": \"\"}, \"colorscale\": [[0.0, \"#0d0887\"], [0.1111111111111111, \"#46039f\"], [0.2222222222222222, \"#7201a8\"], [0.3333333333333333, \"#9c179e\"], [0.4444444444444444, \"#bd3786\"], [0.5555555555555556, \"#d8576b\"], [0.6666666666666666, \"#ed7953\"], [0.7777777777777778, \"#fb9f3a\"], [0.8888888888888888, \"#fdca26\"], [1.0, \"#f0f921\"]], \"type\": \"heatmapgl\"}], \"histogram\": [{\"marker\": {\"colorbar\": {\"outlinewidth\": 0, \"ticks\": \"\"}}, \"type\": \"histogram\"}], \"histogram2d\": [{\"colorbar\": {\"outlinewidth\": 0, \"ticks\": \"\"}, \"colorscale\": [[0.0, \"#0d0887\"], [0.1111111111111111, \"#46039f\"], [0.2222222222222222, \"#7201a8\"], [0.3333333333333333, \"#9c179e\"], [0.4444444444444444, \"#bd3786\"], [0.5555555555555556, \"#d8576b\"], [0.6666666666666666, \"#ed7953\"], [0.7777777777777778, \"#fb9f3a\"], [0.8888888888888888, \"#fdca26\"], [1.0, \"#f0f921\"]], \"type\": \"histogram2d\"}], \"histogram2dcontour\": [{\"colorbar\": {\"outlinewidth\": 0, \"ticks\": \"\"}, \"colorscale\": [[0.0, \"#0d0887\"], [0.1111111111111111, \"#46039f\"], [0.2222222222222222, \"#7201a8\"], [0.3333333333333333, \"#9c179e\"], [0.4444444444444444, \"#bd3786\"], [0.5555555555555556, \"#d8576b\"], [0.6666666666666666, \"#ed7953\"], [0.7777777777777778, \"#fb9f3a\"], [0.8888888888888888, \"#fdca26\"], [1.0, \"#f0f921\"]], \"type\": \"histogram2dcontour\"}], \"mesh3d\": [{\"colorbar\": {\"outlinewidth\": 0, \"ticks\": \"\"}, \"type\": \"mesh3d\"}], \"parcoords\": [{\"line\": {\"colorbar\": {\"outlinewidth\": 0, \"ticks\": \"\"}}, \"type\": \"parcoords\"}], \"scatter\": [{\"marker\": {\"colorbar\": {\"outlinewidth\": 0, \"ticks\": \"\"}}, \"type\": \"scatter\"}], \"scatter3d\": [{\"line\": {\"colorbar\": {\"outlinewidth\": 0, \"ticks\": \"\"}}, \"marker\": {\"colorbar\": {\"outlinewidth\": 0, \"ticks\": \"\"}}, \"type\": \"scatter3d\"}], \"scattercarpet\": [{\"marker\": {\"colorbar\": {\"outlinewidth\": 0, \"ticks\": \"\"}}, \"type\": \"scattercarpet\"}], \"scattergeo\": [{\"marker\": {\"colorbar\": {\"outlinewidth\": 0, \"ticks\": \"\"}}, \"type\": \"scattergeo\"}], \"scattergl\": [{\"marker\": {\"colorbar\": {\"outlinewidth\": 0, \"ticks\": \"\"}}, \"type\": \"scattergl\"}], \"scattermapbox\": [{\"marker\": {\"colorbar\": {\"outlinewidth\": 0, \"ticks\": \"\"}}, \"type\": \"scattermapbox\"}], \"scatterpolar\": [{\"marker\": {\"colorbar\": {\"outlinewidth\": 0, \"ticks\": \"\"}}, \"type\": \"scatterpolar\"}], \"scatterpolargl\": [{\"marker\": {\"colorbar\": {\"outlinewidth\": 0, \"ticks\": \"\"}}, \"type\": \"scatterpolargl\"}], \"scatterternary\": [{\"marker\": {\"colorbar\": {\"outlinewidth\": 0, \"ticks\": \"\"}}, \"type\": \"scatterternary\"}], \"surface\": [{\"colorbar\": {\"outlinewidth\": 0, \"ticks\": \"\"}, \"colorscale\": [[0.0, \"#0d0887\"], [0.1111111111111111, \"#46039f\"], [0.2222222222222222, \"#7201a8\"], [0.3333333333333333, \"#9c179e\"], [0.4444444444444444, \"#bd3786\"], [0.5555555555555556, \"#d8576b\"], [0.6666666666666666, \"#ed7953\"], [0.7777777777777778, \"#fb9f3a\"], [0.8888888888888888, \"#fdca26\"], [1.0, \"#f0f921\"]], \"type\": \"surface\"}], \"table\": [{\"cells\": {\"fill\": {\"color\": \"#EBF0F8\"}, \"line\": {\"color\": \"white\"}}, \"header\": {\"fill\": {\"color\": \"#C8D4E3\"}, \"line\": {\"color\": \"white\"}}, \"type\": \"table\"}]}, \"layout\": {\"annotationdefaults\": {\"arrowcolor\": \"#2a3f5f\", \"arrowhead\": 0, \"arrowwidth\": 1}, \"colorscale\": {\"diverging\": [[0, \"#8e0152\"], [0.1, \"#c51b7d\"], [0.2, \"#de77ae\"], [0.3, \"#f1b6da\"], [0.4, \"#fde0ef\"], [0.5, \"#f7f7f7\"], [0.6, \"#e6f5d0\"], [0.7, \"#b8e186\"], [0.8, \"#7fbc41\"], [0.9, \"#4d9221\"], [1, \"#276419\"]], \"sequential\": [[0.0, \"#0d0887\"], [0.1111111111111111, \"#46039f\"], [0.2222222222222222, \"#7201a8\"], [0.3333333333333333, \"#9c179e\"], [0.4444444444444444, \"#bd3786\"], [0.5555555555555556, \"#d8576b\"], [0.6666666666666666, \"#ed7953\"], [0.7777777777777778, \"#fb9f3a\"], [0.8888888888888888, \"#fdca26\"], [1.0, \"#f0f921\"]], \"sequentialminus\": [[0.0, \"#0d0887\"], [0.1111111111111111, \"#46039f\"], [0.2222222222222222, \"#7201a8\"], [0.3333333333333333, \"#9c179e\"], [0.4444444444444444, \"#bd3786\"], [0.5555555555555556, \"#d8576b\"], [0.6666666666666666, \"#ed7953\"], [0.7777777777777778, \"#fb9f3a\"], [0.8888888888888888, \"#fdca26\"], [1.0, \"#f0f921\"]]}, \"colorway\": [\"#636efa\", \"#EF553B\", \"#00cc96\", \"#ab63fa\", \"#FFA15A\", \"#19d3f3\", \"#FF6692\", \"#B6E880\", \"#FF97FF\", \"#FECB52\"], \"font\": {\"color\": \"#2a3f5f\"}, \"geo\": {\"bgcolor\": \"white\", \"lakecolor\": \"white\", \"landcolor\": \"#E5ECF6\", \"showlakes\": true, \"showland\": true, \"subunitcolor\": \"white\"}, \"hoverlabel\": {\"align\": \"left\"}, \"hovermode\": \"closest\", \"mapbox\": {\"style\": \"light\"}, \"paper_bgcolor\": \"white\", \"plot_bgcolor\": \"#E5ECF6\", \"polar\": {\"angularaxis\": {\"gridcolor\": \"white\", \"linecolor\": \"white\", \"ticks\": \"\"}, \"bgcolor\": \"#E5ECF6\", \"radialaxis\": {\"gridcolor\": \"white\", \"linecolor\": \"white\", \"ticks\": \"\"}}, \"scene\": {\"xaxis\": {\"backgroundcolor\": \"#E5ECF6\", \"gridcolor\": \"white\", \"gridwidth\": 2, \"linecolor\": \"white\", \"showbackground\": true, \"ticks\": \"\", \"zerolinecolor\": \"white\"}, \"yaxis\": {\"backgroundcolor\": \"#E5ECF6\", \"gridcolor\": \"white\", \"gridwidth\": 2, \"linecolor\": \"white\", \"showbackground\": true, \"ticks\": \"\", \"zerolinecolor\": \"white\"}, \"zaxis\": {\"backgroundcolor\": \"#E5ECF6\", \"gridcolor\": \"white\", \"gridwidth\": 2, \"linecolor\": \"white\", \"showbackground\": true, \"ticks\": \"\", \"zerolinecolor\": \"white\"}}, \"shapedefaults\": {\"line\": {\"color\": \"#2a3f5f\"}}, \"ternary\": {\"aaxis\": {\"gridcolor\": \"white\", \"linecolor\": \"white\", \"ticks\": \"\"}, \"baxis\": {\"gridcolor\": \"white\", \"linecolor\": \"white\", \"ticks\": \"\"}, \"bgcolor\": \"#E5ECF6\", \"caxis\": {\"gridcolor\": \"white\", \"linecolor\": \"white\", \"ticks\": \"\"}}, \"title\": {\"x\": 0.05}, \"xaxis\": {\"automargin\": true, \"gridcolor\": \"white\", \"linecolor\": \"white\", \"ticks\": \"\", \"zerolinecolor\": \"white\", \"zerolinewidth\": 2}, \"yaxis\": {\"automargin\": true, \"gridcolor\": \"white\", \"linecolor\": \"white\", \"ticks\": \"\", \"zerolinecolor\": \"white\", \"zerolinewidth\": 2}}}, \"title\": {\"text\": \"Number of convenience stores by State\"}},\n",
       "                        {\"responsive\": true}\n",
       "                    ).then(function(){\n",
       "                            \n",
       "var gd = document.getElementById('d8f54611-46da-470a-a6da-cdfb16c56caf');\n",
       "var x = new MutationObserver(function (mutations, observer) {{\n",
       "        var display = window.getComputedStyle(gd).display;\n",
       "        if (!display || display === 'none') {{\n",
       "            console.log([gd, 'removed!']);\n",
       "            Plotly.purge(gd);\n",
       "            observer.disconnect();\n",
       "        }}\n",
       "}});\n",
       "\n",
       "// Listen for the removal of the full notebook cells\n",
       "var notebookContainer = gd.closest('#notebook-container');\n",
       "if (notebookContainer) {{\n",
       "    x.observe(notebookContainer, {childList: true});\n",
       "}}\n",
       "\n",
       "// Listen for the clearing of the current output cell\n",
       "var outputEl = gd.closest('.output');\n",
       "if (outputEl) {{\n",
       "    x.observe(outputEl, {childList: true});\n",
       "}}\n",
       "\n",
       "                        })\n",
       "                };\n",
       "                });\n",
       "            </script>\n",
       "        </div>"
      ]
     },
     "metadata": {},
     "output_type": "display_data"
    }
   ],
   "source": [
    "import plotly.graph_objects as go\n",
    "fig = go.Figure(data=go.Choropleth(\n",
    "    locations = group_df_conv.index, # Spatial coordinates\n",
    "    z = group_df_conv['CONVS09'].astype(float), # Data to be color-coded\n",
    "    locationmode = 'USA-states', # set of locations match entries in `locations`\n",
    "    colorscale = 'Viridis',\n",
    "    colorbar_title = \"Number of Conveninece Stores\",\n",
    "))\n",
    "\n",
    "fig.update_layout(\n",
    "    title_text = 'Number of convenience stores by State',\n",
    "    geo_scope='usa', # limite map scope to USA\n",
    ")\n",
    "\n",
    "fig.show()"
   ]
  },
  {
   "cell_type": "code",
   "execution_count": 21,
   "metadata": {},
   "outputs": [
    {
     "data": {
      "text/plain": [
       "Index(['GROC09'], dtype='object')"
      ]
     },
     "execution_count": 21,
     "metadata": {},
     "output_type": "execute_result"
    }
   ],
   "source": [
    "group_df_groc.columns"
   ]
  },
  {
   "cell_type": "code",
   "execution_count": 38,
   "metadata": {
    "scrolled": true
   },
   "outputs": [
    {
     "data": {
      "application/vnd.plotly.v1+json": {
       "config": {
        "plotlyServerURL": "https://plot.ly"
       },
       "data": [
        {
         "colorbar": {
          "title": {
           "text": "Number of Grocery Stores"
          }
         },
         "colorscale": [
          [
           0,
           "#440154"
          ],
          [
           0.1111111111111111,
           "#482878"
          ],
          [
           0.2222222222222222,
           "#3e4989"
          ],
          [
           0.3333333333333333,
           "#31688e"
          ],
          [
           0.4444444444444444,
           "#26828e"
          ],
          [
           0.5555555555555556,
           "#1f9e89"
          ],
          [
           0.6666666666666666,
           "#35b779"
          ],
          [
           0.7777777777777778,
           "#6ece58"
          ],
          [
           0.8888888888888888,
           "#b5de2b"
          ],
          [
           1,
           "#fde725"
          ]
         ],
         "locationmode": "USA-states",
         "locations": [
          "AK",
          "AL",
          "AR",
          "AZ",
          "CA",
          "CO",
          "CT",
          "DE",
          "FL",
          "GA",
          "HI",
          "IA",
          "ID",
          "IL",
          "IN",
          "KS",
          "KY",
          "LA",
          "MA",
          "MD",
          "ME",
          "MI",
          "MN",
          "MO",
          "MS",
          "MT",
          "NC",
          "ND",
          "NE",
          "NH",
          "NJ",
          "NM",
          "NV",
          "NY",
          "OH",
          "OK",
          "OR",
          "PA",
          "RI",
          "SC",
          "SD",
          "TN",
          "TX",
          "UT",
          "VA",
          "WA",
          "WI",
          "WV",
          "WY"
         ],
         "type": "choropleth",
         "z": [
          7,
          4,
          3,
          9,
          13,
          2,
          191,
          77,
          1,
          1,
          40,
          4,
          3,
          3,
          6,
          2,
          4,
          3,
          95,
          5,
          8,
          6,
          5,
          3,
          3,
          3,
          4,
          4,
          2,
          15,
          159,
          3,
          2,
          11,
          6,
          2,
          6,
          10,
          7,
          4,
          1,
          4,
          2,
          5,
          3,
          13,
          6,
          2,
          3
         ]
        }
       ],
       "layout": {
        "geo": {
         "scope": "usa"
        },
        "template": {
         "data": {
          "bar": [
           {
            "error_x": {
             "color": "#2a3f5f"
            },
            "error_y": {
             "color": "#2a3f5f"
            },
            "marker": {
             "line": {
              "color": "#E5ECF6",
              "width": 0.5
             }
            },
            "type": "bar"
           }
          ],
          "barpolar": [
           {
            "marker": {
             "line": {
              "color": "#E5ECF6",
              "width": 0.5
             }
            },
            "type": "barpolar"
           }
          ],
          "carpet": [
           {
            "aaxis": {
             "endlinecolor": "#2a3f5f",
             "gridcolor": "white",
             "linecolor": "white",
             "minorgridcolor": "white",
             "startlinecolor": "#2a3f5f"
            },
            "baxis": {
             "endlinecolor": "#2a3f5f",
             "gridcolor": "white",
             "linecolor": "white",
             "minorgridcolor": "white",
             "startlinecolor": "#2a3f5f"
            },
            "type": "carpet"
           }
          ],
          "choropleth": [
           {
            "colorbar": {
             "outlinewidth": 0,
             "ticks": ""
            },
            "type": "choropleth"
           }
          ],
          "contour": [
           {
            "colorbar": {
             "outlinewidth": 0,
             "ticks": ""
            },
            "colorscale": [
             [
              0,
              "#0d0887"
             ],
             [
              0.1111111111111111,
              "#46039f"
             ],
             [
              0.2222222222222222,
              "#7201a8"
             ],
             [
              0.3333333333333333,
              "#9c179e"
             ],
             [
              0.4444444444444444,
              "#bd3786"
             ],
             [
              0.5555555555555556,
              "#d8576b"
             ],
             [
              0.6666666666666666,
              "#ed7953"
             ],
             [
              0.7777777777777778,
              "#fb9f3a"
             ],
             [
              0.8888888888888888,
              "#fdca26"
             ],
             [
              1,
              "#f0f921"
             ]
            ],
            "type": "contour"
           }
          ],
          "contourcarpet": [
           {
            "colorbar": {
             "outlinewidth": 0,
             "ticks": ""
            },
            "type": "contourcarpet"
           }
          ],
          "heatmap": [
           {
            "colorbar": {
             "outlinewidth": 0,
             "ticks": ""
            },
            "colorscale": [
             [
              0,
              "#0d0887"
             ],
             [
              0.1111111111111111,
              "#46039f"
             ],
             [
              0.2222222222222222,
              "#7201a8"
             ],
             [
              0.3333333333333333,
              "#9c179e"
             ],
             [
              0.4444444444444444,
              "#bd3786"
             ],
             [
              0.5555555555555556,
              "#d8576b"
             ],
             [
              0.6666666666666666,
              "#ed7953"
             ],
             [
              0.7777777777777778,
              "#fb9f3a"
             ],
             [
              0.8888888888888888,
              "#fdca26"
             ],
             [
              1,
              "#f0f921"
             ]
            ],
            "type": "heatmap"
           }
          ],
          "heatmapgl": [
           {
            "colorbar": {
             "outlinewidth": 0,
             "ticks": ""
            },
            "colorscale": [
             [
              0,
              "#0d0887"
             ],
             [
              0.1111111111111111,
              "#46039f"
             ],
             [
              0.2222222222222222,
              "#7201a8"
             ],
             [
              0.3333333333333333,
              "#9c179e"
             ],
             [
              0.4444444444444444,
              "#bd3786"
             ],
             [
              0.5555555555555556,
              "#d8576b"
             ],
             [
              0.6666666666666666,
              "#ed7953"
             ],
             [
              0.7777777777777778,
              "#fb9f3a"
             ],
             [
              0.8888888888888888,
              "#fdca26"
             ],
             [
              1,
              "#f0f921"
             ]
            ],
            "type": "heatmapgl"
           }
          ],
          "histogram": [
           {
            "marker": {
             "colorbar": {
              "outlinewidth": 0,
              "ticks": ""
             }
            },
            "type": "histogram"
           }
          ],
          "histogram2d": [
           {
            "colorbar": {
             "outlinewidth": 0,
             "ticks": ""
            },
            "colorscale": [
             [
              0,
              "#0d0887"
             ],
             [
              0.1111111111111111,
              "#46039f"
             ],
             [
              0.2222222222222222,
              "#7201a8"
             ],
             [
              0.3333333333333333,
              "#9c179e"
             ],
             [
              0.4444444444444444,
              "#bd3786"
             ],
             [
              0.5555555555555556,
              "#d8576b"
             ],
             [
              0.6666666666666666,
              "#ed7953"
             ],
             [
              0.7777777777777778,
              "#fb9f3a"
             ],
             [
              0.8888888888888888,
              "#fdca26"
             ],
             [
              1,
              "#f0f921"
             ]
            ],
            "type": "histogram2d"
           }
          ],
          "histogram2dcontour": [
           {
            "colorbar": {
             "outlinewidth": 0,
             "ticks": ""
            },
            "colorscale": [
             [
              0,
              "#0d0887"
             ],
             [
              0.1111111111111111,
              "#46039f"
             ],
             [
              0.2222222222222222,
              "#7201a8"
             ],
             [
              0.3333333333333333,
              "#9c179e"
             ],
             [
              0.4444444444444444,
              "#bd3786"
             ],
             [
              0.5555555555555556,
              "#d8576b"
             ],
             [
              0.6666666666666666,
              "#ed7953"
             ],
             [
              0.7777777777777778,
              "#fb9f3a"
             ],
             [
              0.8888888888888888,
              "#fdca26"
             ],
             [
              1,
              "#f0f921"
             ]
            ],
            "type": "histogram2dcontour"
           }
          ],
          "mesh3d": [
           {
            "colorbar": {
             "outlinewidth": 0,
             "ticks": ""
            },
            "type": "mesh3d"
           }
          ],
          "parcoords": [
           {
            "line": {
             "colorbar": {
              "outlinewidth": 0,
              "ticks": ""
             }
            },
            "type": "parcoords"
           }
          ],
          "scatter": [
           {
            "marker": {
             "colorbar": {
              "outlinewidth": 0,
              "ticks": ""
             }
            },
            "type": "scatter"
           }
          ],
          "scatter3d": [
           {
            "line": {
             "colorbar": {
              "outlinewidth": 0,
              "ticks": ""
             }
            },
            "marker": {
             "colorbar": {
              "outlinewidth": 0,
              "ticks": ""
             }
            },
            "type": "scatter3d"
           }
          ],
          "scattercarpet": [
           {
            "marker": {
             "colorbar": {
              "outlinewidth": 0,
              "ticks": ""
             }
            },
            "type": "scattercarpet"
           }
          ],
          "scattergeo": [
           {
            "marker": {
             "colorbar": {
              "outlinewidth": 0,
              "ticks": ""
             }
            },
            "type": "scattergeo"
           }
          ],
          "scattergl": [
           {
            "marker": {
             "colorbar": {
              "outlinewidth": 0,
              "ticks": ""
             }
            },
            "type": "scattergl"
           }
          ],
          "scattermapbox": [
           {
            "marker": {
             "colorbar": {
              "outlinewidth": 0,
              "ticks": ""
             }
            },
            "type": "scattermapbox"
           }
          ],
          "scatterpolar": [
           {
            "marker": {
             "colorbar": {
              "outlinewidth": 0,
              "ticks": ""
             }
            },
            "type": "scatterpolar"
           }
          ],
          "scatterpolargl": [
           {
            "marker": {
             "colorbar": {
              "outlinewidth": 0,
              "ticks": ""
             }
            },
            "type": "scatterpolargl"
           }
          ],
          "scatterternary": [
           {
            "marker": {
             "colorbar": {
              "outlinewidth": 0,
              "ticks": ""
             }
            },
            "type": "scatterternary"
           }
          ],
          "surface": [
           {
            "colorbar": {
             "outlinewidth": 0,
             "ticks": ""
            },
            "colorscale": [
             [
              0,
              "#0d0887"
             ],
             [
              0.1111111111111111,
              "#46039f"
             ],
             [
              0.2222222222222222,
              "#7201a8"
             ],
             [
              0.3333333333333333,
              "#9c179e"
             ],
             [
              0.4444444444444444,
              "#bd3786"
             ],
             [
              0.5555555555555556,
              "#d8576b"
             ],
             [
              0.6666666666666666,
              "#ed7953"
             ],
             [
              0.7777777777777778,
              "#fb9f3a"
             ],
             [
              0.8888888888888888,
              "#fdca26"
             ],
             [
              1,
              "#f0f921"
             ]
            ],
            "type": "surface"
           }
          ],
          "table": [
           {
            "cells": {
             "fill": {
              "color": "#EBF0F8"
             },
             "line": {
              "color": "white"
             }
            },
            "header": {
             "fill": {
              "color": "#C8D4E3"
             },
             "line": {
              "color": "white"
             }
            },
            "type": "table"
           }
          ]
         },
         "layout": {
          "annotationdefaults": {
           "arrowcolor": "#2a3f5f",
           "arrowhead": 0,
           "arrowwidth": 1
          },
          "colorscale": {
           "diverging": [
            [
             0,
             "#8e0152"
            ],
            [
             0.1,
             "#c51b7d"
            ],
            [
             0.2,
             "#de77ae"
            ],
            [
             0.3,
             "#f1b6da"
            ],
            [
             0.4,
             "#fde0ef"
            ],
            [
             0.5,
             "#f7f7f7"
            ],
            [
             0.6,
             "#e6f5d0"
            ],
            [
             0.7,
             "#b8e186"
            ],
            [
             0.8,
             "#7fbc41"
            ],
            [
             0.9,
             "#4d9221"
            ],
            [
             1,
             "#276419"
            ]
           ],
           "sequential": [
            [
             0,
             "#0d0887"
            ],
            [
             0.1111111111111111,
             "#46039f"
            ],
            [
             0.2222222222222222,
             "#7201a8"
            ],
            [
             0.3333333333333333,
             "#9c179e"
            ],
            [
             0.4444444444444444,
             "#bd3786"
            ],
            [
             0.5555555555555556,
             "#d8576b"
            ],
            [
             0.6666666666666666,
             "#ed7953"
            ],
            [
             0.7777777777777778,
             "#fb9f3a"
            ],
            [
             0.8888888888888888,
             "#fdca26"
            ],
            [
             1,
             "#f0f921"
            ]
           ],
           "sequentialminus": [
            [
             0,
             "#0d0887"
            ],
            [
             0.1111111111111111,
             "#46039f"
            ],
            [
             0.2222222222222222,
             "#7201a8"
            ],
            [
             0.3333333333333333,
             "#9c179e"
            ],
            [
             0.4444444444444444,
             "#bd3786"
            ],
            [
             0.5555555555555556,
             "#d8576b"
            ],
            [
             0.6666666666666666,
             "#ed7953"
            ],
            [
             0.7777777777777778,
             "#fb9f3a"
            ],
            [
             0.8888888888888888,
             "#fdca26"
            ],
            [
             1,
             "#f0f921"
            ]
           ]
          },
          "colorway": [
           "#636efa",
           "#EF553B",
           "#00cc96",
           "#ab63fa",
           "#FFA15A",
           "#19d3f3",
           "#FF6692",
           "#B6E880",
           "#FF97FF",
           "#FECB52"
          ],
          "font": {
           "color": "#2a3f5f"
          },
          "geo": {
           "bgcolor": "white",
           "lakecolor": "white",
           "landcolor": "#E5ECF6",
           "showlakes": true,
           "showland": true,
           "subunitcolor": "white"
          },
          "hoverlabel": {
           "align": "left"
          },
          "hovermode": "closest",
          "mapbox": {
           "style": "light"
          },
          "paper_bgcolor": "white",
          "plot_bgcolor": "#E5ECF6",
          "polar": {
           "angularaxis": {
            "gridcolor": "white",
            "linecolor": "white",
            "ticks": ""
           },
           "bgcolor": "#E5ECF6",
           "radialaxis": {
            "gridcolor": "white",
            "linecolor": "white",
            "ticks": ""
           }
          },
          "scene": {
           "xaxis": {
            "backgroundcolor": "#E5ECF6",
            "gridcolor": "white",
            "gridwidth": 2,
            "linecolor": "white",
            "showbackground": true,
            "ticks": "",
            "zerolinecolor": "white"
           },
           "yaxis": {
            "backgroundcolor": "#E5ECF6",
            "gridcolor": "white",
            "gridwidth": 2,
            "linecolor": "white",
            "showbackground": true,
            "ticks": "",
            "zerolinecolor": "white"
           },
           "zaxis": {
            "backgroundcolor": "#E5ECF6",
            "gridcolor": "white",
            "gridwidth": 2,
            "linecolor": "white",
            "showbackground": true,
            "ticks": "",
            "zerolinecolor": "white"
           }
          },
          "shapedefaults": {
           "line": {
            "color": "#2a3f5f"
           }
          },
          "ternary": {
           "aaxis": {
            "gridcolor": "white",
            "linecolor": "white",
            "ticks": ""
           },
           "baxis": {
            "gridcolor": "white",
            "linecolor": "white",
            "ticks": ""
           },
           "bgcolor": "#E5ECF6",
           "caxis": {
            "gridcolor": "white",
            "linecolor": "white",
            "ticks": ""
           }
          },
          "title": {
           "x": 0.05
          },
          "xaxis": {
           "automargin": true,
           "gridcolor": "white",
           "linecolor": "white",
           "ticks": "",
           "zerolinecolor": "white",
           "zerolinewidth": 2
          },
          "yaxis": {
           "automargin": true,
           "gridcolor": "white",
           "linecolor": "white",
           "ticks": "",
           "zerolinecolor": "white",
           "zerolinewidth": 2
          }
         }
        },
        "title": {
         "text": "Number of Grocery stores by state"
        }
       }
      },
      "text/html": [
       "<div>\n",
       "        \n",
       "        \n",
       "            <div id=\"153382ac-1397-4d34-91ef-6c29959b60db\" class=\"plotly-graph-div\" style=\"height:525px; width:100%;\"></div>\n",
       "            <script type=\"text/javascript\">\n",
       "                require([\"plotly\"], function(Plotly) {\n",
       "                    window.PLOTLYENV=window.PLOTLYENV || {};\n",
       "                    \n",
       "                if (document.getElementById(\"153382ac-1397-4d34-91ef-6c29959b60db\")) {\n",
       "                    Plotly.newPlot(\n",
       "                        '153382ac-1397-4d34-91ef-6c29959b60db',\n",
       "                        [{\"colorbar\": {\"title\": {\"text\": \"Number of Grocery Stores\"}}, \"colorscale\": [[0.0, \"#440154\"], [0.1111111111111111, \"#482878\"], [0.2222222222222222, \"#3e4989\"], [0.3333333333333333, \"#31688e\"], [0.4444444444444444, \"#26828e\"], [0.5555555555555556, \"#1f9e89\"], [0.6666666666666666, \"#35b779\"], [0.7777777777777778, \"#6ece58\"], [0.8888888888888888, \"#b5de2b\"], [1.0, \"#fde725\"]], \"locationmode\": \"USA-states\", \"locations\": [\"AK\", \"AL\", \"AR\", \"AZ\", \"CA\", \"CO\", \"CT\", \"DE\", \"FL\", \"GA\", \"HI\", \"IA\", \"ID\", \"IL\", \"IN\", \"KS\", \"KY\", \"LA\", \"MA\", \"MD\", \"ME\", \"MI\", \"MN\", \"MO\", \"MS\", \"MT\", \"NC\", \"ND\", \"NE\", \"NH\", \"NJ\", \"NM\", \"NV\", \"NY\", \"OH\", \"OK\", \"OR\", \"PA\", \"RI\", \"SC\", \"SD\", \"TN\", \"TX\", \"UT\", \"VA\", \"WA\", \"WI\", \"WV\", \"WY\"], \"type\": \"choropleth\", \"z\": [7.0, 4.0, 3.0, 9.0, 13.0, 2.0, 191.0, 77.0, 1.0, 1.0, 40.0, 4.0, 3.0, 3.0, 6.0, 2.0, 4.0, 3.0, 95.0, 5.0, 8.0, 6.0, 5.0, 3.0, 3.0, 3.0, 4.0, 4.0, 2.0, 15.0, 159.0, 3.0, 2.0, 11.0, 6.0, 2.0, 6.0, 10.0, 7.0, 4.0, 1.0, 4.0, 2.0, 5.0, 3.0, 13.0, 6.0, 2.0, 3.0]}],\n",
       "                        {\"geo\": {\"scope\": \"usa\"}, \"template\": {\"data\": {\"bar\": [{\"error_x\": {\"color\": \"#2a3f5f\"}, \"error_y\": {\"color\": \"#2a3f5f\"}, \"marker\": {\"line\": {\"color\": \"#E5ECF6\", \"width\": 0.5}}, \"type\": \"bar\"}], \"barpolar\": [{\"marker\": {\"line\": {\"color\": \"#E5ECF6\", \"width\": 0.5}}, \"type\": \"barpolar\"}], \"carpet\": [{\"aaxis\": {\"endlinecolor\": \"#2a3f5f\", \"gridcolor\": \"white\", \"linecolor\": \"white\", \"minorgridcolor\": \"white\", \"startlinecolor\": \"#2a3f5f\"}, \"baxis\": {\"endlinecolor\": \"#2a3f5f\", \"gridcolor\": \"white\", \"linecolor\": \"white\", \"minorgridcolor\": \"white\", \"startlinecolor\": \"#2a3f5f\"}, \"type\": \"carpet\"}], \"choropleth\": [{\"colorbar\": {\"outlinewidth\": 0, \"ticks\": \"\"}, \"type\": \"choropleth\"}], \"contour\": [{\"colorbar\": {\"outlinewidth\": 0, \"ticks\": \"\"}, \"colorscale\": [[0.0, \"#0d0887\"], [0.1111111111111111, \"#46039f\"], [0.2222222222222222, \"#7201a8\"], [0.3333333333333333, \"#9c179e\"], [0.4444444444444444, \"#bd3786\"], [0.5555555555555556, \"#d8576b\"], [0.6666666666666666, \"#ed7953\"], [0.7777777777777778, \"#fb9f3a\"], [0.8888888888888888, \"#fdca26\"], [1.0, \"#f0f921\"]], \"type\": \"contour\"}], \"contourcarpet\": [{\"colorbar\": {\"outlinewidth\": 0, \"ticks\": \"\"}, \"type\": \"contourcarpet\"}], \"heatmap\": [{\"colorbar\": {\"outlinewidth\": 0, \"ticks\": \"\"}, \"colorscale\": [[0.0, \"#0d0887\"], [0.1111111111111111, \"#46039f\"], [0.2222222222222222, \"#7201a8\"], [0.3333333333333333, \"#9c179e\"], [0.4444444444444444, \"#bd3786\"], [0.5555555555555556, \"#d8576b\"], [0.6666666666666666, \"#ed7953\"], [0.7777777777777778, \"#fb9f3a\"], [0.8888888888888888, \"#fdca26\"], [1.0, \"#f0f921\"]], \"type\": \"heatmap\"}], \"heatmapgl\": [{\"colorbar\": {\"outlinewidth\": 0, \"ticks\": \"\"}, \"colorscale\": [[0.0, \"#0d0887\"], [0.1111111111111111, \"#46039f\"], [0.2222222222222222, \"#7201a8\"], [0.3333333333333333, \"#9c179e\"], [0.4444444444444444, \"#bd3786\"], [0.5555555555555556, \"#d8576b\"], [0.6666666666666666, \"#ed7953\"], [0.7777777777777778, \"#fb9f3a\"], [0.8888888888888888, \"#fdca26\"], [1.0, \"#f0f921\"]], \"type\": \"heatmapgl\"}], \"histogram\": [{\"marker\": {\"colorbar\": {\"outlinewidth\": 0, \"ticks\": \"\"}}, \"type\": \"histogram\"}], \"histogram2d\": [{\"colorbar\": {\"outlinewidth\": 0, \"ticks\": \"\"}, \"colorscale\": [[0.0, \"#0d0887\"], [0.1111111111111111, \"#46039f\"], [0.2222222222222222, \"#7201a8\"], [0.3333333333333333, \"#9c179e\"], [0.4444444444444444, \"#bd3786\"], [0.5555555555555556, \"#d8576b\"], [0.6666666666666666, \"#ed7953\"], [0.7777777777777778, \"#fb9f3a\"], [0.8888888888888888, \"#fdca26\"], [1.0, \"#f0f921\"]], \"type\": \"histogram2d\"}], \"histogram2dcontour\": [{\"colorbar\": {\"outlinewidth\": 0, \"ticks\": \"\"}, \"colorscale\": [[0.0, \"#0d0887\"], [0.1111111111111111, \"#46039f\"], [0.2222222222222222, \"#7201a8\"], [0.3333333333333333, \"#9c179e\"], [0.4444444444444444, \"#bd3786\"], [0.5555555555555556, \"#d8576b\"], [0.6666666666666666, \"#ed7953\"], [0.7777777777777778, \"#fb9f3a\"], [0.8888888888888888, \"#fdca26\"], [1.0, \"#f0f921\"]], \"type\": \"histogram2dcontour\"}], \"mesh3d\": [{\"colorbar\": {\"outlinewidth\": 0, \"ticks\": \"\"}, \"type\": \"mesh3d\"}], \"parcoords\": [{\"line\": {\"colorbar\": {\"outlinewidth\": 0, \"ticks\": \"\"}}, \"type\": \"parcoords\"}], \"scatter\": [{\"marker\": {\"colorbar\": {\"outlinewidth\": 0, \"ticks\": \"\"}}, \"type\": \"scatter\"}], \"scatter3d\": [{\"line\": {\"colorbar\": {\"outlinewidth\": 0, \"ticks\": \"\"}}, \"marker\": {\"colorbar\": {\"outlinewidth\": 0, \"ticks\": \"\"}}, \"type\": \"scatter3d\"}], \"scattercarpet\": [{\"marker\": {\"colorbar\": {\"outlinewidth\": 0, \"ticks\": \"\"}}, \"type\": \"scattercarpet\"}], \"scattergeo\": [{\"marker\": {\"colorbar\": {\"outlinewidth\": 0, \"ticks\": \"\"}}, \"type\": \"scattergeo\"}], \"scattergl\": [{\"marker\": {\"colorbar\": {\"outlinewidth\": 0, \"ticks\": \"\"}}, \"type\": \"scattergl\"}], \"scattermapbox\": [{\"marker\": {\"colorbar\": {\"outlinewidth\": 0, \"ticks\": \"\"}}, \"type\": \"scattermapbox\"}], \"scatterpolar\": [{\"marker\": {\"colorbar\": {\"outlinewidth\": 0, \"ticks\": \"\"}}, \"type\": \"scatterpolar\"}], \"scatterpolargl\": [{\"marker\": {\"colorbar\": {\"outlinewidth\": 0, \"ticks\": \"\"}}, \"type\": \"scatterpolargl\"}], \"scatterternary\": [{\"marker\": {\"colorbar\": {\"outlinewidth\": 0, \"ticks\": \"\"}}, \"type\": \"scatterternary\"}], \"surface\": [{\"colorbar\": {\"outlinewidth\": 0, \"ticks\": \"\"}, \"colorscale\": [[0.0, \"#0d0887\"], [0.1111111111111111, \"#46039f\"], [0.2222222222222222, \"#7201a8\"], [0.3333333333333333, \"#9c179e\"], [0.4444444444444444, \"#bd3786\"], [0.5555555555555556, \"#d8576b\"], [0.6666666666666666, \"#ed7953\"], [0.7777777777777778, \"#fb9f3a\"], [0.8888888888888888, \"#fdca26\"], [1.0, \"#f0f921\"]], \"type\": \"surface\"}], \"table\": [{\"cells\": {\"fill\": {\"color\": \"#EBF0F8\"}, \"line\": {\"color\": \"white\"}}, \"header\": {\"fill\": {\"color\": \"#C8D4E3\"}, \"line\": {\"color\": \"white\"}}, \"type\": \"table\"}]}, \"layout\": {\"annotationdefaults\": {\"arrowcolor\": \"#2a3f5f\", \"arrowhead\": 0, \"arrowwidth\": 1}, \"colorscale\": {\"diverging\": [[0, \"#8e0152\"], [0.1, \"#c51b7d\"], [0.2, \"#de77ae\"], [0.3, \"#f1b6da\"], [0.4, \"#fde0ef\"], [0.5, \"#f7f7f7\"], [0.6, \"#e6f5d0\"], [0.7, \"#b8e186\"], [0.8, \"#7fbc41\"], [0.9, \"#4d9221\"], [1, \"#276419\"]], \"sequential\": [[0.0, \"#0d0887\"], [0.1111111111111111, \"#46039f\"], [0.2222222222222222, \"#7201a8\"], [0.3333333333333333, \"#9c179e\"], [0.4444444444444444, \"#bd3786\"], [0.5555555555555556, \"#d8576b\"], [0.6666666666666666, \"#ed7953\"], [0.7777777777777778, \"#fb9f3a\"], [0.8888888888888888, \"#fdca26\"], [1.0, \"#f0f921\"]], \"sequentialminus\": [[0.0, \"#0d0887\"], [0.1111111111111111, \"#46039f\"], [0.2222222222222222, \"#7201a8\"], [0.3333333333333333, \"#9c179e\"], [0.4444444444444444, \"#bd3786\"], [0.5555555555555556, \"#d8576b\"], [0.6666666666666666, \"#ed7953\"], [0.7777777777777778, \"#fb9f3a\"], [0.8888888888888888, \"#fdca26\"], [1.0, \"#f0f921\"]]}, \"colorway\": [\"#636efa\", \"#EF553B\", \"#00cc96\", \"#ab63fa\", \"#FFA15A\", \"#19d3f3\", \"#FF6692\", \"#B6E880\", \"#FF97FF\", \"#FECB52\"], \"font\": {\"color\": \"#2a3f5f\"}, \"geo\": {\"bgcolor\": \"white\", \"lakecolor\": \"white\", \"landcolor\": \"#E5ECF6\", \"showlakes\": true, \"showland\": true, \"subunitcolor\": \"white\"}, \"hoverlabel\": {\"align\": \"left\"}, \"hovermode\": \"closest\", \"mapbox\": {\"style\": \"light\"}, \"paper_bgcolor\": \"white\", \"plot_bgcolor\": \"#E5ECF6\", \"polar\": {\"angularaxis\": {\"gridcolor\": \"white\", \"linecolor\": \"white\", \"ticks\": \"\"}, \"bgcolor\": \"#E5ECF6\", \"radialaxis\": {\"gridcolor\": \"white\", \"linecolor\": \"white\", \"ticks\": \"\"}}, \"scene\": {\"xaxis\": {\"backgroundcolor\": \"#E5ECF6\", \"gridcolor\": \"white\", \"gridwidth\": 2, \"linecolor\": \"white\", \"showbackground\": true, \"ticks\": \"\", \"zerolinecolor\": \"white\"}, \"yaxis\": {\"backgroundcolor\": \"#E5ECF6\", \"gridcolor\": \"white\", \"gridwidth\": 2, \"linecolor\": \"white\", \"showbackground\": true, \"ticks\": \"\", \"zerolinecolor\": \"white\"}, \"zaxis\": {\"backgroundcolor\": \"#E5ECF6\", \"gridcolor\": \"white\", \"gridwidth\": 2, \"linecolor\": \"white\", \"showbackground\": true, \"ticks\": \"\", \"zerolinecolor\": \"white\"}}, \"shapedefaults\": {\"line\": {\"color\": \"#2a3f5f\"}}, \"ternary\": {\"aaxis\": {\"gridcolor\": \"white\", \"linecolor\": \"white\", \"ticks\": \"\"}, \"baxis\": {\"gridcolor\": \"white\", \"linecolor\": \"white\", \"ticks\": \"\"}, \"bgcolor\": \"#E5ECF6\", \"caxis\": {\"gridcolor\": \"white\", \"linecolor\": \"white\", \"ticks\": \"\"}}, \"title\": {\"x\": 0.05}, \"xaxis\": {\"automargin\": true, \"gridcolor\": \"white\", \"linecolor\": \"white\", \"ticks\": \"\", \"zerolinecolor\": \"white\", \"zerolinewidth\": 2}, \"yaxis\": {\"automargin\": true, \"gridcolor\": \"white\", \"linecolor\": \"white\", \"ticks\": \"\", \"zerolinecolor\": \"white\", \"zerolinewidth\": 2}}}, \"title\": {\"text\": \"Number of Grocery stores by state\"}},\n",
       "                        {\"responsive\": true}\n",
       "                    ).then(function(){\n",
       "                            \n",
       "var gd = document.getElementById('153382ac-1397-4d34-91ef-6c29959b60db');\n",
       "var x = new MutationObserver(function (mutations, observer) {{\n",
       "        var display = window.getComputedStyle(gd).display;\n",
       "        if (!display || display === 'none') {{\n",
       "            console.log([gd, 'removed!']);\n",
       "            Plotly.purge(gd);\n",
       "            observer.disconnect();\n",
       "        }}\n",
       "}});\n",
       "\n",
       "// Listen for the removal of the full notebook cells\n",
       "var notebookContainer = gd.closest('#notebook-container');\n",
       "if (notebookContainer) {{\n",
       "    x.observe(notebookContainer, {childList: true});\n",
       "}}\n",
       "\n",
       "// Listen for the clearing of the current output cell\n",
       "var outputEl = gd.closest('.output');\n",
       "if (outputEl) {{\n",
       "    x.observe(outputEl, {childList: true});\n",
       "}}\n",
       "\n",
       "                        })\n",
       "                };\n",
       "                });\n",
       "            </script>\n",
       "        </div>"
      ]
     },
     "metadata": {},
     "output_type": "display_data"
    }
   ],
   "source": [
    "import plotly.graph_objects as go\n",
    "fig = go.Figure(data=go.Choropleth(\n",
    "    locations = group_df_groc.index, # Spatial coordinates\n",
    "    z = group_df_groc['GROC09'].astype(float), # Data to be color-coded\n",
    "    locationmode = 'USA-states', # set of locations match entries in `locations`\n",
    "    colorscale = 'Viridis',\n",
    "    colorbar_title = \"Number of Grocery Stores\",\n",
    "))\n",
    "\n",
    "fig.update_layout(\n",
    "    title_text = 'Number of Grocery stores by state',\n",
    "    geo_scope='usa', # limite map scope to USA\n",
    ")\n",
    "\n",
    "fig.show()"
   ]
  },
  {
   "cell_type": "markdown",
   "metadata": {},
   "source": [
    "Massachusetts, Delaware, Connecticut all have a high number of grocery and are the states that have the lowest obesity rates. "
   ]
  },
  {
   "cell_type": "code",
   "execution_count": 25,
   "metadata": {},
   "outputs": [
    {
     "data": {
      "text/plain": [
       "Index(['RECFAC09'], dtype='object')"
      ]
     },
     "execution_count": 25,
     "metadata": {},
     "output_type": "execute_result"
    }
   ],
   "source": [
    "group_df_rec.columns"
   ]
  },
  {
   "cell_type": "code",
   "execution_count": 27,
   "metadata": {},
   "outputs": [
    {
     "data": {
      "application/vnd.plotly.v1+json": {
       "config": {
        "plotlyServerURL": "https://plot.ly"
       },
       "data": [
        {
         "colorbar": {
          "title": {
           "text": "Number of Recreational Facilities"
          }
         },
         "colorscale": [
          [
           0,
           "#440154"
          ],
          [
           0.1111111111111111,
           "#482878"
          ],
          [
           0.2222222222222222,
           "#3e4989"
          ],
          [
           0.3333333333333333,
           "#31688e"
          ],
          [
           0.4444444444444444,
           "#26828e"
          ],
          [
           0.5555555555555556,
           "#1f9e89"
          ],
          [
           0.6666666666666666,
           "#35b779"
          ],
          [
           0.7777777777777778,
           "#6ece58"
          ],
          [
           0.8888888888888888,
           "#b5de2b"
          ],
          [
           1,
           "#fde725"
          ]
         ],
         "locationmode": "USA-states",
         "locations": [
          "AK",
          "AL",
          "AR",
          "AZ",
          "CA",
          "CO",
          "CT",
          "DE",
          "FL",
          "GA",
          "HI",
          "IA",
          "ID",
          "IL",
          "IN",
          "KS",
          "KY",
          "LA",
          "MA",
          "MD",
          "ME",
          "MI",
          "MN",
          "MO",
          "MS",
          "MT",
          "NC",
          "ND",
          "NE",
          "NH",
          "NJ",
          "NM",
          "NV",
          "NY",
          "OH",
          "OK",
          "OR",
          "PA",
          "RI",
          "SC",
          "SD",
          "TN",
          "TX",
          "UT",
          "VA",
          "WA",
          "WI",
          "WV",
          "WY"
         ],
         "type": "choropleth",
         "z": [
          7,
          0,
          0,
          3,
          1,
          0,
          14,
          83,
          0,
          0,
          15,
          0,
          0,
          0,
          1,
          0,
          0,
          0,
          44,
          12,
          4,
          0,
          0,
          0,
          0,
          0,
          2,
          0,
          0,
          10,
          18,
          0,
          0,
          5,
          2,
          0,
          2,
          3,
          13,
          0,
          0,
          0,
          0,
          1,
          1,
          0,
          1,
          0,
          2
         ]
        }
       ],
       "layout": {
        "geo": {
         "scope": "usa"
        },
        "template": {
         "data": {
          "bar": [
           {
            "error_x": {
             "color": "#2a3f5f"
            },
            "error_y": {
             "color": "#2a3f5f"
            },
            "marker": {
             "line": {
              "color": "#E5ECF6",
              "width": 0.5
             }
            },
            "type": "bar"
           }
          ],
          "barpolar": [
           {
            "marker": {
             "line": {
              "color": "#E5ECF6",
              "width": 0.5
             }
            },
            "type": "barpolar"
           }
          ],
          "carpet": [
           {
            "aaxis": {
             "endlinecolor": "#2a3f5f",
             "gridcolor": "white",
             "linecolor": "white",
             "minorgridcolor": "white",
             "startlinecolor": "#2a3f5f"
            },
            "baxis": {
             "endlinecolor": "#2a3f5f",
             "gridcolor": "white",
             "linecolor": "white",
             "minorgridcolor": "white",
             "startlinecolor": "#2a3f5f"
            },
            "type": "carpet"
           }
          ],
          "choropleth": [
           {
            "colorbar": {
             "outlinewidth": 0,
             "ticks": ""
            },
            "type": "choropleth"
           }
          ],
          "contour": [
           {
            "colorbar": {
             "outlinewidth": 0,
             "ticks": ""
            },
            "colorscale": [
             [
              0,
              "#0d0887"
             ],
             [
              0.1111111111111111,
              "#46039f"
             ],
             [
              0.2222222222222222,
              "#7201a8"
             ],
             [
              0.3333333333333333,
              "#9c179e"
             ],
             [
              0.4444444444444444,
              "#bd3786"
             ],
             [
              0.5555555555555556,
              "#d8576b"
             ],
             [
              0.6666666666666666,
              "#ed7953"
             ],
             [
              0.7777777777777778,
              "#fb9f3a"
             ],
             [
              0.8888888888888888,
              "#fdca26"
             ],
             [
              1,
              "#f0f921"
             ]
            ],
            "type": "contour"
           }
          ],
          "contourcarpet": [
           {
            "colorbar": {
             "outlinewidth": 0,
             "ticks": ""
            },
            "type": "contourcarpet"
           }
          ],
          "heatmap": [
           {
            "colorbar": {
             "outlinewidth": 0,
             "ticks": ""
            },
            "colorscale": [
             [
              0,
              "#0d0887"
             ],
             [
              0.1111111111111111,
              "#46039f"
             ],
             [
              0.2222222222222222,
              "#7201a8"
             ],
             [
              0.3333333333333333,
              "#9c179e"
             ],
             [
              0.4444444444444444,
              "#bd3786"
             ],
             [
              0.5555555555555556,
              "#d8576b"
             ],
             [
              0.6666666666666666,
              "#ed7953"
             ],
             [
              0.7777777777777778,
              "#fb9f3a"
             ],
             [
              0.8888888888888888,
              "#fdca26"
             ],
             [
              1,
              "#f0f921"
             ]
            ],
            "type": "heatmap"
           }
          ],
          "heatmapgl": [
           {
            "colorbar": {
             "outlinewidth": 0,
             "ticks": ""
            },
            "colorscale": [
             [
              0,
              "#0d0887"
             ],
             [
              0.1111111111111111,
              "#46039f"
             ],
             [
              0.2222222222222222,
              "#7201a8"
             ],
             [
              0.3333333333333333,
              "#9c179e"
             ],
             [
              0.4444444444444444,
              "#bd3786"
             ],
             [
              0.5555555555555556,
              "#d8576b"
             ],
             [
              0.6666666666666666,
              "#ed7953"
             ],
             [
              0.7777777777777778,
              "#fb9f3a"
             ],
             [
              0.8888888888888888,
              "#fdca26"
             ],
             [
              1,
              "#f0f921"
             ]
            ],
            "type": "heatmapgl"
           }
          ],
          "histogram": [
           {
            "marker": {
             "colorbar": {
              "outlinewidth": 0,
              "ticks": ""
             }
            },
            "type": "histogram"
           }
          ],
          "histogram2d": [
           {
            "colorbar": {
             "outlinewidth": 0,
             "ticks": ""
            },
            "colorscale": [
             [
              0,
              "#0d0887"
             ],
             [
              0.1111111111111111,
              "#46039f"
             ],
             [
              0.2222222222222222,
              "#7201a8"
             ],
             [
              0.3333333333333333,
              "#9c179e"
             ],
             [
              0.4444444444444444,
              "#bd3786"
             ],
             [
              0.5555555555555556,
              "#d8576b"
             ],
             [
              0.6666666666666666,
              "#ed7953"
             ],
             [
              0.7777777777777778,
              "#fb9f3a"
             ],
             [
              0.8888888888888888,
              "#fdca26"
             ],
             [
              1,
              "#f0f921"
             ]
            ],
            "type": "histogram2d"
           }
          ],
          "histogram2dcontour": [
           {
            "colorbar": {
             "outlinewidth": 0,
             "ticks": ""
            },
            "colorscale": [
             [
              0,
              "#0d0887"
             ],
             [
              0.1111111111111111,
              "#46039f"
             ],
             [
              0.2222222222222222,
              "#7201a8"
             ],
             [
              0.3333333333333333,
              "#9c179e"
             ],
             [
              0.4444444444444444,
              "#bd3786"
             ],
             [
              0.5555555555555556,
              "#d8576b"
             ],
             [
              0.6666666666666666,
              "#ed7953"
             ],
             [
              0.7777777777777778,
              "#fb9f3a"
             ],
             [
              0.8888888888888888,
              "#fdca26"
             ],
             [
              1,
              "#f0f921"
             ]
            ],
            "type": "histogram2dcontour"
           }
          ],
          "mesh3d": [
           {
            "colorbar": {
             "outlinewidth": 0,
             "ticks": ""
            },
            "type": "mesh3d"
           }
          ],
          "parcoords": [
           {
            "line": {
             "colorbar": {
              "outlinewidth": 0,
              "ticks": ""
             }
            },
            "type": "parcoords"
           }
          ],
          "scatter": [
           {
            "marker": {
             "colorbar": {
              "outlinewidth": 0,
              "ticks": ""
             }
            },
            "type": "scatter"
           }
          ],
          "scatter3d": [
           {
            "line": {
             "colorbar": {
              "outlinewidth": 0,
              "ticks": ""
             }
            },
            "marker": {
             "colorbar": {
              "outlinewidth": 0,
              "ticks": ""
             }
            },
            "type": "scatter3d"
           }
          ],
          "scattercarpet": [
           {
            "marker": {
             "colorbar": {
              "outlinewidth": 0,
              "ticks": ""
             }
            },
            "type": "scattercarpet"
           }
          ],
          "scattergeo": [
           {
            "marker": {
             "colorbar": {
              "outlinewidth": 0,
              "ticks": ""
             }
            },
            "type": "scattergeo"
           }
          ],
          "scattergl": [
           {
            "marker": {
             "colorbar": {
              "outlinewidth": 0,
              "ticks": ""
             }
            },
            "type": "scattergl"
           }
          ],
          "scattermapbox": [
           {
            "marker": {
             "colorbar": {
              "outlinewidth": 0,
              "ticks": ""
             }
            },
            "type": "scattermapbox"
           }
          ],
          "scatterpolar": [
           {
            "marker": {
             "colorbar": {
              "outlinewidth": 0,
              "ticks": ""
             }
            },
            "type": "scatterpolar"
           }
          ],
          "scatterpolargl": [
           {
            "marker": {
             "colorbar": {
              "outlinewidth": 0,
              "ticks": ""
             }
            },
            "type": "scatterpolargl"
           }
          ],
          "scatterternary": [
           {
            "marker": {
             "colorbar": {
              "outlinewidth": 0,
              "ticks": ""
             }
            },
            "type": "scatterternary"
           }
          ],
          "surface": [
           {
            "colorbar": {
             "outlinewidth": 0,
             "ticks": ""
            },
            "colorscale": [
             [
              0,
              "#0d0887"
             ],
             [
              0.1111111111111111,
              "#46039f"
             ],
             [
              0.2222222222222222,
              "#7201a8"
             ],
             [
              0.3333333333333333,
              "#9c179e"
             ],
             [
              0.4444444444444444,
              "#bd3786"
             ],
             [
              0.5555555555555556,
              "#d8576b"
             ],
             [
              0.6666666666666666,
              "#ed7953"
             ],
             [
              0.7777777777777778,
              "#fb9f3a"
             ],
             [
              0.8888888888888888,
              "#fdca26"
             ],
             [
              1,
              "#f0f921"
             ]
            ],
            "type": "surface"
           }
          ],
          "table": [
           {
            "cells": {
             "fill": {
              "color": "#EBF0F8"
             },
             "line": {
              "color": "white"
             }
            },
            "header": {
             "fill": {
              "color": "#C8D4E3"
             },
             "line": {
              "color": "white"
             }
            },
            "type": "table"
           }
          ]
         },
         "layout": {
          "annotationdefaults": {
           "arrowcolor": "#2a3f5f",
           "arrowhead": 0,
           "arrowwidth": 1
          },
          "colorscale": {
           "diverging": [
            [
             0,
             "#8e0152"
            ],
            [
             0.1,
             "#c51b7d"
            ],
            [
             0.2,
             "#de77ae"
            ],
            [
             0.3,
             "#f1b6da"
            ],
            [
             0.4,
             "#fde0ef"
            ],
            [
             0.5,
             "#f7f7f7"
            ],
            [
             0.6,
             "#e6f5d0"
            ],
            [
             0.7,
             "#b8e186"
            ],
            [
             0.8,
             "#7fbc41"
            ],
            [
             0.9,
             "#4d9221"
            ],
            [
             1,
             "#276419"
            ]
           ],
           "sequential": [
            [
             0,
             "#0d0887"
            ],
            [
             0.1111111111111111,
             "#46039f"
            ],
            [
             0.2222222222222222,
             "#7201a8"
            ],
            [
             0.3333333333333333,
             "#9c179e"
            ],
            [
             0.4444444444444444,
             "#bd3786"
            ],
            [
             0.5555555555555556,
             "#d8576b"
            ],
            [
             0.6666666666666666,
             "#ed7953"
            ],
            [
             0.7777777777777778,
             "#fb9f3a"
            ],
            [
             0.8888888888888888,
             "#fdca26"
            ],
            [
             1,
             "#f0f921"
            ]
           ],
           "sequentialminus": [
            [
             0,
             "#0d0887"
            ],
            [
             0.1111111111111111,
             "#46039f"
            ],
            [
             0.2222222222222222,
             "#7201a8"
            ],
            [
             0.3333333333333333,
             "#9c179e"
            ],
            [
             0.4444444444444444,
             "#bd3786"
            ],
            [
             0.5555555555555556,
             "#d8576b"
            ],
            [
             0.6666666666666666,
             "#ed7953"
            ],
            [
             0.7777777777777778,
             "#fb9f3a"
            ],
            [
             0.8888888888888888,
             "#fdca26"
            ],
            [
             1,
             "#f0f921"
            ]
           ]
          },
          "colorway": [
           "#636efa",
           "#EF553B",
           "#00cc96",
           "#ab63fa",
           "#FFA15A",
           "#19d3f3",
           "#FF6692",
           "#B6E880",
           "#FF97FF",
           "#FECB52"
          ],
          "font": {
           "color": "#2a3f5f"
          },
          "geo": {
           "bgcolor": "white",
           "lakecolor": "white",
           "landcolor": "#E5ECF6",
           "showlakes": true,
           "showland": true,
           "subunitcolor": "white"
          },
          "hoverlabel": {
           "align": "left"
          },
          "hovermode": "closest",
          "mapbox": {
           "style": "light"
          },
          "paper_bgcolor": "white",
          "plot_bgcolor": "#E5ECF6",
          "polar": {
           "angularaxis": {
            "gridcolor": "white",
            "linecolor": "white",
            "ticks": ""
           },
           "bgcolor": "#E5ECF6",
           "radialaxis": {
            "gridcolor": "white",
            "linecolor": "white",
            "ticks": ""
           }
          },
          "scene": {
           "xaxis": {
            "backgroundcolor": "#E5ECF6",
            "gridcolor": "white",
            "gridwidth": 2,
            "linecolor": "white",
            "showbackground": true,
            "ticks": "",
            "zerolinecolor": "white"
           },
           "yaxis": {
            "backgroundcolor": "#E5ECF6",
            "gridcolor": "white",
            "gridwidth": 2,
            "linecolor": "white",
            "showbackground": true,
            "ticks": "",
            "zerolinecolor": "white"
           },
           "zaxis": {
            "backgroundcolor": "#E5ECF6",
            "gridcolor": "white",
            "gridwidth": 2,
            "linecolor": "white",
            "showbackground": true,
            "ticks": "",
            "zerolinecolor": "white"
           }
          },
          "shapedefaults": {
           "line": {
            "color": "#2a3f5f"
           }
          },
          "ternary": {
           "aaxis": {
            "gridcolor": "white",
            "linecolor": "white",
            "ticks": ""
           },
           "baxis": {
            "gridcolor": "white",
            "linecolor": "white",
            "ticks": ""
           },
           "bgcolor": "#E5ECF6",
           "caxis": {
            "gridcolor": "white",
            "linecolor": "white",
            "ticks": ""
           }
          },
          "title": {
           "x": 0.05
          },
          "xaxis": {
           "automargin": true,
           "gridcolor": "white",
           "linecolor": "white",
           "ticks": "",
           "zerolinecolor": "white",
           "zerolinewidth": 2
          },
          "yaxis": {
           "automargin": true,
           "gridcolor": "white",
           "linecolor": "white",
           "ticks": "",
           "zerolinecolor": "white",
           "zerolinewidth": 2
          }
         }
        },
        "title": {
         "text": "Number of Recreational Facilities by state"
        }
       }
      },
      "text/html": [
       "<div>\n",
       "        \n",
       "        \n",
       "            <div id=\"6ec10dd2-abdb-4382-bd8d-b99943aa8692\" class=\"plotly-graph-div\" style=\"height:525px; width:100%;\"></div>\n",
       "            <script type=\"text/javascript\">\n",
       "                require([\"plotly\"], function(Plotly) {\n",
       "                    window.PLOTLYENV=window.PLOTLYENV || {};\n",
       "                    \n",
       "                if (document.getElementById(\"6ec10dd2-abdb-4382-bd8d-b99943aa8692\")) {\n",
       "                    Plotly.newPlot(\n",
       "                        '6ec10dd2-abdb-4382-bd8d-b99943aa8692',\n",
       "                        [{\"colorbar\": {\"title\": {\"text\": \"Number of Recreational Facilities\"}}, \"colorscale\": [[0.0, \"#440154\"], [0.1111111111111111, \"#482878\"], [0.2222222222222222, \"#3e4989\"], [0.3333333333333333, \"#31688e\"], [0.4444444444444444, \"#26828e\"], [0.5555555555555556, \"#1f9e89\"], [0.6666666666666666, \"#35b779\"], [0.7777777777777778, \"#6ece58\"], [0.8888888888888888, \"#b5de2b\"], [1.0, \"#fde725\"]], \"locationmode\": \"USA-states\", \"locations\": [\"AK\", \"AL\", \"AR\", \"AZ\", \"CA\", \"CO\", \"CT\", \"DE\", \"FL\", \"GA\", \"HI\", \"IA\", \"ID\", \"IL\", \"IN\", \"KS\", \"KY\", \"LA\", \"MA\", \"MD\", \"ME\", \"MI\", \"MN\", \"MO\", \"MS\", \"MT\", \"NC\", \"ND\", \"NE\", \"NH\", \"NJ\", \"NM\", \"NV\", \"NY\", \"OH\", \"OK\", \"OR\", \"PA\", \"RI\", \"SC\", \"SD\", \"TN\", \"TX\", \"UT\", \"VA\", \"WA\", \"WI\", \"WV\", \"WY\"], \"type\": \"choropleth\", \"z\": [7.0, 0.0, 0.0, 3.0, 1.0, 0.0, 14.0, 83.0, 0.0, 0.0, 15.0, 0.0, 0.0, 0.0, 1.0, 0.0, 0.0, 0.0, 44.0, 12.0, 4.0, 0.0, 0.0, 0.0, 0.0, 0.0, 2.0, 0.0, 0.0, 10.0, 18.0, 0.0, 0.0, 5.0, 2.0, 0.0, 2.0, 3.0, 13.0, 0.0, 0.0, 0.0, 0.0, 1.0, 1.0, 0.0, 1.0, 0.0, 2.0]}],\n",
       "                        {\"geo\": {\"scope\": \"usa\"}, \"template\": {\"data\": {\"bar\": [{\"error_x\": {\"color\": \"#2a3f5f\"}, \"error_y\": {\"color\": \"#2a3f5f\"}, \"marker\": {\"line\": {\"color\": \"#E5ECF6\", \"width\": 0.5}}, \"type\": \"bar\"}], \"barpolar\": [{\"marker\": {\"line\": {\"color\": \"#E5ECF6\", \"width\": 0.5}}, \"type\": \"barpolar\"}], \"carpet\": [{\"aaxis\": {\"endlinecolor\": \"#2a3f5f\", \"gridcolor\": \"white\", \"linecolor\": \"white\", \"minorgridcolor\": \"white\", \"startlinecolor\": \"#2a3f5f\"}, \"baxis\": {\"endlinecolor\": \"#2a3f5f\", \"gridcolor\": \"white\", \"linecolor\": \"white\", \"minorgridcolor\": \"white\", \"startlinecolor\": \"#2a3f5f\"}, \"type\": \"carpet\"}], \"choropleth\": [{\"colorbar\": {\"outlinewidth\": 0, \"ticks\": \"\"}, \"type\": \"choropleth\"}], \"contour\": [{\"colorbar\": {\"outlinewidth\": 0, \"ticks\": \"\"}, \"colorscale\": [[0.0, \"#0d0887\"], [0.1111111111111111, \"#46039f\"], [0.2222222222222222, \"#7201a8\"], [0.3333333333333333, \"#9c179e\"], [0.4444444444444444, \"#bd3786\"], [0.5555555555555556, \"#d8576b\"], [0.6666666666666666, \"#ed7953\"], [0.7777777777777778, \"#fb9f3a\"], [0.8888888888888888, \"#fdca26\"], [1.0, \"#f0f921\"]], \"type\": \"contour\"}], \"contourcarpet\": [{\"colorbar\": {\"outlinewidth\": 0, \"ticks\": \"\"}, \"type\": \"contourcarpet\"}], \"heatmap\": [{\"colorbar\": {\"outlinewidth\": 0, \"ticks\": \"\"}, \"colorscale\": [[0.0, \"#0d0887\"], [0.1111111111111111, \"#46039f\"], [0.2222222222222222, \"#7201a8\"], [0.3333333333333333, \"#9c179e\"], [0.4444444444444444, \"#bd3786\"], [0.5555555555555556, \"#d8576b\"], [0.6666666666666666, \"#ed7953\"], [0.7777777777777778, \"#fb9f3a\"], [0.8888888888888888, \"#fdca26\"], [1.0, \"#f0f921\"]], \"type\": \"heatmap\"}], \"heatmapgl\": [{\"colorbar\": {\"outlinewidth\": 0, \"ticks\": \"\"}, \"colorscale\": [[0.0, \"#0d0887\"], [0.1111111111111111, \"#46039f\"], [0.2222222222222222, \"#7201a8\"], [0.3333333333333333, \"#9c179e\"], [0.4444444444444444, \"#bd3786\"], [0.5555555555555556, \"#d8576b\"], [0.6666666666666666, \"#ed7953\"], [0.7777777777777778, \"#fb9f3a\"], [0.8888888888888888, \"#fdca26\"], [1.0, \"#f0f921\"]], \"type\": \"heatmapgl\"}], \"histogram\": [{\"marker\": {\"colorbar\": {\"outlinewidth\": 0, \"ticks\": \"\"}}, \"type\": \"histogram\"}], \"histogram2d\": [{\"colorbar\": {\"outlinewidth\": 0, \"ticks\": \"\"}, \"colorscale\": [[0.0, \"#0d0887\"], [0.1111111111111111, \"#46039f\"], [0.2222222222222222, \"#7201a8\"], [0.3333333333333333, \"#9c179e\"], [0.4444444444444444, \"#bd3786\"], [0.5555555555555556, \"#d8576b\"], [0.6666666666666666, \"#ed7953\"], [0.7777777777777778, \"#fb9f3a\"], [0.8888888888888888, \"#fdca26\"], [1.0, \"#f0f921\"]], \"type\": \"histogram2d\"}], \"histogram2dcontour\": [{\"colorbar\": {\"outlinewidth\": 0, \"ticks\": \"\"}, \"colorscale\": [[0.0, \"#0d0887\"], [0.1111111111111111, \"#46039f\"], [0.2222222222222222, \"#7201a8\"], [0.3333333333333333, \"#9c179e\"], [0.4444444444444444, \"#bd3786\"], [0.5555555555555556, \"#d8576b\"], [0.6666666666666666, \"#ed7953\"], [0.7777777777777778, \"#fb9f3a\"], [0.8888888888888888, \"#fdca26\"], [1.0, \"#f0f921\"]], \"type\": \"histogram2dcontour\"}], \"mesh3d\": [{\"colorbar\": {\"outlinewidth\": 0, \"ticks\": \"\"}, \"type\": \"mesh3d\"}], \"parcoords\": [{\"line\": {\"colorbar\": {\"outlinewidth\": 0, \"ticks\": \"\"}}, \"type\": \"parcoords\"}], \"scatter\": [{\"marker\": {\"colorbar\": {\"outlinewidth\": 0, \"ticks\": \"\"}}, \"type\": \"scatter\"}], \"scatter3d\": [{\"line\": {\"colorbar\": {\"outlinewidth\": 0, \"ticks\": \"\"}}, \"marker\": {\"colorbar\": {\"outlinewidth\": 0, \"ticks\": \"\"}}, \"type\": \"scatter3d\"}], \"scattercarpet\": [{\"marker\": {\"colorbar\": {\"outlinewidth\": 0, \"ticks\": \"\"}}, \"type\": \"scattercarpet\"}], \"scattergeo\": [{\"marker\": {\"colorbar\": {\"outlinewidth\": 0, \"ticks\": \"\"}}, \"type\": \"scattergeo\"}], \"scattergl\": [{\"marker\": {\"colorbar\": {\"outlinewidth\": 0, \"ticks\": \"\"}}, \"type\": \"scattergl\"}], \"scattermapbox\": [{\"marker\": {\"colorbar\": {\"outlinewidth\": 0, \"ticks\": \"\"}}, \"type\": \"scattermapbox\"}], \"scatterpolar\": [{\"marker\": {\"colorbar\": {\"outlinewidth\": 0, \"ticks\": \"\"}}, \"type\": \"scatterpolar\"}], \"scatterpolargl\": [{\"marker\": {\"colorbar\": {\"outlinewidth\": 0, \"ticks\": \"\"}}, \"type\": \"scatterpolargl\"}], \"scatterternary\": [{\"marker\": {\"colorbar\": {\"outlinewidth\": 0, \"ticks\": \"\"}}, \"type\": \"scatterternary\"}], \"surface\": [{\"colorbar\": {\"outlinewidth\": 0, \"ticks\": \"\"}, \"colorscale\": [[0.0, \"#0d0887\"], [0.1111111111111111, \"#46039f\"], [0.2222222222222222, \"#7201a8\"], [0.3333333333333333, \"#9c179e\"], [0.4444444444444444, \"#bd3786\"], [0.5555555555555556, \"#d8576b\"], [0.6666666666666666, \"#ed7953\"], [0.7777777777777778, \"#fb9f3a\"], [0.8888888888888888, \"#fdca26\"], [1.0, \"#f0f921\"]], \"type\": \"surface\"}], \"table\": [{\"cells\": {\"fill\": {\"color\": \"#EBF0F8\"}, \"line\": {\"color\": \"white\"}}, \"header\": {\"fill\": {\"color\": \"#C8D4E3\"}, \"line\": {\"color\": \"white\"}}, \"type\": \"table\"}]}, \"layout\": {\"annotationdefaults\": {\"arrowcolor\": \"#2a3f5f\", \"arrowhead\": 0, \"arrowwidth\": 1}, \"colorscale\": {\"diverging\": [[0, \"#8e0152\"], [0.1, \"#c51b7d\"], [0.2, \"#de77ae\"], [0.3, \"#f1b6da\"], [0.4, \"#fde0ef\"], [0.5, \"#f7f7f7\"], [0.6, \"#e6f5d0\"], [0.7, \"#b8e186\"], [0.8, \"#7fbc41\"], [0.9, \"#4d9221\"], [1, \"#276419\"]], \"sequential\": [[0.0, \"#0d0887\"], [0.1111111111111111, \"#46039f\"], [0.2222222222222222, \"#7201a8\"], [0.3333333333333333, \"#9c179e\"], [0.4444444444444444, \"#bd3786\"], [0.5555555555555556, \"#d8576b\"], [0.6666666666666666, \"#ed7953\"], [0.7777777777777778, \"#fb9f3a\"], [0.8888888888888888, \"#fdca26\"], [1.0, \"#f0f921\"]], \"sequentialminus\": [[0.0, \"#0d0887\"], [0.1111111111111111, \"#46039f\"], [0.2222222222222222, \"#7201a8\"], [0.3333333333333333, \"#9c179e\"], [0.4444444444444444, \"#bd3786\"], [0.5555555555555556, \"#d8576b\"], [0.6666666666666666, \"#ed7953\"], [0.7777777777777778, \"#fb9f3a\"], [0.8888888888888888, \"#fdca26\"], [1.0, \"#f0f921\"]]}, \"colorway\": [\"#636efa\", \"#EF553B\", \"#00cc96\", \"#ab63fa\", \"#FFA15A\", \"#19d3f3\", \"#FF6692\", \"#B6E880\", \"#FF97FF\", \"#FECB52\"], \"font\": {\"color\": \"#2a3f5f\"}, \"geo\": {\"bgcolor\": \"white\", \"lakecolor\": \"white\", \"landcolor\": \"#E5ECF6\", \"showlakes\": true, \"showland\": true, \"subunitcolor\": \"white\"}, \"hoverlabel\": {\"align\": \"left\"}, \"hovermode\": \"closest\", \"mapbox\": {\"style\": \"light\"}, \"paper_bgcolor\": \"white\", \"plot_bgcolor\": \"#E5ECF6\", \"polar\": {\"angularaxis\": {\"gridcolor\": \"white\", \"linecolor\": \"white\", \"ticks\": \"\"}, \"bgcolor\": \"#E5ECF6\", \"radialaxis\": {\"gridcolor\": \"white\", \"linecolor\": \"white\", \"ticks\": \"\"}}, \"scene\": {\"xaxis\": {\"backgroundcolor\": \"#E5ECF6\", \"gridcolor\": \"white\", \"gridwidth\": 2, \"linecolor\": \"white\", \"showbackground\": true, \"ticks\": \"\", \"zerolinecolor\": \"white\"}, \"yaxis\": {\"backgroundcolor\": \"#E5ECF6\", \"gridcolor\": \"white\", \"gridwidth\": 2, \"linecolor\": \"white\", \"showbackground\": true, \"ticks\": \"\", \"zerolinecolor\": \"white\"}, \"zaxis\": {\"backgroundcolor\": \"#E5ECF6\", \"gridcolor\": \"white\", \"gridwidth\": 2, \"linecolor\": \"white\", \"showbackground\": true, \"ticks\": \"\", \"zerolinecolor\": \"white\"}}, \"shapedefaults\": {\"line\": {\"color\": \"#2a3f5f\"}}, \"ternary\": {\"aaxis\": {\"gridcolor\": \"white\", \"linecolor\": \"white\", \"ticks\": \"\"}, \"baxis\": {\"gridcolor\": \"white\", \"linecolor\": \"white\", \"ticks\": \"\"}, \"bgcolor\": \"#E5ECF6\", \"caxis\": {\"gridcolor\": \"white\", \"linecolor\": \"white\", \"ticks\": \"\"}}, \"title\": {\"x\": 0.05}, \"xaxis\": {\"automargin\": true, \"gridcolor\": \"white\", \"linecolor\": \"white\", \"ticks\": \"\", \"zerolinecolor\": \"white\", \"zerolinewidth\": 2}, \"yaxis\": {\"automargin\": true, \"gridcolor\": \"white\", \"linecolor\": \"white\", \"ticks\": \"\", \"zerolinecolor\": \"white\", \"zerolinewidth\": 2}}}, \"title\": {\"text\": \"Number of Recreational Facilities by state\"}},\n",
       "                        {\"responsive\": true}\n",
       "                    ).then(function(){\n",
       "                            \n",
       "var gd = document.getElementById('6ec10dd2-abdb-4382-bd8d-b99943aa8692');\n",
       "var x = new MutationObserver(function (mutations, observer) {{\n",
       "        var display = window.getComputedStyle(gd).display;\n",
       "        if (!display || display === 'none') {{\n",
       "            console.log([gd, 'removed!']);\n",
       "            Plotly.purge(gd);\n",
       "            observer.disconnect();\n",
       "        }}\n",
       "}});\n",
       "\n",
       "// Listen for the removal of the full notebook cells\n",
       "var notebookContainer = gd.closest('#notebook-container');\n",
       "if (notebookContainer) {{\n",
       "    x.observe(notebookContainer, {childList: true});\n",
       "}}\n",
       "\n",
       "// Listen for the clearing of the current output cell\n",
       "var outputEl = gd.closest('.output');\n",
       "if (outputEl) {{\n",
       "    x.observe(outputEl, {childList: true});\n",
       "}}\n",
       "\n",
       "                        })\n",
       "                };\n",
       "                });\n",
       "            </script>\n",
       "        </div>"
      ]
     },
     "metadata": {},
     "output_type": "display_data"
    }
   ],
   "source": [
    "import plotly.graph_objects as go\n",
    "fig = go.Figure(data=go.Choropleth(\n",
    "    locations = group_df_rec.index, # Spatial coordinates\n",
    "    z = group_df_rec['RECFAC09'].astype(float), # Data to be color-coded\n",
    "    locationmode = 'USA-states', # set of locations match entries in `locations`\n",
    "    colorscale = 'Viridis',\n",
    "    colorbar_title = \"Number of Recreational Facilities\",\n",
    "))\n",
    "\n",
    "fig.update_layout(\n",
    "    title_text = 'Number of Recreational Facilities by state',\n",
    "    geo_scope='usa', # limite map scope to USA\n",
    ")\n",
    "\n",
    "fig.show()"
   ]
  },
  {
   "cell_type": "markdown",
   "metadata": {},
   "source": [
    "Delaware, Connecticut, Massachusessetts have the highest number of recreational Facilities. These states also have the lowest obesity rate"
   ]
  },
  {
   "cell_type": "code",
   "execution_count": 52,
   "metadata": {},
   "outputs": [
    {
     "data": {
      "text/html": [
       "<div>\n",
       "<style scoped>\n",
       "    .dataframe tbody tr th:only-of-type {\n",
       "        vertical-align: middle;\n",
       "    }\n",
       "\n",
       "    .dataframe tbody tr th {\n",
       "        vertical-align: top;\n",
       "    }\n",
       "\n",
       "    .dataframe thead th {\n",
       "        text-align: right;\n",
       "    }\n",
       "</style>\n",
       "<table border=\"1\" class=\"dataframe\">\n",
       "  <thead>\n",
       "    <tr style=\"text-align: right;\">\n",
       "      <th></th>\n",
       "      <th>name</th>\n",
       "    </tr>\n",
       "    <tr>\n",
       "      <th>province</th>\n",
       "      <th></th>\n",
       "    </tr>\n",
       "  </thead>\n",
       "  <tbody>\n",
       "    <tr>\n",
       "      <td>CA</td>\n",
       "      <td>676</td>\n",
       "    </tr>\n",
       "    <tr>\n",
       "      <td>TX</td>\n",
       "      <td>634</td>\n",
       "    </tr>\n",
       "    <tr>\n",
       "      <td>OH</td>\n",
       "      <td>543</td>\n",
       "    </tr>\n",
       "    <tr>\n",
       "      <td>FL</td>\n",
       "      <td>471</td>\n",
       "    </tr>\n",
       "    <tr>\n",
       "      <td>IN</td>\n",
       "      <td>379</td>\n",
       "    </tr>\n",
       "  </tbody>\n",
       "</table>\n",
       "</div>"
      ],
      "text/plain": [
       "          name\n",
       "province      \n",
       "CA         676\n",
       "TX         634\n",
       "OH         543\n",
       "FL         471\n",
       "IN         379"
      ]
     },
     "execution_count": 52,
     "metadata": {},
     "output_type": "execute_result"
    }
   ],
   "source": [
    "group_df_fastfood.sort_values(by='name', ascending=False).head()"
   ]
  },
  {
   "cell_type": "code",
   "execution_count": null,
   "metadata": {},
   "outputs": [],
   "source": [
    "Not suprising, that texas and california have the highest number of fast food restuarants because of their size. "
   ]
  },
  {
   "cell_type": "code",
   "execution_count": 37,
   "metadata": {},
   "outputs": [
    {
     "data": {
      "application/vnd.plotly.v1+json": {
       "config": {
        "plotlyServerURL": "https://plot.ly"
       },
       "data": [
        {
         "colorbar": {
          "title": {
           "text": "Number of Recreational Facilities"
          }
         },
         "colorscale": [
          [
           0,
           "#440154"
          ],
          [
           0.1111111111111111,
           "#482878"
          ],
          [
           0.2222222222222222,
           "#3e4989"
          ],
          [
           0.3333333333333333,
           "#31688e"
          ],
          [
           0.4444444444444444,
           "#26828e"
          ],
          [
           0.5555555555555556,
           "#1f9e89"
          ],
          [
           0.6666666666666666,
           "#35b779"
          ],
          [
           0.7777777777777778,
           "#6ece58"
          ],
          [
           0.8888888888888888,
           "#b5de2b"
          ],
          [
           1,
           "#fde725"
          ]
         ],
         "locationmode": "USA-states",
         "locations": [
          "AK",
          "AL",
          "AR",
          "AZ",
          "CA",
          "CO",
          "CT",
          "Co Spgs",
          "DC",
          "DE",
          "FL",
          "GA",
          "HI",
          "IA",
          "ID",
          "IL",
          "IN",
          "KS",
          "KY",
          "LA",
          "MA",
          "MD",
          "ME",
          "MI",
          "MN",
          "MO",
          "MS",
          "MT",
          "NC",
          "ND",
          "NE",
          "NH",
          "NJ",
          "NM",
          "NV",
          "NY",
          "OH",
          "OK",
          "OR",
          "PA",
          "RI",
          "SC",
          "SD",
          "TN",
          "TX",
          "UT",
          "VA",
          "VT",
          "WA",
          "WI",
          "WV",
          "WY"
         ],
         "type": "choropleth",
         "z": [
          14,
          236,
          151,
          208,
          676,
          158,
          96,
          5,
          21,
          32,
          471,
          347,
          40,
          166,
          99,
          363,
          379,
          103,
          332,
          237,
          131,
          159,
          44,
          251,
          148,
          334,
          82,
          25,
          358,
          50,
          92,
          36,
          151,
          149,
          135,
          269,
          543,
          208,
          114,
          283,
          24,
          238,
          105,
          245,
          634,
          159,
          327,
          43,
          209,
          186,
          93,
          41
         ]
        }
       ],
       "layout": {
        "geo": {
         "scope": "usa"
        },
        "template": {
         "data": {
          "bar": [
           {
            "error_x": {
             "color": "#2a3f5f"
            },
            "error_y": {
             "color": "#2a3f5f"
            },
            "marker": {
             "line": {
              "color": "#E5ECF6",
              "width": 0.5
             }
            },
            "type": "bar"
           }
          ],
          "barpolar": [
           {
            "marker": {
             "line": {
              "color": "#E5ECF6",
              "width": 0.5
             }
            },
            "type": "barpolar"
           }
          ],
          "carpet": [
           {
            "aaxis": {
             "endlinecolor": "#2a3f5f",
             "gridcolor": "white",
             "linecolor": "white",
             "minorgridcolor": "white",
             "startlinecolor": "#2a3f5f"
            },
            "baxis": {
             "endlinecolor": "#2a3f5f",
             "gridcolor": "white",
             "linecolor": "white",
             "minorgridcolor": "white",
             "startlinecolor": "#2a3f5f"
            },
            "type": "carpet"
           }
          ],
          "choropleth": [
           {
            "colorbar": {
             "outlinewidth": 0,
             "ticks": ""
            },
            "type": "choropleth"
           }
          ],
          "contour": [
           {
            "colorbar": {
             "outlinewidth": 0,
             "ticks": ""
            },
            "colorscale": [
             [
              0,
              "#0d0887"
             ],
             [
              0.1111111111111111,
              "#46039f"
             ],
             [
              0.2222222222222222,
              "#7201a8"
             ],
             [
              0.3333333333333333,
              "#9c179e"
             ],
             [
              0.4444444444444444,
              "#bd3786"
             ],
             [
              0.5555555555555556,
              "#d8576b"
             ],
             [
              0.6666666666666666,
              "#ed7953"
             ],
             [
              0.7777777777777778,
              "#fb9f3a"
             ],
             [
              0.8888888888888888,
              "#fdca26"
             ],
             [
              1,
              "#f0f921"
             ]
            ],
            "type": "contour"
           }
          ],
          "contourcarpet": [
           {
            "colorbar": {
             "outlinewidth": 0,
             "ticks": ""
            },
            "type": "contourcarpet"
           }
          ],
          "heatmap": [
           {
            "colorbar": {
             "outlinewidth": 0,
             "ticks": ""
            },
            "colorscale": [
             [
              0,
              "#0d0887"
             ],
             [
              0.1111111111111111,
              "#46039f"
             ],
             [
              0.2222222222222222,
              "#7201a8"
             ],
             [
              0.3333333333333333,
              "#9c179e"
             ],
             [
              0.4444444444444444,
              "#bd3786"
             ],
             [
              0.5555555555555556,
              "#d8576b"
             ],
             [
              0.6666666666666666,
              "#ed7953"
             ],
             [
              0.7777777777777778,
              "#fb9f3a"
             ],
             [
              0.8888888888888888,
              "#fdca26"
             ],
             [
              1,
              "#f0f921"
             ]
            ],
            "type": "heatmap"
           }
          ],
          "heatmapgl": [
           {
            "colorbar": {
             "outlinewidth": 0,
             "ticks": ""
            },
            "colorscale": [
             [
              0,
              "#0d0887"
             ],
             [
              0.1111111111111111,
              "#46039f"
             ],
             [
              0.2222222222222222,
              "#7201a8"
             ],
             [
              0.3333333333333333,
              "#9c179e"
             ],
             [
              0.4444444444444444,
              "#bd3786"
             ],
             [
              0.5555555555555556,
              "#d8576b"
             ],
             [
              0.6666666666666666,
              "#ed7953"
             ],
             [
              0.7777777777777778,
              "#fb9f3a"
             ],
             [
              0.8888888888888888,
              "#fdca26"
             ],
             [
              1,
              "#f0f921"
             ]
            ],
            "type": "heatmapgl"
           }
          ],
          "histogram": [
           {
            "marker": {
             "colorbar": {
              "outlinewidth": 0,
              "ticks": ""
             }
            },
            "type": "histogram"
           }
          ],
          "histogram2d": [
           {
            "colorbar": {
             "outlinewidth": 0,
             "ticks": ""
            },
            "colorscale": [
             [
              0,
              "#0d0887"
             ],
             [
              0.1111111111111111,
              "#46039f"
             ],
             [
              0.2222222222222222,
              "#7201a8"
             ],
             [
              0.3333333333333333,
              "#9c179e"
             ],
             [
              0.4444444444444444,
              "#bd3786"
             ],
             [
              0.5555555555555556,
              "#d8576b"
             ],
             [
              0.6666666666666666,
              "#ed7953"
             ],
             [
              0.7777777777777778,
              "#fb9f3a"
             ],
             [
              0.8888888888888888,
              "#fdca26"
             ],
             [
              1,
              "#f0f921"
             ]
            ],
            "type": "histogram2d"
           }
          ],
          "histogram2dcontour": [
           {
            "colorbar": {
             "outlinewidth": 0,
             "ticks": ""
            },
            "colorscale": [
             [
              0,
              "#0d0887"
             ],
             [
              0.1111111111111111,
              "#46039f"
             ],
             [
              0.2222222222222222,
              "#7201a8"
             ],
             [
              0.3333333333333333,
              "#9c179e"
             ],
             [
              0.4444444444444444,
              "#bd3786"
             ],
             [
              0.5555555555555556,
              "#d8576b"
             ],
             [
              0.6666666666666666,
              "#ed7953"
             ],
             [
              0.7777777777777778,
              "#fb9f3a"
             ],
             [
              0.8888888888888888,
              "#fdca26"
             ],
             [
              1,
              "#f0f921"
             ]
            ],
            "type": "histogram2dcontour"
           }
          ],
          "mesh3d": [
           {
            "colorbar": {
             "outlinewidth": 0,
             "ticks": ""
            },
            "type": "mesh3d"
           }
          ],
          "parcoords": [
           {
            "line": {
             "colorbar": {
              "outlinewidth": 0,
              "ticks": ""
             }
            },
            "type": "parcoords"
           }
          ],
          "scatter": [
           {
            "marker": {
             "colorbar": {
              "outlinewidth": 0,
              "ticks": ""
             }
            },
            "type": "scatter"
           }
          ],
          "scatter3d": [
           {
            "line": {
             "colorbar": {
              "outlinewidth": 0,
              "ticks": ""
             }
            },
            "marker": {
             "colorbar": {
              "outlinewidth": 0,
              "ticks": ""
             }
            },
            "type": "scatter3d"
           }
          ],
          "scattercarpet": [
           {
            "marker": {
             "colorbar": {
              "outlinewidth": 0,
              "ticks": ""
             }
            },
            "type": "scattercarpet"
           }
          ],
          "scattergeo": [
           {
            "marker": {
             "colorbar": {
              "outlinewidth": 0,
              "ticks": ""
             }
            },
            "type": "scattergeo"
           }
          ],
          "scattergl": [
           {
            "marker": {
             "colorbar": {
              "outlinewidth": 0,
              "ticks": ""
             }
            },
            "type": "scattergl"
           }
          ],
          "scattermapbox": [
           {
            "marker": {
             "colorbar": {
              "outlinewidth": 0,
              "ticks": ""
             }
            },
            "type": "scattermapbox"
           }
          ],
          "scatterpolar": [
           {
            "marker": {
             "colorbar": {
              "outlinewidth": 0,
              "ticks": ""
             }
            },
            "type": "scatterpolar"
           }
          ],
          "scatterpolargl": [
           {
            "marker": {
             "colorbar": {
              "outlinewidth": 0,
              "ticks": ""
             }
            },
            "type": "scatterpolargl"
           }
          ],
          "scatterternary": [
           {
            "marker": {
             "colorbar": {
              "outlinewidth": 0,
              "ticks": ""
             }
            },
            "type": "scatterternary"
           }
          ],
          "surface": [
           {
            "colorbar": {
             "outlinewidth": 0,
             "ticks": ""
            },
            "colorscale": [
             [
              0,
              "#0d0887"
             ],
             [
              0.1111111111111111,
              "#46039f"
             ],
             [
              0.2222222222222222,
              "#7201a8"
             ],
             [
              0.3333333333333333,
              "#9c179e"
             ],
             [
              0.4444444444444444,
              "#bd3786"
             ],
             [
              0.5555555555555556,
              "#d8576b"
             ],
             [
              0.6666666666666666,
              "#ed7953"
             ],
             [
              0.7777777777777778,
              "#fb9f3a"
             ],
             [
              0.8888888888888888,
              "#fdca26"
             ],
             [
              1,
              "#f0f921"
             ]
            ],
            "type": "surface"
           }
          ],
          "table": [
           {
            "cells": {
             "fill": {
              "color": "#EBF0F8"
             },
             "line": {
              "color": "white"
             }
            },
            "header": {
             "fill": {
              "color": "#C8D4E3"
             },
             "line": {
              "color": "white"
             }
            },
            "type": "table"
           }
          ]
         },
         "layout": {
          "annotationdefaults": {
           "arrowcolor": "#2a3f5f",
           "arrowhead": 0,
           "arrowwidth": 1
          },
          "colorscale": {
           "diverging": [
            [
             0,
             "#8e0152"
            ],
            [
             0.1,
             "#c51b7d"
            ],
            [
             0.2,
             "#de77ae"
            ],
            [
             0.3,
             "#f1b6da"
            ],
            [
             0.4,
             "#fde0ef"
            ],
            [
             0.5,
             "#f7f7f7"
            ],
            [
             0.6,
             "#e6f5d0"
            ],
            [
             0.7,
             "#b8e186"
            ],
            [
             0.8,
             "#7fbc41"
            ],
            [
             0.9,
             "#4d9221"
            ],
            [
             1,
             "#276419"
            ]
           ],
           "sequential": [
            [
             0,
             "#0d0887"
            ],
            [
             0.1111111111111111,
             "#46039f"
            ],
            [
             0.2222222222222222,
             "#7201a8"
            ],
            [
             0.3333333333333333,
             "#9c179e"
            ],
            [
             0.4444444444444444,
             "#bd3786"
            ],
            [
             0.5555555555555556,
             "#d8576b"
            ],
            [
             0.6666666666666666,
             "#ed7953"
            ],
            [
             0.7777777777777778,
             "#fb9f3a"
            ],
            [
             0.8888888888888888,
             "#fdca26"
            ],
            [
             1,
             "#f0f921"
            ]
           ],
           "sequentialminus": [
            [
             0,
             "#0d0887"
            ],
            [
             0.1111111111111111,
             "#46039f"
            ],
            [
             0.2222222222222222,
             "#7201a8"
            ],
            [
             0.3333333333333333,
             "#9c179e"
            ],
            [
             0.4444444444444444,
             "#bd3786"
            ],
            [
             0.5555555555555556,
             "#d8576b"
            ],
            [
             0.6666666666666666,
             "#ed7953"
            ],
            [
             0.7777777777777778,
             "#fb9f3a"
            ],
            [
             0.8888888888888888,
             "#fdca26"
            ],
            [
             1,
             "#f0f921"
            ]
           ]
          },
          "colorway": [
           "#636efa",
           "#EF553B",
           "#00cc96",
           "#ab63fa",
           "#FFA15A",
           "#19d3f3",
           "#FF6692",
           "#B6E880",
           "#FF97FF",
           "#FECB52"
          ],
          "font": {
           "color": "#2a3f5f"
          },
          "geo": {
           "bgcolor": "white",
           "lakecolor": "white",
           "landcolor": "#E5ECF6",
           "showlakes": true,
           "showland": true,
           "subunitcolor": "white"
          },
          "hoverlabel": {
           "align": "left"
          },
          "hovermode": "closest",
          "mapbox": {
           "style": "light"
          },
          "paper_bgcolor": "white",
          "plot_bgcolor": "#E5ECF6",
          "polar": {
           "angularaxis": {
            "gridcolor": "white",
            "linecolor": "white",
            "ticks": ""
           },
           "bgcolor": "#E5ECF6",
           "radialaxis": {
            "gridcolor": "white",
            "linecolor": "white",
            "ticks": ""
           }
          },
          "scene": {
           "xaxis": {
            "backgroundcolor": "#E5ECF6",
            "gridcolor": "white",
            "gridwidth": 2,
            "linecolor": "white",
            "showbackground": true,
            "ticks": "",
            "zerolinecolor": "white"
           },
           "yaxis": {
            "backgroundcolor": "#E5ECF6",
            "gridcolor": "white",
            "gridwidth": 2,
            "linecolor": "white",
            "showbackground": true,
            "ticks": "",
            "zerolinecolor": "white"
           },
           "zaxis": {
            "backgroundcolor": "#E5ECF6",
            "gridcolor": "white",
            "gridwidth": 2,
            "linecolor": "white",
            "showbackground": true,
            "ticks": "",
            "zerolinecolor": "white"
           }
          },
          "shapedefaults": {
           "line": {
            "color": "#2a3f5f"
           }
          },
          "ternary": {
           "aaxis": {
            "gridcolor": "white",
            "linecolor": "white",
            "ticks": ""
           },
           "baxis": {
            "gridcolor": "white",
            "linecolor": "white",
            "ticks": ""
           },
           "bgcolor": "#E5ECF6",
           "caxis": {
            "gridcolor": "white",
            "linecolor": "white",
            "ticks": ""
           }
          },
          "title": {
           "x": 0.05
          },
          "xaxis": {
           "automargin": true,
           "gridcolor": "white",
           "linecolor": "white",
           "ticks": "",
           "zerolinecolor": "white",
           "zerolinewidth": 2
          },
          "yaxis": {
           "automargin": true,
           "gridcolor": "white",
           "linecolor": "white",
           "ticks": "",
           "zerolinecolor": "white",
           "zerolinewidth": 2
          }
         }
        },
        "title": {
         "text": "Number of Fastfood Restaurants by state"
        }
       }
      },
      "text/html": [
       "<div>\n",
       "        \n",
       "        \n",
       "            <div id=\"783c05ef-e3f2-408b-b1f0-c287a1b2c311\" class=\"plotly-graph-div\" style=\"height:525px; width:100%;\"></div>\n",
       "            <script type=\"text/javascript\">\n",
       "                require([\"plotly\"], function(Plotly) {\n",
       "                    window.PLOTLYENV=window.PLOTLYENV || {};\n",
       "                    \n",
       "                if (document.getElementById(\"783c05ef-e3f2-408b-b1f0-c287a1b2c311\")) {\n",
       "                    Plotly.newPlot(\n",
       "                        '783c05ef-e3f2-408b-b1f0-c287a1b2c311',\n",
       "                        [{\"colorbar\": {\"title\": {\"text\": \"Number of Recreational Facilities\"}}, \"colorscale\": [[0.0, \"#440154\"], [0.1111111111111111, \"#482878\"], [0.2222222222222222, \"#3e4989\"], [0.3333333333333333, \"#31688e\"], [0.4444444444444444, \"#26828e\"], [0.5555555555555556, \"#1f9e89\"], [0.6666666666666666, \"#35b779\"], [0.7777777777777778, \"#6ece58\"], [0.8888888888888888, \"#b5de2b\"], [1.0, \"#fde725\"]], \"locationmode\": \"USA-states\", \"locations\": [\"AK\", \"AL\", \"AR\", \"AZ\", \"CA\", \"CO\", \"CT\", \"Co Spgs\", \"DC\", \"DE\", \"FL\", \"GA\", \"HI\", \"IA\", \"ID\", \"IL\", \"IN\", \"KS\", \"KY\", \"LA\", \"MA\", \"MD\", \"ME\", \"MI\", \"MN\", \"MO\", \"MS\", \"MT\", \"NC\", \"ND\", \"NE\", \"NH\", \"NJ\", \"NM\", \"NV\", \"NY\", \"OH\", \"OK\", \"OR\", \"PA\", \"RI\", \"SC\", \"SD\", \"TN\", \"TX\", \"UT\", \"VA\", \"VT\", \"WA\", \"WI\", \"WV\", \"WY\"], \"type\": \"choropleth\", \"z\": [14.0, 236.0, 151.0, 208.0, 676.0, 158.0, 96.0, 5.0, 21.0, 32.0, 471.0, 347.0, 40.0, 166.0, 99.0, 363.0, 379.0, 103.0, 332.0, 237.0, 131.0, 159.0, 44.0, 251.0, 148.0, 334.0, 82.0, 25.0, 358.0, 50.0, 92.0, 36.0, 151.0, 149.0, 135.0, 269.0, 543.0, 208.0, 114.0, 283.0, 24.0, 238.0, 105.0, 245.0, 634.0, 159.0, 327.0, 43.0, 209.0, 186.0, 93.0, 41.0]}],\n",
       "                        {\"geo\": {\"scope\": \"usa\"}, \"template\": {\"data\": {\"bar\": [{\"error_x\": {\"color\": \"#2a3f5f\"}, \"error_y\": {\"color\": \"#2a3f5f\"}, \"marker\": {\"line\": {\"color\": \"#E5ECF6\", \"width\": 0.5}}, \"type\": \"bar\"}], \"barpolar\": [{\"marker\": {\"line\": {\"color\": \"#E5ECF6\", \"width\": 0.5}}, \"type\": \"barpolar\"}], \"carpet\": [{\"aaxis\": {\"endlinecolor\": \"#2a3f5f\", \"gridcolor\": \"white\", \"linecolor\": \"white\", \"minorgridcolor\": \"white\", \"startlinecolor\": \"#2a3f5f\"}, \"baxis\": {\"endlinecolor\": \"#2a3f5f\", \"gridcolor\": \"white\", \"linecolor\": \"white\", \"minorgridcolor\": \"white\", \"startlinecolor\": \"#2a3f5f\"}, \"type\": \"carpet\"}], \"choropleth\": [{\"colorbar\": {\"outlinewidth\": 0, \"ticks\": \"\"}, \"type\": \"choropleth\"}], \"contour\": [{\"colorbar\": {\"outlinewidth\": 0, \"ticks\": \"\"}, \"colorscale\": [[0.0, \"#0d0887\"], [0.1111111111111111, \"#46039f\"], [0.2222222222222222, \"#7201a8\"], [0.3333333333333333, \"#9c179e\"], [0.4444444444444444, \"#bd3786\"], [0.5555555555555556, \"#d8576b\"], [0.6666666666666666, \"#ed7953\"], [0.7777777777777778, \"#fb9f3a\"], [0.8888888888888888, \"#fdca26\"], [1.0, \"#f0f921\"]], \"type\": \"contour\"}], \"contourcarpet\": [{\"colorbar\": {\"outlinewidth\": 0, \"ticks\": \"\"}, \"type\": \"contourcarpet\"}], \"heatmap\": [{\"colorbar\": {\"outlinewidth\": 0, \"ticks\": \"\"}, \"colorscale\": [[0.0, \"#0d0887\"], [0.1111111111111111, \"#46039f\"], [0.2222222222222222, \"#7201a8\"], [0.3333333333333333, \"#9c179e\"], [0.4444444444444444, \"#bd3786\"], [0.5555555555555556, \"#d8576b\"], [0.6666666666666666, \"#ed7953\"], [0.7777777777777778, \"#fb9f3a\"], [0.8888888888888888, \"#fdca26\"], [1.0, \"#f0f921\"]], \"type\": \"heatmap\"}], \"heatmapgl\": [{\"colorbar\": {\"outlinewidth\": 0, \"ticks\": \"\"}, \"colorscale\": [[0.0, \"#0d0887\"], [0.1111111111111111, \"#46039f\"], [0.2222222222222222, \"#7201a8\"], [0.3333333333333333, \"#9c179e\"], [0.4444444444444444, \"#bd3786\"], [0.5555555555555556, \"#d8576b\"], [0.6666666666666666, \"#ed7953\"], [0.7777777777777778, \"#fb9f3a\"], [0.8888888888888888, \"#fdca26\"], [1.0, \"#f0f921\"]], \"type\": \"heatmapgl\"}], \"histogram\": [{\"marker\": {\"colorbar\": {\"outlinewidth\": 0, \"ticks\": \"\"}}, \"type\": \"histogram\"}], \"histogram2d\": [{\"colorbar\": {\"outlinewidth\": 0, \"ticks\": \"\"}, \"colorscale\": [[0.0, \"#0d0887\"], [0.1111111111111111, \"#46039f\"], [0.2222222222222222, \"#7201a8\"], [0.3333333333333333, \"#9c179e\"], [0.4444444444444444, \"#bd3786\"], [0.5555555555555556, \"#d8576b\"], [0.6666666666666666, \"#ed7953\"], [0.7777777777777778, \"#fb9f3a\"], [0.8888888888888888, \"#fdca26\"], [1.0, \"#f0f921\"]], \"type\": \"histogram2d\"}], \"histogram2dcontour\": [{\"colorbar\": {\"outlinewidth\": 0, \"ticks\": \"\"}, \"colorscale\": [[0.0, \"#0d0887\"], [0.1111111111111111, \"#46039f\"], [0.2222222222222222, \"#7201a8\"], [0.3333333333333333, \"#9c179e\"], [0.4444444444444444, \"#bd3786\"], [0.5555555555555556, \"#d8576b\"], [0.6666666666666666, \"#ed7953\"], [0.7777777777777778, \"#fb9f3a\"], [0.8888888888888888, \"#fdca26\"], [1.0, \"#f0f921\"]], \"type\": \"histogram2dcontour\"}], \"mesh3d\": [{\"colorbar\": {\"outlinewidth\": 0, \"ticks\": \"\"}, \"type\": \"mesh3d\"}], \"parcoords\": [{\"line\": {\"colorbar\": {\"outlinewidth\": 0, \"ticks\": \"\"}}, \"type\": \"parcoords\"}], \"scatter\": [{\"marker\": {\"colorbar\": {\"outlinewidth\": 0, \"ticks\": \"\"}}, \"type\": \"scatter\"}], \"scatter3d\": [{\"line\": {\"colorbar\": {\"outlinewidth\": 0, \"ticks\": \"\"}}, \"marker\": {\"colorbar\": {\"outlinewidth\": 0, \"ticks\": \"\"}}, \"type\": \"scatter3d\"}], \"scattercarpet\": [{\"marker\": {\"colorbar\": {\"outlinewidth\": 0, \"ticks\": \"\"}}, \"type\": \"scattercarpet\"}], \"scattergeo\": [{\"marker\": {\"colorbar\": {\"outlinewidth\": 0, \"ticks\": \"\"}}, \"type\": \"scattergeo\"}], \"scattergl\": [{\"marker\": {\"colorbar\": {\"outlinewidth\": 0, \"ticks\": \"\"}}, \"type\": \"scattergl\"}], \"scattermapbox\": [{\"marker\": {\"colorbar\": {\"outlinewidth\": 0, \"ticks\": \"\"}}, \"type\": \"scattermapbox\"}], \"scatterpolar\": [{\"marker\": {\"colorbar\": {\"outlinewidth\": 0, \"ticks\": \"\"}}, \"type\": \"scatterpolar\"}], \"scatterpolargl\": [{\"marker\": {\"colorbar\": {\"outlinewidth\": 0, \"ticks\": \"\"}}, \"type\": \"scatterpolargl\"}], \"scatterternary\": [{\"marker\": {\"colorbar\": {\"outlinewidth\": 0, \"ticks\": \"\"}}, \"type\": \"scatterternary\"}], \"surface\": [{\"colorbar\": {\"outlinewidth\": 0, \"ticks\": \"\"}, \"colorscale\": [[0.0, \"#0d0887\"], [0.1111111111111111, \"#46039f\"], [0.2222222222222222, \"#7201a8\"], [0.3333333333333333, \"#9c179e\"], [0.4444444444444444, \"#bd3786\"], [0.5555555555555556, \"#d8576b\"], [0.6666666666666666, \"#ed7953\"], [0.7777777777777778, \"#fb9f3a\"], [0.8888888888888888, \"#fdca26\"], [1.0, \"#f0f921\"]], \"type\": \"surface\"}], \"table\": [{\"cells\": {\"fill\": {\"color\": \"#EBF0F8\"}, \"line\": {\"color\": \"white\"}}, \"header\": {\"fill\": {\"color\": \"#C8D4E3\"}, \"line\": {\"color\": \"white\"}}, \"type\": \"table\"}]}, \"layout\": {\"annotationdefaults\": {\"arrowcolor\": \"#2a3f5f\", \"arrowhead\": 0, \"arrowwidth\": 1}, \"colorscale\": {\"diverging\": [[0, \"#8e0152\"], [0.1, \"#c51b7d\"], [0.2, \"#de77ae\"], [0.3, \"#f1b6da\"], [0.4, \"#fde0ef\"], [0.5, \"#f7f7f7\"], [0.6, \"#e6f5d0\"], [0.7, \"#b8e186\"], [0.8, \"#7fbc41\"], [0.9, \"#4d9221\"], [1, \"#276419\"]], \"sequential\": [[0.0, \"#0d0887\"], [0.1111111111111111, \"#46039f\"], [0.2222222222222222, \"#7201a8\"], [0.3333333333333333, \"#9c179e\"], [0.4444444444444444, \"#bd3786\"], [0.5555555555555556, \"#d8576b\"], [0.6666666666666666, \"#ed7953\"], [0.7777777777777778, \"#fb9f3a\"], [0.8888888888888888, \"#fdca26\"], [1.0, \"#f0f921\"]], \"sequentialminus\": [[0.0, \"#0d0887\"], [0.1111111111111111, \"#46039f\"], [0.2222222222222222, \"#7201a8\"], [0.3333333333333333, \"#9c179e\"], [0.4444444444444444, \"#bd3786\"], [0.5555555555555556, \"#d8576b\"], [0.6666666666666666, \"#ed7953\"], [0.7777777777777778, \"#fb9f3a\"], [0.8888888888888888, \"#fdca26\"], [1.0, \"#f0f921\"]]}, \"colorway\": [\"#636efa\", \"#EF553B\", \"#00cc96\", \"#ab63fa\", \"#FFA15A\", \"#19d3f3\", \"#FF6692\", \"#B6E880\", \"#FF97FF\", \"#FECB52\"], \"font\": {\"color\": \"#2a3f5f\"}, \"geo\": {\"bgcolor\": \"white\", \"lakecolor\": \"white\", \"landcolor\": \"#E5ECF6\", \"showlakes\": true, \"showland\": true, \"subunitcolor\": \"white\"}, \"hoverlabel\": {\"align\": \"left\"}, \"hovermode\": \"closest\", \"mapbox\": {\"style\": \"light\"}, \"paper_bgcolor\": \"white\", \"plot_bgcolor\": \"#E5ECF6\", \"polar\": {\"angularaxis\": {\"gridcolor\": \"white\", \"linecolor\": \"white\", \"ticks\": \"\"}, \"bgcolor\": \"#E5ECF6\", \"radialaxis\": {\"gridcolor\": \"white\", \"linecolor\": \"white\", \"ticks\": \"\"}}, \"scene\": {\"xaxis\": {\"backgroundcolor\": \"#E5ECF6\", \"gridcolor\": \"white\", \"gridwidth\": 2, \"linecolor\": \"white\", \"showbackground\": true, \"ticks\": \"\", \"zerolinecolor\": \"white\"}, \"yaxis\": {\"backgroundcolor\": \"#E5ECF6\", \"gridcolor\": \"white\", \"gridwidth\": 2, \"linecolor\": \"white\", \"showbackground\": true, \"ticks\": \"\", \"zerolinecolor\": \"white\"}, \"zaxis\": {\"backgroundcolor\": \"#E5ECF6\", \"gridcolor\": \"white\", \"gridwidth\": 2, \"linecolor\": \"white\", \"showbackground\": true, \"ticks\": \"\", \"zerolinecolor\": \"white\"}}, \"shapedefaults\": {\"line\": {\"color\": \"#2a3f5f\"}}, \"ternary\": {\"aaxis\": {\"gridcolor\": \"white\", \"linecolor\": \"white\", \"ticks\": \"\"}, \"baxis\": {\"gridcolor\": \"white\", \"linecolor\": \"white\", \"ticks\": \"\"}, \"bgcolor\": \"#E5ECF6\", \"caxis\": {\"gridcolor\": \"white\", \"linecolor\": \"white\", \"ticks\": \"\"}}, \"title\": {\"x\": 0.05}, \"xaxis\": {\"automargin\": true, \"gridcolor\": \"white\", \"linecolor\": \"white\", \"ticks\": \"\", \"zerolinecolor\": \"white\", \"zerolinewidth\": 2}, \"yaxis\": {\"automargin\": true, \"gridcolor\": \"white\", \"linecolor\": \"white\", \"ticks\": \"\", \"zerolinecolor\": \"white\", \"zerolinewidth\": 2}}}, \"title\": {\"text\": \"Number of Fastfood Restaurants by state\"}},\n",
       "                        {\"responsive\": true}\n",
       "                    ).then(function(){\n",
       "                            \n",
       "var gd = document.getElementById('783c05ef-e3f2-408b-b1f0-c287a1b2c311');\n",
       "var x = new MutationObserver(function (mutations, observer) {{\n",
       "        var display = window.getComputedStyle(gd).display;\n",
       "        if (!display || display === 'none') {{\n",
       "            console.log([gd, 'removed!']);\n",
       "            Plotly.purge(gd);\n",
       "            observer.disconnect();\n",
       "        }}\n",
       "}});\n",
       "\n",
       "// Listen for the removal of the full notebook cells\n",
       "var notebookContainer = gd.closest('#notebook-container');\n",
       "if (notebookContainer) {{\n",
       "    x.observe(notebookContainer, {childList: true});\n",
       "}}\n",
       "\n",
       "// Listen for the clearing of the current output cell\n",
       "var outputEl = gd.closest('.output');\n",
       "if (outputEl) {{\n",
       "    x.observe(outputEl, {childList: true});\n",
       "}}\n",
       "\n",
       "                        })\n",
       "                };\n",
       "                });\n",
       "            </script>\n",
       "        </div>"
      ]
     },
     "metadata": {},
     "output_type": "display_data"
    }
   ],
   "source": [
    "import plotly.graph_objects as go\n",
    "fig = go.Figure(data=go.Choropleth(\n",
    "    locations = group_df_fastfood.index, # Spatial coordinates\n",
    "    z = group_df_fastfood['name'].astype(float), # Data to be color-coded\n",
    "    locationmode = 'USA-states', # set of locations match entries in `locations`\n",
    "    colorscale = 'Viridis',\n",
    "    colorbar_title = \"Number of Recreational Facilities\",\n",
    "))\n",
    "\n",
    "fig.update_layout(\n",
    "    title_text = 'Number of Fastfood Restaurants by state',\n",
    "    geo_scope='usa', # limite map scope to USA\n",
    ")\n",
    "\n",
    "fig.show()"
   ]
  }
 ],
 "metadata": {
  "kernelspec": {
   "display_name": "Python 3",
   "language": "python",
   "name": "python3"
  },
  "language_info": {
   "codemirror_mode": {
    "name": "ipython",
    "version": 3
   },
   "file_extension": ".py",
   "mimetype": "text/x-python",
   "name": "python",
   "nbconvert_exporter": "python",
   "pygments_lexer": "ipython3",
   "version": "3.7.4"
  }
 },
 "nbformat": 4,
 "nbformat_minor": 2
}
