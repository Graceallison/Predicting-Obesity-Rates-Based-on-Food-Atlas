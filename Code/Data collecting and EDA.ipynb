{
 "cells": [
  {
   "cell_type": "markdown",
   "metadata": {},
   "source": [
    "# Predicting-Obesity-Rate-Based-on-Food-Atlas"
   ]
  },
  {
   "cell_type": "markdown",
   "metadata": {},
   "source": [
    "## 1.Data collecting and EDA"
   ]
  },
  {
   "cell_type": "markdown",
   "metadata": {},
   "source": [
    "## Contents\n",
    "- [Import Packages](#Import-Packages)\n",
    "- [Problem Statement](#Problem-Statement)\n",
    "- [Outside Research](#Outside-Research)\n",
    "- [Executive Summary](#Executive-Summary)\n",
    "- [EDA](#EDA)\n",
    "    - [Merging The dataset](#Merging-The-Dataset)\n",
    "    - [Cleaning The Merged Dataset](#Cleaning-The-Merged-Dataset)"
   ]
  },
  {
   "cell_type": "markdown",
   "metadata": {},
   "source": [
    "## Import Packages "
   ]
  },
  {
   "cell_type": "code",
   "execution_count": 1,
   "metadata": {},
   "outputs": [],
   "source": [
    "import pandas as pd\n",
    "import numpy as np\n",
    "from pandas import Series, DataFrame\n",
    "import numpy as np\n",
    "import pandas as pd\n",
    "import matplotlib.pyplot as plt\n",
    "import seaborn as sns\n",
    "from sklearn.preprocessing import StandardScaler\n",
    "from sklearn import metrics\n",
    "from sklearn.linear_model import LinearRegression\n",
    "from sklearn.model_selection import train_test_split\n",
    "from sklearn.metrics import mean_squared_error\n",
    "from sklearn.dummy import DummyRegressor\n",
    "import matplotlib.pyplot as plt"
   ]
  },
  {
   "cell_type": "markdown",
   "metadata": {},
   "source": [
    "## Problem Statement\n",
    "\n",
    "More than one-third of adults and 18.5% of children are obese. Increasing the access to healthy foods have been in the forefront of policymakers agenda in order to address this worldwide problem. The question we are seeking to answer in this analysis is whether the number of food stores and the availability of local produce in each county can predict the obesity rate for the state. We combined data on food environments from the United States Department of Agriculture in order to analyze the relationships between a person's food environment and the obesity rate of the state. The data set consists of the availability of the number of grocery stores, convenience stores, and full-service and the access to local produce."
   ]
  },
  {
   "cell_type": "markdown",
   "metadata": {},
   "source": [
    "## Outside Research \n",
    "\n",
    "A food atlas or a “food desert” is an area with limited access to affordable and healthy food. It hard for Americans to eat a healthy diet when they don’t have access to healthy food, and this is a main reason why we still have high obesity rates in many parts of the country. The rate of diabetes among Americans has more than double.  The increases of supermarkets that are a half a mile distance from households have resulted in a lower BMI. A person’s food environment can greatly affect obesity rates in the U.S.  People living in low-income neighborhoods have poorer health and higher rates of obesity. The distance to restaurants, fast food restaurants and grocery stores can impact your eating choices. We seeks to show how your food environment can help determine obesity rates for each county in all fifty states of the U.S. We believe that the number of unhealthy food option will cause an increase the obesity levels in the county. Counties with access to healthier food choices will have a negative correlation with obesity rates. \n",
    "\n",
    "\n",
    "Obesity is still a major problem in the United States. Although, we have a better understanding on what is considered a healthy diet, many Americans don’t have access to affordable and healthy food. Americans are also choosing not to follow a healthy lifestyle because of the increased price of the food items. Lower-income households are relying more on “empty calorie” food that are readily available at convenience stores and fast food restaurants . The U.S. Office of Agriculture found that 2.3 million people live more than a mile from the grocery store and don’t own a car. It is also difficult for large supermarkets to find enough space to build their store in urban areas. As a result, the creation of more supermarkets and grocery stores are seen as undesirable. In more rural areas, people lack pubic transportation and the number of grocery stores is growing at a much smaller rate as compared to the rate of fast food restaurants. Philadelphia had the second lowest number of supermarkets among other U.S. major cities and lower income neighborhood at thirty percent less food stores than higher income neighborhooh. The emergence of food deserts came with more upper class households leaving the cities to go to the suburban areas. Studies have found that obesity stems from unhealthy eating habits. Americans have limited access to adequate food and people are at risk for food insecurity and obesity. The U.S. has one of the highest rates in food insecurity when compared to other countries. In order to combat obesity, we need to make is a priority that everyone has equal access to affordable and healthier food choices. A healthy food environment refers to having easy access to supermarkets, farmers markets and convenience stores."
   ]
  },
  {
   "cell_type": "markdown",
   "metadata": {},
   "source": [
    "## EDA"
   ]
  },
  {
   "cell_type": "markdown",
   "metadata": {},
   "source": [
    "The Food Environment Atlas has over 275 variables, including new indicators on access and proximity to a grocery store for sub populations; an indicator on the SNAP Combined Application Project for recipients of Supplemental Security Income (at the State level); and indicators on farmers' markets that report direct selling of the produce. "
   ]
  },
  {
   "cell_type": "markdown",
   "metadata": {},
   "source": [
    "[Data Dictionary ](https://www.ers.usda.gov/webdocs/DataFiles/80526/archived_documentation_August2015.pdf?v=0)"
   ]
  },
  {
   "cell_type": "code",
   "execution_count": 2,
   "metadata": {},
   "outputs": [],
   "source": [
    "fastfood = pd.read_csv('../Data/FastFoodRestaurants.csv')"
   ]
  },
  {
   "cell_type": "code",
   "execution_count": 3,
   "metadata": {},
   "outputs": [
    {
     "data": {
      "text/html": [
       "<div>\n",
       "<style scoped>\n",
       "    .dataframe tbody tr th:only-of-type {\n",
       "        vertical-align: middle;\n",
       "    }\n",
       "\n",
       "    .dataframe tbody tr th {\n",
       "        vertical-align: top;\n",
       "    }\n",
       "\n",
       "    .dataframe thead th {\n",
       "        text-align: right;\n",
       "    }\n",
       "</style>\n",
       "<table border=\"1\" class=\"dataframe\">\n",
       "  <thead>\n",
       "    <tr style=\"text-align: right;\">\n",
       "      <th></th>\n",
       "      <th>address</th>\n",
       "      <th>city</th>\n",
       "      <th>country</th>\n",
       "      <th>keys</th>\n",
       "      <th>latitude</th>\n",
       "      <th>longitude</th>\n",
       "      <th>name</th>\n",
       "      <th>postalCode</th>\n",
       "      <th>province</th>\n",
       "      <th>websites</th>\n",
       "    </tr>\n",
       "  </thead>\n",
       "  <tbody>\n",
       "    <tr>\n",
       "      <td>0</td>\n",
       "      <td>324 Main St</td>\n",
       "      <td>Massena</td>\n",
       "      <td>US</td>\n",
       "      <td>us/ny/massena/324mainst/-1161002137</td>\n",
       "      <td>44.92130</td>\n",
       "      <td>-74.89021</td>\n",
       "      <td>McDonald's</td>\n",
       "      <td>13662</td>\n",
       "      <td>NY</td>\n",
       "      <td>http://mcdonalds.com,http://www.mcdonalds.com/...</td>\n",
       "    </tr>\n",
       "    <tr>\n",
       "      <td>1</td>\n",
       "      <td>530 Clinton Ave</td>\n",
       "      <td>Washington Court House</td>\n",
       "      <td>US</td>\n",
       "      <td>us/oh/washingtoncourthouse/530clintonave/-7914...</td>\n",
       "      <td>39.53255</td>\n",
       "      <td>-83.44526</td>\n",
       "      <td>Wendy's</td>\n",
       "      <td>43160</td>\n",
       "      <td>OH</td>\n",
       "      <td>http://www.wendys.com</td>\n",
       "    </tr>\n",
       "    <tr>\n",
       "      <td>2</td>\n",
       "      <td>408 Market Square Dr</td>\n",
       "      <td>Maysville</td>\n",
       "      <td>US</td>\n",
       "      <td>us/ky/maysville/408marketsquaredr/1051460804</td>\n",
       "      <td>38.62736</td>\n",
       "      <td>-83.79141</td>\n",
       "      <td>Frisch's Big Boy</td>\n",
       "      <td>41056</td>\n",
       "      <td>KY</td>\n",
       "      <td>http://www.frischs.com,https://www.frischs.com...</td>\n",
       "    </tr>\n",
       "    <tr>\n",
       "      <td>3</td>\n",
       "      <td>6098 State Highway 37</td>\n",
       "      <td>Massena</td>\n",
       "      <td>US</td>\n",
       "      <td>us/ny/massena/6098statehighway37/-1161002137</td>\n",
       "      <td>44.95008</td>\n",
       "      <td>-74.84553</td>\n",
       "      <td>McDonald's</td>\n",
       "      <td>13662</td>\n",
       "      <td>NY</td>\n",
       "      <td>http://mcdonalds.com,http://www.mcdonalds.com/...</td>\n",
       "    </tr>\n",
       "    <tr>\n",
       "      <td>4</td>\n",
       "      <td>139 Columbus Rd</td>\n",
       "      <td>Athens</td>\n",
       "      <td>US</td>\n",
       "      <td>us/oh/athens/139columbusrd/990890980</td>\n",
       "      <td>39.35155</td>\n",
       "      <td>-82.09728</td>\n",
       "      <td>OMG! Rotisserie</td>\n",
       "      <td>45701</td>\n",
       "      <td>OH</td>\n",
       "      <td>http://www.omgrotisserie.com,http://omgrotisse...</td>\n",
       "    </tr>\n",
       "  </tbody>\n",
       "</table>\n",
       "</div>"
      ],
      "text/plain": [
       "                 address                    city country  \\\n",
       "0            324 Main St                 Massena      US   \n",
       "1        530 Clinton Ave  Washington Court House      US   \n",
       "2   408 Market Square Dr               Maysville      US   \n",
       "3  6098 State Highway 37                 Massena      US   \n",
       "4        139 Columbus Rd                  Athens      US   \n",
       "\n",
       "                                                keys  latitude  longitude  \\\n",
       "0                us/ny/massena/324mainst/-1161002137  44.92130  -74.89021   \n",
       "1  us/oh/washingtoncourthouse/530clintonave/-7914...  39.53255  -83.44526   \n",
       "2       us/ky/maysville/408marketsquaredr/1051460804  38.62736  -83.79141   \n",
       "3       us/ny/massena/6098statehighway37/-1161002137  44.95008  -74.84553   \n",
       "4               us/oh/athens/139columbusrd/990890980  39.35155  -82.09728   \n",
       "\n",
       "               name postalCode province  \\\n",
       "0        McDonald's      13662       NY   \n",
       "1           Wendy's      43160       OH   \n",
       "2  Frisch's Big Boy      41056       KY   \n",
       "3        McDonald's      13662       NY   \n",
       "4   OMG! Rotisserie      45701       OH   \n",
       "\n",
       "                                            websites  \n",
       "0  http://mcdonalds.com,http://www.mcdonalds.com/...  \n",
       "1                              http://www.wendys.com  \n",
       "2  http://www.frischs.com,https://www.frischs.com...  \n",
       "3  http://mcdonalds.com,http://www.mcdonalds.com/...  \n",
       "4  http://www.omgrotisserie.com,http://omgrotisse...  "
      ]
     },
     "execution_count": 3,
     "metadata": {},
     "output_type": "execute_result"
    }
   ],
   "source": [
    "fastfood.head()"
   ]
  },
  {
   "cell_type": "code",
   "execution_count": 4,
   "metadata": {},
   "outputs": [
    {
     "data": {
      "text/html": [
       "<div>\n",
       "<style scoped>\n",
       "    .dataframe tbody tr th:only-of-type {\n",
       "        vertical-align: middle;\n",
       "    }\n",
       "\n",
       "    .dataframe tbody tr th {\n",
       "        vertical-align: top;\n",
       "    }\n",
       "\n",
       "    .dataframe thead th {\n",
       "        text-align: right;\n",
       "    }\n",
       "</style>\n",
       "<table border=\"1\" class=\"dataframe\">\n",
       "  <thead>\n",
       "    <tr style=\"text-align: right;\">\n",
       "      <th></th>\n",
       "      <th>address</th>\n",
       "      <th>city</th>\n",
       "      <th>country</th>\n",
       "      <th>keys</th>\n",
       "      <th>latitude</th>\n",
       "      <th>longitude</th>\n",
       "      <th>name</th>\n",
       "      <th>postalCode</th>\n",
       "      <th>State</th>\n",
       "      <th>websites</th>\n",
       "    </tr>\n",
       "  </thead>\n",
       "  <tbody>\n",
       "    <tr>\n",
       "      <td>0</td>\n",
       "      <td>324 Main St</td>\n",
       "      <td>Massena</td>\n",
       "      <td>US</td>\n",
       "      <td>us/ny/massena/324mainst/-1161002137</td>\n",
       "      <td>44.92130</td>\n",
       "      <td>-74.89021</td>\n",
       "      <td>McDonald's</td>\n",
       "      <td>13662</td>\n",
       "      <td>NY</td>\n",
       "      <td>http://mcdonalds.com,http://www.mcdonalds.com/...</td>\n",
       "    </tr>\n",
       "    <tr>\n",
       "      <td>1</td>\n",
       "      <td>530 Clinton Ave</td>\n",
       "      <td>Washington Court House</td>\n",
       "      <td>US</td>\n",
       "      <td>us/oh/washingtoncourthouse/530clintonave/-7914...</td>\n",
       "      <td>39.53255</td>\n",
       "      <td>-83.44526</td>\n",
       "      <td>Wendy's</td>\n",
       "      <td>43160</td>\n",
       "      <td>OH</td>\n",
       "      <td>http://www.wendys.com</td>\n",
       "    </tr>\n",
       "    <tr>\n",
       "      <td>2</td>\n",
       "      <td>408 Market Square Dr</td>\n",
       "      <td>Maysville</td>\n",
       "      <td>US</td>\n",
       "      <td>us/ky/maysville/408marketsquaredr/1051460804</td>\n",
       "      <td>38.62736</td>\n",
       "      <td>-83.79141</td>\n",
       "      <td>Frisch's Big Boy</td>\n",
       "      <td>41056</td>\n",
       "      <td>KY</td>\n",
       "      <td>http://www.frischs.com,https://www.frischs.com...</td>\n",
       "    </tr>\n",
       "    <tr>\n",
       "      <td>3</td>\n",
       "      <td>6098 State Highway 37</td>\n",
       "      <td>Massena</td>\n",
       "      <td>US</td>\n",
       "      <td>us/ny/massena/6098statehighway37/-1161002137</td>\n",
       "      <td>44.95008</td>\n",
       "      <td>-74.84553</td>\n",
       "      <td>McDonald's</td>\n",
       "      <td>13662</td>\n",
       "      <td>NY</td>\n",
       "      <td>http://mcdonalds.com,http://www.mcdonalds.com/...</td>\n",
       "    </tr>\n",
       "    <tr>\n",
       "      <td>4</td>\n",
       "      <td>139 Columbus Rd</td>\n",
       "      <td>Athens</td>\n",
       "      <td>US</td>\n",
       "      <td>us/oh/athens/139columbusrd/990890980</td>\n",
       "      <td>39.35155</td>\n",
       "      <td>-82.09728</td>\n",
       "      <td>OMG! Rotisserie</td>\n",
       "      <td>45701</td>\n",
       "      <td>OH</td>\n",
       "      <td>http://www.omgrotisserie.com,http://omgrotisse...</td>\n",
       "    </tr>\n",
       "  </tbody>\n",
       "</table>\n",
       "</div>"
      ],
      "text/plain": [
       "                 address                    city country  \\\n",
       "0            324 Main St                 Massena      US   \n",
       "1        530 Clinton Ave  Washington Court House      US   \n",
       "2   408 Market Square Dr               Maysville      US   \n",
       "3  6098 State Highway 37                 Massena      US   \n",
       "4        139 Columbus Rd                  Athens      US   \n",
       "\n",
       "                                                keys  latitude  longitude  \\\n",
       "0                us/ny/massena/324mainst/-1161002137  44.92130  -74.89021   \n",
       "1  us/oh/washingtoncourthouse/530clintonave/-7914...  39.53255  -83.44526   \n",
       "2       us/ky/maysville/408marketsquaredr/1051460804  38.62736  -83.79141   \n",
       "3       us/ny/massena/6098statehighway37/-1161002137  44.95008  -74.84553   \n",
       "4               us/oh/athens/139columbusrd/990890980  39.35155  -82.09728   \n",
       "\n",
       "               name postalCode State  \\\n",
       "0        McDonald's      13662    NY   \n",
       "1           Wendy's      43160    OH   \n",
       "2  Frisch's Big Boy      41056    KY   \n",
       "3        McDonald's      13662    NY   \n",
       "4   OMG! Rotisserie      45701    OH   \n",
       "\n",
       "                                            websites  \n",
       "0  http://mcdonalds.com,http://www.mcdonalds.com/...  \n",
       "1                              http://www.wendys.com  \n",
       "2  http://www.frischs.com,https://www.frischs.com...  \n",
       "3  http://mcdonalds.com,http://www.mcdonalds.com/...  \n",
       "4  http://www.omgrotisserie.com,http://omgrotisse...  "
      ]
     },
     "execution_count": 4,
     "metadata": {},
     "output_type": "execute_result"
    }
   ],
   "source": [
    "fastfood.rename(columns = {'province' : 'State'}, inplace=True)\n",
    "fastfood.head()"
   ]
  },
  {
   "cell_type": "code",
   "execution_count": 5,
   "metadata": {},
   "outputs": [
    {
     "data": {
      "text/plain": [
       "address         0\n",
       "city            0\n",
       "country         0\n",
       "keys            0\n",
       "latitude        0\n",
       "longitude       0\n",
       "name            0\n",
       "postalCode      0\n",
       "State           0\n",
       "websites      465\n",
       "dtype: int64"
      ]
     },
     "execution_count": 5,
     "metadata": {},
     "output_type": "execute_result"
    }
   ],
   "source": [
    "fastfood.isnull().sum()"
   ]
  },
  {
   "cell_type": "code",
   "execution_count": 6,
   "metadata": {},
   "outputs": [],
   "source": [
    "fastfood.drop(columns='websites', inplace = True)"
   ]
  },
  {
   "cell_type": "code",
   "execution_count": 7,
   "metadata": {},
   "outputs": [
    {
     "name": "stdout",
     "output_type": "stream",
     "text": [
      "<class 'pandas.core.frame.DataFrame'>\n",
      "RangeIndex: 3143 entries, 0 to 3142\n",
      "Data columns (total 14 columns):\n",
      "FIPS                     3143 non-null int64\n",
      "State                    3143 non-null object\n",
      "County                   3143 non-null object\n",
      "PCT_DIABETES_ADULTS08    3138 non-null float64\n",
      "PCT_DIABETES_ADULTS13    3142 non-null float64\n",
      "PCT_OBESE_ADULTS08       3138 non-null float64\n",
      "PCT_OBESE_ADULTS13       3142 non-null float64\n",
      "PCT_HSPA15               2025 non-null float64\n",
      "RECFAC09                 3143 non-null int64\n",
      "RECFAC14                 3143 non-null int64\n",
      "PCH_RECFAC_09_14         3020 non-null float64\n",
      "RECFACPTH09              3143 non-null float64\n",
      "RECFACPTH14              3143 non-null float64\n",
      "PCH_RECFACPTH_09_14      3020 non-null float64\n",
      "dtypes: float64(9), int64(3), object(2)\n",
      "memory usage: 343.9+ KB\n"
     ]
    }
   ],
   "source": [
    "health = pd.read_excel('../Data/DataDownloadfull.xls',sheet_name='HEALTH')\n",
    "health.info()"
   ]
  },
  {
   "cell_type": "markdown",
   "metadata": {},
   "source": [
    "PCT_obese_adults13 should be the y values on train that we are predicting"
   ]
  },
  {
   "cell_type": "code",
   "execution_count": 8,
   "metadata": {},
   "outputs": [
    {
     "data": {
      "text/plain": [
       "FIPS                        0\n",
       "State                       0\n",
       "County                      0\n",
       "PCT_DIABETES_ADULTS08       5\n",
       "PCT_DIABETES_ADULTS13       1\n",
       "PCT_OBESE_ADULTS08          5\n",
       "PCT_OBESE_ADULTS13          1\n",
       "PCT_HSPA15               1118\n",
       "RECFAC09                    0\n",
       "RECFAC14                    0\n",
       "PCH_RECFAC_09_14          123\n",
       "RECFACPTH09                 0\n",
       "RECFACPTH14                 0\n",
       "PCH_RECFACPTH_09_14       123\n",
       "dtype: int64"
      ]
     },
     "execution_count": 8,
     "metadata": {},
     "output_type": "execute_result"
    }
   ],
   "source": [
    "health.isnull().sum()"
   ]
  },
  {
   "cell_type": "markdown",
   "metadata": {},
   "source": [
    "We will drop PCT_HSPA15, PCH_RECFAC_09_14, and PCH_RECFACPTH_09_14 More focused on the pct of obese adults."
   ]
  },
  {
   "cell_type": "code",
   "execution_count": 9,
   "metadata": {},
   "outputs": [],
   "source": [
    "health.drop(columns=['PCT_HSPA15', 'PCH_RECFAC_09_14','PCH_RECFACPTH_09_14', 'RECFACPTH09','RECFACPTH14'], inplace=True)"
   ]
  },
  {
   "cell_type": "code",
   "execution_count": 10,
   "metadata": {},
   "outputs": [],
   "source": [
    "#drop the rest of the NA's\n",
    "health.dropna(inplace=True)"
   ]
  },
  {
   "cell_type": "code",
   "execution_count": 11,
   "metadata": {},
   "outputs": [
    {
     "data": {
      "text/plain": [
       "FIPS                     0\n",
       "State                    0\n",
       "County                   0\n",
       "PCT_DIABETES_ADULTS08    0\n",
       "PCT_DIABETES_ADULTS13    0\n",
       "PCT_OBESE_ADULTS08       0\n",
       "PCT_OBESE_ADULTS13       0\n",
       "RECFAC09                 0\n",
       "RECFAC14                 0\n",
       "dtype: int64"
      ]
     },
     "execution_count": 11,
     "metadata": {},
     "output_type": "execute_result"
    }
   ],
   "source": [
    "health.isnull().sum()"
   ]
  },
  {
   "cell_type": "markdown",
   "metadata": {},
   "source": [
    "The local dataframe talks about the access to local produce either through a farmersmarket or a local farmer. "
   ]
  },
  {
   "cell_type": "code",
   "execution_count": 12,
   "metadata": {},
   "outputs": [
    {
     "data": {
      "text/html": [
       "<div>\n",
       "<style scoped>\n",
       "    .dataframe tbody tr th:only-of-type {\n",
       "        vertical-align: middle;\n",
       "    }\n",
       "\n",
       "    .dataframe tbody tr th {\n",
       "        vertical-align: top;\n",
       "    }\n",
       "\n",
       "    .dataframe thead th {\n",
       "        text-align: right;\n",
       "    }\n",
       "</style>\n",
       "<table border=\"1\" class=\"dataframe\">\n",
       "  <thead>\n",
       "    <tr style=\"text-align: right;\">\n",
       "      <th></th>\n",
       "      <th>FIPS</th>\n",
       "      <th>State</th>\n",
       "      <th>County</th>\n",
       "      <th>DIRSALES_FARMS07</th>\n",
       "      <th>DIRSALES_FARMS12</th>\n",
       "      <th>PCH_DIRSALES_FARMS_07_12</th>\n",
       "      <th>PCT_LOCLFARM07</th>\n",
       "      <th>PCT_LOCLFARM12</th>\n",
       "      <th>PCT_LOCLSALE07</th>\n",
       "      <th>PCT_LOCLSALE12</th>\n",
       "      <th>...</th>\n",
       "      <th>CSA12</th>\n",
       "      <th>PCH_CSA_07_12</th>\n",
       "      <th>AGRITRSM_OPS07</th>\n",
       "      <th>AGRITRSM_OPS12</th>\n",
       "      <th>PCH_AGRITRSM_OPS_07_12</th>\n",
       "      <th>AGRITRSM_RCT07</th>\n",
       "      <th>AGRITRSM_RCT12</th>\n",
       "      <th>PCH_AGRITRSM_RCT_07_12</th>\n",
       "      <th>FARM_TO_SCHOOL09</th>\n",
       "      <th>FARM_TO_SCHOOL13</th>\n",
       "    </tr>\n",
       "  </thead>\n",
       "  <tbody>\n",
       "    <tr>\n",
       "      <td>0</td>\n",
       "      <td>1001</td>\n",
       "      <td>AL</td>\n",
       "      <td>Autauga</td>\n",
       "      <td>25.0</td>\n",
       "      <td>51.0</td>\n",
       "      <td>104.000000</td>\n",
       "      <td>6.024096</td>\n",
       "      <td>13.110540</td>\n",
       "      <td>0.596374</td>\n",
       "      <td>1.554692</td>\n",
       "      <td>...</td>\n",
       "      <td>3.0</td>\n",
       "      <td>50.000000</td>\n",
       "      <td>7.0</td>\n",
       "      <td>10.0</td>\n",
       "      <td>42.857143</td>\n",
       "      <td>228000.0</td>\n",
       "      <td>146000.0</td>\n",
       "      <td>-35.964912</td>\n",
       "      <td>0.0</td>\n",
       "      <td>NaN</td>\n",
       "    </tr>\n",
       "    <tr>\n",
       "      <td>1</td>\n",
       "      <td>1003</td>\n",
       "      <td>AL</td>\n",
       "      <td>Baldwin</td>\n",
       "      <td>80.0</td>\n",
       "      <td>103.0</td>\n",
       "      <td>28.750000</td>\n",
       "      <td>7.023705</td>\n",
       "      <td>10.414560</td>\n",
       "      <td>0.712634</td>\n",
       "      <td>0.478010</td>\n",
       "      <td>...</td>\n",
       "      <td>7.0</td>\n",
       "      <td>-46.153846</td>\n",
       "      <td>18.0</td>\n",
       "      <td>16.0</td>\n",
       "      <td>-11.111111</td>\n",
       "      <td>124000.0</td>\n",
       "      <td>204000.0</td>\n",
       "      <td>64.516129</td>\n",
       "      <td>0.0</td>\n",
       "      <td>0.0</td>\n",
       "    </tr>\n",
       "    <tr>\n",
       "      <td>2</td>\n",
       "      <td>1005</td>\n",
       "      <td>AL</td>\n",
       "      <td>Barbour</td>\n",
       "      <td>18.0</td>\n",
       "      <td>13.0</td>\n",
       "      <td>-27.777778</td>\n",
       "      <td>2.889246</td>\n",
       "      <td>2.276708</td>\n",
       "      <td>0.015403</td>\n",
       "      <td>0.012457</td>\n",
       "      <td>...</td>\n",
       "      <td>0.0</td>\n",
       "      <td>-100.000000</td>\n",
       "      <td>27.0</td>\n",
       "      <td>32.0</td>\n",
       "      <td>18.518519</td>\n",
       "      <td>163000.0</td>\n",
       "      <td>304000.0</td>\n",
       "      <td>86.503067</td>\n",
       "      <td>0.0</td>\n",
       "      <td>1.0</td>\n",
       "    </tr>\n",
       "    <tr>\n",
       "      <td>3</td>\n",
       "      <td>1007</td>\n",
       "      <td>AL</td>\n",
       "      <td>Bibb</td>\n",
       "      <td>12.0</td>\n",
       "      <td>13.0</td>\n",
       "      <td>8.333333</td>\n",
       "      <td>5.687204</td>\n",
       "      <td>6.878307</td>\n",
       "      <td>NaN</td>\n",
       "      <td>NaN</td>\n",
       "      <td>...</td>\n",
       "      <td>3.0</td>\n",
       "      <td>50.000000</td>\n",
       "      <td>5.0</td>\n",
       "      <td>6.0</td>\n",
       "      <td>20.000000</td>\n",
       "      <td>NaN</td>\n",
       "      <td>21000.0</td>\n",
       "      <td>NaN</td>\n",
       "      <td>0.0</td>\n",
       "      <td>0.0</td>\n",
       "    </tr>\n",
       "    <tr>\n",
       "      <td>4</td>\n",
       "      <td>1009</td>\n",
       "      <td>AL</td>\n",
       "      <td>Blount</td>\n",
       "      <td>84.0</td>\n",
       "      <td>88.0</td>\n",
       "      <td>4.761905</td>\n",
       "      <td>5.940594</td>\n",
       "      <td>7.091056</td>\n",
       "      <td>0.267717</td>\n",
       "      <td>0.277792</td>\n",
       "      <td>...</td>\n",
       "      <td>4.0</td>\n",
       "      <td>-42.857143</td>\n",
       "      <td>10.0</td>\n",
       "      <td>8.0</td>\n",
       "      <td>-20.000000</td>\n",
       "      <td>293000.0</td>\n",
       "      <td>30000.0</td>\n",
       "      <td>-89.761092</td>\n",
       "      <td>0.0</td>\n",
       "      <td>1.0</td>\n",
       "    </tr>\n",
       "  </tbody>\n",
       "</table>\n",
       "<p>5 rows × 100 columns</p>\n",
       "</div>"
      ],
      "text/plain": [
       "   FIPS State   County  DIRSALES_FARMS07  DIRSALES_FARMS12  \\\n",
       "0  1001    AL  Autauga              25.0              51.0   \n",
       "1  1003    AL  Baldwin              80.0             103.0   \n",
       "2  1005    AL  Barbour              18.0              13.0   \n",
       "3  1007    AL     Bibb              12.0              13.0   \n",
       "4  1009    AL   Blount              84.0              88.0   \n",
       "\n",
       "   PCH_DIRSALES_FARMS_07_12  PCT_LOCLFARM07  PCT_LOCLFARM12  PCT_LOCLSALE07  \\\n",
       "0                104.000000        6.024096       13.110540        0.596374   \n",
       "1                 28.750000        7.023705       10.414560        0.712634   \n",
       "2                -27.777778        2.889246        2.276708        0.015403   \n",
       "3                  8.333333        5.687204        6.878307             NaN   \n",
       "4                  4.761905        5.940594        7.091056        0.267717   \n",
       "\n",
       "   PCT_LOCLSALE12  ...  CSA12  PCH_CSA_07_12  AGRITRSM_OPS07  AGRITRSM_OPS12  \\\n",
       "0        1.554692  ...    3.0      50.000000             7.0            10.0   \n",
       "1        0.478010  ...    7.0     -46.153846            18.0            16.0   \n",
       "2        0.012457  ...    0.0    -100.000000            27.0            32.0   \n",
       "3             NaN  ...    3.0      50.000000             5.0             6.0   \n",
       "4        0.277792  ...    4.0     -42.857143            10.0             8.0   \n",
       "\n",
       "   PCH_AGRITRSM_OPS_07_12  AGRITRSM_RCT07  AGRITRSM_RCT12  \\\n",
       "0               42.857143        228000.0        146000.0   \n",
       "1              -11.111111        124000.0        204000.0   \n",
       "2               18.518519        163000.0        304000.0   \n",
       "3               20.000000             NaN         21000.0   \n",
       "4              -20.000000        293000.0         30000.0   \n",
       "\n",
       "   PCH_AGRITRSM_RCT_07_12  FARM_TO_SCHOOL09  FARM_TO_SCHOOL13  \n",
       "0              -35.964912               0.0               NaN  \n",
       "1               64.516129               0.0               0.0  \n",
       "2               86.503067               0.0               1.0  \n",
       "3                     NaN               0.0               0.0  \n",
       "4              -89.761092               0.0               1.0  \n",
       "\n",
       "[5 rows x 100 columns]"
      ]
     },
     "execution_count": 12,
     "metadata": {},
     "output_type": "execute_result"
    }
   ],
   "source": [
    "local = pd.read_excel('../Data/DataDownloadfull.xls',sheet_name='LOCAL')\n",
    "local.head()"
   ]
  },
  {
   "cell_type": "code",
   "execution_count": 13,
   "metadata": {},
   "outputs": [
    {
     "data": {
      "text/plain": [
       "FIPS                         0\n",
       "State                        0\n",
       "County                       0\n",
       "DIRSALES_FARMS07            63\n",
       "DIRSALES_FARMS12            63\n",
       "                          ... \n",
       "AGRITRSM_RCT07            1169\n",
       "AGRITRSM_RCT12            1024\n",
       "PCH_AGRITRSM_RCT_07_12    1876\n",
       "FARM_TO_SCHOOL09             5\n",
       "FARM_TO_SCHOOL13           208\n",
       "Length: 100, dtype: int64"
      ]
     },
     "execution_count": 13,
     "metadata": {},
     "output_type": "execute_result"
    }
   ],
   "source": [
    "local.isnull().sum()"
   ]
  },
  {
   "cell_type": "markdown",
   "metadata": {},
   "source": [
    "only going to keep columns with not that many null values\n",
    "will keep - GHVEG_FARMS07, GHVEG_FARMS12, CSA07, CSA12, VEG_FARMS07, VEG_FARMS12, FMRKT09, PCT_LOCLFARM07, PCT_LOCLFARM12"
   ]
  },
  {
   "cell_type": "code",
   "execution_count": 14,
   "metadata": {},
   "outputs": [],
   "source": [
    "local = local[['FIPS','GHVEG_FARMS07', 'GHVEG_FARMS12', 'CSA07', 'VEG_FARMS07', 'VEG_FARMS12', 'FMRKT09', 'PCT_LOCLFARM07',\n",
    "       'PCT_LOCLFARM12']]"
   ]
  },
  {
   "cell_type": "code",
   "execution_count": 15,
   "metadata": {},
   "outputs": [
    {
     "data": {
      "text/plain": [
       "Index(['FIPS', 'GHVEG_FARMS07', 'GHVEG_FARMS12', 'CSA07', 'VEG_FARMS07',\n",
       "       'VEG_FARMS12', 'FMRKT09', 'PCT_LOCLFARM07', 'PCT_LOCLFARM12'],\n",
       "      dtype='object')"
      ]
     },
     "execution_count": 15,
     "metadata": {},
     "output_type": "execute_result"
    }
   ],
   "source": [
    "local.columns"
   ]
  },
  {
   "cell_type": "code",
   "execution_count": 16,
   "metadata": {},
   "outputs": [],
   "source": [
    "local.dropna(inplace=True)"
   ]
  },
  {
   "cell_type": "code",
   "execution_count": 17,
   "metadata": {},
   "outputs": [],
   "source": [
    "pd.set_option('display.max_rows', 300)"
   ]
  },
  {
   "cell_type": "code",
   "execution_count": 18,
   "metadata": {},
   "outputs": [],
   "source": [
    "acess = pd.read_excel('../Data/Acess_food.xlsx')"
   ]
  },
  {
   "cell_type": "code",
   "execution_count": 19,
   "metadata": {},
   "outputs": [
    {
     "data": {
      "text/html": [
       "<div>\n",
       "<style scoped>\n",
       "    .dataframe tbody tr th:only-of-type {\n",
       "        vertical-align: middle;\n",
       "    }\n",
       "\n",
       "    .dataframe tbody tr th {\n",
       "        vertical-align: top;\n",
       "    }\n",
       "\n",
       "    .dataframe thead th {\n",
       "        text-align: right;\n",
       "    }\n",
       "</style>\n",
       "<table border=\"1\" class=\"dataframe\">\n",
       "  <thead>\n",
       "    <tr style=\"text-align: right;\">\n",
       "      <th></th>\n",
       "      <th>FIPS</th>\n",
       "      <th>State</th>\n",
       "      <th>County</th>\n",
       "      <th>LACCESS_POP10</th>\n",
       "      <th>LACCESS_POP15</th>\n",
       "      <th>PCH_LACCESS_POP_10_15</th>\n",
       "      <th>PCT_LACCESS_POP10</th>\n",
       "      <th>PCT_LACCESS_POP15</th>\n",
       "      <th>LACCESS_LOWI10</th>\n",
       "      <th>LACCESS_LOWI15</th>\n",
       "      <th>...</th>\n",
       "      <th>LACCESS_HISP15</th>\n",
       "      <th>PCT_LACCESS_HISP15</th>\n",
       "      <th>LACCESS_NHASIAN15</th>\n",
       "      <th>PCT_LACCESS_NHASIAN15</th>\n",
       "      <th>LACCESS_NHNA15</th>\n",
       "      <th>PCT_LACCESS_NHNA15</th>\n",
       "      <th>LACCESS_NHPI15</th>\n",
       "      <th>PCT_LACCESS_NHPI15</th>\n",
       "      <th>LACCESS_MULTIR15</th>\n",
       "      <th>PCT_LACCESS_MULTIR15</th>\n",
       "    </tr>\n",
       "  </thead>\n",
       "  <tbody>\n",
       "    <tr>\n",
       "      <td>0</td>\n",
       "      <td>1001</td>\n",
       "      <td>AL</td>\n",
       "      <td>Autauga</td>\n",
       "      <td>18428.439685</td>\n",
       "      <td>17496.693038</td>\n",
       "      <td>-5.056026</td>\n",
       "      <td>33.769657</td>\n",
       "      <td>32.062255</td>\n",
       "      <td>5344.427472</td>\n",
       "      <td>6543.676824</td>\n",
       "      <td>...</td>\n",
       "      <td>471.136164</td>\n",
       "      <td>0.863345</td>\n",
       "      <td>86.767975</td>\n",
       "      <td>0.159000</td>\n",
       "      <td>61.169869</td>\n",
       "      <td>0.112092</td>\n",
       "      <td>8.817961</td>\n",
       "      <td>0.016159</td>\n",
       "      <td>482.848633</td>\n",
       "      <td>0.884808</td>\n",
       "    </tr>\n",
       "    <tr>\n",
       "      <td>1</td>\n",
       "      <td>1003</td>\n",
       "      <td>AL</td>\n",
       "      <td>Baldwin</td>\n",
       "      <td>35210.814078</td>\n",
       "      <td>30561.264430</td>\n",
       "      <td>-13.204891</td>\n",
       "      <td>19.318473</td>\n",
       "      <td>16.767489</td>\n",
       "      <td>9952.144027</td>\n",
       "      <td>9886.831137</td>\n",
       "      <td>...</td>\n",
       "      <td>1377.874834</td>\n",
       "      <td>0.755973</td>\n",
       "      <td>212.946378</td>\n",
       "      <td>0.116833</td>\n",
       "      <td>181.649648</td>\n",
       "      <td>0.099662</td>\n",
       "      <td>14.819634</td>\n",
       "      <td>0.008131</td>\n",
       "      <td>1127.696098</td>\n",
       "      <td>0.618712</td>\n",
       "    </tr>\n",
       "    <tr>\n",
       "      <td>2</td>\n",
       "      <td>1005</td>\n",
       "      <td>AL</td>\n",
       "      <td>Barbour</td>\n",
       "      <td>5722.305602</td>\n",
       "      <td>6069.523628</td>\n",
       "      <td>6.067799</td>\n",
       "      <td>20.840972</td>\n",
       "      <td>22.105560</td>\n",
       "      <td>3135.676086</td>\n",
       "      <td>2948.790251</td>\n",
       "      <td>...</td>\n",
       "      <td>509.377525</td>\n",
       "      <td>1.855183</td>\n",
       "      <td>17.096410</td>\n",
       "      <td>0.062266</td>\n",
       "      <td>39.960527</td>\n",
       "      <td>0.145539</td>\n",
       "      <td>8.082376</td>\n",
       "      <td>0.029436</td>\n",
       "      <td>462.382655</td>\n",
       "      <td>1.684025</td>\n",
       "    </tr>\n",
       "    <tr>\n",
       "      <td>3</td>\n",
       "      <td>1007</td>\n",
       "      <td>AL</td>\n",
       "      <td>Bibb</td>\n",
       "      <td>1044.867327</td>\n",
       "      <td>969.378841</td>\n",
       "      <td>-7.224696</td>\n",
       "      <td>4.559753</td>\n",
       "      <td>4.230324</td>\n",
       "      <td>491.449066</td>\n",
       "      <td>596.162829</td>\n",
       "      <td>...</td>\n",
       "      <td>8.596762</td>\n",
       "      <td>0.037516</td>\n",
       "      <td>1.994318</td>\n",
       "      <td>0.008703</td>\n",
       "      <td>2.513097</td>\n",
       "      <td>0.010967</td>\n",
       "      <td>0.000000</td>\n",
       "      <td>0.000000</td>\n",
       "      <td>5.259244</td>\n",
       "      <td>0.022951</td>\n",
       "    </tr>\n",
       "    <tr>\n",
       "      <td>4</td>\n",
       "      <td>1009</td>\n",
       "      <td>AL</td>\n",
       "      <td>Blount</td>\n",
       "      <td>1548.175559</td>\n",
       "      <td>3724.428242</td>\n",
       "      <td>140.568857</td>\n",
       "      <td>2.700840</td>\n",
       "      <td>6.497380</td>\n",
       "      <td>609.027708</td>\n",
       "      <td>1650.959482</td>\n",
       "      <td>...</td>\n",
       "      <td>497.489891</td>\n",
       "      <td>0.867886</td>\n",
       "      <td>8.428994</td>\n",
       "      <td>0.014705</td>\n",
       "      <td>28.938242</td>\n",
       "      <td>0.050484</td>\n",
       "      <td>1.062851</td>\n",
       "      <td>0.001854</td>\n",
       "      <td>202.914187</td>\n",
       "      <td>0.353990</td>\n",
       "    </tr>\n",
       "  </tbody>\n",
       "</table>\n",
       "<p>5 rows × 44 columns</p>\n",
       "</div>"
      ],
      "text/plain": [
       "   FIPS State   County  LACCESS_POP10  LACCESS_POP15  PCH_LACCESS_POP_10_15  \\\n",
       "0  1001    AL  Autauga   18428.439685   17496.693038              -5.056026   \n",
       "1  1003    AL  Baldwin   35210.814078   30561.264430             -13.204891   \n",
       "2  1005    AL  Barbour    5722.305602    6069.523628               6.067799   \n",
       "3  1007    AL     Bibb    1044.867327     969.378841              -7.224696   \n",
       "4  1009    AL   Blount    1548.175559    3724.428242             140.568857   \n",
       "\n",
       "   PCT_LACCESS_POP10  PCT_LACCESS_POP15  LACCESS_LOWI10  LACCESS_LOWI15  ...  \\\n",
       "0          33.769657          32.062255     5344.427472     6543.676824  ...   \n",
       "1          19.318473          16.767489     9952.144027     9886.831137  ...   \n",
       "2          20.840972          22.105560     3135.676086     2948.790251  ...   \n",
       "3           4.559753           4.230324      491.449066      596.162829  ...   \n",
       "4           2.700840           6.497380      609.027708     1650.959482  ...   \n",
       "\n",
       "   LACCESS_HISP15  PCT_LACCESS_HISP15  LACCESS_NHASIAN15  \\\n",
       "0      471.136164            0.863345          86.767975   \n",
       "1     1377.874834            0.755973         212.946378   \n",
       "2      509.377525            1.855183          17.096410   \n",
       "3        8.596762            0.037516           1.994318   \n",
       "4      497.489891            0.867886           8.428994   \n",
       "\n",
       "   PCT_LACCESS_NHASIAN15  LACCESS_NHNA15  PCT_LACCESS_NHNA15  LACCESS_NHPI15  \\\n",
       "0               0.159000       61.169869            0.112092        8.817961   \n",
       "1               0.116833      181.649648            0.099662       14.819634   \n",
       "2               0.062266       39.960527            0.145539        8.082376   \n",
       "3               0.008703        2.513097            0.010967        0.000000   \n",
       "4               0.014705       28.938242            0.050484        1.062851   \n",
       "\n",
       "   PCT_LACCESS_NHPI15  LACCESS_MULTIR15  PCT_LACCESS_MULTIR15  \n",
       "0            0.016159        482.848633              0.884808  \n",
       "1            0.008131       1127.696098              0.618712  \n",
       "2            0.029436        462.382655              1.684025  \n",
       "3            0.000000          5.259244              0.022951  \n",
       "4            0.001854        202.914187              0.353990  \n",
       "\n",
       "[5 rows x 44 columns]"
      ]
     },
     "execution_count": 19,
     "metadata": {},
     "output_type": "execute_result"
    }
   ],
   "source": [
    "acess.head()"
   ]
  },
  {
   "cell_type": "code",
   "execution_count": 20,
   "metadata": {},
   "outputs": [
    {
     "data": {
      "text/plain": [
       "FIPS                          0\n",
       "State                         0\n",
       "County                        0\n",
       "LACCESS_POP10                 0\n",
       "LACCESS_POP15                19\n",
       "PCH_LACCESS_POP_10_15        26\n",
       "PCT_LACCESS_POP10             0\n",
       "PCT_LACCESS_POP15            19\n",
       "LACCESS_LOWI10                0\n",
       "LACCESS_LOWI15               20\n",
       "PCH_LACCESS_LOWI_10_15       28\n",
       "PCT_LACCESS_LOWI10            0\n",
       "PCT_LACCESS_LOWI15           20\n",
       "LACCESS_HHNV10                0\n",
       "LACCESS_HHNV15                3\n",
       "PCH_LACCESS_HHNV_10_15       14\n",
       "PCT_LACCESS_HHNV10            0\n",
       "PCT_LACCESS_HHNV15            3\n",
       "LACCESS_SNAP15               20\n",
       "PCT_LACCESS_SNAP15           20\n",
       "LACCESS_CHILD10               0\n",
       "LACCESS_CHILD15              19\n",
       "LACCESS_CHILD_10_15          28\n",
       "PCT_LACCESS_CHILD10           0\n",
       "PCT_LACCESS_CHILD15          19\n",
       "LACCESS_SENIORS10             0\n",
       "LACCESS_SENIORS15            19\n",
       "PCH_LACCESS_SENIORS_10_15    26\n",
       "PCT_LACCESS_SENIORS10         0\n",
       "PCT_LACCESS_SENIORS15        19\n",
       "LACCESS_WHITE15              19\n",
       "PCT_LACCESS_WHITE15          19\n",
       "LACCESS_BLACK15              19\n",
       "PCT_LACCESS_BLACK15          19\n",
       "LACCESS_HISP15               19\n",
       "PCT_LACCESS_HISP15           19\n",
       "LACCESS_NHASIAN15            19\n",
       "PCT_LACCESS_NHASIAN15        19\n",
       "LACCESS_NHNA15               19\n",
       "PCT_LACCESS_NHNA15           19\n",
       "LACCESS_NHPI15               19\n",
       "PCT_LACCESS_NHPI15           19\n",
       "LACCESS_MULTIR15             19\n",
       "PCT_LACCESS_MULTIR15         19\n",
       "dtype: int64"
      ]
     },
     "execution_count": 20,
     "metadata": {},
     "output_type": "execute_result"
    }
   ],
   "source": [
    "acess.isnull().sum()"
   ]
  },
  {
   "cell_type": "code",
   "execution_count": 21,
   "metadata": {},
   "outputs": [
    {
     "data": {
      "text/plain": [
       "(3143, 44)"
      ]
     },
     "execution_count": 21,
     "metadata": {},
     "output_type": "execute_result"
    }
   ],
   "source": [
    "# not a lot of null values so will drop those \n",
    "acess.shape"
   ]
  },
  {
   "cell_type": "code",
   "execution_count": 22,
   "metadata": {},
   "outputs": [],
   "source": [
    "acess.dropna(inplace=True)"
   ]
  },
  {
   "cell_type": "code",
   "execution_count": 23,
   "metadata": {},
   "outputs": [],
   "source": [
    "acess_stores = pd.read_excel('../Data/acesstostores.xlsx')"
   ]
  },
  {
   "cell_type": "code",
   "execution_count": 24,
   "metadata": {},
   "outputs": [
    {
     "data": {
      "text/plain": [
       "FIPS                     0\n",
       "State                    0\n",
       "County                   0\n",
       "GROC09                   0\n",
       "GROC14                   0\n",
       "PCH_GROC_09_14          20\n",
       "GROCPTH09                0\n",
       "GROCPTH14                0\n",
       "PCH_GROCPTH_09_14       15\n",
       "SUPERC09                 0\n",
       "SUPERC14                 0\n",
       "PCH_SUPERC_09_14       140\n",
       "SUPERCPTH09              0\n",
       "SUPERCPTH14              0\n",
       "PCH_SUPERCPTH_09_14    139\n",
       "CONVS09                  0\n",
       "CONVS14                  0\n",
       "PCH_CONVS_09_14         24\n",
       "CONVSPTH09               0\n",
       "CONVSPTH14               0\n",
       "PCH_CONVSPTH_09_14      19\n",
       "SPECS09                  0\n",
       "SPECS14                  0\n",
       "PCH_SPECS_09_14        192\n",
       "SPECSPTH09               0\n",
       "SPECSPTH14               0\n",
       "PCH_SPECSPTH_09_14     188\n",
       "SNAPS12                  0\n",
       "SNAPS16                 26\n",
       "PCH_SNAPS_12_16         29\n",
       "SNAPSPTH12               0\n",
       "SNAPSPTH16              29\n",
       "PCH_SNAPSPTH_12_16      32\n",
       "WICS08                   0\n",
       "WICS12                   0\n",
       "PCH_WICS_08_12          19\n",
       "WICSPTH08                0\n",
       "WICSPTH12                0\n",
       "PCH_WICSPTH_08_12       19\n",
       "dtype: int64"
      ]
     },
     "execution_count": 24,
     "metadata": {},
     "output_type": "execute_result"
    }
   ],
   "source": [
    "acess_stores.isnull().sum()"
   ]
  },
  {
   "cell_type": "markdown",
   "metadata": {},
   "source": [
    "We are going to drop rows with a lot of missing values. The rows that we will drop - PCH_SUPERC_09_14, PCH_SUPERCPTH_09_14, PCH_SUPERCPTH_09_14, PCH_SPECS_09_14, PCH_SPECS_09_14, PCH_SPECSPTH_09_14, "
   ]
  },
  {
   "cell_type": "code",
   "execution_count": 25,
   "metadata": {},
   "outputs": [],
   "source": [
    "acess_stores.drop(columns = ['PCH_SUPERC_09_14', 'PCH_SUPERCPTH_09_14', 'PCH_SUPERCPTH_09_14', 'PCH_SPECS_09_14', 'PCH_SPECSPTH_09_14'\n",
    "                  ], inplace=True)"
   ]
  },
  {
   "cell_type": "code",
   "execution_count": 26,
   "metadata": {},
   "outputs": [
    {
     "data": {
      "text/plain": [
       "FIPS                   0\n",
       "State                  0\n",
       "County                 0\n",
       "GROC09                 0\n",
       "GROC14                 0\n",
       "PCH_GROC_09_14        20\n",
       "GROCPTH09              0\n",
       "GROCPTH14              0\n",
       "PCH_GROCPTH_09_14     15\n",
       "SUPERC09               0\n",
       "SUPERC14               0\n",
       "SUPERCPTH09            0\n",
       "SUPERCPTH14            0\n",
       "CONVS09                0\n",
       "CONVS14                0\n",
       "PCH_CONVS_09_14       24\n",
       "CONVSPTH09             0\n",
       "CONVSPTH14             0\n",
       "PCH_CONVSPTH_09_14    19\n",
       "SPECS09                0\n",
       "SPECS14                0\n",
       "SPECSPTH09             0\n",
       "SPECSPTH14             0\n",
       "SNAPS12                0\n",
       "SNAPS16               26\n",
       "PCH_SNAPS_12_16       29\n",
       "SNAPSPTH12             0\n",
       "SNAPSPTH16            29\n",
       "PCH_SNAPSPTH_12_16    32\n",
       "WICS08                 0\n",
       "WICS12                 0\n",
       "PCH_WICS_08_12        19\n",
       "WICSPTH08              0\n",
       "WICSPTH12              0\n",
       "PCH_WICSPTH_08_12     19\n",
       "dtype: int64"
      ]
     },
     "execution_count": 26,
     "metadata": {},
     "output_type": "execute_result"
    }
   ],
   "source": [
    "acess_stores.isnull().sum()"
   ]
  },
  {
   "cell_type": "code",
   "execution_count": 27,
   "metadata": {},
   "outputs": [],
   "source": [
    "acess_stores.dropna(inplace=True)"
   ]
  },
  {
   "cell_type": "code",
   "execution_count": 28,
   "metadata": {},
   "outputs": [
    {
     "data": {
      "text/plain": [
       "FIPS                  0\n",
       "State                 0\n",
       "County                0\n",
       "GROC09                0\n",
       "GROC14                0\n",
       "PCH_GROC_09_14        0\n",
       "GROCPTH09             0\n",
       "GROCPTH14             0\n",
       "PCH_GROCPTH_09_14     0\n",
       "SUPERC09              0\n",
       "SUPERC14              0\n",
       "SUPERCPTH09           0\n",
       "SUPERCPTH14           0\n",
       "CONVS09               0\n",
       "CONVS14               0\n",
       "PCH_CONVS_09_14       0\n",
       "CONVSPTH09            0\n",
       "CONVSPTH14            0\n",
       "PCH_CONVSPTH_09_14    0\n",
       "SPECS09               0\n",
       "SPECS14               0\n",
       "SPECSPTH09            0\n",
       "SPECSPTH14            0\n",
       "SNAPS12               0\n",
       "SNAPS16               0\n",
       "PCH_SNAPS_12_16       0\n",
       "SNAPSPTH12            0\n",
       "SNAPSPTH16            0\n",
       "PCH_SNAPSPTH_12_16    0\n",
       "WICS08                0\n",
       "WICS12                0\n",
       "PCH_WICS_08_12        0\n",
       "WICSPTH08             0\n",
       "WICSPTH12             0\n",
       "PCH_WICSPTH_08_12     0\n",
       "dtype: int64"
      ]
     },
     "execution_count": 28,
     "metadata": {},
     "output_type": "execute_result"
    }
   ],
   "source": [
    "acess_stores.isnull().sum()"
   ]
  },
  {
   "cell_type": "code",
   "execution_count": 29,
   "metadata": {},
   "outputs": [],
   "source": [
    "df_obesity = pd.read_excel('../Data/obesity.xlsx')"
   ]
  },
  {
   "cell_type": "code",
   "execution_count": 30,
   "metadata": {},
   "outputs": [
    {
     "data": {
      "text/html": [
       "<div>\n",
       "<style scoped>\n",
       "    .dataframe tbody tr th:only-of-type {\n",
       "        vertical-align: middle;\n",
       "    }\n",
       "\n",
       "    .dataframe tbody tr th {\n",
       "        vertical-align: top;\n",
       "    }\n",
       "\n",
       "    .dataframe thead th {\n",
       "        text-align: right;\n",
       "    }\n",
       "</style>\n",
       "<table border=\"1\" class=\"dataframe\">\n",
       "  <thead>\n",
       "    <tr style=\"text-align: right;\">\n",
       "      <th></th>\n",
       "      <th>State</th>\n",
       "      <th>County</th>\n",
       "      <th>Male obesity prevalence, 2001 (%)</th>\n",
       "      <th>Female obesity prevalence, 2001 (%)</th>\n",
       "      <th>Male obesity prevalence, 2009 (%)</th>\n",
       "      <th>Female obesity  prevalence, 2009 (%)</th>\n",
       "      <th>Male obesity  prevalence, 2011* (%)</th>\n",
       "      <th>Female obesity prevalence, 2011* (%)</th>\n",
       "      <th>Difference in male obesity prevalence, 2001-2009 (percentage points)</th>\n",
       "      <th>Difference in female obesity prevalence, 2001-2009 (percentage points)</th>\n",
       "      <th>Unnamed: 10</th>\n",
       "      <th>*Methodological changes in the 2011 BRFSS may affect comparability between the 2011 estimates and estimates from earlier years</th>\n",
       "    </tr>\n",
       "  </thead>\n",
       "  <tbody>\n",
       "    <tr>\n",
       "      <td>0</td>\n",
       "      <td>United States</td>\n",
       "      <td>NaN</td>\n",
       "      <td>26.1</td>\n",
       "      <td>28.7</td>\n",
       "      <td>32.8</td>\n",
       "      <td>35.1</td>\n",
       "      <td>33.8</td>\n",
       "      <td>36.1</td>\n",
       "      <td>6.7</td>\n",
       "      <td>6.4</td>\n",
       "      <td>NaN</td>\n",
       "      <td>NaN</td>\n",
       "    </tr>\n",
       "    <tr>\n",
       "      <td>1</td>\n",
       "      <td>Alabama</td>\n",
       "      <td>NaN</td>\n",
       "      <td>29.7</td>\n",
       "      <td>34.1</td>\n",
       "      <td>36.1</td>\n",
       "      <td>41.2</td>\n",
       "      <td>37.3</td>\n",
       "      <td>42.2</td>\n",
       "      <td>6.4</td>\n",
       "      <td>7.1</td>\n",
       "      <td>NaN</td>\n",
       "      <td>NaN</td>\n",
       "    </tr>\n",
       "    <tr>\n",
       "      <td>2</td>\n",
       "      <td>Alabama</td>\n",
       "      <td>Autauga</td>\n",
       "      <td>30.7</td>\n",
       "      <td>32.3</td>\n",
       "      <td>35.9</td>\n",
       "      <td>37.4</td>\n",
       "      <td>37.1</td>\n",
       "      <td>38.8</td>\n",
       "      <td>5.3</td>\n",
       "      <td>5.2</td>\n",
       "      <td>NaN</td>\n",
       "      <td>NaN</td>\n",
       "    </tr>\n",
       "    <tr>\n",
       "      <td>3</td>\n",
       "      <td>Alabama</td>\n",
       "      <td>Baldwin</td>\n",
       "      <td>27.8</td>\n",
       "      <td>28.3</td>\n",
       "      <td>32.4</td>\n",
       "      <td>33.0</td>\n",
       "      <td>33.5</td>\n",
       "      <td>33.9</td>\n",
       "      <td>4.5</td>\n",
       "      <td>4.6</td>\n",
       "      <td>NaN</td>\n",
       "      <td>NaN</td>\n",
       "    </tr>\n",
       "    <tr>\n",
       "      <td>4</td>\n",
       "      <td>Alabama</td>\n",
       "      <td>Barbour</td>\n",
       "      <td>32.3</td>\n",
       "      <td>42.8</td>\n",
       "      <td>40.3</td>\n",
       "      <td>51.3</td>\n",
       "      <td>41.5</td>\n",
       "      <td>51.6</td>\n",
       "      <td>8.0</td>\n",
       "      <td>8.5</td>\n",
       "      <td>NaN</td>\n",
       "      <td>NaN</td>\n",
       "    </tr>\n",
       "  </tbody>\n",
       "</table>\n",
       "</div>"
      ],
      "text/plain": [
       "           State   County  Male obesity prevalence, 2001 (%)  \\\n",
       "0  United States      NaN                               26.1   \n",
       "1        Alabama      NaN                               29.7   \n",
       "2        Alabama  Autauga                               30.7   \n",
       "3        Alabama  Baldwin                               27.8   \n",
       "4        Alabama  Barbour                               32.3   \n",
       "\n",
       "   Female obesity prevalence, 2001 (%)  Male obesity prevalence, 2009 (%)  \\\n",
       "0                                 28.7                               32.8   \n",
       "1                                 34.1                               36.1   \n",
       "2                                 32.3                               35.9   \n",
       "3                                 28.3                               32.4   \n",
       "4                                 42.8                               40.3   \n",
       "\n",
       "   Female obesity  prevalence, 2009 (%)  Male obesity  prevalence, 2011* (%)  \\\n",
       "0                                  35.1                                 33.8   \n",
       "1                                  41.2                                 37.3   \n",
       "2                                  37.4                                 37.1   \n",
       "3                                  33.0                                 33.5   \n",
       "4                                  51.3                                 41.5   \n",
       "\n",
       "   Female obesity prevalence, 2011* (%)  \\\n",
       "0                                  36.1   \n",
       "1                                  42.2   \n",
       "2                                  38.8   \n",
       "3                                  33.9   \n",
       "4                                  51.6   \n",
       "\n",
       "   Difference in male obesity prevalence, 2001-2009 (percentage points)  \\\n",
       "0                                                6.7                      \n",
       "1                                                6.4                      \n",
       "2                                                5.3                      \n",
       "3                                                4.5                      \n",
       "4                                                8.0                      \n",
       "\n",
       "   Difference in female obesity prevalence, 2001-2009 (percentage points)  \\\n",
       "0                                                6.4                        \n",
       "1                                                7.1                        \n",
       "2                                                5.2                        \n",
       "3                                                4.6                        \n",
       "4                                                8.5                        \n",
       "\n",
       "   Unnamed: 10  \\\n",
       "0          NaN   \n",
       "1          NaN   \n",
       "2          NaN   \n",
       "3          NaN   \n",
       "4          NaN   \n",
       "\n",
       "   *Methodological changes in the 2011 BRFSS may affect comparability between the 2011 estimates and estimates from earlier years  \n",
       "0                                                NaN                                                                               \n",
       "1                                                NaN                                                                               \n",
       "2                                                NaN                                                                               \n",
       "3                                                NaN                                                                               \n",
       "4                                                NaN                                                                               "
      ]
     },
     "execution_count": 30,
     "metadata": {},
     "output_type": "execute_result"
    }
   ],
   "source": [
    "df_obesity.head()"
   ]
  },
  {
   "cell_type": "code",
   "execution_count": 31,
   "metadata": {},
   "outputs": [
    {
     "data": {
      "text/plain": [
       "State                                                                                                                                0\n",
       "County                                                                                                                              52\n",
       "Male obesity prevalence, 2001 (%)                                                                                                    0\n",
       "Female obesity prevalence, 2001 (%)                                                                                                  0\n",
       "Male obesity prevalence, 2009 (%)                                                                                                    0\n",
       "Female obesity  prevalence, 2009 (%)                                                                                                 0\n",
       "Male obesity  prevalence, 2011* (%)                                                                                                  0\n",
       "Female obesity prevalence, 2011* (%)                                                                                                 0\n",
       "Difference in male obesity prevalence, 2001-2009 (percentage points)                                                                 0\n",
       "Difference in female obesity prevalence, 2001-2009 (percentage points)                                                               0\n",
       "Unnamed: 10                                                                                                                       3194\n",
       "*Methodological changes in the 2011 BRFSS may affect comparability between the 2011 estimates and estimates from earlier years    3194\n",
       "dtype: int64"
      ]
     },
     "execution_count": 31,
     "metadata": {},
     "output_type": "execute_result"
    }
   ],
   "source": [
    "df_obesity.isnull().sum()"
   ]
  },
  {
   "cell_type": "code",
   "execution_count": 32,
   "metadata": {},
   "outputs": [],
   "source": [
    "#drop the last two columns\n",
    "df_obesity.drop(columns=['Unnamed: 10', '*Methodological changes in the 2011 BRFSS may affect comparability between the 2011 estimates and estimates from earlier years'], inplace=True)"
   ]
  },
  {
   "cell_type": "code",
   "execution_count": 33,
   "metadata": {},
   "outputs": [],
   "source": [
    "df_obesity.dropna(inplace=True)"
   ]
  },
  {
   "cell_type": "code",
   "execution_count": 34,
   "metadata": {},
   "outputs": [],
   "source": [
    "df_life_expectancy = pd.read_excel('../Data/Life_Expectancy.xlsx')"
   ]
  },
  {
   "cell_type": "code",
   "execution_count": 35,
   "metadata": {},
   "outputs": [
    {
     "data": {
      "text/plain": [
       "State                                                                     0\n",
       "County                                                                    0\n",
       "Male obesity prevalence, 2001 (%)                                         0\n",
       "Female obesity prevalence, 2001 (%)                                       0\n",
       "Male obesity prevalence, 2009 (%)                                         0\n",
       "Female obesity  prevalence, 2009 (%)                                      0\n",
       "Male obesity  prevalence, 2011* (%)                                       0\n",
       "Female obesity prevalence, 2011* (%)                                      0\n",
       "Difference in male obesity prevalence, 2001-2009 (percentage points)      0\n",
       "Difference in female obesity prevalence, 2001-2009 (percentage points)    0\n",
       "dtype: int64"
      ]
     },
     "execution_count": 35,
     "metadata": {},
     "output_type": "execute_result"
    }
   ],
   "source": [
    "df_obesity.isnull().sum()"
   ]
  },
  {
   "cell_type": "code",
   "execution_count": 36,
   "metadata": {},
   "outputs": [
    {
     "data": {
      "text/plain": [
       "(3194, 16)"
      ]
     },
     "execution_count": 36,
     "metadata": {},
     "output_type": "execute_result"
    }
   ],
   "source": [
    "df_life_expectancy.shape"
   ]
  },
  {
   "cell_type": "code",
   "execution_count": 37,
   "metadata": {},
   "outputs": [
    {
     "data": {
      "text/html": [
       "<div>\n",
       "<style scoped>\n",
       "    .dataframe tbody tr th:only-of-type {\n",
       "        vertical-align: middle;\n",
       "    }\n",
       "\n",
       "    .dataframe tbody tr th {\n",
       "        vertical-align: top;\n",
       "    }\n",
       "\n",
       "    .dataframe thead th {\n",
       "        text-align: right;\n",
       "    }\n",
       "</style>\n",
       "<table border=\"1\" class=\"dataframe\">\n",
       "  <thead>\n",
       "    <tr style=\"text-align: right;\">\n",
       "      <th></th>\n",
       "      <th>State</th>\n",
       "      <th>County</th>\n",
       "      <th>Male life expectancy, 1985 (years)</th>\n",
       "      <th>Female life expectancy, 1985 (years)</th>\n",
       "      <th>Male life expectancy, 1990 (years)</th>\n",
       "      <th>Female life expectancy, 1990 (years)</th>\n",
       "      <th>Male life expectancy, 1995 (years)</th>\n",
       "      <th>Female life expectancy, 1995 (years)</th>\n",
       "      <th>Male life expectancy, 2000 (years)</th>\n",
       "      <th>Female life expectancy, 2000 (years)</th>\n",
       "      <th>Male life expectancy, 2005 (years)</th>\n",
       "      <th>Female life expectancy, 2005 (years)</th>\n",
       "      <th>Male life expectancy, 2010 (years)</th>\n",
       "      <th>Female life expectancy, 2010 (years)</th>\n",
       "      <th>Difference in male life expectancy, 1985-2010 (years)</th>\n",
       "      <th>Difference in female life expectancy, 1985-2010 (years)</th>\n",
       "    </tr>\n",
       "  </thead>\n",
       "  <tbody>\n",
       "    <tr>\n",
       "      <td>1107</td>\n",
       "      <td>Kentucky</td>\n",
       "      <td>Perry</td>\n",
       "      <td>66.4</td>\n",
       "      <td>75.2</td>\n",
       "      <td>67.0</td>\n",
       "      <td>74.8</td>\n",
       "      <td>68.4</td>\n",
       "      <td>75.4</td>\n",
       "      <td>68.4</td>\n",
       "      <td>75.8</td>\n",
       "      <td>66.6</td>\n",
       "      <td>74.5</td>\n",
       "      <td>66.5</td>\n",
       "      <td>72.7</td>\n",
       "      <td>0.1</td>\n",
       "      <td>-2.6</td>\n",
       "    </tr>\n",
       "    <tr>\n",
       "      <td>3068</td>\n",
       "      <td>West Virginia</td>\n",
       "      <td>McDowell</td>\n",
       "      <td>65.3</td>\n",
       "      <td>74.6</td>\n",
       "      <td>64.4</td>\n",
       "      <td>74.5</td>\n",
       "      <td>65.0</td>\n",
       "      <td>74.0</td>\n",
       "      <td>66.1</td>\n",
       "      <td>73.4</td>\n",
       "      <td>64.0</td>\n",
       "      <td>73.7</td>\n",
       "      <td>63.9</td>\n",
       "      <td>72.9</td>\n",
       "      <td>-1.4</td>\n",
       "      <td>-1.7</td>\n",
       "    </tr>\n",
       "    <tr>\n",
       "      <td>1485</td>\n",
       "      <td>Mississippi</td>\n",
       "      <td>Quitman</td>\n",
       "      <td>65.4</td>\n",
       "      <td>74.7</td>\n",
       "      <td>65.4</td>\n",
       "      <td>74.3</td>\n",
       "      <td>64.3</td>\n",
       "      <td>73.8</td>\n",
       "      <td>65.4</td>\n",
       "      <td>73.2</td>\n",
       "      <td>65.6</td>\n",
       "      <td>74.4</td>\n",
       "      <td>66.7</td>\n",
       "      <td>73.4</td>\n",
       "      <td>1.3</td>\n",
       "      <td>-1.3</td>\n",
       "    </tr>\n",
       "    <tr>\n",
       "      <td>1497</td>\n",
       "      <td>Mississippi</td>\n",
       "      <td>Tunica</td>\n",
       "      <td>65.4</td>\n",
       "      <td>74.7</td>\n",
       "      <td>65.4</td>\n",
       "      <td>74.3</td>\n",
       "      <td>64.3</td>\n",
       "      <td>73.8</td>\n",
       "      <td>65.4</td>\n",
       "      <td>73.2</td>\n",
       "      <td>65.6</td>\n",
       "      <td>74.4</td>\n",
       "      <td>66.7</td>\n",
       "      <td>73.4</td>\n",
       "      <td>1.3</td>\n",
       "      <td>-1.3</td>\n",
       "    </tr>\n",
       "    <tr>\n",
       "      <td>2961</td>\n",
       "      <td>Virginia</td>\n",
       "      <td>Petersburg City</td>\n",
       "      <td>65.6</td>\n",
       "      <td>74.2</td>\n",
       "      <td>64.8</td>\n",
       "      <td>73.6</td>\n",
       "      <td>63.6</td>\n",
       "      <td>72.4</td>\n",
       "      <td>65.3</td>\n",
       "      <td>72.3</td>\n",
       "      <td>65.0</td>\n",
       "      <td>73.6</td>\n",
       "      <td>67.8</td>\n",
       "      <td>73.7</td>\n",
       "      <td>2.2</td>\n",
       "      <td>-0.5</td>\n",
       "    </tr>\n",
       "  </tbody>\n",
       "</table>\n",
       "</div>"
      ],
      "text/plain": [
       "              State           County  Male life expectancy, 1985 (years)  \\\n",
       "1107       Kentucky            Perry                                66.4   \n",
       "3068  West Virginia         McDowell                                65.3   \n",
       "1485    Mississippi          Quitman                                65.4   \n",
       "1497    Mississippi           Tunica                                65.4   \n",
       "2961       Virginia  Petersburg City                                65.6   \n",
       "\n",
       "      Female life expectancy, 1985 (years)  \\\n",
       "1107                                  75.2   \n",
       "3068                                  74.6   \n",
       "1485                                  74.7   \n",
       "1497                                  74.7   \n",
       "2961                                  74.2   \n",
       "\n",
       "      Male life expectancy, 1990 (years)  \\\n",
       "1107                                67.0   \n",
       "3068                                64.4   \n",
       "1485                                65.4   \n",
       "1497                                65.4   \n",
       "2961                                64.8   \n",
       "\n",
       "      Female life expectancy, 1990 (years)  \\\n",
       "1107                                  74.8   \n",
       "3068                                  74.5   \n",
       "1485                                  74.3   \n",
       "1497                                  74.3   \n",
       "2961                                  73.6   \n",
       "\n",
       "      Male life expectancy, 1995 (years)  \\\n",
       "1107                                68.4   \n",
       "3068                                65.0   \n",
       "1485                                64.3   \n",
       "1497                                64.3   \n",
       "2961                                63.6   \n",
       "\n",
       "      Female life expectancy, 1995 (years)  \\\n",
       "1107                                  75.4   \n",
       "3068                                  74.0   \n",
       "1485                                  73.8   \n",
       "1497                                  73.8   \n",
       "2961                                  72.4   \n",
       "\n",
       "      Male life expectancy, 2000 (years)  \\\n",
       "1107                                68.4   \n",
       "3068                                66.1   \n",
       "1485                                65.4   \n",
       "1497                                65.4   \n",
       "2961                                65.3   \n",
       "\n",
       "      Female life expectancy, 2000 (years)  \\\n",
       "1107                                  75.8   \n",
       "3068                                  73.4   \n",
       "1485                                  73.2   \n",
       "1497                                  73.2   \n",
       "2961                                  72.3   \n",
       "\n",
       "      Male life expectancy, 2005 (years)  \\\n",
       "1107                                66.6   \n",
       "3068                                64.0   \n",
       "1485                                65.6   \n",
       "1497                                65.6   \n",
       "2961                                65.0   \n",
       "\n",
       "      Female life expectancy, 2005 (years)  \\\n",
       "1107                                  74.5   \n",
       "3068                                  73.7   \n",
       "1485                                  74.4   \n",
       "1497                                  74.4   \n",
       "2961                                  73.6   \n",
       "\n",
       "      Male life expectancy, 2010 (years)  \\\n",
       "1107                                66.5   \n",
       "3068                                63.9   \n",
       "1485                                66.7   \n",
       "1497                                66.7   \n",
       "2961                                67.8   \n",
       "\n",
       "      Female life expectancy, 2010 (years)  \\\n",
       "1107                                  72.7   \n",
       "3068                                  72.9   \n",
       "1485                                  73.4   \n",
       "1497                                  73.4   \n",
       "2961                                  73.7   \n",
       "\n",
       "      Difference in male life expectancy, 1985-2010 (years)  \\\n",
       "1107                                                0.1       \n",
       "3068                                               -1.4       \n",
       "1485                                                1.3       \n",
       "1497                                                1.3       \n",
       "2961                                                2.2       \n",
       "\n",
       "      Difference in female life expectancy, 1985-2010 (years)  \n",
       "1107                                               -2.6        \n",
       "3068                                               -1.7        \n",
       "1485                                               -1.3        \n",
       "1497                                               -1.3        \n",
       "2961                                               -0.5        "
      ]
     },
     "execution_count": 37,
     "metadata": {},
     "output_type": "execute_result"
    }
   ],
   "source": [
    "df_life_expectancy.sort_values('Female life expectancy, 2010 (years)').head()"
   ]
  },
  {
   "cell_type": "markdown",
   "metadata": {},
   "source": [
    "States with the lowest life expectancy for women are Kentucky, West Virginia, Mississippi, and Virginia. For all the states, the life expectancy has decreased since 1990."
   ]
  },
  {
   "cell_type": "code",
   "execution_count": 38,
   "metadata": {},
   "outputs": [
    {
     "data": {
      "text/html": [
       "<div>\n",
       "<style scoped>\n",
       "    .dataframe tbody tr th:only-of-type {\n",
       "        vertical-align: middle;\n",
       "    }\n",
       "\n",
       "    .dataframe tbody tr th {\n",
       "        vertical-align: top;\n",
       "    }\n",
       "\n",
       "    .dataframe thead th {\n",
       "        text-align: right;\n",
       "    }\n",
       "</style>\n",
       "<table border=\"1\" class=\"dataframe\">\n",
       "  <thead>\n",
       "    <tr style=\"text-align: right;\">\n",
       "      <th></th>\n",
       "      <th>State</th>\n",
       "      <th>County</th>\n",
       "      <th>Male life expectancy, 1985 (years)</th>\n",
       "      <th>Female life expectancy, 1985 (years)</th>\n",
       "      <th>Male life expectancy, 1990 (years)</th>\n",
       "      <th>Female life expectancy, 1990 (years)</th>\n",
       "      <th>Male life expectancy, 1995 (years)</th>\n",
       "      <th>Female life expectancy, 1995 (years)</th>\n",
       "      <th>Male life expectancy, 2000 (years)</th>\n",
       "      <th>Female life expectancy, 2000 (years)</th>\n",
       "      <th>Male life expectancy, 2005 (years)</th>\n",
       "      <th>Female life expectancy, 2005 (years)</th>\n",
       "      <th>Male life expectancy, 2010 (years)</th>\n",
       "      <th>Female life expectancy, 2010 (years)</th>\n",
       "      <th>Difference in male life expectancy, 1985-2010 (years)</th>\n",
       "      <th>Difference in female life expectancy, 1985-2010 (years)</th>\n",
       "    </tr>\n",
       "  </thead>\n",
       "  <tbody>\n",
       "    <tr>\n",
       "      <td>3068</td>\n",
       "      <td>West Virginia</td>\n",
       "      <td>McDowell</td>\n",
       "      <td>65.3</td>\n",
       "      <td>74.6</td>\n",
       "      <td>64.4</td>\n",
       "      <td>74.5</td>\n",
       "      <td>65.0</td>\n",
       "      <td>74.0</td>\n",
       "      <td>66.1</td>\n",
       "      <td>73.4</td>\n",
       "      <td>64.0</td>\n",
       "      <td>73.7</td>\n",
       "      <td>63.9</td>\n",
       "      <td>72.9</td>\n",
       "      <td>-1.4</td>\n",
       "      <td>-1.7</td>\n",
       "    </tr>\n",
       "    <tr>\n",
       "      <td>1431</td>\n",
       "      <td>Mississippi</td>\n",
       "      <td>Bolivar</td>\n",
       "      <td>66.0</td>\n",
       "      <td>73.7</td>\n",
       "      <td>65.5</td>\n",
       "      <td>74.2</td>\n",
       "      <td>65.9</td>\n",
       "      <td>74.3</td>\n",
       "      <td>67.4</td>\n",
       "      <td>74.2</td>\n",
       "      <td>67.3</td>\n",
       "      <td>74.2</td>\n",
       "      <td>65.0</td>\n",
       "      <td>74.3</td>\n",
       "      <td>-1.0</td>\n",
       "      <td>0.6</td>\n",
       "    </tr>\n",
       "    <tr>\n",
       "      <td>1107</td>\n",
       "      <td>Kentucky</td>\n",
       "      <td>Perry</td>\n",
       "      <td>66.4</td>\n",
       "      <td>75.2</td>\n",
       "      <td>67.0</td>\n",
       "      <td>74.8</td>\n",
       "      <td>68.4</td>\n",
       "      <td>75.4</td>\n",
       "      <td>68.4</td>\n",
       "      <td>75.8</td>\n",
       "      <td>66.6</td>\n",
       "      <td>74.5</td>\n",
       "      <td>66.5</td>\n",
       "      <td>72.7</td>\n",
       "      <td>0.1</td>\n",
       "      <td>-2.6</td>\n",
       "    </tr>\n",
       "    <tr>\n",
       "      <td>1046</td>\n",
       "      <td>Kentucky</td>\n",
       "      <td>Floyd</td>\n",
       "      <td>68.1</td>\n",
       "      <td>76.0</td>\n",
       "      <td>68.2</td>\n",
       "      <td>75.6</td>\n",
       "      <td>68.3</td>\n",
       "      <td>74.9</td>\n",
       "      <td>68.8</td>\n",
       "      <td>75.7</td>\n",
       "      <td>67.4</td>\n",
       "      <td>74.9</td>\n",
       "      <td>66.6</td>\n",
       "      <td>76.2</td>\n",
       "      <td>-1.5</td>\n",
       "      <td>0.2</td>\n",
       "    </tr>\n",
       "    <tr>\n",
       "      <td>1485</td>\n",
       "      <td>Mississippi</td>\n",
       "      <td>Quitman</td>\n",
       "      <td>65.4</td>\n",
       "      <td>74.7</td>\n",
       "      <td>65.4</td>\n",
       "      <td>74.3</td>\n",
       "      <td>64.3</td>\n",
       "      <td>73.8</td>\n",
       "      <td>65.4</td>\n",
       "      <td>73.2</td>\n",
       "      <td>65.6</td>\n",
       "      <td>74.4</td>\n",
       "      <td>66.7</td>\n",
       "      <td>73.4</td>\n",
       "      <td>1.3</td>\n",
       "      <td>-1.3</td>\n",
       "    </tr>\n",
       "  </tbody>\n",
       "</table>\n",
       "</div>"
      ],
      "text/plain": [
       "              State    County  Male life expectancy, 1985 (years)  \\\n",
       "3068  West Virginia  McDowell                                65.3   \n",
       "1431    Mississippi   Bolivar                                66.0   \n",
       "1107       Kentucky     Perry                                66.4   \n",
       "1046       Kentucky     Floyd                                68.1   \n",
       "1485    Mississippi   Quitman                                65.4   \n",
       "\n",
       "      Female life expectancy, 1985 (years)  \\\n",
       "3068                                  74.6   \n",
       "1431                                  73.7   \n",
       "1107                                  75.2   \n",
       "1046                                  76.0   \n",
       "1485                                  74.7   \n",
       "\n",
       "      Male life expectancy, 1990 (years)  \\\n",
       "3068                                64.4   \n",
       "1431                                65.5   \n",
       "1107                                67.0   \n",
       "1046                                68.2   \n",
       "1485                                65.4   \n",
       "\n",
       "      Female life expectancy, 1990 (years)  \\\n",
       "3068                                  74.5   \n",
       "1431                                  74.2   \n",
       "1107                                  74.8   \n",
       "1046                                  75.6   \n",
       "1485                                  74.3   \n",
       "\n",
       "      Male life expectancy, 1995 (years)  \\\n",
       "3068                                65.0   \n",
       "1431                                65.9   \n",
       "1107                                68.4   \n",
       "1046                                68.3   \n",
       "1485                                64.3   \n",
       "\n",
       "      Female life expectancy, 1995 (years)  \\\n",
       "3068                                  74.0   \n",
       "1431                                  74.3   \n",
       "1107                                  75.4   \n",
       "1046                                  74.9   \n",
       "1485                                  73.8   \n",
       "\n",
       "      Male life expectancy, 2000 (years)  \\\n",
       "3068                                66.1   \n",
       "1431                                67.4   \n",
       "1107                                68.4   \n",
       "1046                                68.8   \n",
       "1485                                65.4   \n",
       "\n",
       "      Female life expectancy, 2000 (years)  \\\n",
       "3068                                  73.4   \n",
       "1431                                  74.2   \n",
       "1107                                  75.8   \n",
       "1046                                  75.7   \n",
       "1485                                  73.2   \n",
       "\n",
       "      Male life expectancy, 2005 (years)  \\\n",
       "3068                                64.0   \n",
       "1431                                67.3   \n",
       "1107                                66.6   \n",
       "1046                                67.4   \n",
       "1485                                65.6   \n",
       "\n",
       "      Female life expectancy, 2005 (years)  \\\n",
       "3068                                  73.7   \n",
       "1431                                  74.2   \n",
       "1107                                  74.5   \n",
       "1046                                  74.9   \n",
       "1485                                  74.4   \n",
       "\n",
       "      Male life expectancy, 2010 (years)  \\\n",
       "3068                                63.9   \n",
       "1431                                65.0   \n",
       "1107                                66.5   \n",
       "1046                                66.6   \n",
       "1485                                66.7   \n",
       "\n",
       "      Female life expectancy, 2010 (years)  \\\n",
       "3068                                  72.9   \n",
       "1431                                  74.3   \n",
       "1107                                  72.7   \n",
       "1046                                  76.2   \n",
       "1485                                  73.4   \n",
       "\n",
       "      Difference in male life expectancy, 1985-2010 (years)  \\\n",
       "3068                                               -1.4       \n",
       "1431                                               -1.0       \n",
       "1107                                                0.1       \n",
       "1046                                               -1.5       \n",
       "1485                                                1.3       \n",
       "\n",
       "      Difference in female life expectancy, 1985-2010 (years)  \n",
       "3068                                               -1.7        \n",
       "1431                                                0.6        \n",
       "1107                                               -2.6        \n",
       "1046                                                0.2        \n",
       "1485                                               -1.3        "
      ]
     },
     "execution_count": 38,
     "metadata": {},
     "output_type": "execute_result"
    }
   ],
   "source": [
    "df_life_expectancy.sort_values('Male life expectancy, 2010 (years)').head()"
   ]
  },
  {
   "cell_type": "markdown",
   "metadata": {},
   "source": [
    "For Men, it's West Virginia, Mississippi and Kentucky. The life expectancy for women increased from 1985-2010 in West Virginia and Kentucky."
   ]
  },
  {
   "cell_type": "code",
   "execution_count": 39,
   "metadata": {},
   "outputs": [
    {
     "data": {
      "text/plain": [
       "State                                                       0\n",
       "County                                                     52\n",
       "Male life expectancy, 1985 (years)                          0\n",
       "Female life expectancy, 1985 (years)                        0\n",
       "Male life expectancy, 1990 (years)                          0\n",
       "Female life expectancy, 1990 (years)                        0\n",
       "Male life expectancy, 1995 (years)                          0\n",
       "Female life expectancy, 1995 (years)                        0\n",
       "Male life expectancy, 2000 (years)                          0\n",
       "Female life expectancy, 2000 (years)                        0\n",
       "Male life expectancy, 2005 (years)                          0\n",
       "Female life expectancy, 2005 (years)                        0\n",
       "Male life expectancy, 2010 (years)                          0\n",
       "Female life expectancy, 2010 (years)                        0\n",
       "Difference in male life expectancy, 1985-2010 (years)       0\n",
       "Difference in female life expectancy, 1985-2010 (years)     0\n",
       "dtype: int64"
      ]
     },
     "execution_count": 39,
     "metadata": {},
     "output_type": "execute_result"
    }
   ],
   "source": [
    "df_life_expectancy.isnull().sum()"
   ]
  },
  {
   "cell_type": "code",
   "execution_count": 40,
   "metadata": {},
   "outputs": [],
   "source": [
    "df_life_expectancy.dropna(inplace=True)"
   ]
  },
  {
   "cell_type": "code",
   "execution_count": 41,
   "metadata": {},
   "outputs": [
    {
     "data": {
      "image/png": "[encoded data removed]",
      "text/plain": [
       "<Figure size 720x720 with 1 Axes>"
      ]
     },
     "metadata": {
      "needs_background": "light"
     },
     "output_type": "display_data"
    }
   ],
   "source": [
    "plt.figure(figsize=(10,10))\n",
    "plt.hist(df_obesity['Female obesity prevalence, 2011* (%)'],bins=50, )\n",
    "plt.title('Obesity Rates, % in 2011', size = 14);"
   ]
  },
  {
   "cell_type": "markdown",
   "metadata": {},
   "source": [
    "This graph is a distribution of obesity rates among all the states. The obesity rates span from less than 20 to almost 60 percent obese in the state. The state with the highest obesity rate is Alabam and the lowest was connecticut and colorado. "
   ]
  },
  {
   "cell_type": "code",
   "execution_count": 42,
   "metadata": {},
   "outputs": [
    {
     "data": {
      "image/png": "[encoded data removed]",
      "text/plain": [
       "<Figure size 720x720 with 1 Axes>"
      ]
     },
     "metadata": {
      "needs_background": "light"
     },
     "output_type": "display_data"
    }
   ],
   "source": [
    "plt.figure(figsize=(10,10))\n",
    "plt.hist(health['PCT_DIABETES_ADULTS13'],bins=50, )\n",
    "plt.title('Percent of adults with diabetes in 2013', size = 14);"
   ]
  },
  {
   "cell_type": "markdown",
   "metadata": {},
   "source": [
    "This graph is a distribution the percent of adults with diabetes. The diabeted rates span from less than 5 to over 22 percent. "
   ]
  },
  {
   "cell_type": "code",
   "execution_count": 43,
   "metadata": {},
   "outputs": [
    {
     "data": {
      "image/png": "[encoded data removed]",
      "text/plain": [
       "<Figure size 720x720 with 1 Axes>"
      ]
     },
     "metadata": {
      "needs_background": "light"
     },
     "output_type": "display_data"
    }
   ],
   "source": [
    "plt.figure(figsize=(10,10))\n",
    "bins_list = [2.5,5,7.5,10,12.5,15, 17.5, 20,22.5]\n",
    "sns.distplot(health['PCT_DIABETES_ADULTS13'], kde = False, bins = bins_list,hist_kws=dict(edgecolor=\"k\", linewidth=2))\n",
    "#plt.yticks(ticks = )\n",
    "plt.xlabel('Percent of Diabetic Adults') \n",
    "plt.ylabel('Counts')\n",
    "plt.title('Diabetes among Adults Distribution', fontsize = 16);"
   ]
  },
  {
   "cell_type": "markdown",
   "metadata": {},
   "source": [
    "This graph is a distribution of diabetes rates among all the states. The obesity rates span from less than 3 to over 22.5 percent obese in the state. The state with the highest obesity rate is Alabam and the lowest was connecticut and colorado. "
   ]
  },
  {
   "cell_type": "code",
   "execution_count": 44,
   "metadata": {},
   "outputs": [
    {
     "data": {
      "image/png": "[encoded data removed]",
      "text/plain": [
       "<Figure size 720x720 with 1 Axes>"
      ]
     },
     "metadata": {
      "needs_background": "light"
     },
     "output_type": "display_data"
    }
   ],
   "source": [
    "plt.figure(figsize=(10,10))\n",
    "#fix bins\n",
    "sns.distplot(health['PCT_OBESE_ADULTS13'], kde = False, bins =45,hist_kws=dict(edgecolor=\"k\", linewidth=2))\n",
    "#plt.yticks(ticks = )\n",
    "plt.xlabel('Percent of Obese Adults') \n",
    "plt.ylabel('Counts')\n",
    "plt.title('Obesity among Adults Distribution', fontsize = 16);"
   ]
  },
  {
   "cell_type": "markdown",
   "metadata": {},
   "source": [
    "This graph is a distribution of obesity rates among all the states. The obesity rates span from less than 15 to over 50 percent obese in the state. The state with the highest obesity rate is Alabam and the lowest was connecticut and colorado. "
   ]
  },
  {
   "cell_type": "code",
   "execution_count": 45,
   "metadata": {},
   "outputs": [
    {
     "data": {
      "image/png": "[encoded data removed]",
      "text/plain": [
       "<Figure size 1152x576 with 1 Axes>"
      ]
     },
     "metadata": {
      "needs_background": "light"
     },
     "output_type": "display_data"
    }
   ],
   "source": [
    "fig, ax = plt.subplots(figsize=(16,8))\n",
    "ax = sns.regplot(x='PCT_LACCESS_POP10', y='PCT_LACCESS_CHILD10', data=acess, color = 'b')\n",
    "ax.set(xlabel='Population, low access to store (%), 2010', ylabel='Children, low access to store (%), 2010') \n",
    "plt.title('Acess to Stores', fontsize = 16);"
   ]
  },
  {
   "cell_type": "code",
   "execution_count": 46,
   "metadata": {},
   "outputs": [],
   "source": [
    "import geopandas as gpd\n",
    "group_df = health.groupby('State')[['PCT_OBESE_ADULTS13']].agg(lambda x:x.mean())"
   ]
  },
  {
   "cell_type": "code",
   "execution_count": 47,
   "metadata": {},
   "outputs": [],
   "source": [
    "top_avg_obesity_rates = group_df.head(5)"
   ]
  },
  {
   "cell_type": "code",
   "execution_count": 48,
   "metadata": {},
   "outputs": [
    {
     "data": {
      "image/png": "[encoded data removed]",
      "text/plain": [
       "<Figure size 864x720 with 1 Axes>"
      ]
     },
     "metadata": {
      "needs_background": "light"
     },
     "output_type": "display_data"
    }
   ],
   "source": [
    "top_avg_obesity_rates.sort_values( by = 'PCT_OBESE_ADULTS13').plot(kind='barh', figsize=(12, 10)),\n",
    "plt.xlabel='Average Obesity Rate' \n",
    "plt.ylabel='State'\n",
    "plt.title('Average Obesity Rate', fontsize = 16);"
   ]
  },
  {
   "cell_type": "markdown",
   "metadata": {},
   "source": [
    "This graph shows the top five states with the highest average obesity rate. Alabama, Arkansas and Alaska have the highest average obesity rate. "
   ]
  },
  {
   "cell_type": "code",
   "execution_count": 49,
   "metadata": {},
   "outputs": [],
   "source": [
    "group_df_D = health.groupby('State')[['PCT_DIABETES_ADULTS13']].agg(lambda x:x.mean())"
   ]
  },
  {
   "cell_type": "code",
   "execution_count": 50,
   "metadata": {},
   "outputs": [
    {
     "data": {
      "image/png": "[encoded data removed]",
      "text/plain": [
       "<Figure size 864x864 with 1 Axes>"
      ]
     },
     "metadata": {
      "needs_background": "light"
     },
     "output_type": "display_data"
    }
   ],
   "source": [
    "group_df_D.head().sort_values(by = 'PCT_DIABETES_ADULTS13').plot(kind='barh',figsize=(12, 12) )\n",
    "plt.xlabel='Average Diabetes Rate' \n",
    "plt.ylabel='State'\n",
    "plt.title('Average Diabetes Rate by State', fontsize = 16);"
   ]
  },
  {
   "cell_type": "markdown",
   "metadata": {},
   "source": [
    "Alabama, Arkansas and Alabama have the highest mean Diabetes rate. "
   ]
  },
  {
   "cell_type": "markdown",
   "metadata": {},
   "source": [
    "## Merging the Datasets"
   ]
  },
  {
   "cell_type": "markdown",
   "metadata": {},
   "source": [
    "We combined data from the health, life expectancy, obesity, aceess and local excel sheets and dropped any rows with more than 100 null values and focused the target to be obesity rated in 2013"
   ]
  },
  {
   "cell_type": "code",
   "execution_count": 51,
   "metadata": {},
   "outputs": [],
   "source": [
    "from functools import reduce"
   ]
  },
  {
   "cell_type": "code",
   "execution_count": 52,
   "metadata": {},
   "outputs": [],
   "source": [
    "#https://stackoverflow.com/questions/38978214/merge-a-list-of-dataframes-to-create-one-dataframe\n",
    "df_list = [health, acess, acess_stores, local]"
   ]
  },
  {
   "cell_type": "code",
   "execution_count": 53,
   "metadata": {},
   "outputs": [],
   "source": [
    "df = reduce(lambda left,right: pd.merge(left,right), df_list)"
   ]
  },
  {
   "cell_type": "code",
   "execution_count": 54,
   "metadata": {},
   "outputs": [],
   "source": [
    "df.index=df.FIPS"
   ]
  },
  {
   "cell_type": "code",
   "execution_count": 55,
   "metadata": {},
   "outputs": [
    {
     "data": {
      "text/plain": [
       "Index(['FIPS', 'State', 'County', 'PCT_DIABETES_ADULTS08',\n",
       "       'PCT_DIABETES_ADULTS13', 'PCT_OBESE_ADULTS08', 'PCT_OBESE_ADULTS13',\n",
       "       'RECFAC09', 'RECFAC14', 'LACCESS_POP10', 'LACCESS_POP15',\n",
       "       'PCH_LACCESS_POP_10_15', 'PCT_LACCESS_POP10', 'PCT_LACCESS_POP15',\n",
       "       'LACCESS_LOWI10', 'LACCESS_LOWI15', 'PCH_LACCESS_LOWI_10_15',\n",
       "       'PCT_LACCESS_LOWI10', 'PCT_LACCESS_LOWI15', 'LACCESS_HHNV10',\n",
       "       'LACCESS_HHNV15', 'PCH_LACCESS_HHNV_10_15', 'PCT_LACCESS_HHNV10',\n",
       "       'PCT_LACCESS_HHNV15', 'LACCESS_SNAP15', 'PCT_LACCESS_SNAP15',\n",
       "       'LACCESS_CHILD10', 'LACCESS_CHILD15', 'LACCESS_CHILD_10_15',\n",
       "       'PCT_LACCESS_CHILD10', 'PCT_LACCESS_CHILD15', 'LACCESS_SENIORS10',\n",
       "       'LACCESS_SENIORS15', 'PCH_LACCESS_SENIORS_10_15',\n",
       "       'PCT_LACCESS_SENIORS10', 'PCT_LACCESS_SENIORS15', 'LACCESS_WHITE15',\n",
       "       'PCT_LACCESS_WHITE15', 'LACCESS_BLACK15', 'PCT_LACCESS_BLACK15',\n",
       "       'LACCESS_HISP15', 'PCT_LACCESS_HISP15', 'LACCESS_NHASIAN15',\n",
       "       'PCT_LACCESS_NHASIAN15', 'LACCESS_NHNA15', 'PCT_LACCESS_NHNA15',\n",
       "       'LACCESS_NHPI15', 'PCT_LACCESS_NHPI15', 'LACCESS_MULTIR15',\n",
       "       'PCT_LACCESS_MULTIR15', 'GROC09', 'GROC14', 'PCH_GROC_09_14',\n",
       "       'GROCPTH09', 'GROCPTH14', 'PCH_GROCPTH_09_14', 'SUPERC09', 'SUPERC14',\n",
       "       'SUPERCPTH09', 'SUPERCPTH14', 'CONVS09', 'CONVS14', 'PCH_CONVS_09_14',\n",
       "       'CONVSPTH09', 'CONVSPTH14', 'PCH_CONVSPTH_09_14', 'SPECS09', 'SPECS14',\n",
       "       'SPECSPTH09', 'SPECSPTH14', 'SNAPS12', 'SNAPS16', 'PCH_SNAPS_12_16',\n",
       "       'SNAPSPTH12', 'SNAPSPTH16', 'PCH_SNAPSPTH_12_16', 'WICS08', 'WICS12',\n",
       "       'PCH_WICS_08_12', 'WICSPTH08', 'WICSPTH12', 'PCH_WICSPTH_08_12',\n",
       "       'GHVEG_FARMS07', 'GHVEG_FARMS12', 'CSA07', 'VEG_FARMS07', 'VEG_FARMS12',\n",
       "       'FMRKT09', 'PCT_LOCLFARM07', 'PCT_LOCLFARM12'],\n",
       "      dtype='object')"
      ]
     },
     "execution_count": 55,
     "metadata": {},
     "output_type": "execute_result"
    }
   ],
   "source": [
    "df.columns"
   ]
  },
  {
   "cell_type": "code",
   "execution_count": 56,
   "metadata": {},
   "outputs": [
    {
     "data": {
      "text/plain": [
       "FIPS                         0\n",
       "State                        0\n",
       "County                       0\n",
       "PCT_DIABETES_ADULTS08        0\n",
       "PCT_DIABETES_ADULTS13        0\n",
       "PCT_OBESE_ADULTS08           0\n",
       "PCT_OBESE_ADULTS13           0\n",
       "RECFAC09                     0\n",
       "RECFAC14                     0\n",
       "LACCESS_POP10                0\n",
       "LACCESS_POP15                0\n",
       "PCH_LACCESS_POP_10_15        0\n",
       "PCT_LACCESS_POP10            0\n",
       "PCT_LACCESS_POP15            0\n",
       "LACCESS_LOWI10               0\n",
       "LACCESS_LOWI15               0\n",
       "PCH_LACCESS_LOWI_10_15       0\n",
       "PCT_LACCESS_LOWI10           0\n",
       "PCT_LACCESS_LOWI15           0\n",
       "LACCESS_HHNV10               0\n",
       "LACCESS_HHNV15               0\n",
       "PCH_LACCESS_HHNV_10_15       0\n",
       "PCT_LACCESS_HHNV10           0\n",
       "PCT_LACCESS_HHNV15           0\n",
       "LACCESS_SNAP15               0\n",
       "PCT_LACCESS_SNAP15           0\n",
       "LACCESS_CHILD10              0\n",
       "LACCESS_CHILD15              0\n",
       "LACCESS_CHILD_10_15          0\n",
       "PCT_LACCESS_CHILD10          0\n",
       "PCT_LACCESS_CHILD15          0\n",
       "LACCESS_SENIORS10            0\n",
       "LACCESS_SENIORS15            0\n",
       "PCH_LACCESS_SENIORS_10_15    0\n",
       "PCT_LACCESS_SENIORS10        0\n",
       "PCT_LACCESS_SENIORS15        0\n",
       "LACCESS_WHITE15              0\n",
       "PCT_LACCESS_WHITE15          0\n",
       "LACCESS_BLACK15              0\n",
       "PCT_LACCESS_BLACK15          0\n",
       "LACCESS_HISP15               0\n",
       "PCT_LACCESS_HISP15           0\n",
       "LACCESS_NHASIAN15            0\n",
       "PCT_LACCESS_NHASIAN15        0\n",
       "LACCESS_NHNA15               0\n",
       "PCT_LACCESS_NHNA15           0\n",
       "LACCESS_NHPI15               0\n",
       "PCT_LACCESS_NHPI15           0\n",
       "LACCESS_MULTIR15             0\n",
       "PCT_LACCESS_MULTIR15         0\n",
       "GROC09                       0\n",
       "GROC14                       0\n",
       "PCH_GROC_09_14               0\n",
       "GROCPTH09                    0\n",
       "GROCPTH14                    0\n",
       "PCH_GROCPTH_09_14            0\n",
       "SUPERC09                     0\n",
       "SUPERC14                     0\n",
       "SUPERCPTH09                  0\n",
       "SUPERCPTH14                  0\n",
       "CONVS09                      0\n",
       "CONVS14                      0\n",
       "PCH_CONVS_09_14              0\n",
       "CONVSPTH09                   0\n",
       "CONVSPTH14                   0\n",
       "PCH_CONVSPTH_09_14           0\n",
       "SPECS09                      0\n",
       "SPECS14                      0\n",
       "SPECSPTH09                   0\n",
       "SPECSPTH14                   0\n",
       "SNAPS12                      0\n",
       "SNAPS16                      0\n",
       "PCH_SNAPS_12_16              0\n",
       "SNAPSPTH12                   0\n",
       "SNAPSPTH16                   0\n",
       "PCH_SNAPSPTH_12_16           0\n",
       "WICS08                       0\n",
       "WICS12                       0\n",
       "PCH_WICS_08_12               0\n",
       "WICSPTH08                    0\n",
       "WICSPTH12                    0\n",
       "PCH_WICSPTH_08_12            0\n",
       "GHVEG_FARMS07                0\n",
       "GHVEG_FARMS12                0\n",
       "CSA07                        0\n",
       "VEG_FARMS07                  0\n",
       "VEG_FARMS12                  0\n",
       "FMRKT09                      0\n",
       "PCT_LOCLFARM07               0\n",
       "PCT_LOCLFARM12               0\n",
       "dtype: int64"
      ]
     },
     "execution_count": 56,
     "metadata": {},
     "output_type": "execute_result"
    }
   ],
   "source": [
    "#checking for nulls\n",
    "df.isnull().sum()"
   ]
  },
  {
   "cell_type": "code",
   "execution_count": 57,
   "metadata": {},
   "outputs": [
    {
     "data": {
      "text/html": [
       "<div>\n",
       "<style scoped>\n",
       "    .dataframe tbody tr th:only-of-type {\n",
       "        vertical-align: middle;\n",
       "    }\n",
       "\n",
       "    .dataframe tbody tr th {\n",
       "        vertical-align: top;\n",
       "    }\n",
       "\n",
       "    .dataframe thead th {\n",
       "        text-align: right;\n",
       "    }\n",
       "</style>\n",
       "<table border=\"1\" class=\"dataframe\">\n",
       "  <thead>\n",
       "    <tr style=\"text-align: right;\">\n",
       "      <th></th>\n",
       "      <th>FIPS</th>\n",
       "      <th>State</th>\n",
       "      <th>County</th>\n",
       "      <th>PCT_DIABETES_ADULTS08</th>\n",
       "      <th>PCT_DIABETES_ADULTS13</th>\n",
       "      <th>PCT_OBESE_ADULTS08</th>\n",
       "      <th>PCT_OBESE_ADULTS13</th>\n",
       "      <th>RECFAC09</th>\n",
       "      <th>RECFAC14</th>\n",
       "      <th>LACCESS_POP10</th>\n",
       "      <th>...</th>\n",
       "      <th>WICSPTH12</th>\n",
       "      <th>PCH_WICSPTH_08_12</th>\n",
       "      <th>GHVEG_FARMS07</th>\n",
       "      <th>GHVEG_FARMS12</th>\n",
       "      <th>CSA07</th>\n",
       "      <th>VEG_FARMS07</th>\n",
       "      <th>VEG_FARMS12</th>\n",
       "      <th>FMRKT09</th>\n",
       "      <th>PCT_LOCLFARM07</th>\n",
       "      <th>PCT_LOCLFARM12</th>\n",
       "    </tr>\n",
       "    <tr>\n",
       "      <th>FIPS</th>\n",
       "      <th></th>\n",
       "      <th></th>\n",
       "      <th></th>\n",
       "      <th></th>\n",
       "      <th></th>\n",
       "      <th></th>\n",
       "      <th></th>\n",
       "      <th></th>\n",
       "      <th></th>\n",
       "      <th></th>\n",
       "      <th></th>\n",
       "      <th></th>\n",
       "      <th></th>\n",
       "      <th></th>\n",
       "      <th></th>\n",
       "      <th></th>\n",
       "      <th></th>\n",
       "      <th></th>\n",
       "      <th></th>\n",
       "      <th></th>\n",
       "      <th></th>\n",
       "    </tr>\n",
       "  </thead>\n",
       "  <tbody>\n",
       "    <tr>\n",
       "      <td>1001</td>\n",
       "      <td>1001</td>\n",
       "      <td>AL</td>\n",
       "      <td>Autauga</td>\n",
       "      <td>11.4</td>\n",
       "      <td>13.0</td>\n",
       "      <td>31.5</td>\n",
       "      <td>34.1</td>\n",
       "      <td>4</td>\n",
       "      <td>5</td>\n",
       "      <td>18428.439685</td>\n",
       "      <td>...</td>\n",
       "      <td>0.090067</td>\n",
       "      <td>-24.412460</td>\n",
       "      <td>0.0</td>\n",
       "      <td>0.0</td>\n",
       "      <td>2.0</td>\n",
       "      <td>34.0</td>\n",
       "      <td>45.0</td>\n",
       "      <td>2.0</td>\n",
       "      <td>6.024096</td>\n",
       "      <td>13.110540</td>\n",
       "    </tr>\n",
       "    <tr>\n",
       "      <td>1003</td>\n",
       "      <td>1003</td>\n",
       "      <td>AL</td>\n",
       "      <td>Baldwin</td>\n",
       "      <td>9.8</td>\n",
       "      <td>10.4</td>\n",
       "      <td>26.2</td>\n",
       "      <td>27.4</td>\n",
       "      <td>18</td>\n",
       "      <td>25</td>\n",
       "      <td>35210.814078</td>\n",
       "      <td>...</td>\n",
       "      <td>0.141517</td>\n",
       "      <td>-0.252126</td>\n",
       "      <td>0.0</td>\n",
       "      <td>4.0</td>\n",
       "      <td>13.0</td>\n",
       "      <td>51.0</td>\n",
       "      <td>50.0</td>\n",
       "      <td>4.0</td>\n",
       "      <td>7.023705</td>\n",
       "      <td>10.414560</td>\n",
       "    </tr>\n",
       "    <tr>\n",
       "      <td>1005</td>\n",
       "      <td>1005</td>\n",
       "      <td>AL</td>\n",
       "      <td>Barbour</td>\n",
       "      <td>13.6</td>\n",
       "      <td>18.4</td>\n",
       "      <td>37.6</td>\n",
       "      <td>44.4</td>\n",
       "      <td>1</td>\n",
       "      <td>0</td>\n",
       "      <td>5722.305602</td>\n",
       "      <td>...</td>\n",
       "      <td>0.257344</td>\n",
       "      <td>27.968330</td>\n",
       "      <td>0.0</td>\n",
       "      <td>0.0</td>\n",
       "      <td>1.0</td>\n",
       "      <td>11.0</td>\n",
       "      <td>7.0</td>\n",
       "      <td>2.0</td>\n",
       "      <td>2.889246</td>\n",
       "      <td>2.276708</td>\n",
       "    </tr>\n",
       "    <tr>\n",
       "      <td>1007</td>\n",
       "      <td>1007</td>\n",
       "      <td>AL</td>\n",
       "      <td>Bibb</td>\n",
       "      <td>11.1</td>\n",
       "      <td>14.8</td>\n",
       "      <td>32.3</td>\n",
       "      <td>40.3</td>\n",
       "      <td>1</td>\n",
       "      <td>1</td>\n",
       "      <td>1044.867327</td>\n",
       "      <td>...</td>\n",
       "      <td>0.221268</td>\n",
       "      <td>-20.383970</td>\n",
       "      <td>0.0</td>\n",
       "      <td>2.0</td>\n",
       "      <td>2.0</td>\n",
       "      <td>10.0</td>\n",
       "      <td>11.0</td>\n",
       "      <td>1.0</td>\n",
       "      <td>5.687204</td>\n",
       "      <td>6.878307</td>\n",
       "    </tr>\n",
       "    <tr>\n",
       "      <td>1009</td>\n",
       "      <td>1009</td>\n",
       "      <td>AL</td>\n",
       "      <td>Blount</td>\n",
       "      <td>11.4</td>\n",
       "      <td>14.1</td>\n",
       "      <td>31.9</td>\n",
       "      <td>34.6</td>\n",
       "      <td>3</td>\n",
       "      <td>3</td>\n",
       "      <td>1548.175559</td>\n",
       "      <td>...</td>\n",
       "      <td>0.103760</td>\n",
       "      <td>-40.033200</td>\n",
       "      <td>2.0</td>\n",
       "      <td>0.0</td>\n",
       "      <td>7.0</td>\n",
       "      <td>67.0</td>\n",
       "      <td>64.0</td>\n",
       "      <td>1.0</td>\n",
       "      <td>5.940594</td>\n",
       "      <td>7.091056</td>\n",
       "    </tr>\n",
       "  </tbody>\n",
       "</table>\n",
       "<p>5 rows × 90 columns</p>\n",
       "</div>"
      ],
      "text/plain": [
       "      FIPS State   County  PCT_DIABETES_ADULTS08  PCT_DIABETES_ADULTS13  \\\n",
       "FIPS                                                                      \n",
       "1001  1001    AL  Autauga                   11.4                   13.0   \n",
       "1003  1003    AL  Baldwin                    9.8                   10.4   \n",
       "1005  1005    AL  Barbour                   13.6                   18.4   \n",
       "1007  1007    AL     Bibb                   11.1                   14.8   \n",
       "1009  1009    AL   Blount                   11.4                   14.1   \n",
       "\n",
       "      PCT_OBESE_ADULTS08  PCT_OBESE_ADULTS13  RECFAC09  RECFAC14  \\\n",
       "FIPS                                                               \n",
       "1001                31.5                34.1         4         5   \n",
       "1003                26.2                27.4        18        25   \n",
       "1005                37.6                44.4         1         0   \n",
       "1007                32.3                40.3         1         1   \n",
       "1009                31.9                34.6         3         3   \n",
       "\n",
       "      LACCESS_POP10  ...  WICSPTH12  PCH_WICSPTH_08_12  GHVEG_FARMS07  \\\n",
       "FIPS                 ...                                                \n",
       "1001   18428.439685  ...   0.090067         -24.412460            0.0   \n",
       "1003   35210.814078  ...   0.141517          -0.252126            0.0   \n",
       "1005    5722.305602  ...   0.257344          27.968330            0.0   \n",
       "1007    1044.867327  ...   0.221268         -20.383970            0.0   \n",
       "1009    1548.175559  ...   0.103760         -40.033200            2.0   \n",
       "\n",
       "      GHVEG_FARMS12  CSA07  VEG_FARMS07  VEG_FARMS12  FMRKT09  PCT_LOCLFARM07  \\\n",
       "FIPS                                                                            \n",
       "1001            0.0    2.0         34.0         45.0      2.0        6.024096   \n",
       "1003            4.0   13.0         51.0         50.0      4.0        7.023705   \n",
       "1005            0.0    1.0         11.0          7.0      2.0        2.889246   \n",
       "1007            2.0    2.0         10.0         11.0      1.0        5.687204   \n",
       "1009            0.0    7.0         67.0         64.0      1.0        5.940594   \n",
       "\n",
       "      PCT_LOCLFARM12  \n",
       "FIPS                  \n",
       "1001       13.110540  \n",
       "1003       10.414560  \n",
       "1005        2.276708  \n",
       "1007        6.878307  \n",
       "1009        7.091056  \n",
       "\n",
       "[5 rows x 90 columns]"
      ]
     },
     "execution_count": 57,
     "metadata": {},
     "output_type": "execute_result"
    }
   ],
   "source": [
    "df.head()"
   ]
  },
  {
   "cell_type": "markdown",
   "metadata": {},
   "source": [
    "# Cleaning the Merged Dataset"
   ]
  },
  {
   "cell_type": "markdown",
   "metadata": {},
   "source": [
    "We removed any columns that included the year past 2013 since the target for this analysis is 2013. We also cleaned up the names of the columns"
   ]
  },
  {
   "cell_type": "code",
   "execution_count": 58,
   "metadata": {},
   "outputs": [],
   "source": [
    "#predicting the 13 obesity rate, drop year after\n",
    "col_list = [col for col in df.columns if '15' in col]\n",
    "df.drop(col_list, axis=1, inplace=True)"
   ]
  },
  {
   "cell_type": "code",
   "execution_count": 59,
   "metadata": {},
   "outputs": [],
   "source": [
    "#dropping 2014 data\n",
    "col_list_2 = [col for col in df.columns if '14' in col]\n",
    "df.drop(col_list_2, axis=1, inplace=True)"
   ]
  },
  {
   "cell_type": "code",
   "execution_count": 60,
   "metadata": {},
   "outputs": [],
   "source": [
    "#dropping 2013 data\n",
    "col_list_3 = [col for col in df.columns if '16' in col]\n",
    "df.drop(col_list_3, axis=1, inplace=True)"
   ]
  },
  {
   "cell_type": "markdown",
   "metadata": {},
   "source": [
    "We looked at count of grocery stores and convenience stores to see if there is a correlation with the states with the highest number of stores and the state with the lowest obesity rates."
   ]
  },
  {
   "cell_type": "code",
   "execution_count": 61,
   "metadata": {},
   "outputs": [],
   "source": [
    "group_df_conv = df.groupby('State')[['CONVS09']].agg(lambda x:x.value_counts().index[0])\n",
    "group_df_groc = df.groupby('State')[['GROC09']].agg(lambda x:x.value_counts().index[0])\n",
    "group_df_rec = df.groupby('State')[['RECFAC09']].agg(lambda x:x.value_counts().index[0])\n",
    "group_df_obesity = df.groupby('State')[['PCT_OBESE_ADULTS13']].agg(lambda x:x.mean())"
   ]
  },
  {
   "cell_type": "code",
   "execution_count": 62,
   "metadata": {},
   "outputs": [
    {
     "data": {
      "image/png": "[encoded data removed]",
      "text/plain": [
       "<Figure size 432x288 with 1 Axes>"
      ]
     },
     "metadata": {
      "needs_background": "light"
     },
     "output_type": "display_data"
    }
   ],
   "source": [
    "group_df_conv.sort_values(by='CONVS09', ascending=False).head().plot(kind='barh', color='orange')\n",
    "#plt.xlabel('Count') \n",
    "#plt.ylabel('State')\n",
    "plt.title('Count of Convenience stores by State', fontsize = 16);"
   ]
  },
  {
   "cell_type": "markdown",
   "metadata": {},
   "source": [
    "Massachusetts is again among the state with the highest number of convenience stores. "
   ]
  },
  {
   "cell_type": "code",
   "execution_count": 63,
   "metadata": {},
   "outputs": [
    {
     "data": {
      "image/png": "[encoded data removed]",
      "text/plain": [
       "<Figure size 432x288 with 1 Axes>"
      ]
     },
     "metadata": {
      "needs_background": "light"
     },
     "output_type": "display_data"
    }
   ],
   "source": [
    "group_df_groc.sort_values(by='GROC09', ascending=False).head().plot(kind='barh', color='orange')\n",
    "#plt.xlabel('Count')\n",
    "#plt.ylabel('State')\n",
    "plt.title('Count of Grocery stores by State', fontsize = 16);"
   ]
  },
  {
   "cell_type": "markdown",
   "metadata": {},
   "source": [
    "Connecticut, NJ, Massachusets, Delaware and Hawaii have the highest number of stores."
   ]
  },
  {
   "cell_type": "code",
   "execution_count": 64,
   "metadata": {},
   "outputs": [
    {
     "data": {
      "image/png": "[encoded data removed]",
      "text/plain": [
       "<Figure size 432x288 with 1 Axes>"
      ]
     },
     "metadata": {
      "needs_background": "light"
     },
     "output_type": "display_data"
    }
   ],
   "source": [
    "group_df_rec.sort_values(by='RECFAC09', ascending=False).head().plot(kind='barh', color='orange')\n",
    "#plt.xlabel('Count')\n",
    "#plt.ylabel('State')\n",
    "plt.title('Count of recreational facilities by State', fontsize = 16);"
   ]
  },
  {
   "cell_type": "markdown",
   "metadata": {},
   "source": [
    "Delaware has the highest number of recreational facilities however not in the top five of states with the lowest obesity rate."
   ]
  },
  {
   "cell_type": "code",
   "execution_count": 65,
   "metadata": {},
   "outputs": [
    {
     "data": {
      "image/png": "[encoded data removed]",
      "text/plain": [
       "<Figure size 432x288 with 1 Axes>"
      ]
     },
     "metadata": {
      "needs_background": "light"
     },
     "output_type": "display_data"
    }
   ],
   "source": [
    "group_df_obesity.sort_values(by='PCT_OBESE_ADULTS13', ascending=True).head().plot(kind='barh', color='orange')\n",
    "#plt.xlabel='Count' \n",
    "#plt.ylabel='State'\n",
    "plt.title('Average Obesity Rate by State', fontsize = 16);"
   ]
  },
  {
   "cell_type": "markdown",
   "metadata": {},
   "source": [
    "Massuchestts has the highest number of stores and the lowest average obesity rates"
   ]
  },
  {
   "cell_type": "code",
   "execution_count": 66,
   "metadata": {},
   "outputs": [],
   "source": [
    "df.to_csv('../Data/df.csv')"
   ]
  }
 ],
 "metadata": {
  "kernelspec": {
   "display_name": "Python 3",
   "language": "python",
   "name": "python3"
  },
  "language_info": {
   "codemirror_mode": {
    "name": "ipython",
    "version": 3
   },
   "file_extension": ".py",
   "mimetype": "text/x-python",
   "name": "python",
   "nbconvert_exporter": "python",
   "pygments_lexer": "ipython3",
   "version": "3.7.4"
  }
 },
 "nbformat": 4,
 "nbformat_minor": 2
}
